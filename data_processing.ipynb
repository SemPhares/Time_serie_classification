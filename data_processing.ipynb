{
 "cells": [
  {
   "cell_type": "code",
   "execution_count": 1,
   "metadata": {},
   "outputs": [],
   "source": [
    "%load_ext autoreload\n",
    "%autoreload 2"
   ]
  },
  {
   "cell_type": "code",
   "execution_count": 2,
   "metadata": {},
   "outputs": [],
   "source": [
    "import os\n",
    "os.chdir('data')\n",
    "\n",
    "import warnings\n",
    "warnings.simplefilter(action='ignore')"
   ]
  },
  {
   "cell_type": "code",
   "execution_count": 3,
   "metadata": {},
   "outputs": [],
   "source": [
    "import pandas as pd\n",
    "from PIL import Image\n",
    "import numpy as np\n",
    "import matplotlib.pyplot as plt"
   ]
  },
  {
   "cell_type": "code",
   "execution_count": null,
   "metadata": {},
   "outputs": [],
   "source": []
  },
  {
   "cell_type": "code",
   "execution_count": 13,
   "metadata": {},
   "outputs": [],
   "source": [
    "from tsc_features_extractor import *"
   ]
  },
  {
   "cell_type": "code",
   "execution_count": 6,
   "metadata": {},
   "outputs": [],
   "source": [
    "data_path = \"_Csv_Data/\"\n",
    "viz_path = \"_Vis_Data/\"\n",
    "annotations = pd.read_excel(\"Annotation/annotation_full_parVideo.xlsx\")"
   ]
  },
  {
   "cell_type": "code",
   "execution_count": 31,
   "metadata": {},
   "outputs": [],
   "source": [
    "def get_serie_from_path(path):\n",
    "    try:\n",
    "        serie = pd.read_csv(path, names =[\"time\",'ArticulationRate'],skiprows=1)\n",
    "        serie = serie.ArticulationRate.values\n",
    "    except FileNotFoundError as f:\n",
    "        print(f)\n",
    "        serie = ''\n",
    "    return serie\n",
    "\n",
    "def check_path(path):\n",
    "    return path if os.path.exists(path) else ''\n",
    "    \n",
    "def extact_all_series(data_path, viz_path, annotations):\n",
    "    data = annotations[['sub_video', 'Gender', 'Persuasiveness_rms',\n",
    "                    'PerceivedSelf-Confidence_rms', 'AudienceEngagement_rms',\n",
    "                    'GlobalEvaluation_rms'\n",
    "                    ]].copy()\n",
    "    series = []\n",
    "    images = []\n",
    "    for name in data.sub_video:\n",
    "        path = data_path+name+\"_articulationRate_PolyModel_.csv\"\n",
    "        series.append(get_serie_from_path(path))\n",
    "\n",
    "        image_path = viz_path+name+\"ArticulationRate__lengS_15.0_nbS_165__sw_1_poly_deg_30.png\"\n",
    "        images.append(check_path(image_path))\n",
    "    \n",
    "    data['serie'] = series\n",
    "    data['viz'] = images\n",
    "\n",
    "    return data\n",
    "    "
   ]
  },
  {
   "cell_type": "code",
   "execution_count": 29,
   "metadata": {},
   "outputs": [
    {
     "name": "stdout",
     "output_type": "stream",
     "text": [
      "[Errno 2] No such file or directory: '_Csv_Data/video_180_sub_207_articulationRate_PolyModel_.csv'\n",
      "[Errno 2] No such file or directory: '_Csv_Data/video_182_sub_210_articulationRate_PolyModel_.csv'\n",
      "[Errno 2] No such file or directory: '_Csv_Data/video_184_sub_213_articulationRate_PolyModel_.csv'\n"
     ]
    }
   ],
   "source": [
    "data = extact_all_series(data_path, viz_path, annotations)"
   ]
  },
  {
   "cell_type": "code",
   "execution_count": 35,
   "metadata": {},
   "outputs": [],
   "source": [
    "data.to_pickle(\"series_and_annotations.pkl\")"
   ]
  },
  {
   "cell_type": "code",
   "execution_count": 17,
   "metadata": {},
   "outputs": [],
   "source": [
    "data = pd.read_pickle('series_and_annotations.pkl')\n",
    "# extract_distance_from_many_series(data.serie.values)"
   ]
  },
  {
   "cell_type": "code",
   "execution_count": null,
   "metadata": {},
   "outputs": [],
   "source": []
  }
 ],
 "metadata": {
  "kernelspec": {
   "display_name": "Python 3.8.5 ('base')",
   "language": "python",
   "name": "python3"
  },
  "language_info": {
   "codemirror_mode": {
    "name": "ipython",
    "version": 3
   },
   "file_extension": ".py",
   "mimetype": "text/x-python",
   "name": "python",
   "nbconvert_exporter": "python",
   "pygments_lexer": "ipython3",
   "version": "3.8.5"
  },
  "orig_nbformat": 4,
  "vscode": {
   "interpreter": {
    "hash": "b41fb2f07a74c2bf47d871ac6eab22923e538709a14f0781c29779b95a1e365d"
   }
  }
 },
 "nbformat": 4,
 "nbformat_minor": 2
}
