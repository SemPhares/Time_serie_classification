{
  "cells": [
    {
      "cell_type": "markdown",
      "metadata": {
        "id": "view-in-github",
        "colab_type": "text"
      },
      "source": [
        "<a href=\"https://colab.research.google.com/github/SemPhares/Time_serie_classification/blob/master/analyse_exploratoire.ipynb\" target=\"_parent\"><img src=\"https://colab.research.google.com/assets/colab-badge.svg\" alt=\"Open In Colab\"/></a>"
      ]
    },
    {
      "cell_type": "markdown",
      "metadata": {
        "id": "KqXK9-yHz8aL"
      },
      "source": [
        "# INSTALL AND LOAD MODULES"
      ]
    },
    {
      "cell_type": "code",
      "execution_count": 1,
      "metadata": {
        "id": "0hhOXPQNq2mx"
      },
      "outputs": [],
      "source": [
        "!pip install -q packaging==21.3"
      ]
    },
    {
      "cell_type": "code",
      "execution_count": 2,
      "metadata": {
        "id": "_Yw-CI8KhsYC"
      },
      "outputs": [],
      "source": [
        "!pip install -q kats \n",
        "#ax-platform"
      ]
    },
    {
      "cell_type": "code",
      "execution_count": 3,
      "metadata": {
        "id": "r5yi_hZUPnzs"
      },
      "outputs": [],
      "source": [
        "!pip install -q yellowbrick"
      ]
    },
    {
      "cell_type": "code",
      "execution_count": 52,
      "metadata": {
        "id": "GbwKt67aqvOC",
        "colab": {
          "base_uri": "https://localhost:8080/"
        },
        "outputId": "c06a70cc-6596-40b4-9764-6e079efb2c44"
      },
      "outputs": [
        {
          "output_type": "stream",
          "name": "stdout",
          "text": [
            "The autoreload extension is already loaded. To reload it, use:\n",
            "  %reload_ext autoreload\n"
          ]
        }
      ],
      "source": [
        "%load_ext autoreload\n",
        "%autoreload 2"
      ]
    },
    {
      "cell_type": "code",
      "execution_count": 58,
      "metadata": {
        "id": "HZpKEVnLjGah"
      },
      "outputs": [],
      "source": [
        "import warnings\n",
        "warnings.simplefilter(\"ignore\")"
      ]
    },
    {
      "cell_type": "code",
      "execution_count": 64,
      "metadata": {
        "id": "Bx7k6f8hpmsj"
      },
      "outputs": [],
      "source": [
        "from tsc_features_extractor import *\n",
        "import pandas as pd\n",
        "from PIL import Image\n",
        "import numpy as np\n",
        "import plotly.express as px"
      ]
    },
    {
      "cell_type": "markdown",
      "metadata": {
        "id": "dh4foxOJ0C2l"
      },
      "source": [
        "# Read and prepare data"
      ]
    },
    {
      "cell_type": "code",
      "execution_count": 7,
      "metadata": {
        "id": "RFqb5obbyDDc"
      },
      "outputs": [],
      "source": [
        "data = pd.read_pickle(\"series_and_annotations.pkl\")"
      ]
    },
    {
      "cell_type": "code",
      "execution_count": null,
      "metadata": {
        "colab": {
          "base_uri": "https://localhost:8080/"
        },
        "id": "tAvOjMYHsNWg",
        "outputId": "82294b17-9848-43a9-cb4d-a40d0b5b70cc"
      },
      "outputs": [
        {
          "data": {
            "text/plain": [
              "Index(['sub_video', 'Gender', 'Persuasiveness_rms',\n",
              "       'PerceivedSelf-Confidence_rms', 'AudienceEngagement_rms',\n",
              "       'GlobalEvaluation_rms', 'serie', 'viz'],\n",
              "      dtype='object')"
            ]
          },
          "execution_count": 33,
          "metadata": {},
          "output_type": "execute_result"
        }
      ],
      "source": [
        "data.columns"
      ]
    },
    {
      "cell_type": "code",
      "execution_count": null,
      "metadata": {
        "colab": {
          "base_uri": "https://localhost:8080/",
          "height": 143
        },
        "id": "wvivbjAcrFqK",
        "outputId": "ec38dba3-eac3-4724-df4e-abae68ac1aa8"
      },
      "outputs": [
        {
          "output_type": "execute_result",
          "data": {
            "text/plain": [
              "             sub_video Gender  Persuasiveness_rms  \\\n",
              "207  video_180_sub_207      M            4.153312   \n",
              "210  video_182_sub_210      F            3.926406   \n",
              "213  video_184_sub_213      M            3.937004   \n",
              "\n",
              "     PerceivedSelf-Confidence_rms  AudienceEngagement_rms  \\\n",
              "207                      4.358899                4.358899   \n",
              "210                      4.082483                3.829708   \n",
              "213                      3.464102                3.535534   \n",
              "\n",
              "     GlobalEvaluation_rms serie viz  \n",
              "207             74.904940            \n",
              "210             69.373386            \n",
              "213             61.483738            "
            ],
            "text/html": [
              "\n",
              "  <div id=\"df-300a6dca-1168-4194-b9cb-bfeecac90570\">\n",
              "    <div class=\"colab-df-container\">\n",
              "      <div>\n",
              "<style scoped>\n",
              "    .dataframe tbody tr th:only-of-type {\n",
              "        vertical-align: middle;\n",
              "    }\n",
              "\n",
              "    .dataframe tbody tr th {\n",
              "        vertical-align: top;\n",
              "    }\n",
              "\n",
              "    .dataframe thead th {\n",
              "        text-align: right;\n",
              "    }\n",
              "</style>\n",
              "<table border=\"1\" class=\"dataframe\">\n",
              "  <thead>\n",
              "    <tr style=\"text-align: right;\">\n",
              "      <th></th>\n",
              "      <th>sub_video</th>\n",
              "      <th>Gender</th>\n",
              "      <th>Persuasiveness_rms</th>\n",
              "      <th>PerceivedSelf-Confidence_rms</th>\n",
              "      <th>AudienceEngagement_rms</th>\n",
              "      <th>GlobalEvaluation_rms</th>\n",
              "      <th>serie</th>\n",
              "      <th>viz</th>\n",
              "    </tr>\n",
              "  </thead>\n",
              "  <tbody>\n",
              "    <tr>\n",
              "      <th>207</th>\n",
              "      <td>video_180_sub_207</td>\n",
              "      <td>M</td>\n",
              "      <td>4.153312</td>\n",
              "      <td>4.358899</td>\n",
              "      <td>4.358899</td>\n",
              "      <td>74.904940</td>\n",
              "      <td></td>\n",
              "      <td></td>\n",
              "    </tr>\n",
              "    <tr>\n",
              "      <th>210</th>\n",
              "      <td>video_182_sub_210</td>\n",
              "      <td>F</td>\n",
              "      <td>3.926406</td>\n",
              "      <td>4.082483</td>\n",
              "      <td>3.829708</td>\n",
              "      <td>69.373386</td>\n",
              "      <td></td>\n",
              "      <td></td>\n",
              "    </tr>\n",
              "    <tr>\n",
              "      <th>213</th>\n",
              "      <td>video_184_sub_213</td>\n",
              "      <td>M</td>\n",
              "      <td>3.937004</td>\n",
              "      <td>3.464102</td>\n",
              "      <td>3.535534</td>\n",
              "      <td>61.483738</td>\n",
              "      <td></td>\n",
              "      <td></td>\n",
              "    </tr>\n",
              "  </tbody>\n",
              "</table>\n",
              "</div>\n",
              "      <button class=\"colab-df-convert\" onclick=\"convertToInteractive('df-300a6dca-1168-4194-b9cb-bfeecac90570')\"\n",
              "              title=\"Convert this dataframe to an interactive table.\"\n",
              "              style=\"display:none;\">\n",
              "        \n",
              "  <svg xmlns=\"http://www.w3.org/2000/svg\" height=\"24px\"viewBox=\"0 0 24 24\"\n",
              "       width=\"24px\">\n",
              "    <path d=\"M0 0h24v24H0V0z\" fill=\"none\"/>\n",
              "    <path d=\"M18.56 5.44l.94 2.06.94-2.06 2.06-.94-2.06-.94-.94-2.06-.94 2.06-2.06.94zm-11 1L8.5 8.5l.94-2.06 2.06-.94-2.06-.94L8.5 2.5l-.94 2.06-2.06.94zm10 10l.94 2.06.94-2.06 2.06-.94-2.06-.94-.94-2.06-.94 2.06-2.06.94z\"/><path d=\"M17.41 7.96l-1.37-1.37c-.4-.4-.92-.59-1.43-.59-.52 0-1.04.2-1.43.59L10.3 9.45l-7.72 7.72c-.78.78-.78 2.05 0 2.83L4 21.41c.39.39.9.59 1.41.59.51 0 1.02-.2 1.41-.59l7.78-7.78 2.81-2.81c.8-.78.8-2.07 0-2.86zM5.41 20L4 18.59l7.72-7.72 1.47 1.35L5.41 20z\"/>\n",
              "  </svg>\n",
              "      </button>\n",
              "      \n",
              "  <style>\n",
              "    .colab-df-container {\n",
              "      display:flex;\n",
              "      flex-wrap:wrap;\n",
              "      gap: 12px;\n",
              "    }\n",
              "\n",
              "    .colab-df-convert {\n",
              "      background-color: #E8F0FE;\n",
              "      border: none;\n",
              "      border-radius: 50%;\n",
              "      cursor: pointer;\n",
              "      display: none;\n",
              "      fill: #1967D2;\n",
              "      height: 32px;\n",
              "      padding: 0 0 0 0;\n",
              "      width: 32px;\n",
              "    }\n",
              "\n",
              "    .colab-df-convert:hover {\n",
              "      background-color: #E2EBFA;\n",
              "      box-shadow: 0px 1px 2px rgba(60, 64, 67, 0.3), 0px 1px 3px 1px rgba(60, 64, 67, 0.15);\n",
              "      fill: #174EA6;\n",
              "    }\n",
              "\n",
              "    [theme=dark] .colab-df-convert {\n",
              "      background-color: #3B4455;\n",
              "      fill: #D2E3FC;\n",
              "    }\n",
              "\n",
              "    [theme=dark] .colab-df-convert:hover {\n",
              "      background-color: #434B5C;\n",
              "      box-shadow: 0px 1px 3px 1px rgba(0, 0, 0, 0.15);\n",
              "      filter: drop-shadow(0px 1px 2px rgba(0, 0, 0, 0.3));\n",
              "      fill: #FFFFFF;\n",
              "    }\n",
              "  </style>\n",
              "\n",
              "      <script>\n",
              "        const buttonEl =\n",
              "          document.querySelector('#df-300a6dca-1168-4194-b9cb-bfeecac90570 button.colab-df-convert');\n",
              "        buttonEl.style.display =\n",
              "          google.colab.kernel.accessAllowed ? 'block' : 'none';\n",
              "\n",
              "        async function convertToInteractive(key) {\n",
              "          const element = document.querySelector('#df-300a6dca-1168-4194-b9cb-bfeecac90570');\n",
              "          const dataTable =\n",
              "            await google.colab.kernel.invokeFunction('convertToInteractive',\n",
              "                                                     [key], {});\n",
              "          if (!dataTable) return;\n",
              "\n",
              "          const docLinkHtml = 'Like what you see? Visit the ' +\n",
              "            '<a target=\"_blank\" href=https://colab.research.google.com/notebooks/data_table.ipynb>data table notebook</a>'\n",
              "            + ' to learn more about interactive tables.';\n",
              "          element.innerHTML = '';\n",
              "          dataTable['output_type'] = 'display_data';\n",
              "          await google.colab.output.renderOutput(dataTable, element);\n",
              "          const docLink = document.createElement('div');\n",
              "          docLink.innerHTML = docLinkHtml;\n",
              "          element.appendChild(docLink);\n",
              "        }\n",
              "      </script>\n",
              "    </div>\n",
              "  </div>\n",
              "  "
            ]
          },
          "metadata": {},
          "execution_count": 8
        }
      ],
      "source": [
        "data[data.serie=='']"
      ]
    },
    {
      "cell_type": "code",
      "execution_count": 8,
      "metadata": {
        "id": "Ow6M51eitCDb"
      },
      "outputs": [],
      "source": [
        "data = data[data.serie!='']"
      ]
    },
    {
      "cell_type": "markdown",
      "metadata": {
        "id": "fp6kINpX0HIm"
      },
      "source": [
        "# Features extraction"
      ]
    },
    {
      "cell_type": "code",
      "source": [
        "featured_data = extract_features_from_many_series(data.serie.values)\n",
        "featured_data.insert(0, 'video_name', data.sub_video.values)"
      ],
      "metadata": {
        "id": "xcLUbN1bE0lW"
      },
      "execution_count": null,
      "outputs": []
    },
    {
      "cell_type": "code",
      "execution_count": 11,
      "metadata": {
        "colab": {
          "base_uri": "https://localhost:8080/",
          "height": 488
        },
        "id": "s9dGIry9320x",
        "outputId": "cef3b9b6-5d1e-4d81-d818-0653cf7828e8"
      },
      "outputs": [
        {
          "output_type": "execute_result",
          "data": {
            "text/plain": [
              "            video_name   amplitude     energy   entropy       iqr       mad  \\\n",
              "0        video_0_sub_0  940.100003  32.573503  7.366322  0.502424  0.238387   \n",
              "1        video_0_sub_1  941.429999  32.210184  7.375039  0.287504  0.144784   \n",
              "2        video_0_sub_2  928.290003  31.766120  7.366322  0.510942  0.242082   \n",
              "3        video_0_sub_3  811.499997  27.155327  7.285402  0.422083  0.211722   \n",
              "4        video_0_sub_4  905.499996  30.937824  7.348728  0.364482  0.177480   \n",
              "..                 ...         ...        ...       ...       ...       ...   \n",
              "240  video_213_sub_243  890.320005  29.212858  7.366322  0.409172  0.209530   \n",
              "241  video_214_sub_244  934.529996  32.993155  7.348728  0.606620  0.233835   \n",
              "242  video_215_sub_245  894.509999  30.655321  7.339850  0.555699  0.258314   \n",
              "243  video_216_sub_246  978.679997  34.850377  7.375039  0.479304  0.244684   \n",
              "244  video_217_sub_247  862.720002  29.159590  7.321928  0.299311  0.144230   \n",
              "\n",
              "     max_magnitude_index       min  kurtosis  skewness  ...  nowcast_mom  \\\n",
              "0                    0.0  5.184130 -0.361586  0.483521  ...    -0.018323   \n",
              "1                    0.0  5.084001 -0.604238 -0.069218  ...     0.011379   \n",
              "2                    0.0  5.016294 -0.613468  0.079030  ...     0.010025   \n",
              "3                    0.0  4.252874 -0.240822 -0.473311  ...     0.023152   \n",
              "4                    0.0  4.960355 -0.428566 -0.448368  ...     0.005958   \n",
              "..                   ...       ...       ...       ...  ...          ...   \n",
              "240                  0.0  4.721621  0.291817  0.394299  ...     0.014674   \n",
              "241                  0.0  5.001704 -1.026855 -0.524690  ...     0.000133   \n",
              "242                  0.0  4.620336 -0.459079 -0.260283  ...    -0.016421   \n",
              "243                  0.0  5.365293 -0.117998  0.311495  ...     0.030395   \n",
              "244                  0.0  4.685367 -0.168649 -0.587013  ...     0.011373   \n",
              "\n",
              "     nowcast_ma  nowcast_lag  nowcast_macd  nowcast_macdsign  \\\n",
              "0      5.699712     5.707719     -0.000553          0.003471   \n",
              "1      5.678547     5.673989      0.006513          0.007061   \n",
              "2      5.619769     5.613412      0.004533          0.002431   \n",
              "3      5.215149     5.202434      0.014904          0.013838   \n",
              "4      5.555152     5.549480      0.007841          0.007650   \n",
              "..          ...          ...           ...               ...   \n",
              "240    5.404090     5.398956      0.014758          0.016590   \n",
              "241    5.725906     5.723400     -0.001826         -0.002779   \n",
              "242    5.516373     5.520159      0.005368          0.008342   \n",
              "243    5.888194     5.872327      0.002429          0.000454   \n",
              "244    5.395750     5.389388     -0.002353         -0.004382   \n",
              "\n",
              "     nowcast_macddiff  seasonal_period  trend_mag  seasonality_mag  \\\n",
              "0            0.000223                7  -0.002379              0.0   \n",
              "1           -0.002096                7   0.005161              0.0   \n",
              "2            0.003111                7   0.000417              0.0   \n",
              "3           -0.002105                7   0.007992              0.0   \n",
              "4            0.000809                7   0.001050              0.0   \n",
              "..                ...              ...        ...              ...   \n",
              "240         -0.002589                7   0.007272              0.0   \n",
              "241          0.005511                7  -0.002832              0.0   \n",
              "242          0.004880                7  -0.005944              0.0   \n",
              "243          0.002895                7   0.002805              0.0   \n",
              "244         -0.001831                7   0.003185              0.0   \n",
              "\n",
              "     residual_std  \n",
              "0        0.041088  \n",
              "1        0.032458  \n",
              "2        0.054882  \n",
              "3        0.045445  \n",
              "4        0.030575  \n",
              "..            ...  \n",
              "240      0.050628  \n",
              "241      0.035053  \n",
              "242      0.051392  \n",
              "243      0.042902  \n",
              "244      0.039869  \n",
              "\n",
              "[245 rows x 73 columns]"
            ],
            "text/html": [
              "\n",
              "  <div id=\"df-ed501706-31c5-4fc7-8544-a9593971d9a8\">\n",
              "    <div class=\"colab-df-container\">\n",
              "      <div>\n",
              "<style scoped>\n",
              "    .dataframe tbody tr th:only-of-type {\n",
              "        vertical-align: middle;\n",
              "    }\n",
              "\n",
              "    .dataframe tbody tr th {\n",
              "        vertical-align: top;\n",
              "    }\n",
              "\n",
              "    .dataframe thead th {\n",
              "        text-align: right;\n",
              "    }\n",
              "</style>\n",
              "<table border=\"1\" class=\"dataframe\">\n",
              "  <thead>\n",
              "    <tr style=\"text-align: right;\">\n",
              "      <th></th>\n",
              "      <th>video_name</th>\n",
              "      <th>amplitude</th>\n",
              "      <th>energy</th>\n",
              "      <th>entropy</th>\n",
              "      <th>iqr</th>\n",
              "      <th>mad</th>\n",
              "      <th>max_magnitude_index</th>\n",
              "      <th>min</th>\n",
              "      <th>kurtosis</th>\n",
              "      <th>skewness</th>\n",
              "      <th>...</th>\n",
              "      <th>nowcast_mom</th>\n",
              "      <th>nowcast_ma</th>\n",
              "      <th>nowcast_lag</th>\n",
              "      <th>nowcast_macd</th>\n",
              "      <th>nowcast_macdsign</th>\n",
              "      <th>nowcast_macddiff</th>\n",
              "      <th>seasonal_period</th>\n",
              "      <th>trend_mag</th>\n",
              "      <th>seasonality_mag</th>\n",
              "      <th>residual_std</th>\n",
              "    </tr>\n",
              "  </thead>\n",
              "  <tbody>\n",
              "    <tr>\n",
              "      <th>0</th>\n",
              "      <td>video_0_sub_0</td>\n",
              "      <td>940.100003</td>\n",
              "      <td>32.573503</td>\n",
              "      <td>7.366322</td>\n",
              "      <td>0.502424</td>\n",
              "      <td>0.238387</td>\n",
              "      <td>0.0</td>\n",
              "      <td>5.184130</td>\n",
              "      <td>-0.361586</td>\n",
              "      <td>0.483521</td>\n",
              "      <td>...</td>\n",
              "      <td>-0.018323</td>\n",
              "      <td>5.699712</td>\n",
              "      <td>5.707719</td>\n",
              "      <td>-0.000553</td>\n",
              "      <td>0.003471</td>\n",
              "      <td>0.000223</td>\n",
              "      <td>7</td>\n",
              "      <td>-0.002379</td>\n",
              "      <td>0.0</td>\n",
              "      <td>0.041088</td>\n",
              "    </tr>\n",
              "    <tr>\n",
              "      <th>1</th>\n",
              "      <td>video_0_sub_1</td>\n",
              "      <td>941.429999</td>\n",
              "      <td>32.210184</td>\n",
              "      <td>7.375039</td>\n",
              "      <td>0.287504</td>\n",
              "      <td>0.144784</td>\n",
              "      <td>0.0</td>\n",
              "      <td>5.084001</td>\n",
              "      <td>-0.604238</td>\n",
              "      <td>-0.069218</td>\n",
              "      <td>...</td>\n",
              "      <td>0.011379</td>\n",
              "      <td>5.678547</td>\n",
              "      <td>5.673989</td>\n",
              "      <td>0.006513</td>\n",
              "      <td>0.007061</td>\n",
              "      <td>-0.002096</td>\n",
              "      <td>7</td>\n",
              "      <td>0.005161</td>\n",
              "      <td>0.0</td>\n",
              "      <td>0.032458</td>\n",
              "    </tr>\n",
              "    <tr>\n",
              "      <th>2</th>\n",
              "      <td>video_0_sub_2</td>\n",
              "      <td>928.290003</td>\n",
              "      <td>31.766120</td>\n",
              "      <td>7.366322</td>\n",
              "      <td>0.510942</td>\n",
              "      <td>0.242082</td>\n",
              "      <td>0.0</td>\n",
              "      <td>5.016294</td>\n",
              "      <td>-0.613468</td>\n",
              "      <td>0.079030</td>\n",
              "      <td>...</td>\n",
              "      <td>0.010025</td>\n",
              "      <td>5.619769</td>\n",
              "      <td>5.613412</td>\n",
              "      <td>0.004533</td>\n",
              "      <td>0.002431</td>\n",
              "      <td>0.003111</td>\n",
              "      <td>7</td>\n",
              "      <td>0.000417</td>\n",
              "      <td>0.0</td>\n",
              "      <td>0.054882</td>\n",
              "    </tr>\n",
              "    <tr>\n",
              "      <th>3</th>\n",
              "      <td>video_0_sub_3</td>\n",
              "      <td>811.499997</td>\n",
              "      <td>27.155327</td>\n",
              "      <td>7.285402</td>\n",
              "      <td>0.422083</td>\n",
              "      <td>0.211722</td>\n",
              "      <td>0.0</td>\n",
              "      <td>4.252874</td>\n",
              "      <td>-0.240822</td>\n",
              "      <td>-0.473311</td>\n",
              "      <td>...</td>\n",
              "      <td>0.023152</td>\n",
              "      <td>5.215149</td>\n",
              "      <td>5.202434</td>\n",
              "      <td>0.014904</td>\n",
              "      <td>0.013838</td>\n",
              "      <td>-0.002105</td>\n",
              "      <td>7</td>\n",
              "      <td>0.007992</td>\n",
              "      <td>0.0</td>\n",
              "      <td>0.045445</td>\n",
              "    </tr>\n",
              "    <tr>\n",
              "      <th>4</th>\n",
              "      <td>video_0_sub_4</td>\n",
              "      <td>905.499996</td>\n",
              "      <td>30.937824</td>\n",
              "      <td>7.348728</td>\n",
              "      <td>0.364482</td>\n",
              "      <td>0.177480</td>\n",
              "      <td>0.0</td>\n",
              "      <td>4.960355</td>\n",
              "      <td>-0.428566</td>\n",
              "      <td>-0.448368</td>\n",
              "      <td>...</td>\n",
              "      <td>0.005958</td>\n",
              "      <td>5.555152</td>\n",
              "      <td>5.549480</td>\n",
              "      <td>0.007841</td>\n",
              "      <td>0.007650</td>\n",
              "      <td>0.000809</td>\n",
              "      <td>7</td>\n",
              "      <td>0.001050</td>\n",
              "      <td>0.0</td>\n",
              "      <td>0.030575</td>\n",
              "    </tr>\n",
              "    <tr>\n",
              "      <th>...</th>\n",
              "      <td>...</td>\n",
              "      <td>...</td>\n",
              "      <td>...</td>\n",
              "      <td>...</td>\n",
              "      <td>...</td>\n",
              "      <td>...</td>\n",
              "      <td>...</td>\n",
              "      <td>...</td>\n",
              "      <td>...</td>\n",
              "      <td>...</td>\n",
              "      <td>...</td>\n",
              "      <td>...</td>\n",
              "      <td>...</td>\n",
              "      <td>...</td>\n",
              "      <td>...</td>\n",
              "      <td>...</td>\n",
              "      <td>...</td>\n",
              "      <td>...</td>\n",
              "      <td>...</td>\n",
              "      <td>...</td>\n",
              "      <td>...</td>\n",
              "    </tr>\n",
              "    <tr>\n",
              "      <th>240</th>\n",
              "      <td>video_213_sub_243</td>\n",
              "      <td>890.320005</td>\n",
              "      <td>29.212858</td>\n",
              "      <td>7.366322</td>\n",
              "      <td>0.409172</td>\n",
              "      <td>0.209530</td>\n",
              "      <td>0.0</td>\n",
              "      <td>4.721621</td>\n",
              "      <td>0.291817</td>\n",
              "      <td>0.394299</td>\n",
              "      <td>...</td>\n",
              "      <td>0.014674</td>\n",
              "      <td>5.404090</td>\n",
              "      <td>5.398956</td>\n",
              "      <td>0.014758</td>\n",
              "      <td>0.016590</td>\n",
              "      <td>-0.002589</td>\n",
              "      <td>7</td>\n",
              "      <td>0.007272</td>\n",
              "      <td>0.0</td>\n",
              "      <td>0.050628</td>\n",
              "    </tr>\n",
              "    <tr>\n",
              "      <th>241</th>\n",
              "      <td>video_214_sub_244</td>\n",
              "      <td>934.529996</td>\n",
              "      <td>32.993155</td>\n",
              "      <td>7.348728</td>\n",
              "      <td>0.606620</td>\n",
              "      <td>0.233835</td>\n",
              "      <td>0.0</td>\n",
              "      <td>5.001704</td>\n",
              "      <td>-1.026855</td>\n",
              "      <td>-0.524690</td>\n",
              "      <td>...</td>\n",
              "      <td>0.000133</td>\n",
              "      <td>5.725906</td>\n",
              "      <td>5.723400</td>\n",
              "      <td>-0.001826</td>\n",
              "      <td>-0.002779</td>\n",
              "      <td>0.005511</td>\n",
              "      <td>7</td>\n",
              "      <td>-0.002832</td>\n",
              "      <td>0.0</td>\n",
              "      <td>0.035053</td>\n",
              "    </tr>\n",
              "    <tr>\n",
              "      <th>242</th>\n",
              "      <td>video_215_sub_245</td>\n",
              "      <td>894.509999</td>\n",
              "      <td>30.655321</td>\n",
              "      <td>7.339850</td>\n",
              "      <td>0.555699</td>\n",
              "      <td>0.258314</td>\n",
              "      <td>0.0</td>\n",
              "      <td>4.620336</td>\n",
              "      <td>-0.459079</td>\n",
              "      <td>-0.260283</td>\n",
              "      <td>...</td>\n",
              "      <td>-0.016421</td>\n",
              "      <td>5.516373</td>\n",
              "      <td>5.520159</td>\n",
              "      <td>0.005368</td>\n",
              "      <td>0.008342</td>\n",
              "      <td>0.004880</td>\n",
              "      <td>7</td>\n",
              "      <td>-0.005944</td>\n",
              "      <td>0.0</td>\n",
              "      <td>0.051392</td>\n",
              "    </tr>\n",
              "    <tr>\n",
              "      <th>243</th>\n",
              "      <td>video_216_sub_246</td>\n",
              "      <td>978.679997</td>\n",
              "      <td>34.850377</td>\n",
              "      <td>7.375039</td>\n",
              "      <td>0.479304</td>\n",
              "      <td>0.244684</td>\n",
              "      <td>0.0</td>\n",
              "      <td>5.365293</td>\n",
              "      <td>-0.117998</td>\n",
              "      <td>0.311495</td>\n",
              "      <td>...</td>\n",
              "      <td>0.030395</td>\n",
              "      <td>5.888194</td>\n",
              "      <td>5.872327</td>\n",
              "      <td>0.002429</td>\n",
              "      <td>0.000454</td>\n",
              "      <td>0.002895</td>\n",
              "      <td>7</td>\n",
              "      <td>0.002805</td>\n",
              "      <td>0.0</td>\n",
              "      <td>0.042902</td>\n",
              "    </tr>\n",
              "    <tr>\n",
              "      <th>244</th>\n",
              "      <td>video_217_sub_247</td>\n",
              "      <td>862.720002</td>\n",
              "      <td>29.159590</td>\n",
              "      <td>7.321928</td>\n",
              "      <td>0.299311</td>\n",
              "      <td>0.144230</td>\n",
              "      <td>0.0</td>\n",
              "      <td>4.685367</td>\n",
              "      <td>-0.168649</td>\n",
              "      <td>-0.587013</td>\n",
              "      <td>...</td>\n",
              "      <td>0.011373</td>\n",
              "      <td>5.395750</td>\n",
              "      <td>5.389388</td>\n",
              "      <td>-0.002353</td>\n",
              "      <td>-0.004382</td>\n",
              "      <td>-0.001831</td>\n",
              "      <td>7</td>\n",
              "      <td>0.003185</td>\n",
              "      <td>0.0</td>\n",
              "      <td>0.039869</td>\n",
              "    </tr>\n",
              "  </tbody>\n",
              "</table>\n",
              "<p>245 rows × 73 columns</p>\n",
              "</div>\n",
              "      <button class=\"colab-df-convert\" onclick=\"convertToInteractive('df-ed501706-31c5-4fc7-8544-a9593971d9a8')\"\n",
              "              title=\"Convert this dataframe to an interactive table.\"\n",
              "              style=\"display:none;\">\n",
              "        \n",
              "  <svg xmlns=\"http://www.w3.org/2000/svg\" height=\"24px\"viewBox=\"0 0 24 24\"\n",
              "       width=\"24px\">\n",
              "    <path d=\"M0 0h24v24H0V0z\" fill=\"none\"/>\n",
              "    <path d=\"M18.56 5.44l.94 2.06.94-2.06 2.06-.94-2.06-.94-.94-2.06-.94 2.06-2.06.94zm-11 1L8.5 8.5l.94-2.06 2.06-.94-2.06-.94L8.5 2.5l-.94 2.06-2.06.94zm10 10l.94 2.06.94-2.06 2.06-.94-2.06-.94-.94-2.06-.94 2.06-2.06.94z\"/><path d=\"M17.41 7.96l-1.37-1.37c-.4-.4-.92-.59-1.43-.59-.52 0-1.04.2-1.43.59L10.3 9.45l-7.72 7.72c-.78.78-.78 2.05 0 2.83L4 21.41c.39.39.9.59 1.41.59.51 0 1.02-.2 1.41-.59l7.78-7.78 2.81-2.81c.8-.78.8-2.07 0-2.86zM5.41 20L4 18.59l7.72-7.72 1.47 1.35L5.41 20z\"/>\n",
              "  </svg>\n",
              "      </button>\n",
              "      \n",
              "  <style>\n",
              "    .colab-df-container {\n",
              "      display:flex;\n",
              "      flex-wrap:wrap;\n",
              "      gap: 12px;\n",
              "    }\n",
              "\n",
              "    .colab-df-convert {\n",
              "      background-color: #E8F0FE;\n",
              "      border: none;\n",
              "      border-radius: 50%;\n",
              "      cursor: pointer;\n",
              "      display: none;\n",
              "      fill: #1967D2;\n",
              "      height: 32px;\n",
              "      padding: 0 0 0 0;\n",
              "      width: 32px;\n",
              "    }\n",
              "\n",
              "    .colab-df-convert:hover {\n",
              "      background-color: #E2EBFA;\n",
              "      box-shadow: 0px 1px 2px rgba(60, 64, 67, 0.3), 0px 1px 3px 1px rgba(60, 64, 67, 0.15);\n",
              "      fill: #174EA6;\n",
              "    }\n",
              "\n",
              "    [theme=dark] .colab-df-convert {\n",
              "      background-color: #3B4455;\n",
              "      fill: #D2E3FC;\n",
              "    }\n",
              "\n",
              "    [theme=dark] .colab-df-convert:hover {\n",
              "      background-color: #434B5C;\n",
              "      box-shadow: 0px 1px 3px 1px rgba(0, 0, 0, 0.15);\n",
              "      filter: drop-shadow(0px 1px 2px rgba(0, 0, 0, 0.3));\n",
              "      fill: #FFFFFF;\n",
              "    }\n",
              "  </style>\n",
              "\n",
              "      <script>\n",
              "        const buttonEl =\n",
              "          document.querySelector('#df-ed501706-31c5-4fc7-8544-a9593971d9a8 button.colab-df-convert');\n",
              "        buttonEl.style.display =\n",
              "          google.colab.kernel.accessAllowed ? 'block' : 'none';\n",
              "\n",
              "        async function convertToInteractive(key) {\n",
              "          const element = document.querySelector('#df-ed501706-31c5-4fc7-8544-a9593971d9a8');\n",
              "          const dataTable =\n",
              "            await google.colab.kernel.invokeFunction('convertToInteractive',\n",
              "                                                     [key], {});\n",
              "          if (!dataTable) return;\n",
              "\n",
              "          const docLinkHtml = 'Like what you see? Visit the ' +\n",
              "            '<a target=\"_blank\" href=https://colab.research.google.com/notebooks/data_table.ipynb>data table notebook</a>'\n",
              "            + ' to learn more about interactive tables.';\n",
              "          element.innerHTML = '';\n",
              "          dataTable['output_type'] = 'display_data';\n",
              "          await google.colab.output.renderOutput(dataTable, element);\n",
              "          const docLink = document.createElement('div');\n",
              "          docLink.innerHTML = docLinkHtml;\n",
              "          element.appendChild(docLink);\n",
              "        }\n",
              "      </script>\n",
              "    </div>\n",
              "  </div>\n",
              "  "
            ]
          },
          "metadata": {},
          "execution_count": 11
        }
      ],
      "source": [
        "featured_data"
      ]
    },
    {
      "cell_type": "code",
      "execution_count": null,
      "metadata": {
        "colab": {
          "base_uri": "https://localhost:8080/"
        },
        "id": "Eec1ZZZ8oPSn",
        "outputId": "32966138-2e34-4dd8-be9e-4481dcdb2fb4"
      },
      "outputs": [
        {
          "output_type": "execute_result",
          "data": {
            "text/plain": [
              "['hw_alpha', 'hw_beta', 'hw_gamma']"
            ]
          },
          "metadata": {},
          "execution_count": 17
        }
      ],
      "source": [
        "# list off all columns that have any null or na values\n",
        "null_col = featured_data.columns[featured_data.isnull().any()].tolist()\n",
        "null_col"
      ]
    },
    {
      "cell_type": "code",
      "execution_count": null,
      "metadata": {
        "id": "idB-Jl9K46EZ"
      },
      "outputs": [],
      "source": [
        "featured_data = featured_data.drop(null_col, axis=1)"
      ]
    },
    {
      "cell_type": "code",
      "execution_count": null,
      "metadata": {
        "id": "OK7gKKGNcWDq"
      },
      "outputs": [],
      "source": [
        "FEATURE_GROUP_MAPING = {'acfpacf_features': ['y_acf1',\n",
        "                      'y_acf5',\n",
        "                      'diff1y_acf1',\n",
        "                      'diff1y_acf5',\n",
        "                      'diff2y_acf1',\n",
        "                      'diff2y_acf5',\n",
        "                      'y_pacf5',\n",
        "                      'diff1y_pacf5',\n",
        "                      'diff2y_pacf5',\n",
        "                      'seas_acf1',\n",
        "                      'seas_pacf1'],\n",
        " 'bocp_detector': ['bocp_num', 'bocp_conf_max', 'bocp_conf_mean'],\n",
        " 'cusum_detector': ['cusum_num',\n",
        "                    'cusum_conf',\n",
        "                    'cusum_cp_index',\n",
        "                    'cusum_delta',\n",
        "                    'cusum_llr',\n",
        "                    'cusum_regression_detected',\n",
        "                    'cusum_stable_changepoint',\n",
        "                    'cusum_p_value'],\n",
        " 'holt_params': ['holt_alpha', 'holt_beta'],\n",
        " 'hw_params': ['hw_alpha', 'hw_beta', 'hw_gamma'],\n",
        " 'level_shift_features': ['level_shift_idx', 'level_shift_size'],\n",
        " 'nowcasting': ['nowcast_roc',\n",
        "                'nowcast_ma',\n",
        "                'nowcast_mom',\n",
        "                'nowcast_lag',\n",
        "                'nowcast_macd',\n",
        "                'nowcast_macdsign',\n",
        "                'nowcast_macddiff'],\n",
        " 'outlier_detector': ['outlier_num'],\n",
        " 'seasonalities': ['seasonal_period',\n",
        "                   'trend_mag',\n",
        "                   'seasonality_mag',\n",
        "                   'residual_std'],\n",
        " 'special_ac': ['firstmin_ac', 'firstzero_ac'],\n",
        " 'statistics': ['length',\n",
        "                'mean',\n",
        "                'var',\n",
        "                'entropy',\n",
        "                'lumpiness',\n",
        "                'stability',\n",
        "                'flat_spots',\n",
        "                'hurst',\n",
        "                'std1st_der',\n",
        "                'crossing_points',\n",
        "                'binarize_mean',\n",
        "                'unitroot_kpss',\n",
        "                'heterogeneity',\n",
        "                'histogram_mode',\n",
        "                'linearity'],\n",
        " 'stl_features': ['trend_strength',\n",
        "                  'seasonality_strength',\n",
        "                  'spikiness',\n",
        "                  'peak',\n",
        "                  'trough'],\n",
        "\n",
        " 'trend_detector': ['trend_num', 'trend_num_increasing', 'trend_avg_abs_tau']}"
      ]
    },
    {
      "cell_type": "code",
      "execution_count": null,
      "metadata": {
        "id": "uD8H_JD7FM6G"
      },
      "outputs": [],
      "source": [
        "x = drop_unique_values_columns(featured_data, n_unique = 2)\n",
        "x = x.drop(['video_name','var','acf_2','acf_3','acf_4','acf_5','acf_6'], axis=1)"
      ]
    },
    {
      "cell_type": "code",
      "execution_count": null,
      "metadata": {
        "colab": {
          "base_uri": "https://localhost:8080/",
          "height": 817
        },
        "id": "cFOW_j5wCVn2",
        "outputId": "97604d99-c6bf-4781-d2da-d30cf2afd4d6"
      },
      "outputs": [
        {
          "output_type": "display_data",
          "data": {
            "text/html": [
              "<html>\n",
              "<head><meta charset=\"utf-8\" /></head>\n",
              "<body>\n",
              "    <div>            <script src=\"https://cdnjs.cloudflare.com/ajax/libs/mathjax/2.7.5/MathJax.js?config=TeX-AMS-MML_SVG\"></script><script type=\"text/javascript\">if (window.MathJax) {MathJax.Hub.Config({SVG: {font: \"STIX-Web\"}});}</script>                <script type=\"text/javascript\">window.PlotlyConfig = {MathJaxConfig: 'local'};</script>\n",
              "        <script src=\"https://cdn.plot.ly/plotly-2.8.3.min.js\"></script>                <div id=\"36809a69-19ee-4a85-9dd8-6d9488391440\" class=\"plotly-graph-div\" style=\"height:800px; width:800px;\"></div>            <script type=\"text/javascript\">                                    window.PLOTLYENV=window.PLOTLYENV || {};                                    if (document.getElementById(\"36809a69-19ee-4a85-9dd8-6d9488391440\")) {                    Plotly.newPlot(                        \"36809a69-19ee-4a85-9dd8-6d9488391440\",                        [{\"coloraxis\":\"coloraxis\",\"name\":\"0\",\"x\":[\"amplitude\",\"energy\",\"entropy\",\"iqr\",\"mad\",\"min\",\"kurtosis\",\"skewness\",\"slope\",\"sma\",\"std\",\"pacf_2\",\"pacf_3\",\"pacf_4\",\"pacf_5\",\"pacf_6\",\"mean\",\"entropie_de_Shannon_normalis\\u00e9e\",\"lumpiness\",\"stability\",\"hurst\",\"std1st_der\",\"crossing_points\",\"binarize_mean\",\"unitroot_kpss\",\"heterogeneity\",\"histogram_mode\",\"linearity\",\"trend_strength\",\"seasonality_strength\",\"spikiness\",\"peak\",\"trough\",\"level_shift_idx\",\"level_shift_size\",\"y_acf1\",\"y_acf5\",\"diff1y_acf1\",\"diff1y_acf5\",\"diff2y_acf1\",\"diff2y_acf5\",\"y_pacf5\",\"diff1y_pacf5\",\"diff2y_pacf5\",\"seas_acf1\",\"seas_pacf1\",\"firstmin_ac\",\"firstzero_ac\",\"holt_alpha\",\"holt_beta\",\"nowcast_roc\",\"nowcast_mom\",\"nowcast_ma\",\"nowcast_lag\",\"nowcast_macd\",\"nowcast_macdsign\",\"nowcast_macddiff\",\"seasonal_period\",\"trend_mag\",\"seasonality_mag\",\"residual_std\"],\"y\":[\"amplitude\",\"energy\",\"entropy\",\"iqr\",\"mad\",\"min\",\"kurtosis\",\"skewness\",\"slope\",\"sma\",\"std\",\"pacf_2\",\"pacf_3\",\"pacf_4\",\"pacf_5\",\"pacf_6\",\"mean\",\"entropie_de_Shannon_normalis\\u00e9e\",\"lumpiness\",\"stability\",\"hurst\",\"std1st_der\",\"crossing_points\",\"binarize_mean\",\"unitroot_kpss\",\"heterogeneity\",\"histogram_mode\",\"linearity\",\"trend_strength\",\"seasonality_strength\",\"spikiness\",\"peak\",\"trough\",\"level_shift_idx\",\"level_shift_size\",\"y_acf1\",\"y_acf5\",\"diff1y_acf1\",\"diff1y_acf5\",\"diff2y_acf1\",\"diff2y_acf5\",\"y_pacf5\",\"diff1y_pacf5\",\"diff2y_pacf5\",\"seas_acf1\",\"seas_pacf1\",\"firstmin_ac\",\"firstzero_ac\",\"holt_alpha\",\"holt_beta\",\"nowcast_roc\",\"nowcast_mom\",\"nowcast_ma\",\"nowcast_lag\",\"nowcast_macd\",\"nowcast_macdsign\",\"nowcast_macddiff\",\"seasonal_period\",\"trend_mag\",\"seasonality_mag\",\"residual_std\"],\"z\":[[1.0,0.9301114278512166,0.3618909202472289,0.10784336175900144,0.09338874795756484,0.8156806564543577,-0.3262720661686801,-0.14390412536046038,-0.054725585947285306,0.9564336621716684,-0.18844431109879886,-0.019696690671277977,-0.07599132138547177,-0.04991453350786305,0.03542747665509541,-0.054646321708629736,0.9574862027715374,-0.0960243022972835,-0.5111184156180065,-0.21046311984603802,-0.012609412378898002,-0.1426318643725982,-0.2546925530252822,0.1480685842821119,0.07351432791658487,0.3625919420306853,0.9042773827266593,-0.08824929436764382,-0.044947345434425724,0.026970599494679774,-0.3911580037395309,0.07508417589944263,-0.06136100155485673,0.0474117666889322,-0.2927901268465224,0.084458046841401,0.06367854918659877,0.05125773734903938,0.014291865786366804,0.07028042535189086,0.04149811085431471,-0.02160383653636805,-0.0391122346072095,0.02236230449940171,0.0503718855119523,-0.13093345446113677,0.06317375885031737,0.015362136239480515,0.059502221429524785,0.08643467517001642,0.5302504977379812,-0.15736804126478326,0.957205494639111,0.9562664872969581,-0.06635610062712799,-0.028925780472097873,-0.17453057001268174,0.01811857243247635,0.06634697910570028,0.027501038296365424,-0.04721484435590463],[0.9301114278512166,1.0,0.09365359276776451,0.13284156230897887,0.1117580139944229,0.8245176860981539,-0.24613317242668484,-0.03284459716371937,-0.07872041449862376,0.9778551805277375,-0.08567720487699526,0.0047288824258199915,-0.07493243247187442,-0.05500256023183396,0.03946499718995381,-0.05259629358985289,0.964171520972433,-0.08205852281688834,-0.3440424496598094,-0.11861807524025082,-0.029340932177557632,-0.006105510001571082,-0.14606796240441672,0.020880703272038545,0.07845717419186962,0.09455640664095503,0.8886937983596171,-0.10867310849639344,-0.08208285830053048,0.030847464761083125,-0.22423540971580938,0.08115112068166018,-0.07372354788478173,0.0526620763296509,-0.18966125160285513,0.058648109622807254,0.013801120655009613,0.023119543813362172,-0.022028986918802347,0.04050254500747595,0.03425879334410703,-0.019015489267750332,-0.01916906484011846,0.01794847633196424,0.007660694390402828,-0.14247951613948376,0.01434500729416031,-0.014556077145612654,0.03713772202980846,0.07832514226669794,0.33828231493964456,-0.11238888851597584,0.9633678946733889,0.9615965706535958,-0.06326210090147524,-0.040678500878639424,-0.13915245193974823,-0.0015172819247640866,0.06890266901050124,0.00818370154547714,0.02705956453195094],[0.3618909202472289,0.09365359276776451,1.0,-0.08272176688204017,-0.07265319910906982,0.057755147738025106,0.03737545935691134,-0.0568015840340892,0.1857270726548579,0.07995296060033374,-0.08290734821237863,-0.04165999724676167,-0.029007053694309504,-0.039640009337113716,-0.01749160676208283,-0.06289192963463955,0.07878935368262088,0.024767239543804068,-0.007609728876933145,-0.019389367433455658,0.07206048785253505,-0.24112189705279605,-0.11325683438536409,0.07539786286840491,0.09123319779370219,0.9994532111198734,0.09353473399153936,0.025566669911010535,0.17127971152353286,-0.02406118953597972,-0.09154372903938413,0.048677025182952895,0.03676966648892162,0.11897557105409517,-0.03918326181908544,0.0036136184908053836,0.10731018315840939,0.09549825342767443,0.12006458626852821,0.07015046565685937,0.0265898503682056,-0.04493788155674908,-0.11306529619963086,0.01171644897281214,0.13067104778463334,-0.006410551654600202,0.13089319199445187,0.07100246030812635,0.08632171527192808,-0.01724526353514088,0.0248578569641111,0.10515093488718075,0.07823702474067984,0.07565251543218862,0.14303807405479932,0.1401736940548071,0.06404263009173766,0.04745990838118342,0.08798756699825963,0.0590809776646166,-0.11000742788126834],[0.10784336175900144,0.13284156230897887,-0.08272176688204017,1.0,0.9688987943567655,-0.11483309571033375,-0.33845355947940753,-0.02115024612973082,0.028721156232134726,0.15015135266688795,0.7311288433459562,-0.09561618457810471,-0.048942428670326686,-0.06991913504123631,-0.13165605224349808,-0.015598547010589952,0.14428391911470256,-0.40207186776897835,-0.06963919184277048,0.643904529305058,0.3620497501552335,0.5615880133448604,-0.3959742245998538,0.04478786231650937,0.20214148699154397,-0.07952026936684098,0.09952275761370204,0.09545189835279631,0.4287042583558443,-0.1215595128129179,0.11348617719830395,0.05072770778461885,-0.024589344550908318,0.019514485000687178,0.4470815997490318,0.3344199689970225,0.4522028522988072,0.22371070679045693,0.3330303033842847,0.14598917663681663,0.09323587361643249,-0.07257404039156537,0.08349430008963611,0.07811302376752101,0.41762671881077845,0.18884471812405482,0.2218557718264378,0.18324322228524767,0.07751607653783446,0.10774496597682195,0.1887292349114716,-0.08505014515460234,0.14667811813420656,0.1483516137671658,0.03539721485653039,0.07723991849150548,-0.18003777106230545,-0.01599975550755353,0.07532662344669387,0.0026822596746205346,0.2687171326519746],[0.09338874795756484,0.1117580139944229,-0.07265319910906982,0.9688987943567655,1.0,-0.11735179092711487,-0.34257176257169086,-0.017922883380334067,0.0015686693156430585,0.1301789004446667,0.6993669452405538,-0.08951678601625486,-0.034315207550079184,-0.08051940831341799,-0.13549042306882234,-0.0006422096627194342,0.125712962083365,-0.39562807604464467,-0.09287135713914851,0.6207210425312295,0.3585271341129983,0.542252173617332,-0.3846864577835149,0.06373814389184759,0.22307055384569172,-0.06946176238786886,0.08600136521435307,0.058448671389149075,0.4177240169908788,-0.13255513640477104,0.09418638986900436,0.033787378530524305,-0.024761141248948078,-0.006336146276995913,0.4293615882770413,0.3156312181998623,0.43261413196678195,0.2121950163893501,0.3228089621530255,0.1592143477622664,0.10744483386293685,-0.08164831356117848,0.08534227920746042,0.08620105039266826,0.40425903859811907,0.17774195938317475,0.21501435208868183,0.16271682430651704,0.08130356544183709,0.10906673266703408,0.1880720080330409,-0.09484350667635448,0.12814992631678573,0.1300543764255841,0.0010249161813939282,0.03908671673512822,-0.19977980131574766,-0.04545669417461566,0.06517200512517148,-0.02125791964318562,0.26687336829231806],[0.8156806564543577,0.8245176860981539,0.057755147738025106,-0.11483309571033375,-0.11735179092711487,1.0,-0.5205566725895462,0.18024631403598768,-0.18837216170173907,0.8471308799925384,-0.5181183765705202,-0.03721241525627054,-0.057130618224995273,0.006438251249995935,0.07531224895944755,-0.0027565557847089536,0.8530368853066664,-0.10765307209148066,-0.5718073077058083,-0.5311001472057445,-0.12058928878511178,-0.36812207352838805,-0.07110120809909692,-0.05912335509025993,-0.025042907818935374,0.058311450987627966,0.7693764944509499,-0.17001500492638838,-0.24397214381646917,0.07816684271448161,-0.5190373241128865,0.02755630914084465,-0.053593417813842074,0.0752283522018362,-0.6176710631562805,0.18138131379098657,0.0071484345514570315,-0.04600375612396648,-0.11601707231013432,0.00016998779172628297,-0.02738891697576072,0.03866897418894017,-0.03363388717654188,-0.05773188977991579,-0.08339422149235177,-0.2005646900123315,-0.020622863514124845,-0.04942589018742577,-0.006474876708236507,0.06966325905417849,0.43050092531339973,-0.20650624921393754,0.8500104514587664,0.8498986164292032,-0.19006477517599146,-0.17433746219617946,-0.029662621951584554,0.010054296255440354,-0.1269321211531566,-0.024970206208796142,-0.19812552855857057],[-0.3262720661686801,-0.24613317242668484,0.03737545935691134,-0.33845355947940753,-0.34257176257169086,-0.5205566725895462,1.0,-0.17998136983410024,0.20069529924673352,-0.33643337666039125,0.22196437393955296,0.11907356570443696,0.047219348784025415,-0.026812373809417537,-0.014609288459890256,-0.006520085643423685,-0.3635633120969739,0.4434531367699803,0.6099288089834094,0.2340167109338058,-0.12868744706882077,0.208705071606189,0.24937992092370664,-0.09235621085349764,-0.005459863626550528,0.035492612351484557,-0.33958340101273915,0.08967624033482031,-0.004867302648759862,-0.02328985701488203,0.5290063150465228,0.00030102541758582753,0.0359577963866586,-0.06667065037708188,0.49169438000921645,-0.5490408844480189,-0.38691812565182543,-0.027960981212439617,-0.07340372475631933,-0.03264994264587857,0.05747432349692036,-0.052681767093657836,-0.014818848522617929,0.08931903364550466,-0.2073902368729922,0.013700939824769973,-0.07489596686551735,-0.09061937858845488,-0.019537994916430265,-0.15653291602748845,-0.5384649385091281,0.3380512818079374,-0.36252436275798405,-0.367212985851893,0.22574131971929756,0.1795656554598509,0.10291950615322774,-0.035803805002780485,0.2381804514652998,-0.0022267307194438818,0.14719890288697596],[-0.14390412536046038,-0.03284459716371937,-0.0568015840340892,-0.02115024612973082,-0.017922883380334067,0.18024631403598768,-0.17998136983410024,1.0,-0.01901758221754084,-0.11931387709607034,-0.0053726380878666505,-0.030260471672464657,0.015529200342988343,0.02707103014391026,-0.00047341738359218136,0.12473708151448146,-0.13993935079808215,-0.11269174306075323,0.22347084767872194,-0.0006835276391137022,-0.032656915504340106,0.04283455568309416,0.29985569293310366,-0.781254576778032,0.04804002796500781,-0.055660942477455844,-0.2844842424433002,-0.10980809780690506,-0.06860535179552621,0.010943631644697124,0.17804858235624985,-0.031037825904979385,0.05014482627732777,0.20617459873298633,-0.09314160975691056,0.22374556453851724,0.07424390771809627,-0.02006888799442555,-0.043774528943246536,-0.017388714702514303,-0.05427077928027404,0.023646539290107176,0.019821498537503174,-0.0577021429086477,-0.009163482928810859,0.018843555117985803,-0.03354411567342047,-0.04631718713559311,-0.10128471775800044,-0.0062698940973395356,-0.41779715864770867,0.00699347307070007,-0.14350711708392394,-0.1437447172658102,-0.02586782338909791,-0.05095349787739609,0.21315014330160137,0.041414468268896915,-0.21559522755181101,0.0034588432152796527,0.08862478893454188],[-0.054725585947285306,-0.07872041449862376,0.1857270726548579,0.028721156232134726,0.0015686693156430585,-0.18837216170173907,0.20069529924673352,-0.01901758221754084,1.0,-0.10520894454975771,0.16097178673686566,0.0715659023468786,0.07981085350159718,-0.1332804864309794,0.0025434230926013957,-0.09534707971981748,-0.115565151004714,0.13925165133545228,0.25053058890335184,0.16254153758253073,-0.0865413374691491,0.068699440724446,0.015799129000069696,-0.03828796565639259,-0.10040886018231508,0.18501329253042273,-0.07416383843996961,0.2630041200188736,0.06920417618506487,-0.14891290322149958,0.22697820914855646,0.07287406148074854,0.0059921734034642455,-0.13736755337038228,0.16855996820746882,-0.1292467064807482,-0.07250673358290216,0.09212707204516471,0.09789605062877332,-0.09063054116875582,-0.07413142325421407,-0.08278907911339214,-0.041261347771828695,-0.10368435346011266,-0.037761230241882354,0.06344821723629593,-0.1790494626374554,0.09773687579190672,0.060190407335898886,-0.02504937751616633,-0.1370873950719226,0.5965100579652489,-0.11460741248978831,-0.12460275846637978,0.91061484724964,0.9215330260319827,0.028397734730600283,0.09639370939021893,0.5257881662377967,0.0889310508922827,0.07313378078109585],[0.9564336621716684,0.9778551805277375,0.07995296060033374,0.15015135266688795,0.1301789004446667,0.8471308799925384,-0.33643337666039125,-0.11931387709607034,-0.10520894454975771,1.0,-0.14433262910818162,-0.007181381504031299,-0.07748392680254669,-0.048442130760518884,0.04027493057308532,-0.04088804211760539,0.99811277341912,-0.1089581722595453,-0.501941671451412,-0.18730704824121971,-0.029706154691669633,-0.05253741601488916,-0.22248020297913457,0.1155683973570741,0.05636372204208161,0.0807852963476336,0.9348981293242749,-0.10190123962129626,-0.09201959825587418,0.03120062211923266,-0.35166443964121497,0.07033144946903681,-0.07625498497066445,0.01981434507535747,-0.26712915098143053,0.08724925764909537,0.03547103908209722,0.03221674286671922,-0.014363101175298246,0.053959193063639235,0.038365977957586374,-0.01683730071005898,-0.008263353908032029,0.022305275596271424,0.015615189095339821,-0.1364748763752315,0.02544764235326733,-0.006723823712747943,0.04091873978273059,0.09760099424652445,0.517513610104092,-0.18191622371301963,0.9978674598481042,0.9973113477510094,-0.1025800238236937,-0.06464590216943193,-0.19521601397917182,0.003758516293301578,0.052103357429206486,0.010816095742766417,-0.0018904045227547148],[-0.18844431109879886,-0.08567720487699526,-0.08290734821237863,0.7311288433459562,0.6993669452405538,-0.5181183765705202,0.22196437393955296,-0.0053726380878666505,0.16097178673686566,-0.14433262910818162,1.0,-0.07527317726556808,-0.03805928746333513,-0.0873323703546638,-0.10801394551845656,0.010059125715564799,-0.17419081841600806,-0.2668470412240701,0.46937294896187104,0.9367583382037643,0.3572340387744565,0.7740210937266319,-0.12578079498444442,-0.03282208439347615,0.20859667543641128,-0.08122233787479928,-0.1815908559659235,0.12848486432270598,0.47056420541665106,-0.17395221802363983,0.5611819862198543,0.05415282016744378,0.000695219007108936,0.018070540910998256,0.8516617025291818,0.196989459485829,0.35660334590829695,0.24899850338149287,0.35422419483035966,0.1188266557835904,0.093347075022992,-0.0945828533715932,0.07938178805562587,0.11255582154897946,0.3647242473352743,0.23961946498789713,0.13780372881187133,0.12724784348739554,0.0676801967977335,0.0804361917153043,-0.2642255381387409,0.10130085095027523,-0.17237804763746833,-0.17296832447341193,0.16416751150738665,0.17940993989897983,-0.04675211368821193,-0.0431956535314264,0.12654104208314404,0.006019568787603274,0.43037138959124444],[-0.019696690671277977,0.0047288824258199915,-0.04165999724676167,-0.09561618457810471,-0.08951678601625486,-0.03721241525627054,0.11907356570443696,-0.030260471672464657,0.0715659023468786,-0.007181381504031299,-0.07527317726556808,1.0,0.12095348069309678,-0.0377968722983102,-0.030861200998872566,-0.061897345115090804,-0.008545310061235847,0.32872992784223015,-0.005018285090980645,-0.08146371213042855,-0.2270038906131565,0.06920226905631575,0.041998555173893656,-0.02199554850316632,-0.12277038682179398,-0.044483528404218195,0.01812577257948035,0.15395165118447166,-0.16512337254505677,0.1984555261243197,0.023264139216213165,0.04824843769902147,0.03766368230214097,-0.1088656961065489,-0.04118367529185426,-0.45053369893153994,-0.3488350562322713,-0.3179384765544899,-0.40465775303770346,-0.12577923715466402,-0.033525251457611586,-0.12303276609879442,-0.13025130559417705,-0.0044415657376643295,-0.18723961285593374,-0.025954380394688444,-0.011553890931123693,-0.049151344185797016,-0.09068086386521482,-0.16426772915872434,-0.045260820736459526,0.16597762462841853,-0.004743409179596177,-0.007052417277746295,0.13615842871849798,0.11521301804906833,-0.14141823270106701,0.035962353991796814,0.2805715673162073,0.041099346161572715,0.06528048881686214],[-0.07599132138547177,-0.07493243247187442,-0.029007053694309504,-0.048942428670326686,-0.034315207550079184,-0.057130618224995273,0.047219348784025415,0.015529200342988343,0.07981085350159718,-0.07748392680254669,-0.03805928746333513,0.12095348069309678,1.0,-0.004479113432379505,-0.08529598504093618,-0.12005594834531183,-0.07397602477417807,0.026194607905954386,-0.008267483272581056,-0.02401245557044545,-0.05332996015637204,-0.029541002819527942,-0.035208657687536116,-0.019195255774099005,0.014521733110812587,-0.028735290788582182,-0.0869450668465797,0.126913739517767,-0.0322359957531204,0.028429282873753212,-0.008326079766749364,0.06590550307810886,-0.040109911374431775,-0.10147412720283755,-0.04967538397878494,-0.11844955952422859,-0.06877380861089816,-0.11560793853074129,-0.13360852993431716,-0.027470376150649456,0.010446654185724403,-0.009092978491765024,-0.04636783822138922,0.012799856702948522,0.011071016660008901,-0.06741413278648155,-0.01309211435173916,0.05464240328623833,-0.03620036936616869,-0.09523071586745266,-0.003053200264865883,0.041665766927968785,-0.07351775401982572,-0.07408637543207575,0.0659637905759782,0.06934869860685966,0.04417789179337282,-0.017205427171862017,0.03441927758367984,-0.045606749560182784,-0.06771016186580195],[-0.04991453350786305,-0.05500256023183396,-0.039640009337113716,-0.06991913504123631,-0.08051940831341799,0.006438251249995935,-0.026812373809417537,0.02707103014391026,-0.1332804864309794,-0.048442130760518884,-0.0873323703546638,-0.0377968722983102,-0.004479113432379505,1.0,0.01553953014738093,0.10293062503522411,-0.044609106248758634,0.010151083710180937,-0.02306737958820883,-0.0726710657611851,-0.0963256097020631,-0.06719184105171883,0.03893935974224971,-0.047390832466632574,-0.003827226665042027,-0.03869212535008824,-0.06151971848594453,-0.010371224103647521,-0.07548705264734915,-0.014805097031966079,-0.036266693270502685,0.047580273296472714,-0.058138151084004205,0.09948183842621272,-0.08016816271697329,0.04594750270733686,-0.041448808706787375,0.06614149808559477,0.0325084651779595,0.06205549875704229,0.0014901689052669036,0.87672214780111,0.051655634053412544,0.014874263909620397,-0.08294142639676542,-0.06351219034244754,-0.05305238937080297,-0.014861194948143332,0.03446273135060539,0.056683928583982746,0.002298393138658741,-0.07923800489455524,-0.04594127930349682,-0.04488709827145481,-0.13743598105327795,-0.1420202624936024,0.11522377582111146,-0.011988885932964556,-0.14875566021693656,-0.009607900041461462,-0.01687128112449712],[0.03542747665509541,0.03946499718995381,-0.01749160676208283,-0.13165605224349808,-0.13549042306882234,0.07531224895944755,-0.014609288459890256,-0.00047341738359218136,0.0025434230926013957,0.04027493057308532,-0.10801394551845656,-0.030861200998872566,-0.08529598504093618,0.01553953014738093,1.0,0.0024802241275435795,0.04075555965269922,-0.026148455937256128,-0.0214577797231839,-0.09414269402276196,-0.15627848823334903,-0.08563065184789052,0.03692737178553735,0.028967718787389487,-0.000618204861066806,-0.016000094606874623,0.06346163024026734,0.05748509490422805,-0.09896107262979285,-0.06074861743919822,-0.05441266219277141,0.015163823462085415,0.08306725650387269,0.060022290052978815,-0.10620820003776986,0.05071069020916405,-0.027054472634795747,0.10826697783535152,0.02644459025851608,0.09733237360508443,0.10639959461826623,0.08660893449260197,0.06043249268685693,0.0856890821511667,-0.04121978887375928,0.01860166677765816,-0.022986760447522514,0.13369856811766295,0.011008359907811667,0.05441054827800764,0.003461942960123495,-0.0005483674550549287,0.04110213534836501,0.04115605257520751,0.03170893168570355,0.034367238872809354,-0.007958354200564654,-0.15910873393798164,0.03354430227987511,-0.11153151114584932,-0.019181002746835575],[-0.054646321708629736,-0.05259629358985289,-0.06289192963463955,-0.015598547010589952,-0.0006422096627194342,-0.0027565557847089536,-0.006520085643423685,0.12473708151448146,-0.09534707971981748,-0.04088804211760539,0.010059125715564799,-0.061897345115090804,-0.12005594834531183,0.10293062503522411,0.0024802241275435795,1.0,-0.03864270159466918,-0.09783651618259498,-0.022348250386175394,-0.003739444622372582,-0.001396183372741422,-0.03567885339461027,0.05084150961443352,-0.12861681096207944,0.13383365775825615,-0.06405291623321664,-0.05107582027269476,-0.024924595348542092,0.021056014695169597,-0.12412631375166909,-0.025871939983157056,-0.08887959404749009,0.16042134820777382,-0.07046847476050783,-0.05364418514070293,0.10405062406749785,0.09508908956550308,0.09986164854272041,0.09108493284248767,0.06370118753812026,-0.005272276249099156,0.053972654751956534,0.1355441702673048,0.005238053644175225,0.05090169159494659,-0.009767878835001301,0.17139830096181183,0.05862643897391985,0.003929382029906752,0.028166716108578245,0.0031193059244018803,-0.06711877543137627,-0.038863740951315125,-0.03758888574042669,-0.11844579569541132,-0.1118901626895334,-0.018301405455864818,0.05690729073977773,-0.10545194275476871,-0.007372904934778695,0.10461706953985274],[0.9574862027715374,0.964171520972433,0.07878935368262088,0.14428391911470256,0.125712962083365,0.8530368853066664,-0.3635633120969739,-0.13993935079808215,-0.115565151004714,0.99811277341912,-0.17419081841600806,-0.008545310061235847,-0.07397602477417807,-0.044609106248758634,0.04075555965269922,-0.03864270159466918,1.0,-0.11198430818404154,-0.5497245225081502,-0.2182016683999802,-0.03442038425990278,-0.07602133697425265,-0.24000147518320997,0.13929284717560725,0.048703202287999944,0.07963624847478697,0.9397509221372972,-0.10227126662647969,-0.09994287895083552,0.03519864403464424,-0.3931530306470534,0.06441412046698171,-0.07432024104508023,0.012609677384064023,-0.29903922315402437,0.09143284916285366,0.0367020543422093,0.02846571237581113,-0.018446383437243065,0.05527948900479631,0.03775810039369002,-0.014073817753884357,-0.007323129228349666,0.02143749529968907,0.013544271828333003,-0.13677592227967014,0.02645654664811687,-0.005774051005646104,0.03746412470256544,0.09999321284470583,0.5665244571282068,-0.20042892289526468,0.9999015335774055,0.9996949279318267,-0.11528863242638392,-0.0741056779709276,-0.20896960160559594,0.005008232713080925,0.04585748583219684,0.011002716845644675,-0.016249706345682072],[-0.0960243022972835,-0.08205852281688834,0.024767239543804068,-0.40207186776897835,-0.39562807604464467,-0.10765307209148066,0.4434531367699803,-0.11269174306075323,0.13925165133545228,-0.1089581722595453,-0.2668470412240701,0.32872992784223015,0.026194607905954386,0.010151083710180937,-0.026148455937256128,-0.09783651618259498,-0.11198430818404154,1.0,0.13735136870610545,-0.2961474287991424,-0.4860384735481687,0.013600087856099367,0.28855577749556344,-0.05516958767527479,-0.40350333551577,0.022775608722852482,-0.1036584784089376,0.027097515356616073,-0.4151073125739186,-0.019736440810686994,0.11118030336792246,-0.007129964412711533,0.05296565521367876,-0.015090941807602093,0.006369977370523916,-0.6802676393001562,-0.740692622137968,-0.13009313630308098,-0.21085427084231909,-0.06369282227105838,-0.0058670456262428965,-0.0030752978216416166,-0.028301581340553564,0.015846999100489947,-0.620276652221092,-0.0628681301002498,-0.30206756564276327,-0.34476583173803055,-0.07654974371153678,-0.14803495037307868,-0.16508707116584148,0.30027426264963136,-0.1112068628928191,-0.11641718539286348,0.17996256675255196,0.12880735840224267,0.02767267274359255,-0.05292773410199342,0.243524039123456,-0.06303793991983864,-0.006601083244895835],[-0.5111184156180065,-0.3440424496598094,-0.007609728876933145,-0.06963919184277048,-0.09287135713914851,-0.5718073077058083,0.6099288089834094,0.22347084767872194,0.25053058890335184,-0.501941671451412,0.46937294896187104,-0.005018285090980645,-0.008267483272581056,-0.02306737958820883,-0.0214577797231839,-0.022348250386175394,-0.5497245225081502,0.13735136870610545,1.0,0.5036274152116967,0.05661324882854063,0.33032418065118635,0.34759186056950214,-0.29371548361660627,0.016631857177026522,-0.00866890711853804,-0.5309746732144491,0.07038570763761007,0.1299119141306995,-0.09165655580514098,0.7922732458508991,0.06051883648551772,0.0010333800805457825,0.045556915451517514,0.6156496693845621,-0.1155283336499518,-0.05899077887139039,0.035238516562218575,0.09179727309964965,-0.08548992768336416,-0.04944297267367511,-0.022007616368449084,-0.008908185734287396,-0.03562184859404023,-0.01465944067604436,0.027922993262246915,-0.05992583268144441,-0.04430734690186244,0.010486099649475781,-0.08840767478916269,-0.8874157561846131,0.3624636745753695,-0.5522078387192257,-0.5570379486820745,0.2713915297558781,0.2162608761649259,0.34396463877858713,-0.020415608942716948,0.04649831427912663,-0.014996294899827109,0.17033728116425437],[-0.21046311984603802,-0.11861807524025082,-0.019389367433455658,0.643904529305058,0.6207210425312295,-0.5311001472057445,0.2340167109338058,-0.0006835276391137022,0.16254153758253073,-0.18730704824121971,0.9367583382037643,-0.08146371213042855,-0.02401245557044545,-0.0726710657611851,-0.09414269402276196,-0.003739444622372582,-0.2182016683999802,-0.2961474287991424,0.5036274152116967,1.0,0.3671788473692933,0.6357728315285849,-0.10278172209013728,-0.021464242399518503,0.2858032888748956,-0.017740201925472463,-0.21703180092859914,0.14783183532285324,0.4436528683863428,-0.13152653917501905,0.5760594057578878,0.05704577731566129,0.029335075086525542,0.05741392691849234,0.7875839473929892,0.19238519388888908,0.3817180537501927,0.19472618172788575,0.2636756515061275,0.12355600431529129,0.13085096638491026,-0.07251169402220337,0.05476883007323029,0.14775727340146744,0.4194489166625805,0.25437950487278727,0.18933760791429577,0.19553912459213277,0.07503908409380655,0.06565052101346185,-0.3103505327369418,0.07240258452951148,-0.21619625861216712,-0.2160433946308052,0.16593669137228476,0.1860211920802295,-0.030462861364219662,-0.013784241891275086,0.10487032775676756,0.02182367978661004,0.3660609580462066],[-0.012609412378898002,-0.029340932177557632,0.07206048785253505,0.3620497501552335,0.3585271341129983,-0.12058928878511178,-0.12868744706882077,-0.032656915504340106,-0.0865413374691491,-0.029706154691669633,0.3572340387744565,-0.2270038906131565,-0.05332996015637204,-0.0963256097020631,-0.15627848823334903,-0.001396183372741422,-0.03442038425990278,-0.4860384735481687,0.05661324882854063,0.3671788473692933,1.0,-0.05249227696564009,-0.39206597889489675,0.053719695076785506,0.2160738550983719,0.07650635175953736,-0.035688855790534685,-0.18308887323322615,0.734147188600307,0.04693820370976734,-0.05144858534104488,-0.05158525017785084,-0.039453221614072574,0.09690130286750887,0.3227012675982179,0.42871470796098615,0.6847558046072959,0.18102218849919605,0.3411726451500037,0.07907991166817877,0.06801851675285736,-0.05008950461626763,-0.020326671841919865,0.0744177350485036,0.6772179037330166,0.07702996580845509,0.4534940520452292,0.003152287110940668,0.08317883768053595,0.07095513845022594,-0.00668988304024336,-0.10321796466794594,-0.03567585026844199,-0.03382826074002479,-0.10001911144902303,-0.08915933434742182,0.07098447171963931,0.014866356896383777,-0.13450253236370796,0.05226385689733662,-0.10763254866431038],[-0.1426318643725982,-0.006105510001571082,-0.24112189705279605,0.5615880133448604,0.542252173617332,-0.36812207352838805,0.208705071606189,0.04283455568309416,0.068699440724446,-0.05253741601488916,0.7740210937266319,0.06920226905631575,-0.029541002819527942,-0.06719184105171883,-0.08563065184789052,-0.03567885339461027,-0.07602133697425265,0.013600087856099367,0.33032418065118635,0.6357728315285849,-0.05249227696564009,1.0,0.15093635672250832,-0.09768542769067985,-0.08344879377257308,-0.24036956058276313,-0.09902790546271778,-0.058373964066164206,-0.05058489139846545,-0.061353098317233914,0.597863154785009,0.0654742125451948,-0.045465298275001335,-0.006294163752592602,0.7115672169402111,-0.05786577912281212,-0.09825621951882356,-0.0032109710377979735,0.06479991306659919,0.03943621976785255,0.01804296282740913,-0.07918000629032762,-0.010108753495733222,0.039835648028174214,-0.11615886027182858,0.24908845422491407,-0.1624850660749394,-0.14825996827829058,-0.0868113149909184,0.02074944937581699,-0.17208024595243554,0.055316923893275076,-0.07400637774182028,-0.0742449130902087,0.08970681390350793,0.10308257333492095,-0.10454181197359265,-0.09513777323859039,0.10466434827098803,-0.03288677335453226,0.5782823544248049],[-0.2546925530252822,-0.14606796240441672,-0.11325683438536409,-0.3959742245998538,-0.3846864577835149,-0.07110120809909692,0.24937992092370664,0.29985569293310366,0.015799129000069696,-0.22248020297913457,-0.12578079498444442,0.041998555173893656,-0.035208657687536116,0.03893935974224971,0.03692737178553735,0.05084150961443352,-0.24000147518320997,0.28855577749556344,0.34759186056950214,-0.10278172209013728,-0.39206597889489675,0.15093635672250832,1.0,-0.26828044619433916,-0.27991099663478236,-0.11537673105429032,-0.2368019770702257,-0.20031634500160847,-0.47665705196538977,-0.09668710681401961,0.3123376395975982,-0.0979214375971678,0.07713556094171287,0.006946918917489845,0.029504413301393407,-0.14996468477219266,-0.42230675365092996,-0.11844015164947964,-0.1540031648001832,-0.1678631956878438,-0.19928071196765376,0.01358723338708735,-0.11333475210488285,-0.19075388414417743,-0.5278289432971723,-0.04501504517585647,-0.40074265052223845,-0.3420758204933147,-0.077804736899456,-0.027013253179092676,-0.42585770977715964,0.13149642616940355,-0.24231670887521337,-0.24409155675673702,0.05700680022420086,0.01797224976228806,0.15863723200820637,-0.03568291686461175,-0.050286874694515926,-0.020448713520666503,0.18008825519442043],[0.1480685842821119,0.020880703272038545,0.07539786286840491,0.04478786231650937,0.06373814389184759,-0.05912335509025993,-0.09235621085349764,-0.781254576778032,-0.03828796565639259,0.1155683973570741,-0.03282208439347615,-0.02199554850316632,-0.019195255774099005,-0.047390832466632574,0.028967718787389487,-0.12861681096207944,0.13929284717560725,-0.05516958767527479,-0.29371548361660627,-0.021464242399518503,0.053719695076785506,-0.09768542769067985,-0.26828044619433916,1.0,-0.03917873146950215,0.074036857289277,0.318122905971661,0.10151964108843102,0.03967990284617867,-0.04427754535564044,-0.2672870565613746,0.026230157066997953,-0.018449012791805965,-0.16757367899542344,-0.02920303808334547,0.022890279533599307,0.07913110711095203,0.014171780277338545,0.04617193509396109,0.009789282401608026,0.02987647076049457,-0.047372360467449255,-0.013856817274075468,0.01925286262929645,0.07325396391873232,-0.031706259266061285,0.04740665061922783,0.09102650366964077,0.02424583460439803,0.027238732821486505,0.4478525689559774,-0.06800110943217466,0.1406705725820513,0.1416905739305098,-0.04031749999778281,-0.015816844665281972,-0.10030289816259222,-0.0616727318752104,0.07082799806444018,-0.021215226880742517,-0.1210757042054609],[0.07351432791658487,0.07845717419186962,0.09123319779370219,0.20214148699154397,0.22307055384569172,-0.025042907818935374,-0.005459863626550528,0.04804002796500781,-0.10040886018231508,0.05636372204208161,0.20859667543641128,-0.12277038682179398,0.014521733110812587,-0.003827226665042027,-0.000618204861066806,0.13383365775825615,0.048703202287999944,-0.40350333551577,0.016631857177026522,0.2858032888748956,0.2160738550983719,-0.08344879377257308,-0.27991099663478236,-0.03917873146950215,1.0,0.09278788731769927,-0.004450574512285092,-0.13542837474785943,0.32138250204683605,0.041664558745657006,-0.02640021898650139,0.0382138454123619,-0.04891672535225421,-0.031893175527726206,-0.011667333350669985,0.13693749840561636,0.3951414734575755,-0.044520657737576574,-0.07317045428232817,0.053609989412338785,0.07417410161653712,-0.049547250732676476,0.05271260461697768,0.04894399562134562,0.534420062332764,-0.0318600900953062,0.37338824897616624,0.42162659809221414,0.061657426430949465,-0.0032621633232079476,-0.0453675933008567,-0.10601153401751633,0.05028261234414445,0.05243721514842315,-0.10253181423202315,-0.09197643004672487,-0.09083102955761524,-0.01481609465451378,-0.023410367054789202,-0.009205055178868833,-0.02892140408909922],[0.3625919420306853,0.09455640664095503,0.9994532111198734,-0.07952026936684098,-0.06946176238786886,0.058311450987627966,0.035492612351484557,-0.055660942477455844,0.18501329253042273,0.0807852963476336,-0.08122233787479928,-0.044483528404218195,-0.028735290788582182,-0.03869212535008824,-0.016000094606874623,-0.06405291623321664,0.07963624847478697,0.022775608722852482,-0.00866890711853804,-0.017740201925472463,0.07650635175953736,-0.24036956058276313,-0.11537673105429032,0.074036857289277,0.09278788731769927,1.0,0.09353959075616308,0.024745786872057453,0.17510096616329715,-0.025361692199638748,-0.09307348768693567,0.04566111465719979,0.03786082247734549,0.11940982927774309,-0.0383121640203668,0.007233262411247078,0.1113911554533106,0.09853690534831759,0.12334748247728111,0.07263233624559395,0.027789016868670566,-0.04318441260768646,-0.11223299957654477,0.012919448519703834,0.13411103155348245,-0.00668815778972591,0.13387488158554833,0.07184572892657229,0.0901081921625358,-0.018243710289903663,0.026196361013971457,0.10605672963394124,0.07906611436381929,0.07645790047259139,0.14444822838306753,0.1415899147411014,0.06702772657223592,0.04752179382223744,0.08784567638031882,0.0595483181478371,-0.1089194488607514],[0.9042773827266593,0.8886937983596171,0.09353473399153936,0.09952275761370204,0.08600136521435307,0.7693764944509499,-0.33958340101273915,-0.2844842424433002,-0.07416383843996961,0.9348981293242749,-0.1815908559659235,0.01812577257948035,-0.0869450668465797,-0.06151971848594453,0.06346163024026734,-0.05107582027269476,0.9397509221372972,-0.1036584784089376,-0.5309746732144491,-0.21703180092859914,-0.035688855790534685,-0.09902790546271778,-0.2368019770702257,0.318122905971661,-0.004450574512285092,0.09353959075616308,1.0,-0.059916180032748165,-0.09578506570492691,0.006470588525789086,-0.38366510784800495,0.04882712519363725,-0.06524961038318708,-0.020483165083756905,-0.2849089971891417,0.0840163066228823,0.03273030940850853,0.030934556513225252,-0.005128309483651785,0.029009749244559836,0.014340511016931807,-0.026460152533083345,-0.039588883116396203,-0.004538410387531374,0.0016599343988351874,-0.11220710500890217,0.005291457604022004,-0.0011938122979463321,0.05029734855535307,0.09220799994072035,0.5818953094557199,-0.1688907969526066,0.9401246196046118,0.9396917175445284,-0.07422934057682481,-0.029349495846933728,-0.2115615272328892,0.001769713837922174,0.08922398806107548,0.011104552858841057,-0.04079173843097225],[-0.08824929436764382,-0.10867310849639344,0.025566669911010535,0.09545189835279631,0.058448671389149075,-0.17001500492638838,0.08967624033482031,-0.10980809780690506,0.2630041200188736,-0.10190123962129626,0.12848486432270598,0.15395165118447166,0.126913739517767,-0.010371224103647521,0.05748509490422805,-0.024924595348542092,-0.10227126662647969,0.027097515356616073,0.07038570763761007,0.14783183532285324,-0.18308887323322615,-0.058373964066164206,-0.20031634500160847,0.10151964108843102,-0.13542837474785943,0.024745786872057453,-0.059916180032748165,1.0,0.1788775678882732,0.03817757556690643,0.07669253905333578,0.09330245507760382,-0.0051811443110450425,-0.07495333138970381,-0.003929918870597563,-0.03300016602979698,0.17697934260842826,-0.017944459379385384,-0.1066954886394274,0.0030990772325170442,0.019718907323573582,-0.03025853923769187,-0.005815248887378528,0.01832037249823981,0.30224888282390283,0.005108703045688211,0.1207990565262027,0.5876354430385692,0.1038979291569087,-0.0012195156153494372,-0.025612808142227925,0.21348667427595855,-0.10029110097007049,-0.1036464882392919,0.277443878640123,0.2707703357748097,0.014105393890190814,0.1201974312729315,0.22740454409620803,0.07393525990541065,-0.021203864215686964],[-0.044947345434425724,-0.08208285830053048,0.17127971152353286,0.4287042583558443,0.4177240169908788,-0.24397214381646917,-0.004867302648759862,-0.06860535179552621,0.06920417618506487,-0.09201959825587418,0.47056420541665106,-0.16512337254505677,-0.0322359957531204,-0.07548705264734915,-0.09896107262979285,0.021056014695169597,-0.09994287895083552,-0.4151073125739186,0.1299119141306995,0.4436528683863428,0.734147188600307,-0.05058489139846545,-0.47665705196538977,0.03967990284617867,0.32138250204683605,0.17510096616329715,-0.09578506570492691,0.1788775678882732,1.0,-0.06732236877378964,-0.06430882012641807,-0.04856792760472569,-0.04415628356188328,-0.009183790140325616,0.36727640494368463,0.34605605506069037,0.6892583649139031,0.2920201561953181,0.46839361283279946,0.08149946020066935,0.03448665000617252,-0.07170196598816102,0.08742194064651344,0.06256815136769565,0.7047561642044057,0.031172948376757013,0.36240509933282566,0.26735019590224196,0.1154569550886158,0.04550713163069418,-0.0654741524815617,0.06271156378071305,-0.09959537108914528,-0.10012866908644134,0.06299087972934202,0.05680856140012634,0.015354159980467316,0.09430010902704479,0.05544838225229957,0.10003496680890521,-0.10882166036518158],[0.026970599494679774,0.030847464761083125,-0.02406118953597972,-0.1215595128129179,-0.13255513640477104,0.07816684271448161,-0.02328985701488203,0.010943631644697124,-0.14891290322149958,0.03120062211923266,-0.17395221802363983,0.1984555261243197,0.028429282873753212,-0.014805097031966079,-0.06074861743919822,-0.12412631375166909,0.03519864403464424,-0.019736440810686994,-0.09165655580514098,-0.13152653917501905,0.04693820370976734,-0.061353098317233914,-0.09668710681401961,-0.04427754535564044,0.041664558745657006,-0.025361692199638748,0.006470588525789086,0.03817757556690643,-0.06732236877378964,1.0,-0.08108821275652472,0.043302613420443635,-0.13665854547057346,-0.04806987271553512,-0.14767625429256112,-0.16334270817981686,-0.03860855071786807,-0.34034482720987447,-0.5550093405704992,0.03372003145895943,0.046108656195190334,-0.025567922993635674,-0.07182898411194984,0.07271790302602106,0.12746123843161886,-0.0026252685811453754,0.1252361386075356,0.08382809547438237,0.03846060450201189,0.06368289390532476,0.022608002160258114,-0.09197418443868281,0.0364695348650017,0.03767473217742742,-0.09870282220450721,-0.10648122349771373,-0.007111066664858215,0.09632421286924836,-0.051441635969881376,0.08895633003907369,-0.1168366093961267],[-0.3911580037395309,-0.22423540971580938,-0.09154372903938413,0.11348617719830395,0.09418638986900436,-0.5190373241128865,0.5290063150465228,0.17804858235624985,0.22697820914855646,-0.35166443964121497,0.5611819862198543,0.023264139216213165,-0.008326079766749364,-0.036266693270502685,-0.05441266219277141,-0.025871939983157056,-0.3931530306470534,0.11118030336792246,0.7922732458508991,0.5760594057578878,-0.05144858534104488,0.597863154785009,0.3123376395975982,-0.2672870565613746,-0.02640021898650139,-0.09307348768693567,-0.38366510784800495,0.07669253905333578,-0.06430882012641807,-0.08108821275652472,1.0,0.0928257722284515,-0.032597586099643756,0.07423031523917059,0.6466475853583926,-0.11292700617437659,-0.1061181784350179,-0.021479634305665078,-0.030261533960722415,-0.07137956791429388,-0.027914120653306087,-0.03425203588646248,-0.019606034397489563,-0.02968180846470838,-0.05546500853011347,0.18848858194747192,-0.07910585569146443,-0.047645831567197185,-0.03512245063366843,-0.07155147461891327,-0.6717517268549497,0.2653121871460567,-0.3943164856759542,-0.3978057581120549,0.2390405212739052,0.22088554520440853,0.22799797291182688,-0.04257831931967635,0.05600700195036692,-0.029852823496459374,0.38091467265320916],[0.07508417589944263,0.08115112068166018,0.048677025182952895,0.05072770778461885,0.033787378530524305,0.02755630914084465,0.00030102541758582753,-0.031037825904979385,0.07287406148074854,0.07033144946903681,0.05415282016744378,0.04824843769902147,0.06590550307810886,0.047580273296472714,0.015163823462085415,-0.08887959404749009,0.06441412046698171,-0.007129964412711533,0.06051883648551772,0.05704577731566129,-0.05158525017785084,0.0654742125451948,-0.0979214375971678,0.026230157066997953,0.0382138454123619,0.04566111465719979,0.04882712519363725,0.09330245507760382,-0.04856792760472569,0.043302613420443635,0.0928257722284515,1.0,-0.4031580052839561,-0.04682655793852496,0.025827510768891757,-0.0010079881281658991,0.011637339169859396,0.10991120019826366,0.06672567087883471,0.028984272290503682,-0.020125943829494404,0.07015104099556457,0.11512175092144795,-0.03799001460335282,0.05172550231358533,0.04307085800664619,-0.01865134735350675,0.12110847175984822,0.06481000537645266,0.1196996555567733,-0.028207530856449708,-0.021874803863585247,0.06500946428484755,0.06410118452219629,0.03899834841919987,0.06335856961352149,0.06683083370541398,0.052545017553296124,-0.05427652522489455,0.042546000894933864,0.044207383281497405],[-0.06136100155485673,-0.07372354788478173,0.03676966648892162,-0.024589344550908318,-0.024761141248948078,-0.053593417813842074,0.0359577963866586,0.05014482627732777,0.0059921734034642455,-0.07625498497066445,0.000695219007108936,0.03766368230214097,-0.040109911374431775,-0.058138151084004205,0.08306725650387269,0.16042134820777382,-0.07432024104508023,0.05296565521367876,0.0010333800805457825,0.029335075086525542,-0.039453221614072574,-0.045465298275001335,0.07713556094171287,-0.018449012791805965,-0.04891672535225421,0.03786082247734549,-0.06524961038318708,-0.0051811443110450425,-0.04415628356188328,-0.13665854547057346,-0.032597586099643756,-0.4031580052839561,1.0,0.005755269041789609,0.03084525749896875,-0.027011757836976274,-0.0723952021871802,0.07653816395689297,0.04409222502945061,0.008214060338044999,0.030676781978724085,-0.07197553036129002,0.0019241812400919562,0.02790763913492426,-0.08524082625890804,-0.007093923761853299,0.01310826660649488,-0.07211775386520217,-0.01770653049471189,-0.05348004010032559,-0.001760567670433975,0.1930668204675266,-0.07366925887740204,-0.07598388983809275,0.02369373138085742,-0.022268043174638815,-0.013105778929922042,-0.05330823631378328,0.21352580488670803,-0.09123692063216333,0.019114665203313452],[0.0474117666889322,0.0526620763296509,0.11897557105409517,0.019514485000687178,-0.006336146276995913,0.0752283522018362,-0.06667065037708188,0.20617459873298633,-0.13736755337038228,0.01981434507535747,0.018070540910998256,-0.1088656961065489,-0.10147412720283755,0.09948183842621272,0.060022290052978815,-0.07046847476050783,0.012609677384064023,-0.015090941807602093,0.045556915451517514,0.05741392691849234,0.09690130286750887,-0.006294163752592602,0.006946918917489845,-0.16757367899542344,-0.031893175527726206,0.11940982927774309,-0.020483165083756905,-0.07495333138970381,-0.009183790140325616,-0.04806987271553512,0.07423031523917059,-0.04682655793852496,0.005755269041789609,1.0,0.006324764478179693,0.16136674892927128,0.09422262802278074,0.09026869470693984,0.08666191530472257,0.11628255090458577,0.05840442135582702,0.0845198222609941,0.03676459947887411,0.08372867374681744,0.05380532691083915,0.029418952013776374,0.08801301203238872,-0.034637772749251144,-0.009324816174795815,0.1194382238496555,-0.10256968177098451,-0.14080494277523045,0.011361677741639112,0.013472598118072552,-0.15037882353770735,-0.14859596832011074,0.08773293952361226,-8.88797438242974e-05,-0.16005136543371667,0.02549434339213425,0.05656227550593707],[-0.2927901268465224,-0.18966125160285513,-0.03918326181908544,0.4470815997490318,0.4293615882770413,-0.6176710631562805,0.49169438000921645,-0.09314160975691056,0.16855996820746882,-0.26712915098143053,0.8516617025291818,-0.04118367529185426,-0.04967538397878494,-0.08016816271697329,-0.10620820003776986,-0.05364418514070293,-0.29903922315402437,0.006369977370523916,0.6156496693845621,0.7875839473929892,0.3227012675982179,0.7115672169402111,0.029504413301393407,-0.02920303808334547,-0.011667333350669985,-0.0383121640203668,-0.2849089971891417,-0.003929918870597563,0.36727640494368463,-0.14767625429256112,0.6466475853583926,0.025827510768891757,0.03084525749896875,0.006324764478179693,1.0,-0.02504060106725169,0.10639260731397819,0.22252592534486618,0.33191573167489613,0.09658314197814173,0.09983161194228841,-0.0766986769481817,0.03891883689648133,0.13815296844110458,0.129575320089124,0.20058047577871504,-0.016581377065396082,-0.12526734444447551,0.03573234385455276,0.018055559699243648,-0.3986216236868655,0.2079557635401331,-0.2981255591370545,-0.3004484109354482,0.1813418766222795,0.17223236438221406,0.03868055268126899,-0.04178286921335412,0.15000788372529578,0.016603133884817534,0.3778304760659473],[0.084458046841401,0.058648109622807254,0.0036136184908053836,0.3344199689970225,0.3156312181998623,0.18138131379098657,-0.5490408844480189,0.22374556453851724,-0.1292467064807482,0.08724925764909537,0.196989459485829,-0.45053369893153994,-0.11844955952422859,0.04594750270733686,0.05071069020916405,0.10405062406749785,0.09143284916285366,-0.6802676393001562,-0.1155283336499518,0.19238519388888908,0.42871470796098615,-0.05786577912281212,-0.14996468477219266,0.022890279533599307,0.13693749840561636,0.007233262411247078,0.0840163066228823,-0.03300016602979698,0.34605605506069037,-0.16334270817981686,-0.11292700617437659,-0.0010079881281658991,-0.027011757836976274,0.16136674892927128,-0.02504060106725169,1.0,0.8140805346151276,0.38562437717796294,0.42178014535165875,0.159730023571918,0.030542850686650174,0.07863577829950494,0.15339200038859027,-0.0007605032244553483,0.5148513413287065,0.03381688596890359,0.18813035544955506,0.16601537535981045,0.11504032354673197,0.2723288857059922,0.15695774515549288,-0.2641986657805546,0.08628615407737197,0.09009848247556278,-0.17838562993021054,-0.1416618853913325,0.19225755941776396,0.014633055136371642,-0.4114242035782122,-0.013139262279500201,-0.03860688622751886],[0.06367854918659877,0.013801120655009613,0.10731018315840939,0.4522028522988072,0.43261413196678195,0.0071484345514570315,-0.38691812565182543,0.07424390771809627,-0.07250673358290216,0.03547103908209722,0.35660334590829695,-0.3488350562322713,-0.06877380861089816,-0.041448808706787375,-0.027054472634795747,0.09508908956550308,0.0367020543422093,-0.740692622137968,-0.05899077887139039,0.3817180537501927,0.6847558046072959,-0.09825621951882356,-0.42230675365092996,0.07913110711095203,0.3951414734575755,0.1113911554533106,0.03273030940850853,0.17697934260842826,0.6892583649139031,-0.03860855071786807,-0.1061181784350179,0.011637339169859396,-0.0723952021871802,0.09422262802278074,0.10639260731397819,0.8140805346151276,1.0,0.24852261628435876,0.33710101200041304,0.1264875528984453,0.04787415141612095,-0.020421404528770577,0.05995357209395922,0.031672608221169005,0.8928372471708879,0.06775916060488331,0.4821181275108004,0.4227310276884594,0.12722635610675173,0.18810052365646898,0.1220051729469647,-0.166225751943067,0.03431941558169907,0.036870681094548476,-0.09649937410649187,-0.06950984752411209,0.1257951744749313,0.054839754193537496,-0.23389896727015788,0.028767376526832908,-0.09197387137907984],[0.05125773734903938,0.023119543813362172,0.09549825342767443,0.22371070679045693,0.2121950163893501,-0.04600375612396648,-0.027960981212439617,-0.02006888799442555,0.09212707204516471,0.03221674286671922,0.24899850338149287,-0.3179384765544899,-0.11560793853074129,0.06614149808559477,0.10826697783535152,0.09986164854272041,0.02846571237581113,-0.13009313630308098,0.035238516562218575,0.19472618172788575,0.18102218849919605,-0.0032109710377979735,-0.11844015164947964,0.014171780277338545,-0.044520657737576574,0.09853690534831759,0.030934556513225252,-0.017944459379385384,0.2920201561953181,-0.34034482720987447,-0.021479634305665078,0.10991120019826366,0.07653816395689297,0.09026869470693984,0.22252592534486618,0.38562437717796294,0.24852261628435876,1.0,0.8168996423890684,0.6265874843882624,0.43358348613506725,0.10100999107459772,0.4600669966523867,0.38679234028577797,0.09913423669962677,0.0677019035988138,-0.032845328635332814,-0.03587655462324989,0.45332802235285935,0.5269798975335231,0.029869081000666403,0.05251162428118062,0.027829641574474463,0.02665733504541596,0.05104486143966208,0.06413769330372002,0.0228341183144122,0.015089308158082328,0.04294350223106371,0.013173627005888693,0.05122494359689499],[0.014291865786366804,-0.022028986918802347,0.12006458626852821,0.3330303033842847,0.3228089621530255,-0.11601707231013432,-0.07340372475631933,-0.043774528943246536,0.09789605062877332,-0.014363101175298246,0.35422419483035966,-0.40465775303770346,-0.13360852993431716,0.0325084651779595,0.02644459025851608,0.09108493284248767,-0.018446383437243065,-0.21085427084231909,0.09179727309964965,0.2636756515061275,0.3411726451500037,0.06479991306659919,-0.1540031648001832,0.04617193509396109,-0.07317045428232817,0.12334748247728111,-0.005128309483651785,-0.1066954886394274,0.46839361283279946,-0.5550093405704992,-0.030261533960722415,0.06672567087883471,0.04409222502945061,0.08666191530472257,0.33191573167489613,0.42178014535165875,0.33710101200041304,0.8168996423890684,1.0,0.34299208894110456,0.1859719661998402,0.06194877029813229,0.3186913574504003,0.15612246262656493,0.11674877512587442,0.034935148633772055,-0.04443351340640137,-0.12208019688885596,0.19587558318816758,0.2997925169553898,0.025018696922760923,0.04334056876120803,-0.019845346894677294,-0.020705285274795024,0.04448143474427424,0.05457947332926045,0.06031073539036329,-0.010231068863237752,-0.0005214156983757664,0.0010644160990456817,0.0324429613156658],[0.07028042535189086,0.04050254500747595,0.07015046565685937,0.14598917663681663,0.1592143477622664,0.00016998779172628297,-0.03264994264587857,-0.017388714702514303,-0.09063054116875582,0.053959193063639235,0.1188266557835904,-0.12577923715466402,-0.027470376150649456,0.06205549875704229,0.09733237360508443,0.06370118753812026,0.05527948900479631,-0.06369282227105838,-0.08548992768336416,0.12355600431529129,0.07907991166817877,0.03943621976785255,-0.1678631956878438,0.009789282401608026,0.053609989412338785,0.07263233624559395,0.029009749244559836,0.0030990772325170442,0.08149946020066935,0.03372003145895943,-0.07137956791429388,0.028984272290503682,0.008214060338044999,0.11628255090458577,0.09658314197814173,0.159730023571918,0.1264875528984453,0.6265874843882624,0.34299208894110456,1.0,0.870903258039542,0.04850897627996813,0.40672372669525164,0.8398553468040587,0.09635003457929985,0.008879148029582638,0.06250756816668612,0.013584785909910272,0.344628564636031,0.5774078848353994,0.08427714128355134,-0.017045148078345927,0.05595778067214297,0.05619444218570517,-0.07237497132838652,-0.07175337987617088,-0.05889973749165057,-0.040268528251426426,0.027149485457114556,-0.05359181169067438,0.04882648655823629],[0.04149811085431471,0.03425879334410703,0.0265898503682056,0.09323587361643249,0.10744483386293685,-0.02738891697576072,0.05747432349692036,-0.05427077928027404,-0.07413142325421407,0.038365977957586374,0.093347075022992,-0.033525251457611586,0.010446654185724403,0.0014901689052669036,0.10639959461826623,-0.005272276249099156,0.03775810039369002,-0.0058670456262428965,-0.04944297267367511,0.13085096638491026,0.06801851675285736,0.01804296282740913,-0.19928071196765376,0.02987647076049457,0.07417410161653712,0.027789016868670566,0.014340511016931807,0.019718907323573582,0.03448665000617252,0.046108656195190334,-0.027914120653306087,-0.020125943829494404,0.030676781978724085,0.05840442135582702,0.09983161194228841,0.030542850686650174,0.04787415141612095,0.43358348613506725,0.1859719661998402,0.870903258039542,1.0,-0.0035798605184172013,0.35303558406602237,0.9506841107836658,0.07330826139346747,0.004435516435885895,0.06720354931608925,0.036098645584833174,0.1495699668901301,0.27730930861584685,0.04344204530741143,0.02527847200791066,0.03911476927201564,0.03891884857013092,-0.03283795668153188,-0.04155046732309191,-0.08393420320041853,-0.0764827962649414,0.0893171784698738,-0.08263658223643791,0.010090294998311537],[-0.02160383653636805,-0.019015489267750332,-0.04493788155674908,-0.07257404039156537,-0.08164831356117848,0.03866897418894017,-0.052681767093657836,0.023646539290107176,-0.08278907911339214,-0.01683730071005898,-0.0945828533715932,-0.12303276609879442,-0.009092978491765024,0.87672214780111,0.08660893449260197,0.053972654751956534,-0.014073817753884357,-0.0030752978216416166,-0.022007616368449084,-0.07251169402220337,-0.05008950461626763,-0.07918000629032762,0.01358723338708735,-0.047372360467449255,-0.049547250732676476,-0.04318441260768646,-0.026460152533083345,-0.03025853923769187,-0.07170196598816102,-0.025567922993635674,-0.03425203588646248,0.07015104099556457,-0.07197553036129002,0.0845198222609941,-0.0766986769481817,0.07863577829950494,-0.020421404528770577,0.10100999107459772,0.06194877029813229,0.04850897627996813,-0.0035798605184172013,1.0,0.04780208917976066,-0.003681014119688248,-0.08150639069418009,-0.030287491986173778,-0.06138249353862323,-0.049113432855822044,0.033513505230887274,0.05733492024536231,0.006711711536403056,-0.07284512457444557,-0.015467404520294142,-0.014650894572996767,-0.09107605290020993,-0.08876397645903597,0.11762604840631899,-0.004606635048935595,-0.13304189632198607,-0.005181300283969582,-0.04445637216987104],[-0.0391122346072095,-0.01916906484011846,-0.11306529619963086,0.08349430008963611,0.08534227920746042,-0.03363388717654188,-0.014818848522617929,0.019821498537503174,-0.041261347771828695,-0.008263353908032029,0.07938178805562587,-0.13025130559417705,-0.04636783822138922,0.051655634053412544,0.06043249268685693,0.1355441702673048,-0.007323129228349666,-0.028301581340553564,-0.008908185734287396,0.05476883007323029,-0.020326671841919865,-0.010108753495733222,-0.11333475210488285,-0.013856817274075468,0.05271260461697768,-0.11223299957654477,-0.039588883116396203,-0.005815248887378528,0.08742194064651344,-0.07182898411194984,-0.019606034397489563,0.11512175092144795,0.0019241812400919562,0.03676459947887411,0.03891883689648133,0.15339200038859027,0.05995357209395922,0.4600669966523867,0.3186913574504003,0.40672372669525164,0.35303558406602237,0.04780208917976066,1.0,0.34232527666188756,0.0058023424394843745,0.019337278887813857,-0.03124991996773426,-0.028751338211738777,0.13339871256396052,0.2256088566919077,0.02424680451808875,-0.09821248704591407,-0.006669539709606533,-0.004725919487008988,-0.0401016252647972,-0.020883360385391073,-0.050345673065247065,-0.010184405328182988,-0.06370095398739929,-0.024988861247207117,0.04157548512308934],[0.02236230449940171,0.01794847633196424,0.01171644897281214,0.07811302376752101,0.08620105039266826,-0.05773188977991579,0.08931903364550466,-0.0577021429086477,-0.10368435346011266,0.022305275596271424,0.11255582154897946,-0.0044415657376643295,0.012799856702948522,0.014874263909620397,0.0856890821511667,0.005238053644175225,0.02143749529968907,0.015846999100489947,-0.03562184859404023,0.14775727340146744,0.0744177350485036,0.039835648028174214,-0.19075388414417743,0.01925286262929645,0.04894399562134562,0.012919448519703834,-0.004538410387531374,0.01832037249823981,0.06256815136769565,0.07271790302602106,-0.02968180846470838,-0.03799001460335282,0.02790763913492426,0.08372867374681744,0.13815296844110458,-0.0007605032244553483,0.031672608221169005,0.38679234028577797,0.15612246262656493,0.8398553468040587,0.9506841107836658,-0.003681014119688248,0.34232527666188756,1.0,0.0662708075792504,-0.01833491082706577,0.06624817562557114,0.017184759064820605,0.13206533089801037,0.23782386560950386,0.03319117947721957,0.012080433501780147,0.02321670186058553,0.023365812798271077,-0.05542586071535014,-0.06720968155219272,-0.11014593876867752,-0.07474088563260478,0.09374037812933439,-0.08114753813973154,0.0023391478836834127],[0.0503718855119523,0.007660694390402828,0.13067104778463334,0.41762671881077845,0.40425903859811907,-0.08339422149235177,-0.2073902368729922,-0.009163482928810859,-0.037761230241882354,0.015615189095339821,0.3647242473352743,-0.18723961285593374,0.011071016660008901,-0.08294142639676542,-0.04121978887375928,0.05090169159494659,0.013544271828333003,-0.620276652221092,-0.01465944067604436,0.4194489166625805,0.6772179037330166,-0.11615886027182858,-0.5278289432971723,0.07325396391873232,0.534420062332764,0.13411103155348245,0.0016599343988351874,0.30224888282390283,0.7047561642044057,0.12746123843161886,-0.05546500853011347,0.05172550231358533,-0.08524082625890804,0.05380532691083915,0.129575320089124,0.5148513413287065,0.8928372471708879,0.09913423669962677,0.11674877512587442,0.09635003457929985,0.07330826139346747,-0.08150639069418009,0.0058023424394843745,0.0662708075792504,1.0,0.06894049988128725,0.6015719837382363,0.5812441922726701,0.16431243479275445,0.11114163740045549,0.06203126029054064,-0.10129039212972629,0.013593109665174434,0.015259717761332834,-0.04924387331949979,-0.02847761961555367,0.054774464992237155,0.06373861265741075,-0.08892959729694086,0.04288946431979599,-0.10104379771175985],[-0.13093345446113677,-0.14247951613948376,-0.006410551654600202,0.18884471812405482,0.17774195938317475,-0.2005646900123315,0.013700939824769973,0.018843555117985803,0.06344821723629593,-0.1364748763752315,0.23961946498789713,-0.025954380394688444,-0.06741413278648155,-0.06351219034244754,0.01860166677765816,-0.009767878835001301,-0.13677592227967014,-0.0628681301002498,0.027922993262246915,0.25437950487278727,0.07702996580845509,0.24908845422491407,-0.04501504517585647,-0.031706259266061285,-0.0318600900953062,-0.00668815778972591,-0.11220710500890217,0.005108703045688211,0.031172948376757013,-0.0026252685811453754,0.18848858194747192,0.04307085800664619,-0.007093923761853299,0.029418952013776374,0.20058047577871504,0.03381688596890359,0.06775916060488331,0.0677019035988138,0.034935148633772055,0.008879148029582638,0.004435516435885895,-0.030287491986173778,0.019337278887813857,-0.01833491082706577,0.06894049988128725,1.0,0.027249677758040925,0.015291013957240598,-0.015466268006599268,0.024091075542665392,0.003917961907152826,-0.04056741944623518,-0.13508533474402984,-0.13364461354620616,0.03573218212667239,0.07931809206499604,-0.03349114061015415,-0.004280724370886129,0.021238674242248113,-0.007376145866068222,0.1816625212027484],[0.06317375885031737,0.01434500729416031,0.13089319199445187,0.2218557718264378,0.21501435208868183,-0.020622863514124845,-0.07489596686551735,-0.03354411567342047,-0.1790494626374554,0.02544764235326733,0.13780372881187133,-0.011553890931123693,-0.01309211435173916,-0.05305238937080297,-0.022986760447522514,0.17139830096181183,0.02645654664811687,-0.30206756564276327,-0.05992583268144441,0.18933760791429577,0.4534940520452292,-0.1624850660749394,-0.40074265052223845,0.04740665061922783,0.37338824897616624,0.13387488158554833,0.005291457604022004,0.1207990565262027,0.36240509933282566,0.1252361386075356,-0.07910585569146443,-0.01865134735350675,0.01310826660649488,0.08801301203238872,-0.016581377065396082,0.18813035544955506,0.4821181275108004,-0.032845328635332814,-0.04443351340640137,0.06250756816668612,0.06720354931608925,-0.06138249353862323,-0.03124991996773426,0.06624817562557114,0.6015719837382363,0.027249677758040925,1.0,0.33750922266557204,0.07805912125966258,0.013740967430546138,0.048841927786220186,-0.1542536340442081,0.026353358135826076,0.028660571286216265,-0.14933222200246635,-0.13741512678801096,0.0550710522663623,-0.013943078819396921,-0.15710128612452223,-0.030881953975544385,-0.08256583354045983],[0.015362136239480515,-0.014556077145612654,0.07100246030812635,0.18324322228524767,0.16271682430651704,-0.04942589018742577,-0.09061937858845488,-0.04631718713559311,0.09773687579190672,-0.006723823712747943,0.12724784348739554,-0.049151344185797016,0.05464240328623833,-0.014861194948143332,0.13369856811766295,0.05862643897391985,-0.005774051005646104,-0.34476583173803055,-0.04430734690186244,0.19553912459213277,0.003152287110940668,-0.14825996827829058,-0.3420758204933147,0.09102650366964077,0.42162659809221414,0.07184572892657229,-0.0011938122979463321,0.5876354430385692,0.26735019590224196,0.08382809547438237,-0.047645831567197185,0.12110847175984822,-0.07211775386520217,-0.034637772749251144,-0.12526734444447551,0.16601537535981045,0.4227310276884594,-0.03587655462324989,-0.12208019688885596,0.013584785909910272,0.036098645584833174,-0.049113432855822044,-0.028751338211738777,0.017184759064820605,0.5812441922726701,0.015291013957240598,0.33750922266557204,1.0,0.10661483320165606,0.02984101215544115,0.03986438956488278,0.008034402000614926,-0.0034647754213436147,-0.0032671666334784613,0.07982702337051119,0.08923965103633237,-0.06319317768697966,0.051032504969058486,0.09311810679176659,0.012527733311987229,-0.07372165540455375],[0.059502221429524785,0.03713772202980846,0.08632171527192808,0.07751607653783446,0.08130356544183709,-0.006474876708236507,-0.019537994916430265,-0.10128471775800044,0.060190407335898886,0.04091873978273059,0.0676801967977335,-0.09068086386521482,-0.03620036936616869,0.03446273135060539,0.011008359907811667,0.003929382029906752,0.03746412470256544,-0.07654974371153678,0.010486099649475781,0.07503908409380655,0.08317883768053595,-0.0868113149909184,-0.077804736899456,0.02424583460439803,0.061657426430949465,0.0901081921625358,0.05029734855535307,0.1038979291569087,0.1154569550886158,0.03846060450201189,-0.03512245063366843,0.06481000537645266,-0.01770653049471189,-0.009324816174795815,0.03573234385455276,0.11504032354673197,0.12722635610675173,0.45332802235285935,0.19587558318816758,0.344628564636031,0.1495699668901301,0.033513505230887274,0.13339871256396052,0.13206533089801037,0.16431243479275445,-0.015466268006599268,0.07805912125966258,0.10661483320165606,1.0,0.4022729404634463,-0.01078083227768642,0.06764706134002066,0.039050525874385886,0.03781820079182285,0.06416461873659586,0.07044800327150025,-0.0671000788853996,0.032814268944929996,0.142474650849445,0.028057207143657326,0.0032777122879188918],[0.08643467517001642,0.07832514226669794,-0.01724526353514088,0.10774496597682195,0.10906673266703408,0.06966325905417849,-0.15653291602748845,-0.0062698940973395356,-0.02504937751616633,0.09760099424652445,0.0804361917153043,-0.16426772915872434,-0.09523071586745266,0.056683928583982746,0.05441054827800764,0.028166716108578245,0.09999321284470583,-0.14803495037307868,-0.08840767478916269,0.06565052101346185,0.07095513845022594,0.02074944937581699,-0.027013253179092676,0.027238732821486505,-0.0032621633232079476,-0.018243710289903663,0.09220799994072035,-0.0012195156153494372,0.04550713163069418,0.06368289390532476,-0.07155147461891327,0.1196996555567733,-0.05348004010032559,0.1194382238496555,0.018055559699243648,0.2723288857059922,0.18810052365646898,0.5269798975335231,0.2997925169553898,0.5774078848353994,0.27730930861584685,0.05733492024536231,0.2256088566919077,0.23782386560950386,0.11114163740045549,0.024091075542665392,0.013740967430546138,0.02984101215544115,0.4022729404634463,1.0,0.1154692513771849,-0.059928206251950146,0.09960155582088163,0.10014170266560858,-0.04312609709131197,-0.02414312924372613,-0.03687917821813441,0.060202552434088966,-0.04478778627725176,0.05147503017833067,0.07273731814051736],[0.5302504977379812,0.33828231493964456,0.0248578569641111,0.1887292349114716,0.1880720080330409,0.43050092531339973,-0.5384649385091281,-0.41779715864770867,-0.1370873950719226,0.517513610104092,-0.2642255381387409,-0.045260820736459526,-0.003053200264865883,0.002298393138658741,0.003461942960123495,0.0031193059244018803,0.5665244571282068,-0.16508707116584148,-0.8874157561846131,-0.3103505327369418,-0.00668988304024336,-0.17208024595243554,-0.42585770977715964,0.4478525689559774,-0.0453675933008567,0.026196361013971457,0.5818953094557199,-0.025612808142227925,-0.0654741524815617,0.022608002160258114,-0.6717517268549497,-0.028207530856449708,-0.001760567670433975,-0.10256968177098451,-0.3986216236868655,0.15695774515549288,0.1220051729469647,0.029869081000666403,0.025018696922760923,0.08427714128355134,0.04344204530741143,0.006711711536403056,0.02424680451808875,0.03319117947721957,0.06203126029054064,0.003917961907152826,0.048841927786220186,0.03986438956488278,-0.01078083227768642,0.1154692513771849,1.0,-0.3236164783848246,0.569225163245024,0.5734191635319585,-0.16891561339816186,-0.09293648120068054,-0.3313293555840967,0.012211267034868863,0.006129313155271006,0.010239825532935697,-0.09837451424376194],[-0.15736804126478326,-0.11238888851597584,0.10515093488718075,-0.08505014515460234,-0.09484350667635448,-0.20650624921393754,0.3380512818079374,0.00699347307070007,0.5965100579652489,-0.18191622371301963,0.10130085095027523,0.16597762462841853,0.041665766927968785,-0.07923800489455524,-0.0005483674550549287,-0.06711877543137627,-0.20042892289526468,0.30027426264963136,0.3624636745753695,0.07240258452951148,-0.10321796466794594,0.055316923893275076,0.13149642616940355,-0.06800110943217466,-0.10601153401751633,0.10605672963394124,-0.1688907969526066,0.21348667427595855,0.06271156378071305,-0.09197418443868281,0.2653121871460567,-0.021874803863585247,0.1930668204675266,-0.14080494277523045,0.2079557635401331,-0.2641986657805546,-0.166225751943067,0.05251162428118062,0.04334056876120803,-0.017045148078345927,0.02527847200791066,-0.07284512457444557,-0.09821248704591407,0.012080433501780147,-0.10129039212972629,-0.04056741944623518,-0.1542536340442081,0.008034402000614926,0.06764706134002066,-0.059928206251950146,-0.3236164783848246,1.0,-0.20061425074380554,-0.21788949089260723,0.7009029452292369,0.561005032265964,0.25313211477339026,0.06328806721491002,0.7222588399992991,0.043372800368810104,0.06087273568938217],[0.957205494639111,0.9633678946733889,0.07823702474067984,0.14667811813420656,0.12814992631678573,0.8500104514587664,-0.36252436275798405,-0.14350711708392394,-0.11460741248978831,0.9978674598481042,-0.17237804763746833,-0.004743409179596177,-0.07351775401982572,-0.04594127930349682,0.04110213534836501,-0.038863740951315125,0.9999015335774055,-0.1112068628928191,-0.5522078387192257,-0.21619625861216712,-0.03567585026844199,-0.07400637774182028,-0.24231670887521337,0.1406705725820513,0.05028261234414445,0.07906611436381929,0.9401246196046118,-0.10029110097007049,-0.09959537108914528,0.0364695348650017,-0.3943164856759542,0.06500946428484755,-0.07366925887740204,0.011361677741639112,-0.2981255591370545,0.08628615407737197,0.03431941558169907,0.027829641574474463,-0.019845346894677294,0.05595778067214297,0.03911476927201564,-0.015467404520294142,-0.006669539709606533,0.02321670186058553,0.013593109665174434,-0.13508533474402984,0.026353358135826076,-0.0034647754213436147,0.039050525874385886,0.09960155582088163,0.569225163245024,-0.20061425074380554,1.0,0.9998358320762246,-0.11352559295285,-0.07170900313632325,-0.21969570911102648,0.005146647622314995,0.054527891542464145,0.011490374863884855,-0.014327624507744654],[0.9562664872969581,0.9615965706535958,0.07565251543218862,0.1483516137671658,0.1300543764255841,0.8498986164292032,-0.367212985851893,-0.1437447172658102,-0.12460275846637978,0.9973113477510094,-0.17296832447341193,-0.007052417277746295,-0.07408637543207575,-0.04488709827145481,0.04115605257520751,-0.03758888574042669,0.9996949279318267,-0.11641718539286348,-0.5570379486820745,-0.2160433946308052,-0.03382826074002479,-0.0742449130902087,-0.24409155675673702,0.1416905739305098,0.05243721514842315,0.07645790047259139,0.9396917175445284,-0.1036464882392919,-0.10012866908644134,0.03767473217742742,-0.3978057581120549,0.06410118452219629,-0.07598388983809275,0.013472598118072552,-0.3004484109354482,0.09009848247556278,0.036870681094548476,0.02665733504541596,-0.020705285274795024,0.05619444218570517,0.03891884857013092,-0.014650894572996767,-0.004725919487008988,0.023365812798271077,0.015259717761332834,-0.13364461354620616,0.028660571286216265,-0.0032671666334784613,0.03781820079182285,0.10014170266560858,0.5734191635319585,-0.21788949089260723,0.9998358320762246,1.0,-0.12515025096289617,-0.0807906196031644,-0.22650965815373136,0.0037400643316690264,0.04333196053108435,0.0105245032765536,-0.01503169746394544],[-0.06635610062712799,-0.06326210090147524,0.14303807405479932,0.03539721485653039,0.0010249161813939282,-0.19006477517599146,0.22574131971929756,-0.02586782338909791,0.91061484724964,-0.1025800238236937,0.16416751150738665,0.13615842871849798,0.0659637905759782,-0.13743598105327795,0.03170893168570355,-0.11844579569541132,-0.11528863242638392,0.17996256675255196,0.2713915297558781,0.16593669137228476,-0.10001911144902303,0.08970681390350793,0.05700680022420086,-0.04031749999778281,-0.10253181423202315,0.14444822838306753,-0.07422934057682481,0.277443878640123,0.06299087972934202,-0.09870282220450721,0.2390405212739052,0.03899834841919987,0.02369373138085742,-0.15037882353770735,0.1813418766222795,-0.17838562993021054,-0.09649937410649187,0.05104486143966208,0.04448143474427424,-0.07237497132838652,-0.03283795668153188,-0.09107605290020993,-0.0401016252647972,-0.05542586071535014,-0.04924387331949979,0.03573218212667239,-0.14933222200246635,0.07982702337051119,0.06416461873659586,-0.04312609709131197,-0.16891561339816186,0.7009029452292369,-0.11352559295285,-0.12515025096289617,1.0,0.9766581465931957,0.021267178082369914,0.049197184722474745,0.6113704739309707,0.05634800369925511,0.08717443439225737],[-0.028925780472097873,-0.040678500878639424,0.1401736940548071,0.07723991849150548,0.03908671673512822,-0.17433746219617946,0.1795656554598509,-0.05095349787739609,0.9215330260319827,-0.06464590216943193,0.17940993989897983,0.11521301804906833,0.06934869860685966,-0.1420202624936024,0.034367238872809354,-0.1118901626895334,-0.0741056779709276,0.12880735840224267,0.2162608761649259,0.1860211920802295,-0.08915933434742182,0.10308257333492095,0.01797224976228806,-0.015816844665281972,-0.09197643004672487,0.1415899147411014,-0.029349495846933728,0.2707703357748097,0.05680856140012634,-0.10648122349771373,0.22088554520440853,0.06335856961352149,-0.022268043174638815,-0.14859596832011074,0.17223236438221406,-0.1416618853913325,-0.06950984752411209,0.06413769330372002,0.05457947332926045,-0.07175337987617088,-0.04155046732309191,-0.08876397645903597,-0.020883360385391073,-0.06720968155219272,-0.02847761961555367,0.07931809206499604,-0.13741512678801096,0.08923965103633237,0.07044800327150025,-0.02414312924372613,-0.09293648120068054,0.561005032265964,-0.07170900313632325,-0.0807906196031644,0.9766581465931957,1.0,-0.05636216744303106,0.04986172039429366,0.5504660410894358,0.061109949431866865,0.09553670546174362],[-0.17453057001268174,-0.13915245193974823,0.06404263009173766,-0.18003777106230545,-0.19977980131574766,-0.029662621951584554,0.10291950615322774,0.21315014330160137,0.028397734730600283,-0.19521601397917182,-0.04675211368821193,-0.14141823270106701,0.04417789179337282,0.11522377582111146,-0.007958354200564654,-0.018301405455864818,-0.20896960160559594,0.02767267274359255,0.34396463877858713,-0.030462861364219662,0.07098447171963931,-0.10454181197359265,0.15863723200820637,-0.10030289816259222,-0.09083102955761524,0.06702772657223592,-0.2115615272328892,0.014105393890190814,0.015354159980467316,-0.007111066664858215,0.22799797291182688,0.06683083370541398,-0.013105778929922042,0.08773293952361226,0.03868055268126899,0.19225755941776396,0.1257951744749313,0.0228341183144122,0.06031073539036329,-0.05889973749165057,-0.08393420320041853,0.11762604840631899,-0.050345673065247065,-0.11014593876867752,0.054774464992237155,-0.03349114061015415,0.0550710522663623,-0.06319317768697966,-0.0671000788853996,-0.03687917821813441,-0.3313293555840967,0.25313211477339026,-0.21969570911102648,-0.22650965815373136,0.021267178082369914,-0.05636216744303106,1.0,0.033738820536851365,-0.3557156451611558,0.0033881199978171906,-0.06810722623118903],[0.01811857243247635,-0.0015172819247640866,0.04745990838118342,-0.01599975550755353,-0.04545669417461566,0.010054296255440354,-0.035803805002780485,0.041414468268896915,0.09639370939021893,0.003758516293301578,-0.0431956535314264,0.035962353991796814,-0.017205427171862017,-0.011988885932964556,-0.15910873393798164,0.05690729073977773,0.005008232713080925,-0.05292773410199342,-0.020415608942716948,-0.013784241891275086,0.014866356896383777,-0.09513777323859039,-0.03568291686461175,-0.0616727318752104,-0.01481609465451378,0.04752179382223744,0.001769713837922174,0.1201974312729315,0.09430010902704479,0.09632421286924836,-0.04257831931967635,0.052545017553296124,-0.05330823631378328,-8.88797438242974e-05,-0.04178286921335412,0.014633055136371642,0.054839754193537496,0.015089308158082328,-0.010231068863237752,-0.040268528251426426,-0.0764827962649414,-0.004606635048935595,-0.010184405328182988,-0.07474088563260478,0.06373861265741075,-0.004280724370886129,-0.013943078819396921,0.051032504969058486,0.032814268944929996,0.060202552434088966,0.012211267034868863,0.06328806721491002,0.005146647622314995,0.0037400643316690264,0.049197184722474745,0.04986172039429366,0.033738820536851365,1.0,0.04648191482261814,0.9135316685257774,0.259578441603076],[0.06634697910570028,0.06890266901050124,0.08798756699825963,0.07532662344669387,0.06517200512517148,-0.1269321211531566,0.2381804514652998,-0.21559522755181101,0.5257881662377967,0.052103357429206486,0.12654104208314404,0.2805715673162073,0.03441927758367984,-0.14875566021693656,0.03354430227987511,-0.10545194275476871,0.04585748583219684,0.243524039123456,0.04649831427912663,0.10487032775676756,-0.13450253236370796,0.10466434827098803,-0.050286874694515926,0.07082799806444018,-0.023410367054789202,0.08784567638031882,0.08922398806107548,0.22740454409620803,0.05544838225229957,-0.051441635969881376,0.05600700195036692,-0.05427652522489455,0.21352580488670803,-0.16005136543371667,0.15000788372529578,-0.4114242035782122,-0.23389896727015788,0.04294350223106371,-0.0005214156983757664,0.027149485457114556,0.0893171784698738,-0.13304189632198607,-0.06370095398739929,0.09374037812933439,-0.08892959729694086,0.021238674242248113,-0.15710128612452223,0.09311810679176659,0.142474650849445,-0.04478778627725176,0.006129313155271006,0.7222588399992991,0.054527891542464145,0.04333196053108435,0.6113704739309707,0.5504660410894358,-0.3557156451611558,0.04648191482261814,1.0,0.0607515083262088,0.08348335387071035],[0.027501038296365424,0.00818370154547714,0.0590809776646166,0.0026822596746205346,-0.02125791964318562,-0.024970206208796142,-0.0022267307194438818,0.0034588432152796527,0.0889310508922827,0.010816095742766417,0.006019568787603274,0.041099346161572715,-0.045606749560182784,-0.009607900041461462,-0.11153151114584932,-0.007372904934778695,0.011002716845644675,-0.06303793991983864,-0.014996294899827109,0.02182367978661004,0.05226385689733662,-0.03288677335453226,-0.020448713520666503,-0.021215226880742517,-0.009205055178868833,0.0595483181478371,0.011104552858841057,0.07393525990541065,0.10003496680890521,0.08895633003907369,-0.029852823496459374,0.042546000894933864,-0.09123692063216333,0.02549434339213425,0.016603133884817534,-0.013139262279500201,0.028767376526832908,0.013173627005888693,0.0010644160990456817,-0.05359181169067438,-0.08263658223643791,-0.005181300283969582,-0.024988861247207117,-0.08114753813973154,0.04288946431979599,-0.007376145866068222,-0.030881953975544385,0.012527733311987229,0.028057207143657326,0.05147503017833067,0.010239825532935697,0.043372800368810104,0.011490374863884855,0.0105245032765536,0.05634800369925511,0.061109949431866865,0.0033881199978171906,0.9135316685257774,0.0607515083262088,1.0,0.3877940972145932],[-0.04721484435590463,0.02705956453195094,-0.11000742788126834,0.2687171326519746,0.26687336829231806,-0.19812552855857057,0.14719890288697596,0.08862478893454188,0.07313378078109585,-0.0018904045227547148,0.43037138959124444,0.06528048881686214,-0.06771016186580195,-0.01687128112449712,-0.019181002746835575,0.10461706953985274,-0.016249706345682072,-0.006601083244895835,0.17033728116425437,0.3660609580462066,-0.10763254866431038,0.5782823544248049,0.18008825519442043,-0.1210757042054609,-0.02892140408909922,-0.1089194488607514,-0.04079173843097225,-0.021203864215686964,-0.10882166036518158,-0.1168366093961267,0.38091467265320916,0.044207383281497405,0.019114665203313452,0.05656227550593707,0.3778304760659473,-0.03860688622751886,-0.09197387137907984,0.05122494359689499,0.0324429613156658,0.04882648655823629,0.010090294998311537,-0.04445637216987104,0.04157548512308934,0.0023391478836834127,-0.10104379771175985,0.1816625212027484,-0.08256583354045983,-0.07372165540455375,0.0032777122879188918,0.07273731814051736,-0.09837451424376194,0.06087273568938217,-0.014327624507744654,-0.01503169746394544,0.08717443439225737,0.09553670546174362,-0.06810722623118903,0.259578441603076,0.08348335387071035,0.3877940972145932,1.0]],\"type\":\"heatmap\",\"xaxis\":\"x\",\"yaxis\":\"y\",\"hovertemplate\":\"x: %{x}<br>y: %{y}<br>color: %{z}<extra></extra>\"}],                        {\"template\":{\"data\":{\"bar\":[{\"error_x\":{\"color\":\"#2a3f5f\"},\"error_y\":{\"color\":\"#2a3f5f\"},\"marker\":{\"line\":{\"color\":\"#E5ECF6\",\"width\":0.5},\"pattern\":{\"fillmode\":\"overlay\",\"size\":10,\"solidity\":0.2}},\"type\":\"bar\"}],\"barpolar\":[{\"marker\":{\"line\":{\"color\":\"#E5ECF6\",\"width\":0.5},\"pattern\":{\"fillmode\":\"overlay\",\"size\":10,\"solidity\":0.2}},\"type\":\"barpolar\"}],\"carpet\":[{\"aaxis\":{\"endlinecolor\":\"#2a3f5f\",\"gridcolor\":\"white\",\"linecolor\":\"white\",\"minorgridcolor\":\"white\",\"startlinecolor\":\"#2a3f5f\"},\"baxis\":{\"endlinecolor\":\"#2a3f5f\",\"gridcolor\":\"white\",\"linecolor\":\"white\",\"minorgridcolor\":\"white\",\"startlinecolor\":\"#2a3f5f\"},\"type\":\"carpet\"}],\"choropleth\":[{\"colorbar\":{\"outlinewidth\":0,\"ticks\":\"\"},\"type\":\"choropleth\"}],\"contour\":[{\"colorbar\":{\"outlinewidth\":0,\"ticks\":\"\"},\"colorscale\":[[0.0,\"#0d0887\"],[0.1111111111111111,\"#46039f\"],[0.2222222222222222,\"#7201a8\"],[0.3333333333333333,\"#9c179e\"],[0.4444444444444444,\"#bd3786\"],[0.5555555555555556,\"#d8576b\"],[0.6666666666666666,\"#ed7953\"],[0.7777777777777778,\"#fb9f3a\"],[0.8888888888888888,\"#fdca26\"],[1.0,\"#f0f921\"]],\"type\":\"contour\"}],\"contourcarpet\":[{\"colorbar\":{\"outlinewidth\":0,\"ticks\":\"\"},\"type\":\"contourcarpet\"}],\"heatmap\":[{\"colorbar\":{\"outlinewidth\":0,\"ticks\":\"\"},\"colorscale\":[[0.0,\"#0d0887\"],[0.1111111111111111,\"#46039f\"],[0.2222222222222222,\"#7201a8\"],[0.3333333333333333,\"#9c179e\"],[0.4444444444444444,\"#bd3786\"],[0.5555555555555556,\"#d8576b\"],[0.6666666666666666,\"#ed7953\"],[0.7777777777777778,\"#fb9f3a\"],[0.8888888888888888,\"#fdca26\"],[1.0,\"#f0f921\"]],\"type\":\"heatmap\"}],\"heatmapgl\":[{\"colorbar\":{\"outlinewidth\":0,\"ticks\":\"\"},\"colorscale\":[[0.0,\"#0d0887\"],[0.1111111111111111,\"#46039f\"],[0.2222222222222222,\"#7201a8\"],[0.3333333333333333,\"#9c179e\"],[0.4444444444444444,\"#bd3786\"],[0.5555555555555556,\"#d8576b\"],[0.6666666666666666,\"#ed7953\"],[0.7777777777777778,\"#fb9f3a\"],[0.8888888888888888,\"#fdca26\"],[1.0,\"#f0f921\"]],\"type\":\"heatmapgl\"}],\"histogram\":[{\"marker\":{\"pattern\":{\"fillmode\":\"overlay\",\"size\":10,\"solidity\":0.2}},\"type\":\"histogram\"}],\"histogram2d\":[{\"colorbar\":{\"outlinewidth\":0,\"ticks\":\"\"},\"colorscale\":[[0.0,\"#0d0887\"],[0.1111111111111111,\"#46039f\"],[0.2222222222222222,\"#7201a8\"],[0.3333333333333333,\"#9c179e\"],[0.4444444444444444,\"#bd3786\"],[0.5555555555555556,\"#d8576b\"],[0.6666666666666666,\"#ed7953\"],[0.7777777777777778,\"#fb9f3a\"],[0.8888888888888888,\"#fdca26\"],[1.0,\"#f0f921\"]],\"type\":\"histogram2d\"}],\"histogram2dcontour\":[{\"colorbar\":{\"outlinewidth\":0,\"ticks\":\"\"},\"colorscale\":[[0.0,\"#0d0887\"],[0.1111111111111111,\"#46039f\"],[0.2222222222222222,\"#7201a8\"],[0.3333333333333333,\"#9c179e\"],[0.4444444444444444,\"#bd3786\"],[0.5555555555555556,\"#d8576b\"],[0.6666666666666666,\"#ed7953\"],[0.7777777777777778,\"#fb9f3a\"],[0.8888888888888888,\"#fdca26\"],[1.0,\"#f0f921\"]],\"type\":\"histogram2dcontour\"}],\"mesh3d\":[{\"colorbar\":{\"outlinewidth\":0,\"ticks\":\"\"},\"type\":\"mesh3d\"}],\"parcoords\":[{\"line\":{\"colorbar\":{\"outlinewidth\":0,\"ticks\":\"\"}},\"type\":\"parcoords\"}],\"pie\":[{\"automargin\":true,\"type\":\"pie\"}],\"scatter\":[{\"marker\":{\"colorbar\":{\"outlinewidth\":0,\"ticks\":\"\"}},\"type\":\"scatter\"}],\"scatter3d\":[{\"line\":{\"colorbar\":{\"outlinewidth\":0,\"ticks\":\"\"}},\"marker\":{\"colorbar\":{\"outlinewidth\":0,\"ticks\":\"\"}},\"type\":\"scatter3d\"}],\"scattercarpet\":[{\"marker\":{\"colorbar\":{\"outlinewidth\":0,\"ticks\":\"\"}},\"type\":\"scattercarpet\"}],\"scattergeo\":[{\"marker\":{\"colorbar\":{\"outlinewidth\":0,\"ticks\":\"\"}},\"type\":\"scattergeo\"}],\"scattergl\":[{\"marker\":{\"colorbar\":{\"outlinewidth\":0,\"ticks\":\"\"}},\"type\":\"scattergl\"}],\"scattermapbox\":[{\"marker\":{\"colorbar\":{\"outlinewidth\":0,\"ticks\":\"\"}},\"type\":\"scattermapbox\"}],\"scatterpolar\":[{\"marker\":{\"colorbar\":{\"outlinewidth\":0,\"ticks\":\"\"}},\"type\":\"scatterpolar\"}],\"scatterpolargl\":[{\"marker\":{\"colorbar\":{\"outlinewidth\":0,\"ticks\":\"\"}},\"type\":\"scatterpolargl\"}],\"scatterternary\":[{\"marker\":{\"colorbar\":{\"outlinewidth\":0,\"ticks\":\"\"}},\"type\":\"scatterternary\"}],\"surface\":[{\"colorbar\":{\"outlinewidth\":0,\"ticks\":\"\"},\"colorscale\":[[0.0,\"#0d0887\"],[0.1111111111111111,\"#46039f\"],[0.2222222222222222,\"#7201a8\"],[0.3333333333333333,\"#9c179e\"],[0.4444444444444444,\"#bd3786\"],[0.5555555555555556,\"#d8576b\"],[0.6666666666666666,\"#ed7953\"],[0.7777777777777778,\"#fb9f3a\"],[0.8888888888888888,\"#fdca26\"],[1.0,\"#f0f921\"]],\"type\":\"surface\"}],\"table\":[{\"cells\":{\"fill\":{\"color\":\"#EBF0F8\"},\"line\":{\"color\":\"white\"}},\"header\":{\"fill\":{\"color\":\"#C8D4E3\"},\"line\":{\"color\":\"white\"}},\"type\":\"table\"}]},\"layout\":{\"annotationdefaults\":{\"arrowcolor\":\"#2a3f5f\",\"arrowhead\":0,\"arrowwidth\":1},\"autotypenumbers\":\"strict\",\"coloraxis\":{\"colorbar\":{\"outlinewidth\":0,\"ticks\":\"\"}},\"colorscale\":{\"diverging\":[[0,\"#8e0152\"],[0.1,\"#c51b7d\"],[0.2,\"#de77ae\"],[0.3,\"#f1b6da\"],[0.4,\"#fde0ef\"],[0.5,\"#f7f7f7\"],[0.6,\"#e6f5d0\"],[0.7,\"#b8e186\"],[0.8,\"#7fbc41\"],[0.9,\"#4d9221\"],[1,\"#276419\"]],\"sequential\":[[0.0,\"#0d0887\"],[0.1111111111111111,\"#46039f\"],[0.2222222222222222,\"#7201a8\"],[0.3333333333333333,\"#9c179e\"],[0.4444444444444444,\"#bd3786\"],[0.5555555555555556,\"#d8576b\"],[0.6666666666666666,\"#ed7953\"],[0.7777777777777778,\"#fb9f3a\"],[0.8888888888888888,\"#fdca26\"],[1.0,\"#f0f921\"]],\"sequentialminus\":[[0.0,\"#0d0887\"],[0.1111111111111111,\"#46039f\"],[0.2222222222222222,\"#7201a8\"],[0.3333333333333333,\"#9c179e\"],[0.4444444444444444,\"#bd3786\"],[0.5555555555555556,\"#d8576b\"],[0.6666666666666666,\"#ed7953\"],[0.7777777777777778,\"#fb9f3a\"],[0.8888888888888888,\"#fdca26\"],[1.0,\"#f0f921\"]]},\"colorway\":[\"#636efa\",\"#EF553B\",\"#00cc96\",\"#ab63fa\",\"#FFA15A\",\"#19d3f3\",\"#FF6692\",\"#B6E880\",\"#FF97FF\",\"#FECB52\"],\"font\":{\"color\":\"#2a3f5f\"},\"geo\":{\"bgcolor\":\"white\",\"lakecolor\":\"white\",\"landcolor\":\"#E5ECF6\",\"showlakes\":true,\"showland\":true,\"subunitcolor\":\"white\"},\"hoverlabel\":{\"align\":\"left\"},\"hovermode\":\"closest\",\"mapbox\":{\"style\":\"light\"},\"paper_bgcolor\":\"white\",\"plot_bgcolor\":\"#E5ECF6\",\"polar\":{\"angularaxis\":{\"gridcolor\":\"white\",\"linecolor\":\"white\",\"ticks\":\"\"},\"bgcolor\":\"#E5ECF6\",\"radialaxis\":{\"gridcolor\":\"white\",\"linecolor\":\"white\",\"ticks\":\"\"}},\"scene\":{\"xaxis\":{\"backgroundcolor\":\"#E5ECF6\",\"gridcolor\":\"white\",\"gridwidth\":2,\"linecolor\":\"white\",\"showbackground\":true,\"ticks\":\"\",\"zerolinecolor\":\"white\"},\"yaxis\":{\"backgroundcolor\":\"#E5ECF6\",\"gridcolor\":\"white\",\"gridwidth\":2,\"linecolor\":\"white\",\"showbackground\":true,\"ticks\":\"\",\"zerolinecolor\":\"white\"},\"zaxis\":{\"backgroundcolor\":\"#E5ECF6\",\"gridcolor\":\"white\",\"gridwidth\":2,\"linecolor\":\"white\",\"showbackground\":true,\"ticks\":\"\",\"zerolinecolor\":\"white\"}},\"shapedefaults\":{\"line\":{\"color\":\"#2a3f5f\"}},\"ternary\":{\"aaxis\":{\"gridcolor\":\"white\",\"linecolor\":\"white\",\"ticks\":\"\"},\"baxis\":{\"gridcolor\":\"white\",\"linecolor\":\"white\",\"ticks\":\"\"},\"bgcolor\":\"#E5ECF6\",\"caxis\":{\"gridcolor\":\"white\",\"linecolor\":\"white\",\"ticks\":\"\"}},\"title\":{\"x\":0.05},\"xaxis\":{\"automargin\":true,\"gridcolor\":\"white\",\"linecolor\":\"white\",\"ticks\":\"\",\"title\":{\"standoff\":15},\"zerolinecolor\":\"white\",\"zerolinewidth\":2},\"yaxis\":{\"automargin\":true,\"gridcolor\":\"white\",\"linecolor\":\"white\",\"ticks\":\"\",\"title\":{\"standoff\":15},\"zerolinecolor\":\"white\",\"zerolinewidth\":2}}},\"xaxis\":{\"anchor\":\"y\",\"domain\":[0.0,1.0],\"scaleanchor\":\"y\",\"constrain\":\"domain\",\"side\":\"top\"},\"yaxis\":{\"anchor\":\"x\",\"domain\":[0.0,1.0],\"autorange\":\"reversed\",\"constrain\":\"domain\"},\"coloraxis\":{\"colorscale\":[[0.0,\"#0d0887\"],[0.1111111111111111,\"#46039f\"],[0.2222222222222222,\"#7201a8\"],[0.3333333333333333,\"#9c179e\"],[0.4444444444444444,\"#bd3786\"],[0.5555555555555556,\"#d8576b\"],[0.6666666666666666,\"#ed7953\"],[0.7777777777777778,\"#fb9f3a\"],[0.8888888888888888,\"#fdca26\"],[1.0,\"#f0f921\"]]},\"margin\":{\"t\":60},\"height\":800,\"width\":800},                        {\"responsive\": true}                    ).then(function(){\n",
              "                            \n",
              "var gd = document.getElementById('36809a69-19ee-4a85-9dd8-6d9488391440');\n",
              "var x = new MutationObserver(function (mutations, observer) {{\n",
              "        var display = window.getComputedStyle(gd).display;\n",
              "        if (!display || display === 'none') {{\n",
              "            console.log([gd, 'removed!']);\n",
              "            Plotly.purge(gd);\n",
              "            observer.disconnect();\n",
              "        }}\n",
              "}});\n",
              "\n",
              "// Listen for the removal of the full notebook cells\n",
              "var notebookContainer = gd.closest('#notebook-container');\n",
              "if (notebookContainer) {{\n",
              "    x.observe(notebookContainer, {childList: true});\n",
              "}}\n",
              "\n",
              "// Listen for the clearing of the current output cell\n",
              "var outputEl = gd.closest('.output');\n",
              "if (outputEl) {{\n",
              "    x.observe(outputEl, {childList: true});\n",
              "}}\n",
              "\n",
              "                        })                };                            </script>        </div>\n",
              "</body>\n",
              "</html>"
            ]
          },
          "metadata": {}
        }
      ],
      "source": [
        "corr = x.corr()\n",
        "fig = px.imshow(corr,\n",
        "                x= x.columns,\n",
        "                y=x.columns\n",
        "               )\n",
        "fig.update_xaxes(side=\"top\")\n",
        "fig.layout.height = 800\n",
        "fig.layout.width = 800\n",
        "fig.show()"
      ]
    },
    {
      "cell_type": "markdown",
      "metadata": {
        "id": "IQ2KqQxT1Twe"
      },
      "source": [
        "## Cluster the data"
      ]
    },
    {
      "cell_type": "code",
      "execution_count": null,
      "metadata": {
        "id": "WGKkKgOAACCA"
      },
      "outputs": [],
      "source": [
        "from sklearn.decomposition import PCA\n",
        "from sklearn.preprocessing import StandardScaler\n",
        "\n",
        "from sklearn.cluster import KMeans\n",
        "from sklearn.cluster import DBSCAN\n",
        "from yellowbrick.cluster import KElbowVisualizer\n",
        "from yellowbrick.cluster import SilhouetteVisualizer\n",
        "\n",
        "# import plotly.graph_objects as go\n"
      ]
    },
    {
      "cell_type": "markdown",
      "metadata": {
        "id": "vBilm0LRPPmE"
      },
      "source": [
        "### ACP"
      ]
    },
    {
      "cell_type": "code",
      "execution_count": null,
      "metadata": {
        "colab": {
          "base_uri": "https://localhost:8080/",
          "height": 542
        },
        "id": "KdKQnaUnA9d6",
        "outputId": "5cfc6cd8-32da-4cef-c2bf-86ed08fdd8d9"
      },
      "outputs": [
        {
          "data": {
            "text/html": [
              "<html>\n",
              "<head><meta charset=\"utf-8\" /></head>\n",
              "<body>\n",
              "    <div>            <script src=\"https://cdnjs.cloudflare.com/ajax/libs/mathjax/2.7.5/MathJax.js?config=TeX-AMS-MML_SVG\"></script><script type=\"text/javascript\">if (window.MathJax) {MathJax.Hub.Config({SVG: {font: \"STIX-Web\"}});}</script>                <script type=\"text/javascript\">window.PlotlyConfig = {MathJaxConfig: 'local'};</script>\n",
              "        <script src=\"https://cdn.plot.ly/plotly-2.8.3.min.js\"></script>                <div id=\"05d9d03a-dcee-4665-8de3-1a873ae2b56d\" class=\"plotly-graph-div\" style=\"height:525px; width:100%;\"></div>            <script type=\"text/javascript\">                                    window.PLOTLYENV=window.PLOTLYENV || {};                                    if (document.getElementById(\"05d9d03a-dcee-4665-8de3-1a873ae2b56d\")) {                    Plotly.newPlot(                        \"05d9d03a-dcee-4665-8de3-1a873ae2b56d\",                        [{\"hovertemplate\":\"x=%{x}<br>y=%{y}<extra></extra>\",\"legendgroup\":\"\",\"marker\":{\"color\":\"#636efa\",\"symbol\":\"circle\"},\"mode\":\"markers\",\"name\":\"\",\"orientation\":\"v\",\"showlegend\":false,\"x\":[-2.377886935742807,-1.9889304854153322,-1.4669971185796054,0.6466442856436067,-1.9580643776917408,-2.241296265985523,0.6631437444145072,-1.4837645435845435,-1.4741653875130438,-1.7198006972385789,-2.659372416199547,3.352147384035584,0.9718356854982926,-2.2776082318569015,-2.5643858854258252,1.2612093961552306,-2.7365009043204287,-1.352485874677043,3.0512924496385736,1.3769286659371114,-1.9684301609658406,-2.022547824592837,1.8753896298092445,-0.5875455879030741,0.24118306161039646,-0.019094172829853068,-0.3123727381109412,-1.9379965200251892,-0.1635003204054037,1.7728351639460003,1.7023521810589657,-2.7394744754833824,-1.1221895143019889,-0.2980954172592645,0.06503536553606945,-1.9569551895016568,-1.5210034493819076,-1.0582782872843295,-2.3927125870042754,-0.29565405131890415,-0.4951923805586627,-2.702072848884881,-2.1800672791861846,-6.428336825400767,-1.1809312971892811,1.4225740560621603,-0.37550465862083254,0.2623920871110189,-3.066151088288789,-1.1174151625507525,0.39975841560751524,0.5971113588259002,-0.19367123021622168,-2.378568226875186,-2.9550969793820547,-1.2224901221118287,-1.147760594082484,-3.900057947575712,-4.637514694496341,-1.0842682638289427,0.09184347790818886,-1.4704144978672549,-0.9060001442032417,-2.751380710923521,1.1281568525890917,-1.796576538569623,2.9637005559571725,1.3691203743640308,-0.10160598800477,1.0373583742535348,-1.6353847585970775,-0.873883610414307,2.832315659251711,1.4590213925517481,-2.689568454906173,0.5562008865348652,-0.858213143691013,-2.054500681419959,0.042111080147015985,1.657346961859986,-3.541419273362024,-2.2317082465167926,0.48437103754082483,0.7045593931272793,2.0857349184452576,1.6160209471329003,-0.1331426820359981,8.349744427707215,-3.0520122321357808,-2.8128782137014694,0.7462125988256189,-1.2195237290225724,0.10230873706904038,-0.7990109676592927,-2.120000568186325,-1.383237866751421,-3.652336890449534,0.17809278857958216,-3.027197259265913,-1.161189575342509,36.02523470721867,0.5059392070112552,0.09227298511959867,-2.483850623419907,-0.8900795666571635,-0.39371853069747575,1.8104376727057994,-1.5715168981258565,0.8982426303630853,-0.5894838087638884,0.9166231591732714,1.6450017952510236,-2.6084435096943244,1.245581994392103,-1.572118636625345,0.23097018782384113,-1.0295795677744422,-1.404041650734327,-3.6033529185894557,-1.4320369924760872,2.6496401924197444,-3.8226999017838885,-2.407615899823018,0.2556629025220477,-0.7561173945336092,-1.288967357003857,-3.1592696349289486,1.2364705314842719,-0.5290797740309194,-1.6411082092019509,1.3416592959483236,2.0008510843191862,-0.5683933974972494,-0.2719233739994636,0.06344444444533859,0.6686104145630597,-5.6960119986047335,2.0107454976250545,0.6379138430068513,1.6450499869207016,3.3254172294803217,-0.1907741446881391,2.853385491842031,2.50046053533264,10.119299399456741,4.952111326785238,2.5274629723852002,8.408671019141151,0.46660960200441276,2.361494004171769,1.7236733854525925,2.2016518778991987,-0.03246445525425334,1.092544158474293,-2.628029572083067,-0.7752800221859368,0.08598930644198419,-2.251685875649964,-1.7258246704726936,2.655532489054636,2.1354560917956342,-0.4739254664588017,0.617055828380626,-1.5402655165593813,-1.7514865727304116,2.2698700637882916,1.6144304124770783,1.567882520698853,0.10267611991298167,-0.14192022710442098,1.0223783969503972,-1.7684589684138468,-3.2589970936327313,2.508075620301519,-0.35546632102213555,0.36930100779194036,-1.2631329639481201,-0.8579835399010987,-0.8925592176843197,0.6151276916935342,1.1686724379376472,1.5170641562728937,-2.0859543426624136,2.220548736071884,-2.599792911959092,-0.23863298318723813,4.353773204196045,4.152104347398832,0.1978130549503998,2.4252751770225953,0.9574432585761995,-0.8962580264473001,0.9858495281314019,-1.2238599784162745,-0.6001166455651881,-1.1296012372044912,0.6054474466834476,0.04703689599796145,2.263368190200449,2.604158144320134,-2.6406284523334245,2.2187431854874053,2.5853734537568682,1.518448049156422,-0.6968764874623711,0.4667109024627225,-0.8379276372418033,-1.046205394460207,0.2223197749492022,-0.6672989267562315,0.9614511070851848,0.07003015059069202,-0.32475521918769057,-1.0214602281096195,-0.6591774467740699,1.7277152439656474,0.8265396667773581,-0.5503276518854922,1.7249128593941823,6.380869408877135,-3.857615635981012,0.8760956052247992,0.4227291469432818,3.057622409021559,-0.009817040163406017,-1.4710575116891063,3.826843509930937,-1.7609787819985974,0.6757712595183343,0.7824007057083394,-0.8555834525192255,-1.934878856302333,-0.750810928108389,0.46669613519558006,-0.8905856404671717,-0.23846920057703022,1.945501109622974,0.24691986257907378,-0.7583477279984209,-1.5374134937302448,-0.15530089487919563,-2.5352871093655485,-0.7293258321280887,-2.5625546113463726,-0.617250990231592],\"xaxis\":\"x\",\"y\":[1.1635275970037895,-3.3246448465389133,-1.0057687186274178,-1.4024240684991993,0.3477261105114674,-3.0661550166299123,-0.3806521749865111,0.8783882861024498,-0.8364007842176762,-3.469329773724232,-4.042840515836938,-4.714726470469528,-1.353356282452634,-0.501603658447973,1.5312813931503755,-0.3199933026942703,3.9727114219919644,3.787411916637415,-7.935458118427082,2.620312718914941,-0.021811698871292768,2.1421550857713703,0.5693809728845824,1.0187448910234596,-0.07339340464322806,3.0032061364884344,-0.6332147474676786,-0.4810344742203229,-1.9801045557563581,-1.9305747452057997,0.3722011904957542,2.4740755643606196,-0.6261982997240138,-0.3232605864831933,2.267770302201763,-0.9505836886099754,-1.574514481827736,-2.3804317361090512,-1.3230702596598274,2.485143185662311,4.221054795734283,-1.6987246794792212,0.41711747310754116,1.4409628715547715,-4.444075852048209,-1.9234026167735865,-0.26049494542683266,-1.98519659077787,-1.109106751968817,-0.8879647932005986,3.2079146849327946,0.7848294964357633,2.1226961409191545,-0.7213540330057086,-2.344125515696011,-2.111204520042666,-3.591719651597679,1.6859198228289975,-3.7418829748732514,0.181911515957123,-1.5337880597123703,-3.0550151582166882,1.3130573497025302,-1.9111055228597011,2.5260109456607163,-0.06258240474322026,-2.2011258762488493,1.5007743015280084,2.2298627463573037,-0.17496651101951774,1.4678530599085917,-0.21097349002418433,-3.8039582060056802,4.503254822564072,-0.11547136298127988,-0.1527070324687047,2.113792389938249,6.379023649454639,2.232460695922559,-0.9258120010516308,1.370250678364311,0.7527616614491941,2.9390487149855318,0.19943845354516157,1.794462349986053,3.6488978434650683,0.42170302959129946,6.345680799941388,-1.5268589695355617,-1.128688997525766,-0.7348697149746115,-3.7070496267947775,-1.1558784460451668,1.3456295795719526,-0.41533596887451085,0.5866515440821555,-1.5584701423218479,0.6852747705952817,5.468263707999636,6.839057687345455,-3.5305532754734443,2.0751768675230178,-4.082493661156032,-0.3329422625332225,-3.9453715594882017,-4.503135674924691,0.5224612035844199,1.2527603611378664,2.543365736496336,0.5812283786647087,-0.23483716854786063,-3.0388469204050086,-0.839557630477393,-0.9145461470252425,-2.580107372328583,-1.4258203699870988,2.6869206308548423,-0.21023999469807905,5.232888868037115,-0.24008038405198942,-0.895921308323271,2.2195406107852342,5.157351098881799,-0.7105681742596469,0.6485053067875868,-1.4921559867086587,2.607818450057726,0.35527052235756623,-2.461464174221729,0.5466269630797469,3.361593540209678,-1.2576198312810312,1.0463926175119858,-3.0540507809980375,-1.2315111627609254,2.735176242449906,-3.5891922761314,-6.786225871017942,2.2401822816958354,0.8287885372437702,0.888867658335952,1.2252114611947118,-1.3588129293974396,1.7736964952871985,7.5503426010430195,5.480054706833814,6.25556645019289,5.179338899408755,-6.029232676006895,-1.0865680873093164,1.9379806532818882,1.2366319965694543,1.168212419678891,-0.7878568934331172,0.0026241965573754735,-0.5939481764880309,2.27822657798601,-1.6567857376281312,-5.275879927896797,-0.12164776675552616,4.155426538049465,-5.512156924778136,-1.7057138341898108,3.5943810097010465,0.6745340007512647,1.3837550319549072,-0.7808651063225278,-0.843697911692156,9.489683665954233,-6.197409883677006,1.957788725662073,2.3778323896350315,3.025178097186071,-1.654832040615743,2.7171072869252106,-1.9516874186115334,-4.652878562289605,-0.20337876557231652,-0.15058561270982518,1.7207099954631122,0.6793780188363336,-2.2369830840897253,2.11154570776478,1.8991985569083634,1.7688620429691444,-3.99351361858312,-1.3945486558041358,1.2820557008588713,0.17823401841175918,2.95596663608572,-3.154316629641753,0.33522484408225867,1.6342497994699012,1.1738728243213004,-1.4286229037976645,0.771100570011713,4.014966781076932,0.4191387248313149,1.5294760996425443,-1.2090957796356963,-0.12301667190394651,-3.4361146152684987,-7.822983603516437,-3.8182161975625086,-1.8496282349046187,2.762233195013418,-3.6918801613967425,-2.133527230040106,-1.3043778916742397,0.6303162895112875,-0.9673351477300934,3.4438426240632856,-1.4787722383760253,0.48837188618486477,-0.24964634752905485,1.9275480531473224,-3.526947460178408,0.9651697878774893,5.826218647571592,-4.145057083315818,2.024111894835879,1.3332290690539952,0.6405616293689823,-0.6094940395804915,7.239123380211607,3.66083772609013,-0.16625821521183115,-1.7540190983721626,0.4495944509544043,-2.192787716122925,-2.9384178865003205,-4.896642972934715,1.2376457334888769,-3.7228566178141858,-2.0416602315642236,-2.5409125946559503,-0.8204349398823252,-1.7149315739695121,1.0307076417760364,0.4497313657550577,-2.1343235520430137,1.7822028302698052,0.635816893538767,-2.242729627298484,-1.848697166128094],\"yaxis\":\"y\",\"type\":\"scatter\"}],                        {\"template\":{\"data\":{\"bar\":[{\"error_x\":{\"color\":\"#2a3f5f\"},\"error_y\":{\"color\":\"#2a3f5f\"},\"marker\":{\"line\":{\"color\":\"#E5ECF6\",\"width\":0.5},\"pattern\":{\"fillmode\":\"overlay\",\"size\":10,\"solidity\":0.2}},\"type\":\"bar\"}],\"barpolar\":[{\"marker\":{\"line\":{\"color\":\"#E5ECF6\",\"width\":0.5},\"pattern\":{\"fillmode\":\"overlay\",\"size\":10,\"solidity\":0.2}},\"type\":\"barpolar\"}],\"carpet\":[{\"aaxis\":{\"endlinecolor\":\"#2a3f5f\",\"gridcolor\":\"white\",\"linecolor\":\"white\",\"minorgridcolor\":\"white\",\"startlinecolor\":\"#2a3f5f\"},\"baxis\":{\"endlinecolor\":\"#2a3f5f\",\"gridcolor\":\"white\",\"linecolor\":\"white\",\"minorgridcolor\":\"white\",\"startlinecolor\":\"#2a3f5f\"},\"type\":\"carpet\"}],\"choropleth\":[{\"colorbar\":{\"outlinewidth\":0,\"ticks\":\"\"},\"type\":\"choropleth\"}],\"contour\":[{\"colorbar\":{\"outlinewidth\":0,\"ticks\":\"\"},\"colorscale\":[[0.0,\"#0d0887\"],[0.1111111111111111,\"#46039f\"],[0.2222222222222222,\"#7201a8\"],[0.3333333333333333,\"#9c179e\"],[0.4444444444444444,\"#bd3786\"],[0.5555555555555556,\"#d8576b\"],[0.6666666666666666,\"#ed7953\"],[0.7777777777777778,\"#fb9f3a\"],[0.8888888888888888,\"#fdca26\"],[1.0,\"#f0f921\"]],\"type\":\"contour\"}],\"contourcarpet\":[{\"colorbar\":{\"outlinewidth\":0,\"ticks\":\"\"},\"type\":\"contourcarpet\"}],\"heatmap\":[{\"colorbar\":{\"outlinewidth\":0,\"ticks\":\"\"},\"colorscale\":[[0.0,\"#0d0887\"],[0.1111111111111111,\"#46039f\"],[0.2222222222222222,\"#7201a8\"],[0.3333333333333333,\"#9c179e\"],[0.4444444444444444,\"#bd3786\"],[0.5555555555555556,\"#d8576b\"],[0.6666666666666666,\"#ed7953\"],[0.7777777777777778,\"#fb9f3a\"],[0.8888888888888888,\"#fdca26\"],[1.0,\"#f0f921\"]],\"type\":\"heatmap\"}],\"heatmapgl\":[{\"colorbar\":{\"outlinewidth\":0,\"ticks\":\"\"},\"colorscale\":[[0.0,\"#0d0887\"],[0.1111111111111111,\"#46039f\"],[0.2222222222222222,\"#7201a8\"],[0.3333333333333333,\"#9c179e\"],[0.4444444444444444,\"#bd3786\"],[0.5555555555555556,\"#d8576b\"],[0.6666666666666666,\"#ed7953\"],[0.7777777777777778,\"#fb9f3a\"],[0.8888888888888888,\"#fdca26\"],[1.0,\"#f0f921\"]],\"type\":\"heatmapgl\"}],\"histogram\":[{\"marker\":{\"pattern\":{\"fillmode\":\"overlay\",\"size\":10,\"solidity\":0.2}},\"type\":\"histogram\"}],\"histogram2d\":[{\"colorbar\":{\"outlinewidth\":0,\"ticks\":\"\"},\"colorscale\":[[0.0,\"#0d0887\"],[0.1111111111111111,\"#46039f\"],[0.2222222222222222,\"#7201a8\"],[0.3333333333333333,\"#9c179e\"],[0.4444444444444444,\"#bd3786\"],[0.5555555555555556,\"#d8576b\"],[0.6666666666666666,\"#ed7953\"],[0.7777777777777778,\"#fb9f3a\"],[0.8888888888888888,\"#fdca26\"],[1.0,\"#f0f921\"]],\"type\":\"histogram2d\"}],\"histogram2dcontour\":[{\"colorbar\":{\"outlinewidth\":0,\"ticks\":\"\"},\"colorscale\":[[0.0,\"#0d0887\"],[0.1111111111111111,\"#46039f\"],[0.2222222222222222,\"#7201a8\"],[0.3333333333333333,\"#9c179e\"],[0.4444444444444444,\"#bd3786\"],[0.5555555555555556,\"#d8576b\"],[0.6666666666666666,\"#ed7953\"],[0.7777777777777778,\"#fb9f3a\"],[0.8888888888888888,\"#fdca26\"],[1.0,\"#f0f921\"]],\"type\":\"histogram2dcontour\"}],\"mesh3d\":[{\"colorbar\":{\"outlinewidth\":0,\"ticks\":\"\"},\"type\":\"mesh3d\"}],\"parcoords\":[{\"line\":{\"colorbar\":{\"outlinewidth\":0,\"ticks\":\"\"}},\"type\":\"parcoords\"}],\"pie\":[{\"automargin\":true,\"type\":\"pie\"}],\"scatter\":[{\"marker\":{\"colorbar\":{\"outlinewidth\":0,\"ticks\":\"\"}},\"type\":\"scatter\"}],\"scatter3d\":[{\"line\":{\"colorbar\":{\"outlinewidth\":0,\"ticks\":\"\"}},\"marker\":{\"colorbar\":{\"outlinewidth\":0,\"ticks\":\"\"}},\"type\":\"scatter3d\"}],\"scattercarpet\":[{\"marker\":{\"colorbar\":{\"outlinewidth\":0,\"ticks\":\"\"}},\"type\":\"scattercarpet\"}],\"scattergeo\":[{\"marker\":{\"colorbar\":{\"outlinewidth\":0,\"ticks\":\"\"}},\"type\":\"scattergeo\"}],\"scattergl\":[{\"marker\":{\"colorbar\":{\"outlinewidth\":0,\"ticks\":\"\"}},\"type\":\"scattergl\"}],\"scattermapbox\":[{\"marker\":{\"colorbar\":{\"outlinewidth\":0,\"ticks\":\"\"}},\"type\":\"scattermapbox\"}],\"scatterpolar\":[{\"marker\":{\"colorbar\":{\"outlinewidth\":0,\"ticks\":\"\"}},\"type\":\"scatterpolar\"}],\"scatterpolargl\":[{\"marker\":{\"colorbar\":{\"outlinewidth\":0,\"ticks\":\"\"}},\"type\":\"scatterpolargl\"}],\"scatterternary\":[{\"marker\":{\"colorbar\":{\"outlinewidth\":0,\"ticks\":\"\"}},\"type\":\"scatterternary\"}],\"surface\":[{\"colorbar\":{\"outlinewidth\":0,\"ticks\":\"\"},\"colorscale\":[[0.0,\"#0d0887\"],[0.1111111111111111,\"#46039f\"],[0.2222222222222222,\"#7201a8\"],[0.3333333333333333,\"#9c179e\"],[0.4444444444444444,\"#bd3786\"],[0.5555555555555556,\"#d8576b\"],[0.6666666666666666,\"#ed7953\"],[0.7777777777777778,\"#fb9f3a\"],[0.8888888888888888,\"#fdca26\"],[1.0,\"#f0f921\"]],\"type\":\"surface\"}],\"table\":[{\"cells\":{\"fill\":{\"color\":\"#EBF0F8\"},\"line\":{\"color\":\"white\"}},\"header\":{\"fill\":{\"color\":\"#C8D4E3\"},\"line\":{\"color\":\"white\"}},\"type\":\"table\"}]},\"layout\":{\"annotationdefaults\":{\"arrowcolor\":\"#2a3f5f\",\"arrowhead\":0,\"arrowwidth\":1},\"autotypenumbers\":\"strict\",\"coloraxis\":{\"colorbar\":{\"outlinewidth\":0,\"ticks\":\"\"}},\"colorscale\":{\"diverging\":[[0,\"#8e0152\"],[0.1,\"#c51b7d\"],[0.2,\"#de77ae\"],[0.3,\"#f1b6da\"],[0.4,\"#fde0ef\"],[0.5,\"#f7f7f7\"],[0.6,\"#e6f5d0\"],[0.7,\"#b8e186\"],[0.8,\"#7fbc41\"],[0.9,\"#4d9221\"],[1,\"#276419\"]],\"sequential\":[[0.0,\"#0d0887\"],[0.1111111111111111,\"#46039f\"],[0.2222222222222222,\"#7201a8\"],[0.3333333333333333,\"#9c179e\"],[0.4444444444444444,\"#bd3786\"],[0.5555555555555556,\"#d8576b\"],[0.6666666666666666,\"#ed7953\"],[0.7777777777777778,\"#fb9f3a\"],[0.8888888888888888,\"#fdca26\"],[1.0,\"#f0f921\"]],\"sequentialminus\":[[0.0,\"#0d0887\"],[0.1111111111111111,\"#46039f\"],[0.2222222222222222,\"#7201a8\"],[0.3333333333333333,\"#9c179e\"],[0.4444444444444444,\"#bd3786\"],[0.5555555555555556,\"#d8576b\"],[0.6666666666666666,\"#ed7953\"],[0.7777777777777778,\"#fb9f3a\"],[0.8888888888888888,\"#fdca26\"],[1.0,\"#f0f921\"]]},\"colorway\":[\"#636efa\",\"#EF553B\",\"#00cc96\",\"#ab63fa\",\"#FFA15A\",\"#19d3f3\",\"#FF6692\",\"#B6E880\",\"#FF97FF\",\"#FECB52\"],\"font\":{\"color\":\"#2a3f5f\"},\"geo\":{\"bgcolor\":\"white\",\"lakecolor\":\"white\",\"landcolor\":\"#E5ECF6\",\"showlakes\":true,\"showland\":true,\"subunitcolor\":\"white\"},\"hoverlabel\":{\"align\":\"left\"},\"hovermode\":\"closest\",\"mapbox\":{\"style\":\"light\"},\"paper_bgcolor\":\"white\",\"plot_bgcolor\":\"#E5ECF6\",\"polar\":{\"angularaxis\":{\"gridcolor\":\"white\",\"linecolor\":\"white\",\"ticks\":\"\"},\"bgcolor\":\"#E5ECF6\",\"radialaxis\":{\"gridcolor\":\"white\",\"linecolor\":\"white\",\"ticks\":\"\"}},\"scene\":{\"xaxis\":{\"backgroundcolor\":\"#E5ECF6\",\"gridcolor\":\"white\",\"gridwidth\":2,\"linecolor\":\"white\",\"showbackground\":true,\"ticks\":\"\",\"zerolinecolor\":\"white\"},\"yaxis\":{\"backgroundcolor\":\"#E5ECF6\",\"gridcolor\":\"white\",\"gridwidth\":2,\"linecolor\":\"white\",\"showbackground\":true,\"ticks\":\"\",\"zerolinecolor\":\"white\"},\"zaxis\":{\"backgroundcolor\":\"#E5ECF6\",\"gridcolor\":\"white\",\"gridwidth\":2,\"linecolor\":\"white\",\"showbackground\":true,\"ticks\":\"\",\"zerolinecolor\":\"white\"}},\"shapedefaults\":{\"line\":{\"color\":\"#2a3f5f\"}},\"ternary\":{\"aaxis\":{\"gridcolor\":\"white\",\"linecolor\":\"white\",\"ticks\":\"\"},\"baxis\":{\"gridcolor\":\"white\",\"linecolor\":\"white\",\"ticks\":\"\"},\"bgcolor\":\"#E5ECF6\",\"caxis\":{\"gridcolor\":\"white\",\"linecolor\":\"white\",\"ticks\":\"\"}},\"title\":{\"x\":0.05},\"xaxis\":{\"automargin\":true,\"gridcolor\":\"white\",\"linecolor\":\"white\",\"ticks\":\"\",\"title\":{\"standoff\":15},\"zerolinecolor\":\"white\",\"zerolinewidth\":2},\"yaxis\":{\"automargin\":true,\"gridcolor\":\"white\",\"linecolor\":\"white\",\"ticks\":\"\",\"title\":{\"standoff\":15},\"zerolinecolor\":\"white\",\"zerolinewidth\":2}}},\"xaxis\":{\"anchor\":\"y\",\"domain\":[0.0,1.0],\"title\":{\"text\":\"x\"}},\"yaxis\":{\"anchor\":\"x\",\"domain\":[0.0,1.0],\"title\":{\"text\":\"y\"}},\"legend\":{\"tracegroupgap\":0},\"margin\":{\"t\":60}},                        {\"responsive\": true}                    ).then(function(){\n",
              "                            \n",
              "var gd = document.getElementById('05d9d03a-dcee-4665-8de3-1a873ae2b56d');\n",
              "var x = new MutationObserver(function (mutations, observer) {{\n",
              "        var display = window.getComputedStyle(gd).display;\n",
              "        if (!display || display === 'none') {{\n",
              "            console.log([gd, 'removed!']);\n",
              "            Plotly.purge(gd);\n",
              "            observer.disconnect();\n",
              "        }}\n",
              "}});\n",
              "\n",
              "// Listen for the removal of the full notebook cells\n",
              "var notebookContainer = gd.closest('#notebook-container');\n",
              "if (notebookContainer) {{\n",
              "    x.observe(notebookContainer, {childList: true});\n",
              "}}\n",
              "\n",
              "// Listen for the clearing of the current output cell\n",
              "var outputEl = gd.closest('.output');\n",
              "if (outputEl) {{\n",
              "    x.observe(outputEl, {childList: true});\n",
              "}}\n",
              "\n",
              "                        })                };                            </script>        </div>\n",
              "</body>\n",
              "</html>"
            ]
          },
          "metadata": {},
          "output_type": "display_data"
        }
      ],
      "source": [
        "x_normalized = StandardScaler().fit_transform(x.values)\n",
        "pca = PCA(3).fit_transform(x_normalized)\n",
        "\n",
        "fig = px.scatter(pca, x=pca[:,0], y=pca[:,1]) # color=featured_data.video_name.values\n",
        "fig.show()"
      ]
    },
    {
      "cell_type": "markdown",
      "metadata": {
        "id": "coRWAYngO9ab"
      },
      "source": [
        "Les deux premirères dimenssions de l'ACP ne permettent à priori pas d'identifier des classes clairement"
      ]
    },
    {
      "cell_type": "markdown",
      "metadata": {
        "id": "EfC2nF5iPf4O"
      },
      "source": [
        "### Kmeans"
      ]
    },
    {
      "cell_type": "code",
      "execution_count": null,
      "metadata": {
        "colab": {
          "base_uri": "https://localhost:8080/",
          "height": 411
        },
        "id": "FyfQVRLR2QDg",
        "outputId": "483459d5-31c2-4fad-f99e-85fd9358d6b6"
      },
      "outputs": [
        {
          "data": {
            "image/png": "[encoded data removed]",
            "text/plain": [
              "<Figure size 576x396 with 2 Axes>"
            ]
          },
          "metadata": {},
          "output_type": "display_data"
        },
        {
          "data": {
            "text/plain": [
              "<AxesSubplot:title={'center':'Distortion Score Elbow for KMeans Clustering'}, xlabel='k', ylabel='distortion score'>"
            ]
          },
          "execution_count": 20,
          "metadata": {},
          "output_type": "execute_result"
        }
      ],
      "source": [
        "# KElbowVisualizer helps to identify the number of cluster based on Elwow method\n",
        "km = KMeans(random_state=42)\n",
        "visualizer = KElbowVisualizer(km, k=(2,10))\n",
        "\n",
        "visualizer.fit(x_normalized) # Fit the data to the visualizer\n",
        "visualizer.show()"
      ]
    },
    {
      "cell_type": "code",
      "execution_count": null,
      "metadata": {
        "colab": {
          "base_uri": "https://localhost:8080/",
          "height": 1000
        },
        "id": "Hir4izu22Rg_",
        "outputId": "81dd4ac0-1401-433f-d38f-b2620924da77"
      },
      "outputs": [
        {
          "data": {
            "text/html": [
              "<html>\n",
              "<head><meta charset=\"utf-8\" /></head>\n",
              "<body>\n",
              "    <div>            <script src=\"https://cdnjs.cloudflare.com/ajax/libs/mathjax/2.7.5/MathJax.js?config=TeX-AMS-MML_SVG\"></script><script type=\"text/javascript\">if (window.MathJax) {MathJax.Hub.Config({SVG: {font: \"STIX-Web\"}});}</script>                <script type=\"text/javascript\">window.PlotlyConfig = {MathJaxConfig: 'local'};</script>\n",
              "        <script src=\"https://cdn.plot.ly/plotly-2.8.3.min.js\"></script>                <div id=\"e37b7065-f201-47a6-a040-9532751dc89b\" class=\"plotly-graph-div\" style=\"height:525px; width:100%;\"></div>            <script type=\"text/javascript\">                                    window.PLOTLYENV=window.PLOTLYENV || {};                                    if (document.getElementById(\"e37b7065-f201-47a6-a040-9532751dc89b\")) {                    Plotly.newPlot(                        \"e37b7065-f201-47a6-a040-9532751dc89b\",                        [{\"hovertemplate\":\"x=%{x}<br>y=%{y}<br>color=%{marker.color}<extra></extra>\",\"legendgroup\":\"\",\"marker\":{\"color\":[0,0,0,1,0,0,1,0,0,1,0,1,1,0,0,1,0,2,1,2,0,0,2,0,0,2,1,0,1,1,2,0,2,0,2,0,0,1,0,2,2,0,0,0,1,1,0,1,0,0,2,2,2,0,0,1,1,0,0,0,1,1,0,0,2,0,1,2,2,1,0,0,1,2,0,1,2,2,2,1,0,0,2,2,2,2,0,2,0,0,1,1,1,0,0,0,0,2,0,2,3,2,1,0,1,1,1,0,2,0,1,1,0,1,0,1,0,0,2,0,1,0,0,1,0,1,0,1,1,0,2,1,0,1,1,2,0,1,2,2,2,2,1,2,2,2,2,2,1,2,2,2,2,1,0,1,2,0,1,2,2,1,1,0,0,2,1,1,2,1,2,0,0,1,2,1,1,0,0,2,1,1,0,2,0,1,1,2,1,2,1,0,2,0,1,0,2,2,2,1,0,1,1,1,1,2,1,1,1,0,1,2,1,0,0,2,1,0,2,1,0,0,1,1,2,0,2,0,1,1,1,1,0,1,1,1,1,1,2,0,1,0,0,0,1],\"coloraxis\":\"coloraxis\",\"symbol\":\"circle\"},\"mode\":\"markers\",\"name\":\"\",\"orientation\":\"v\",\"showlegend\":false,\"x\":[-2.377886935742807,-1.9889304854153322,-1.4669971185796054,0.6466442856436067,-1.9580643776917408,-2.241296265985523,0.6631437444145072,-1.4837645435845435,-1.4741653875130438,-1.7198006972385789,-2.659372416199547,3.352147384035584,0.9718356854982926,-2.2776082318569015,-2.5643858854258252,1.2612093961552306,-2.7365009043204287,-1.352485874677043,3.0512924496385736,1.3769286659371114,-1.9684301609658406,-2.022547824592837,1.8753896298092445,-0.5875455879030741,0.24118306161039646,-0.019094172829853068,-0.3123727381109412,-1.9379965200251892,-0.1635003204054037,1.7728351639460003,1.7023521810589657,-2.7394744754833824,-1.1221895143019889,-0.2980954172592645,0.06503536553606945,-1.9569551895016568,-1.5210034493819076,-1.0582782872843295,-2.3927125870042754,-0.29565405131890415,-0.4951923805586627,-2.702072848884881,-2.1800672791861846,-6.428336825400767,-1.1809312971892811,1.4225740560621603,-0.37550465862083254,0.2623920871110189,-3.066151088288789,-1.1174151625507525,0.39975841560751524,0.5971113588259002,-0.19367123021622168,-2.378568226875186,-2.9550969793820547,-1.2224901221118287,-1.147760594082484,-3.900057947575712,-4.637514694496341,-1.0842682638289427,0.09184347790818886,-1.4704144978672549,-0.9060001442032417,-2.751380710923521,1.1281568525890917,-1.796576538569623,2.9637005559571725,1.3691203743640308,-0.10160598800477,1.0373583742535348,-1.6353847585970775,-0.873883610414307,2.832315659251711,1.4590213925517481,-2.689568454906173,0.5562008865348652,-0.858213143691013,-2.054500681419959,0.042111080147015985,1.657346961859986,-3.541419273362024,-2.2317082465167926,0.48437103754082483,0.7045593931272793,2.0857349184452576,1.6160209471329003,-0.1331426820359981,8.349744427707215,-3.0520122321357808,-2.8128782137014694,0.7462125988256189,-1.2195237290225724,0.10230873706904038,-0.7990109676592927,-2.120000568186325,-1.383237866751421,-3.652336890449534,0.17809278857958216,-3.027197259265913,-1.161189575342509,36.02523470721867,0.5059392070112552,0.09227298511959867,-2.483850623419907,-0.8900795666571635,-0.39371853069747575,1.8104376727057994,-1.5715168981258565,0.8982426303630853,-0.5894838087638884,0.9166231591732714,1.6450017952510236,-2.6084435096943244,1.245581994392103,-1.572118636625345,0.23097018782384113,-1.0295795677744422,-1.404041650734327,-3.6033529185894557,-1.4320369924760872,2.6496401924197444,-3.8226999017838885,-2.407615899823018,0.2556629025220477,-0.7561173945336092,-1.288967357003857,-3.1592696349289486,1.2364705314842719,-0.5290797740309194,-1.6411082092019509,1.3416592959483236,2.0008510843191862,-0.5683933974972494,-0.2719233739994636,0.06344444444533859,0.6686104145630597,-5.6960119986047335,2.0107454976250545,0.6379138430068513,1.6450499869207016,3.3254172294803217,-0.1907741446881391,2.853385491842031,2.50046053533264,10.119299399456741,4.952111326785238,2.5274629723852002,8.408671019141151,0.46660960200441276,2.361494004171769,1.7236733854525925,2.2016518778991987,-0.03246445525425334,1.092544158474293,-2.628029572083067,-0.7752800221859368,0.08598930644198419,-2.251685875649964,-1.7258246704726936,2.655532489054636,2.1354560917956342,-0.4739254664588017,0.617055828380626,-1.5402655165593813,-1.7514865727304116,2.2698700637882916,1.6144304124770783,1.567882520698853,0.10267611991298167,-0.14192022710442098,1.0223783969503972,-1.7684589684138468,-3.2589970936327313,2.508075620301519,-0.35546632102213555,0.36930100779194036,-1.2631329639481201,-0.8579835399010987,-0.8925592176843197,0.6151276916935342,1.1686724379376472,1.5170641562728937,-2.0859543426624136,2.220548736071884,-2.599792911959092,-0.23863298318723813,4.353773204196045,4.152104347398832,0.1978130549503998,2.4252751770225953,0.9574432585761995,-0.8962580264473001,0.9858495281314019,-1.2238599784162745,-0.6001166455651881,-1.1296012372044912,0.6054474466834476,0.04703689599796145,2.263368190200449,2.604158144320134,-2.6406284523334245,2.2187431854874053,2.5853734537568682,1.518448049156422,-0.6968764874623711,0.4667109024627225,-0.8379276372418033,-1.046205394460207,0.2223197749492022,-0.6672989267562315,0.9614511070851848,0.07003015059069202,-0.32475521918769057,-1.0214602281096195,-0.6591774467740699,1.7277152439656474,0.8265396667773581,-0.5503276518854922,1.7249128593941823,6.380869408877135,-3.857615635981012,0.8760956052247992,0.4227291469432818,3.057622409021559,-0.009817040163406017,-1.4710575116891063,3.826843509930937,-1.7609787819985974,0.6757712595183343,0.7824007057083394,-0.8555834525192255,-1.934878856302333,-0.750810928108389,0.46669613519558006,-0.8905856404671717,-0.23846920057703022,1.945501109622974,0.24691986257907378,-0.7583477279984209,-1.5374134937302448,-0.15530089487919563,-2.5352871093655485,-0.7293258321280887,-2.5625546113463726,-0.617250990231592],\"xaxis\":\"x\",\"y\":[1.1635275970037895,-3.3246448465389133,-1.0057687186274178,-1.4024240684991993,0.3477261105114674,-3.0661550166299123,-0.3806521749865111,0.8783882861024498,-0.8364007842176762,-3.469329773724232,-4.042840515836938,-4.714726470469528,-1.353356282452634,-0.501603658447973,1.5312813931503755,-0.3199933026942703,3.9727114219919644,3.787411916637415,-7.935458118427082,2.620312718914941,-0.021811698871292768,2.1421550857713703,0.5693809728845824,1.0187448910234596,-0.07339340464322806,3.0032061364884344,-0.6332147474676786,-0.4810344742203229,-1.9801045557563581,-1.9305747452057997,0.3722011904957542,2.4740755643606196,-0.6261982997240138,-0.3232605864831933,2.267770302201763,-0.9505836886099754,-1.574514481827736,-2.3804317361090512,-1.3230702596598274,2.485143185662311,4.221054795734283,-1.6987246794792212,0.41711747310754116,1.4409628715547715,-4.444075852048209,-1.9234026167735865,-0.26049494542683266,-1.98519659077787,-1.109106751968817,-0.8879647932005986,3.2079146849327946,0.7848294964357633,2.1226961409191545,-0.7213540330057086,-2.344125515696011,-2.111204520042666,-3.591719651597679,1.6859198228289975,-3.7418829748732514,0.181911515957123,-1.5337880597123703,-3.0550151582166882,1.3130573497025302,-1.9111055228597011,2.5260109456607163,-0.06258240474322026,-2.2011258762488493,1.5007743015280084,2.2298627463573037,-0.17496651101951774,1.4678530599085917,-0.21097349002418433,-3.8039582060056802,4.503254822564072,-0.11547136298127988,-0.1527070324687047,2.113792389938249,6.379023649454639,2.232460695922559,-0.9258120010516308,1.370250678364311,0.7527616614491941,2.9390487149855318,0.19943845354516157,1.794462349986053,3.6488978434650683,0.42170302959129946,6.345680799941388,-1.5268589695355617,-1.128688997525766,-0.7348697149746115,-3.7070496267947775,-1.1558784460451668,1.3456295795719526,-0.41533596887451085,0.5866515440821555,-1.5584701423218479,0.6852747705952817,5.468263707999636,6.839057687345455,-3.5305532754734443,2.0751768675230178,-4.082493661156032,-0.3329422625332225,-3.9453715594882017,-4.503135674924691,0.5224612035844199,1.2527603611378664,2.543365736496336,0.5812283786647087,-0.23483716854786063,-3.0388469204050086,-0.839557630477393,-0.9145461470252425,-2.580107372328583,-1.4258203699870988,2.6869206308548423,-0.21023999469807905,5.232888868037115,-0.24008038405198942,-0.895921308323271,2.2195406107852342,5.157351098881799,-0.7105681742596469,0.6485053067875868,-1.4921559867086587,2.607818450057726,0.35527052235756623,-2.461464174221729,0.5466269630797469,3.361593540209678,-1.2576198312810312,1.0463926175119858,-3.0540507809980375,-1.2315111627609254,2.735176242449906,-3.5891922761314,-6.786225871017942,2.2401822816958354,0.8287885372437702,0.888867658335952,1.2252114611947118,-1.3588129293974396,1.7736964952871985,7.5503426010430195,5.480054706833814,6.25556645019289,5.179338899408755,-6.029232676006895,-1.0865680873093164,1.9379806532818882,1.2366319965694543,1.168212419678891,-0.7878568934331172,0.0026241965573754735,-0.5939481764880309,2.27822657798601,-1.6567857376281312,-5.275879927896797,-0.12164776675552616,4.155426538049465,-5.512156924778136,-1.7057138341898108,3.5943810097010465,0.6745340007512647,1.3837550319549072,-0.7808651063225278,-0.843697911692156,9.489683665954233,-6.197409883677006,1.957788725662073,2.3778323896350315,3.025178097186071,-1.654832040615743,2.7171072869252106,-1.9516874186115334,-4.652878562289605,-0.20337876557231652,-0.15058561270982518,1.7207099954631122,0.6793780188363336,-2.2369830840897253,2.11154570776478,1.8991985569083634,1.7688620429691444,-3.99351361858312,-1.3945486558041358,1.2820557008588713,0.17823401841175918,2.95596663608572,-3.154316629641753,0.33522484408225867,1.6342497994699012,1.1738728243213004,-1.4286229037976645,0.771100570011713,4.014966781076932,0.4191387248313149,1.5294760996425443,-1.2090957796356963,-0.12301667190394651,-3.4361146152684987,-7.822983603516437,-3.8182161975625086,-1.8496282349046187,2.762233195013418,-3.6918801613967425,-2.133527230040106,-1.3043778916742397,0.6303162895112875,-0.9673351477300934,3.4438426240632856,-1.4787722383760253,0.48837188618486477,-0.24964634752905485,1.9275480531473224,-3.526947460178408,0.9651697878774893,5.826218647571592,-4.145057083315818,2.024111894835879,1.3332290690539952,0.6405616293689823,-0.6094940395804915,7.239123380211607,3.66083772609013,-0.16625821521183115,-1.7540190983721626,0.4495944509544043,-2.192787716122925,-2.9384178865003205,-4.896642972934715,1.2376457334888769,-3.7228566178141858,-2.0416602315642236,-2.5409125946559503,-0.8204349398823252,-1.7149315739695121,1.0307076417760364,0.4497313657550577,-2.1343235520430137,1.7822028302698052,0.635816893538767,-2.242729627298484,-1.848697166128094],\"yaxis\":\"y\",\"type\":\"scatter\"}],                        {\"template\":{\"data\":{\"bar\":[{\"error_x\":{\"color\":\"#2a3f5f\"},\"error_y\":{\"color\":\"#2a3f5f\"},\"marker\":{\"line\":{\"color\":\"#E5ECF6\",\"width\":0.5},\"pattern\":{\"fillmode\":\"overlay\",\"size\":10,\"solidity\":0.2}},\"type\":\"bar\"}],\"barpolar\":[{\"marker\":{\"line\":{\"color\":\"#E5ECF6\",\"width\":0.5},\"pattern\":{\"fillmode\":\"overlay\",\"size\":10,\"solidity\":0.2}},\"type\":\"barpolar\"}],\"carpet\":[{\"aaxis\":{\"endlinecolor\":\"#2a3f5f\",\"gridcolor\":\"white\",\"linecolor\":\"white\",\"minorgridcolor\":\"white\",\"startlinecolor\":\"#2a3f5f\"},\"baxis\":{\"endlinecolor\":\"#2a3f5f\",\"gridcolor\":\"white\",\"linecolor\":\"white\",\"minorgridcolor\":\"white\",\"startlinecolor\":\"#2a3f5f\"},\"type\":\"carpet\"}],\"choropleth\":[{\"colorbar\":{\"outlinewidth\":0,\"ticks\":\"\"},\"type\":\"choropleth\"}],\"contour\":[{\"colorbar\":{\"outlinewidth\":0,\"ticks\":\"\"},\"colorscale\":[[0.0,\"#0d0887\"],[0.1111111111111111,\"#46039f\"],[0.2222222222222222,\"#7201a8\"],[0.3333333333333333,\"#9c179e\"],[0.4444444444444444,\"#bd3786\"],[0.5555555555555556,\"#d8576b\"],[0.6666666666666666,\"#ed7953\"],[0.7777777777777778,\"#fb9f3a\"],[0.8888888888888888,\"#fdca26\"],[1.0,\"#f0f921\"]],\"type\":\"contour\"}],\"contourcarpet\":[{\"colorbar\":{\"outlinewidth\":0,\"ticks\":\"\"},\"type\":\"contourcarpet\"}],\"heatmap\":[{\"colorbar\":{\"outlinewidth\":0,\"ticks\":\"\"},\"colorscale\":[[0.0,\"#0d0887\"],[0.1111111111111111,\"#46039f\"],[0.2222222222222222,\"#7201a8\"],[0.3333333333333333,\"#9c179e\"],[0.4444444444444444,\"#bd3786\"],[0.5555555555555556,\"#d8576b\"],[0.6666666666666666,\"#ed7953\"],[0.7777777777777778,\"#fb9f3a\"],[0.8888888888888888,\"#fdca26\"],[1.0,\"#f0f921\"]],\"type\":\"heatmap\"}],\"heatmapgl\":[{\"colorbar\":{\"outlinewidth\":0,\"ticks\":\"\"},\"colorscale\":[[0.0,\"#0d0887\"],[0.1111111111111111,\"#46039f\"],[0.2222222222222222,\"#7201a8\"],[0.3333333333333333,\"#9c179e\"],[0.4444444444444444,\"#bd3786\"],[0.5555555555555556,\"#d8576b\"],[0.6666666666666666,\"#ed7953\"],[0.7777777777777778,\"#fb9f3a\"],[0.8888888888888888,\"#fdca26\"],[1.0,\"#f0f921\"]],\"type\":\"heatmapgl\"}],\"histogram\":[{\"marker\":{\"pattern\":{\"fillmode\":\"overlay\",\"size\":10,\"solidity\":0.2}},\"type\":\"histogram\"}],\"histogram2d\":[{\"colorbar\":{\"outlinewidth\":0,\"ticks\":\"\"},\"colorscale\":[[0.0,\"#0d0887\"],[0.1111111111111111,\"#46039f\"],[0.2222222222222222,\"#7201a8\"],[0.3333333333333333,\"#9c179e\"],[0.4444444444444444,\"#bd3786\"],[0.5555555555555556,\"#d8576b\"],[0.6666666666666666,\"#ed7953\"],[0.7777777777777778,\"#fb9f3a\"],[0.8888888888888888,\"#fdca26\"],[1.0,\"#f0f921\"]],\"type\":\"histogram2d\"}],\"histogram2dcontour\":[{\"colorbar\":{\"outlinewidth\":0,\"ticks\":\"\"},\"colorscale\":[[0.0,\"#0d0887\"],[0.1111111111111111,\"#46039f\"],[0.2222222222222222,\"#7201a8\"],[0.3333333333333333,\"#9c179e\"],[0.4444444444444444,\"#bd3786\"],[0.5555555555555556,\"#d8576b\"],[0.6666666666666666,\"#ed7953\"],[0.7777777777777778,\"#fb9f3a\"],[0.8888888888888888,\"#fdca26\"],[1.0,\"#f0f921\"]],\"type\":\"histogram2dcontour\"}],\"mesh3d\":[{\"colorbar\":{\"outlinewidth\":0,\"ticks\":\"\"},\"type\":\"mesh3d\"}],\"parcoords\":[{\"line\":{\"colorbar\":{\"outlinewidth\":0,\"ticks\":\"\"}},\"type\":\"parcoords\"}],\"pie\":[{\"automargin\":true,\"type\":\"pie\"}],\"scatter\":[{\"marker\":{\"colorbar\":{\"outlinewidth\":0,\"ticks\":\"\"}},\"type\":\"scatter\"}],\"scatter3d\":[{\"line\":{\"colorbar\":{\"outlinewidth\":0,\"ticks\":\"\"}},\"marker\":{\"colorbar\":{\"outlinewidth\":0,\"ticks\":\"\"}},\"type\":\"scatter3d\"}],\"scattercarpet\":[{\"marker\":{\"colorbar\":{\"outlinewidth\":0,\"ticks\":\"\"}},\"type\":\"scattercarpet\"}],\"scattergeo\":[{\"marker\":{\"colorbar\":{\"outlinewidth\":0,\"ticks\":\"\"}},\"type\":\"scattergeo\"}],\"scattergl\":[{\"marker\":{\"colorbar\":{\"outlinewidth\":0,\"ticks\":\"\"}},\"type\":\"scattergl\"}],\"scattermapbox\":[{\"marker\":{\"colorbar\":{\"outlinewidth\":0,\"ticks\":\"\"}},\"type\":\"scattermapbox\"}],\"scatterpolar\":[{\"marker\":{\"colorbar\":{\"outlinewidth\":0,\"ticks\":\"\"}},\"type\":\"scatterpolar\"}],\"scatterpolargl\":[{\"marker\":{\"colorbar\":{\"outlinewidth\":0,\"ticks\":\"\"}},\"type\":\"scatterpolargl\"}],\"scatterternary\":[{\"marker\":{\"colorbar\":{\"outlinewidth\":0,\"ticks\":\"\"}},\"type\":\"scatterternary\"}],\"surface\":[{\"colorbar\":{\"outlinewidth\":0,\"ticks\":\"\"},\"colorscale\":[[0.0,\"#0d0887\"],[0.1111111111111111,\"#46039f\"],[0.2222222222222222,\"#7201a8\"],[0.3333333333333333,\"#9c179e\"],[0.4444444444444444,\"#bd3786\"],[0.5555555555555556,\"#d8576b\"],[0.6666666666666666,\"#ed7953\"],[0.7777777777777778,\"#fb9f3a\"],[0.8888888888888888,\"#fdca26\"],[1.0,\"#f0f921\"]],\"type\":\"surface\"}],\"table\":[{\"cells\":{\"fill\":{\"color\":\"#EBF0F8\"},\"line\":{\"color\":\"white\"}},\"header\":{\"fill\":{\"color\":\"#C8D4E3\"},\"line\":{\"color\":\"white\"}},\"type\":\"table\"}]},\"layout\":{\"annotationdefaults\":{\"arrowcolor\":\"#2a3f5f\",\"arrowhead\":0,\"arrowwidth\":1},\"autotypenumbers\":\"strict\",\"coloraxis\":{\"colorbar\":{\"outlinewidth\":0,\"ticks\":\"\"}},\"colorscale\":{\"diverging\":[[0,\"#8e0152\"],[0.1,\"#c51b7d\"],[0.2,\"#de77ae\"],[0.3,\"#f1b6da\"],[0.4,\"#fde0ef\"],[0.5,\"#f7f7f7\"],[0.6,\"#e6f5d0\"],[0.7,\"#b8e186\"],[0.8,\"#7fbc41\"],[0.9,\"#4d9221\"],[1,\"#276419\"]],\"sequential\":[[0.0,\"#0d0887\"],[0.1111111111111111,\"#46039f\"],[0.2222222222222222,\"#7201a8\"],[0.3333333333333333,\"#9c179e\"],[0.4444444444444444,\"#bd3786\"],[0.5555555555555556,\"#d8576b\"],[0.6666666666666666,\"#ed7953\"],[0.7777777777777778,\"#fb9f3a\"],[0.8888888888888888,\"#fdca26\"],[1.0,\"#f0f921\"]],\"sequentialminus\":[[0.0,\"#0d0887\"],[0.1111111111111111,\"#46039f\"],[0.2222222222222222,\"#7201a8\"],[0.3333333333333333,\"#9c179e\"],[0.4444444444444444,\"#bd3786\"],[0.5555555555555556,\"#d8576b\"],[0.6666666666666666,\"#ed7953\"],[0.7777777777777778,\"#fb9f3a\"],[0.8888888888888888,\"#fdca26\"],[1.0,\"#f0f921\"]]},\"colorway\":[\"#636efa\",\"#EF553B\",\"#00cc96\",\"#ab63fa\",\"#FFA15A\",\"#19d3f3\",\"#FF6692\",\"#B6E880\",\"#FF97FF\",\"#FECB52\"],\"font\":{\"color\":\"#2a3f5f\"},\"geo\":{\"bgcolor\":\"white\",\"lakecolor\":\"white\",\"landcolor\":\"#E5ECF6\",\"showlakes\":true,\"showland\":true,\"subunitcolor\":\"white\"},\"hoverlabel\":{\"align\":\"left\"},\"hovermode\":\"closest\",\"mapbox\":{\"style\":\"light\"},\"paper_bgcolor\":\"white\",\"plot_bgcolor\":\"#E5ECF6\",\"polar\":{\"angularaxis\":{\"gridcolor\":\"white\",\"linecolor\":\"white\",\"ticks\":\"\"},\"bgcolor\":\"#E5ECF6\",\"radialaxis\":{\"gridcolor\":\"white\",\"linecolor\":\"white\",\"ticks\":\"\"}},\"scene\":{\"xaxis\":{\"backgroundcolor\":\"#E5ECF6\",\"gridcolor\":\"white\",\"gridwidth\":2,\"linecolor\":\"white\",\"showbackground\":true,\"ticks\":\"\",\"zerolinecolor\":\"white\"},\"yaxis\":{\"backgroundcolor\":\"#E5ECF6\",\"gridcolor\":\"white\",\"gridwidth\":2,\"linecolor\":\"white\",\"showbackground\":true,\"ticks\":\"\",\"zerolinecolor\":\"white\"},\"zaxis\":{\"backgroundcolor\":\"#E5ECF6\",\"gridcolor\":\"white\",\"gridwidth\":2,\"linecolor\":\"white\",\"showbackground\":true,\"ticks\":\"\",\"zerolinecolor\":\"white\"}},\"shapedefaults\":{\"line\":{\"color\":\"#2a3f5f\"}},\"ternary\":{\"aaxis\":{\"gridcolor\":\"white\",\"linecolor\":\"white\",\"ticks\":\"\"},\"baxis\":{\"gridcolor\":\"white\",\"linecolor\":\"white\",\"ticks\":\"\"},\"bgcolor\":\"#E5ECF6\",\"caxis\":{\"gridcolor\":\"white\",\"linecolor\":\"white\",\"ticks\":\"\"}},\"title\":{\"x\":0.05},\"xaxis\":{\"automargin\":true,\"gridcolor\":\"white\",\"linecolor\":\"white\",\"ticks\":\"\",\"title\":{\"standoff\":15},\"zerolinecolor\":\"white\",\"zerolinewidth\":2},\"yaxis\":{\"automargin\":true,\"gridcolor\":\"white\",\"linecolor\":\"white\",\"ticks\":\"\",\"title\":{\"standoff\":15},\"zerolinecolor\":\"white\",\"zerolinewidth\":2}}},\"xaxis\":{\"anchor\":\"y\",\"domain\":[0.0,1.0],\"title\":{\"text\":\"x\"}},\"yaxis\":{\"anchor\":\"x\",\"domain\":[0.0,1.0],\"title\":{\"text\":\"y\"}},\"coloraxis\":{\"colorbar\":{\"title\":{\"text\":\"color\"}},\"colorscale\":[[0.0,\"#0d0887\"],[0.1111111111111111,\"#46039f\"],[0.2222222222222222,\"#7201a8\"],[0.3333333333333333,\"#9c179e\"],[0.4444444444444444,\"#bd3786\"],[0.5555555555555556,\"#d8576b\"],[0.6666666666666666,\"#ed7953\"],[0.7777777777777778,\"#fb9f3a\"],[0.8888888888888888,\"#fdca26\"],[1.0,\"#f0f921\"]]},\"legend\":{\"tracegroupgap\":0},\"title\":{\"text\":\"2D plot of the two firt PCA axis\"}},                        {\"responsive\": true}                    ).then(function(){\n",
              "                            \n",
              "var gd = document.getElementById('e37b7065-f201-47a6-a040-9532751dc89b');\n",
              "var x = new MutationObserver(function (mutations, observer) {{\n",
              "        var display = window.getComputedStyle(gd).display;\n",
              "        if (!display || display === 'none') {{\n",
              "            console.log([gd, 'removed!']);\n",
              "            Plotly.purge(gd);\n",
              "            observer.disconnect();\n",
              "        }}\n",
              "}});\n",
              "\n",
              "// Listen for the removal of the full notebook cells\n",
              "var notebookContainer = gd.closest('#notebook-container');\n",
              "if (notebookContainer) {{\n",
              "    x.observe(notebookContainer, {childList: true});\n",
              "}}\n",
              "\n",
              "// Listen for the clearing of the current output cell\n",
              "var outputEl = gd.closest('.output');\n",
              "if (outputEl) {{\n",
              "    x.observe(outputEl, {childList: true});\n",
              "}}\n",
              "\n",
              "                        })                };                            </script>        </div>\n",
              "</body>\n",
              "</html>"
            ]
          },
          "metadata": {},
          "output_type": "display_data"
        },
        {
          "data": {
            "text/html": [
              "<html>\n",
              "<head><meta charset=\"utf-8\" /></head>\n",
              "<body>\n",
              "    <div>            <script src=\"https://cdnjs.cloudflare.com/ajax/libs/mathjax/2.7.5/MathJax.js?config=TeX-AMS-MML_SVG\"></script><script type=\"text/javascript\">if (window.MathJax) {MathJax.Hub.Config({SVG: {font: \"STIX-Web\"}});}</script>                <script type=\"text/javascript\">window.PlotlyConfig = {MathJaxConfig: 'local'};</script>\n",
              "        <script src=\"https://cdn.plot.ly/plotly-2.8.3.min.js\"></script>                <div id=\"b8dcce3f-4b31-45c3-93af-ee0724e11064\" class=\"plotly-graph-div\" style=\"height:525px; width:100%;\"></div>            <script type=\"text/javascript\">                                    window.PLOTLYENV=window.PLOTLYENV || {};                                    if (document.getElementById(\"b8dcce3f-4b31-45c3-93af-ee0724e11064\")) {                    Plotly.newPlot(                        \"b8dcce3f-4b31-45c3-93af-ee0724e11064\",                        [{\"hovertemplate\":\"x=%{x}<br>y=%{y}<br>z=%{z}<br>color=%{marker.color}<extra></extra>\",\"legendgroup\":\"\",\"marker\":{\"color\":[0,0,0,1,0,0,1,0,0,1,0,1,1,0,0,1,0,2,1,2,0,0,2,0,0,2,1,0,1,1,2,0,2,0,2,0,0,1,0,2,2,0,0,0,1,1,0,1,0,0,2,2,2,0,0,1,1,0,0,0,1,1,0,0,2,0,1,2,2,1,0,0,1,2,0,1,2,2,2,1,0,0,2,2,2,2,0,2,0,0,1,1,1,0,0,0,0,2,0,2,3,2,1,0,1,1,1,0,2,0,1,1,0,1,0,1,0,0,2,0,1,0,0,1,0,1,0,1,1,0,2,1,0,1,1,2,0,1,2,2,2,2,1,2,2,2,2,2,1,2,2,2,2,1,0,1,2,0,1,2,2,1,1,0,0,2,1,1,2,1,2,0,0,1,2,1,1,0,0,2,1,1,0,2,0,1,1,2,1,2,1,0,2,0,1,0,2,2,2,1,0,1,1,1,1,2,1,1,1,0,1,2,1,0,0,2,1,0,2,1,0,0,1,1,2,0,2,0,1,1,1,1,0,1,1,1,1,1,2,0,1,0,0,0,1],\"coloraxis\":\"coloraxis\",\"symbol\":\"circle\"},\"mode\":\"markers\",\"name\":\"\",\"scene\":\"scene\",\"showlegend\":false,\"x\":[-2.377886935742807,-1.9889304854153322,-1.4669971185796054,0.6466442856436067,-1.9580643776917408,-2.241296265985523,0.6631437444145072,-1.4837645435845435,-1.4741653875130438,-1.7198006972385789,-2.659372416199547,3.352147384035584,0.9718356854982926,-2.2776082318569015,-2.5643858854258252,1.2612093961552306,-2.7365009043204287,-1.352485874677043,3.0512924496385736,1.3769286659371114,-1.9684301609658406,-2.022547824592837,1.8753896298092445,-0.5875455879030741,0.24118306161039646,-0.019094172829853068,-0.3123727381109412,-1.9379965200251892,-0.1635003204054037,1.7728351639460003,1.7023521810589657,-2.7394744754833824,-1.1221895143019889,-0.2980954172592645,0.06503536553606945,-1.9569551895016568,-1.5210034493819076,-1.0582782872843295,-2.3927125870042754,-0.29565405131890415,-0.4951923805586627,-2.702072848884881,-2.1800672791861846,-6.428336825400767,-1.1809312971892811,1.4225740560621603,-0.37550465862083254,0.2623920871110189,-3.066151088288789,-1.1174151625507525,0.39975841560751524,0.5971113588259002,-0.19367123021622168,-2.378568226875186,-2.9550969793820547,-1.2224901221118287,-1.147760594082484,-3.900057947575712,-4.637514694496341,-1.0842682638289427,0.09184347790818886,-1.4704144978672549,-0.9060001442032417,-2.751380710923521,1.1281568525890917,-1.796576538569623,2.9637005559571725,1.3691203743640308,-0.10160598800477,1.0373583742535348,-1.6353847585970775,-0.873883610414307,2.832315659251711,1.4590213925517481,-2.689568454906173,0.5562008865348652,-0.858213143691013,-2.054500681419959,0.042111080147015985,1.657346961859986,-3.541419273362024,-2.2317082465167926,0.48437103754082483,0.7045593931272793,2.0857349184452576,1.6160209471329003,-0.1331426820359981,8.349744427707215,-3.0520122321357808,-2.8128782137014694,0.7462125988256189,-1.2195237290225724,0.10230873706904038,-0.7990109676592927,-2.120000568186325,-1.383237866751421,-3.652336890449534,0.17809278857958216,-3.027197259265913,-1.161189575342509,36.02523470721867,0.5059392070112552,0.09227298511959867,-2.483850623419907,-0.8900795666571635,-0.39371853069747575,1.8104376727057994,-1.5715168981258565,0.8982426303630853,-0.5894838087638884,0.9166231591732714,1.6450017952510236,-2.6084435096943244,1.245581994392103,-1.572118636625345,0.23097018782384113,-1.0295795677744422,-1.404041650734327,-3.6033529185894557,-1.4320369924760872,2.6496401924197444,-3.8226999017838885,-2.407615899823018,0.2556629025220477,-0.7561173945336092,-1.288967357003857,-3.1592696349289486,1.2364705314842719,-0.5290797740309194,-1.6411082092019509,1.3416592959483236,2.0008510843191862,-0.5683933974972494,-0.2719233739994636,0.06344444444533859,0.6686104145630597,-5.6960119986047335,2.0107454976250545,0.6379138430068513,1.6450499869207016,3.3254172294803217,-0.1907741446881391,2.853385491842031,2.50046053533264,10.119299399456741,4.952111326785238,2.5274629723852002,8.408671019141151,0.46660960200441276,2.361494004171769,1.7236733854525925,2.2016518778991987,-0.03246445525425334,1.092544158474293,-2.628029572083067,-0.7752800221859368,0.08598930644198419,-2.251685875649964,-1.7258246704726936,2.655532489054636,2.1354560917956342,-0.4739254664588017,0.617055828380626,-1.5402655165593813,-1.7514865727304116,2.2698700637882916,1.6144304124770783,1.567882520698853,0.10267611991298167,-0.14192022710442098,1.0223783969503972,-1.7684589684138468,-3.2589970936327313,2.508075620301519,-0.35546632102213555,0.36930100779194036,-1.2631329639481201,-0.8579835399010987,-0.8925592176843197,0.6151276916935342,1.1686724379376472,1.5170641562728937,-2.0859543426624136,2.220548736071884,-2.599792911959092,-0.23863298318723813,4.353773204196045,4.152104347398832,0.1978130549503998,2.4252751770225953,0.9574432585761995,-0.8962580264473001,0.9858495281314019,-1.2238599784162745,-0.6001166455651881,-1.1296012372044912,0.6054474466834476,0.04703689599796145,2.263368190200449,2.604158144320134,-2.6406284523334245,2.2187431854874053,2.5853734537568682,1.518448049156422,-0.6968764874623711,0.4667109024627225,-0.8379276372418033,-1.046205394460207,0.2223197749492022,-0.6672989267562315,0.9614511070851848,0.07003015059069202,-0.32475521918769057,-1.0214602281096195,-0.6591774467740699,1.7277152439656474,0.8265396667773581,-0.5503276518854922,1.7249128593941823,6.380869408877135,-3.857615635981012,0.8760956052247992,0.4227291469432818,3.057622409021559,-0.009817040163406017,-1.4710575116891063,3.826843509930937,-1.7609787819985974,0.6757712595183343,0.7824007057083394,-0.8555834525192255,-1.934878856302333,-0.750810928108389,0.46669613519558006,-0.8905856404671717,-0.23846920057703022,1.945501109622974,0.24691986257907378,-0.7583477279984209,-1.5374134937302448,-0.15530089487919563,-2.5352871093655485,-0.7293258321280887,-2.5625546113463726,-0.617250990231592],\"y\":[1.1635275970037895,-3.3246448465389133,-1.0057687186274178,-1.4024240684991993,0.3477261105114674,-3.0661550166299123,-0.3806521749865111,0.8783882861024498,-0.8364007842176762,-3.469329773724232,-4.042840515836938,-4.714726470469528,-1.353356282452634,-0.501603658447973,1.5312813931503755,-0.3199933026942703,3.9727114219919644,3.787411916637415,-7.935458118427082,2.620312718914941,-0.021811698871292768,2.1421550857713703,0.5693809728845824,1.0187448910234596,-0.07339340464322806,3.0032061364884344,-0.6332147474676786,-0.4810344742203229,-1.9801045557563581,-1.9305747452057997,0.3722011904957542,2.4740755643606196,-0.6261982997240138,-0.3232605864831933,2.267770302201763,-0.9505836886099754,-1.574514481827736,-2.3804317361090512,-1.3230702596598274,2.485143185662311,4.221054795734283,-1.6987246794792212,0.41711747310754116,1.4409628715547715,-4.444075852048209,-1.9234026167735865,-0.26049494542683266,-1.98519659077787,-1.109106751968817,-0.8879647932005986,3.2079146849327946,0.7848294964357633,2.1226961409191545,-0.7213540330057086,-2.344125515696011,-2.111204520042666,-3.591719651597679,1.6859198228289975,-3.7418829748732514,0.181911515957123,-1.5337880597123703,-3.0550151582166882,1.3130573497025302,-1.9111055228597011,2.5260109456607163,-0.06258240474322026,-2.2011258762488493,1.5007743015280084,2.2298627463573037,-0.17496651101951774,1.4678530599085917,-0.21097349002418433,-3.8039582060056802,4.503254822564072,-0.11547136298127988,-0.1527070324687047,2.113792389938249,6.379023649454639,2.232460695922559,-0.9258120010516308,1.370250678364311,0.7527616614491941,2.9390487149855318,0.19943845354516157,1.794462349986053,3.6488978434650683,0.42170302959129946,6.345680799941388,-1.5268589695355617,-1.128688997525766,-0.7348697149746115,-3.7070496267947775,-1.1558784460451668,1.3456295795719526,-0.41533596887451085,0.5866515440821555,-1.5584701423218479,0.6852747705952817,5.468263707999636,6.839057687345455,-3.5305532754734443,2.0751768675230178,-4.082493661156032,-0.3329422625332225,-3.9453715594882017,-4.503135674924691,0.5224612035844199,1.2527603611378664,2.543365736496336,0.5812283786647087,-0.23483716854786063,-3.0388469204050086,-0.839557630477393,-0.9145461470252425,-2.580107372328583,-1.4258203699870988,2.6869206308548423,-0.21023999469807905,5.232888868037115,-0.24008038405198942,-0.895921308323271,2.2195406107852342,5.157351098881799,-0.7105681742596469,0.6485053067875868,-1.4921559867086587,2.607818450057726,0.35527052235756623,-2.461464174221729,0.5466269630797469,3.361593540209678,-1.2576198312810312,1.0463926175119858,-3.0540507809980375,-1.2315111627609254,2.735176242449906,-3.5891922761314,-6.786225871017942,2.2401822816958354,0.8287885372437702,0.888867658335952,1.2252114611947118,-1.3588129293974396,1.7736964952871985,7.5503426010430195,5.480054706833814,6.25556645019289,5.179338899408755,-6.029232676006895,-1.0865680873093164,1.9379806532818882,1.2366319965694543,1.168212419678891,-0.7878568934331172,0.0026241965573754735,-0.5939481764880309,2.27822657798601,-1.6567857376281312,-5.275879927896797,-0.12164776675552616,4.155426538049465,-5.512156924778136,-1.7057138341898108,3.5943810097010465,0.6745340007512647,1.3837550319549072,-0.7808651063225278,-0.843697911692156,9.489683665954233,-6.197409883677006,1.957788725662073,2.3778323896350315,3.025178097186071,-1.654832040615743,2.7171072869252106,-1.9516874186115334,-4.652878562289605,-0.20337876557231652,-0.15058561270982518,1.7207099954631122,0.6793780188363336,-2.2369830840897253,2.11154570776478,1.8991985569083634,1.7688620429691444,-3.99351361858312,-1.3945486558041358,1.2820557008588713,0.17823401841175918,2.95596663608572,-3.154316629641753,0.33522484408225867,1.6342497994699012,1.1738728243213004,-1.4286229037976645,0.771100570011713,4.014966781076932,0.4191387248313149,1.5294760996425443,-1.2090957796356963,-0.12301667190394651,-3.4361146152684987,-7.822983603516437,-3.8182161975625086,-1.8496282349046187,2.762233195013418,-3.6918801613967425,-2.133527230040106,-1.3043778916742397,0.6303162895112875,-0.9673351477300934,3.4438426240632856,-1.4787722383760253,0.48837188618486477,-0.24964634752905485,1.9275480531473224,-3.526947460178408,0.9651697878774893,5.826218647571592,-4.145057083315818,2.024111894835879,1.3332290690539952,0.6405616293689823,-0.6094940395804915,7.239123380211607,3.66083772609013,-0.16625821521183115,-1.7540190983721626,0.4495944509544043,-2.192787716122925,-2.9384178865003205,-4.896642972934715,1.2376457334888769,-3.7228566178141858,-2.0416602315642236,-2.5409125946559503,-0.8204349398823252,-1.7149315739695121,1.0307076417760364,0.4497313657550577,-2.1343235520430137,1.7822028302698052,0.635816893538767,-2.242729627298484,-1.848697166128094],\"z\":[-0.6769436594290518,0.8040494443830255,0.7095968232734567,1.281068311178474,-0.7840200536855848,0.45832513605477154,-1.046286968056507,-1.2106907039094341,-2.047469688715373,1.0700777843185678,0.5996497705632665,4.018769081605459,-3.234897172374846,-1.2822980349335171,-0.12751543901499524,-1.9694593752010752,0.7408329882572546,-2.4652793356046256,5.453423143263291,2.18618415827554,0.15903936815138423,0.7805429099930372,3.1551933862753585,0.23027408876496713,-1.7862462532510355,-2.793898443739569,-1.962196338737253,-1.3732846511233587,-1.8048207951129158,-1.8932615920584603,-1.0404285656568286,-2.058452100698555,-0.2156369441133979,-1.7614299803398719,2.3036889123911872,-0.35596243767904817,-0.5089649171206393,-1.230021937743279,-0.7736484588385032,-2.2660754323022947,3.05232716028817,0.9454097737116807,-1.1535822000626426,1.0845157469251254,0.4337141303630394,-3.16767974873933,0.0961449186399286,1.211876484077291,1.5611661027165562,0.4211631761863213,-2.370525994047826,0.6467693281337215,-2.9192130142235584,-0.8017134052121988,1.1396231018899163,-0.7636117520774719,-0.23588698369700256,-0.5308796290953699,3.7360577360027074,1.6711894277419366,1.2828273466704132,0.05858205189599266,1.6418478816833664,1.988826439375254,2.115933348840321,3.702278881466611,-0.622404021253996,-1.2223329895737312,-0.2190506379799619,0.3241949959759441,-0.6692600588406514,-1.8693087643442399,2.5584695315864123,-2.14754144506992,1.7440672598732014,0.9370236282986176,-3.1227347513802712,-3.775183815265338,6.307246546425739,1.544666053210901,0.12813071973634874,1.1779198572434662,-1.3397846228293615,-0.6202017387708807,1.1872139324212319,-0.502699179960744,1.228777470017215,2.438510343824341,-3.179362820564194,2.2007363526586183,-0.16062257352458356,3.6623467768180107,-1.404699703701419,-0.9500130406263793,-0.872324246247622,1.638653563695779,0.6338624072936545,2.403367387737943,0.48455107361348215,3.1139224600057176,0.7650217459797611,-3.919988191887151,-0.9966659525370343,-1.2981730383732184,-0.4947487621260134,-0.4283476266289774,1.0172862930208408,0.9295416159100011,1.9088465096073548,-1.2357484807544608,2.3274250249319257,-0.9454089539079825,0.2265596427908749,-1.2945400591145502,4.78071983342102,1.7923221548515036,-1.4498795227921444,1.3396844822413314,-4.350484984789682,-0.045628362881624786,4.038782687195059,0.6230353951562412,2.7874186655004283,-0.5393910151483977,2.2274561480571418,0.1631646124035892,0.4050711302988825,-1.7236215376448112,-0.8443525170126659,-0.09815510236249009,-4.125442855656818,0.8754534348151766,-1.4567407814303197,-0.8250563625894513,4.259022501927511,1.5172180308239545,0.49279420993717055,0.2383091796251883,-4.132249773203503,-1.275255386982753,0.9763994684682242,-1.1872561361954268,-2.187457127195825,2.4115585096801224,7.853107756600396,-1.2116053849888284,-3.003588198307246,-1.4182138861576135,-0.9465368713490743,-0.4907597185442001,0.4186573089010361,1.2003631709687896,1.6729113021345914,0.7893453534111883,-1.4224612192118047,0.8435327463170524,-0.028274115820998487,-1.8122875349562966,0.1479504616588898,-0.9689199821172525,-3.771281410723313,1.1291715040339756,-0.9828794220890997,-0.028076132886081486,3.091495282660523,1.5601676974696441,-2.1612850317291024,1.5770572158232663,5.345476643629041,0.47982696547731024,-5.072401074610886,1.6707757308237168,2.5235697267378496,-3.811953917299031,-0.15800839729996458,0.6570522861017316,-0.4254633301487109,-0.0015449083722165367,1.6031533191826148,-1.4255904735994323,4.465947820614695,-1.222725735922592,0.26519120260751244,0.5429797649565433,-0.7796327901912192,-0.4403887326453273,-4.027911984518373,-3.364944033229107,0.6992286024009804,-4.819488787023092,-2.6503179004473285,1.027130323574307,-0.0495292886118671,-1.40013887204344,-0.9613278481051989,-0.6354256929021728,-2.0194312674958312,-3.190766363817688,-3.6337957560390537,1.233247446426336,-0.23123158427764792,-4.830658304992102,-0.9052463064073082,-2.9090302821517953,0.8353704991442676,-0.8517121182576103,1.3001748141178642,0.3929617903684519,0.8140944626945137,1.5179650488237837,-1.994846461782181,-2.732762448078726,-0.8923292887819485,3.617967628240195,-2.867309546281936,5.632793527720368,1.8982529961621026,2.0623097388234304,-2.3384730142028096,-2.31465175941025,0.21056783704003,1.852844845449928,0.5489012949201626,4.9064189585172775,9.061186092550779,-0.8353600082225577,-3.214278830068076,2.3600798843644597,-2.7748299220025547,5.615801591804047,-1.118796572016784,-0.9369798474628854,-2.331689387769357,-1.1369960544035786,-0.38500149711463544,-0.7941659621062809,-2.9463007085793933,-0.028171397671713505,-2.8626951232795945,-0.9720251185464878,1.8994039272582628,-0.9877956201895266,0.5299270338811597,2.3241391913848184,-0.06152860120997968],\"type\":\"scatter3d\"}],                        {\"template\":{\"data\":{\"bar\":[{\"error_x\":{\"color\":\"#2a3f5f\"},\"error_y\":{\"color\":\"#2a3f5f\"},\"marker\":{\"line\":{\"color\":\"#E5ECF6\",\"width\":0.5},\"pattern\":{\"fillmode\":\"overlay\",\"size\":10,\"solidity\":0.2}},\"type\":\"bar\"}],\"barpolar\":[{\"marker\":{\"line\":{\"color\":\"#E5ECF6\",\"width\":0.5},\"pattern\":{\"fillmode\":\"overlay\",\"size\":10,\"solidity\":0.2}},\"type\":\"barpolar\"}],\"carpet\":[{\"aaxis\":{\"endlinecolor\":\"#2a3f5f\",\"gridcolor\":\"white\",\"linecolor\":\"white\",\"minorgridcolor\":\"white\",\"startlinecolor\":\"#2a3f5f\"},\"baxis\":{\"endlinecolor\":\"#2a3f5f\",\"gridcolor\":\"white\",\"linecolor\":\"white\",\"minorgridcolor\":\"white\",\"startlinecolor\":\"#2a3f5f\"},\"type\":\"carpet\"}],\"choropleth\":[{\"colorbar\":{\"outlinewidth\":0,\"ticks\":\"\"},\"type\":\"choropleth\"}],\"contour\":[{\"colorbar\":{\"outlinewidth\":0,\"ticks\":\"\"},\"colorscale\":[[0.0,\"#0d0887\"],[0.1111111111111111,\"#46039f\"],[0.2222222222222222,\"#7201a8\"],[0.3333333333333333,\"#9c179e\"],[0.4444444444444444,\"#bd3786\"],[0.5555555555555556,\"#d8576b\"],[0.6666666666666666,\"#ed7953\"],[0.7777777777777778,\"#fb9f3a\"],[0.8888888888888888,\"#fdca26\"],[1.0,\"#f0f921\"]],\"type\":\"contour\"}],\"contourcarpet\":[{\"colorbar\":{\"outlinewidth\":0,\"ticks\":\"\"},\"type\":\"contourcarpet\"}],\"heatmap\":[{\"colorbar\":{\"outlinewidth\":0,\"ticks\":\"\"},\"colorscale\":[[0.0,\"#0d0887\"],[0.1111111111111111,\"#46039f\"],[0.2222222222222222,\"#7201a8\"],[0.3333333333333333,\"#9c179e\"],[0.4444444444444444,\"#bd3786\"],[0.5555555555555556,\"#d8576b\"],[0.6666666666666666,\"#ed7953\"],[0.7777777777777778,\"#fb9f3a\"],[0.8888888888888888,\"#fdca26\"],[1.0,\"#f0f921\"]],\"type\":\"heatmap\"}],\"heatmapgl\":[{\"colorbar\":{\"outlinewidth\":0,\"ticks\":\"\"},\"colorscale\":[[0.0,\"#0d0887\"],[0.1111111111111111,\"#46039f\"],[0.2222222222222222,\"#7201a8\"],[0.3333333333333333,\"#9c179e\"],[0.4444444444444444,\"#bd3786\"],[0.5555555555555556,\"#d8576b\"],[0.6666666666666666,\"#ed7953\"],[0.7777777777777778,\"#fb9f3a\"],[0.8888888888888888,\"#fdca26\"],[1.0,\"#f0f921\"]],\"type\":\"heatmapgl\"}],\"histogram\":[{\"marker\":{\"pattern\":{\"fillmode\":\"overlay\",\"size\":10,\"solidity\":0.2}},\"type\":\"histogram\"}],\"histogram2d\":[{\"colorbar\":{\"outlinewidth\":0,\"ticks\":\"\"},\"colorscale\":[[0.0,\"#0d0887\"],[0.1111111111111111,\"#46039f\"],[0.2222222222222222,\"#7201a8\"],[0.3333333333333333,\"#9c179e\"],[0.4444444444444444,\"#bd3786\"],[0.5555555555555556,\"#d8576b\"],[0.6666666666666666,\"#ed7953\"],[0.7777777777777778,\"#fb9f3a\"],[0.8888888888888888,\"#fdca26\"],[1.0,\"#f0f921\"]],\"type\":\"histogram2d\"}],\"histogram2dcontour\":[{\"colorbar\":{\"outlinewidth\":0,\"ticks\":\"\"},\"colorscale\":[[0.0,\"#0d0887\"],[0.1111111111111111,\"#46039f\"],[0.2222222222222222,\"#7201a8\"],[0.3333333333333333,\"#9c179e\"],[0.4444444444444444,\"#bd3786\"],[0.5555555555555556,\"#d8576b\"],[0.6666666666666666,\"#ed7953\"],[0.7777777777777778,\"#fb9f3a\"],[0.8888888888888888,\"#fdca26\"],[1.0,\"#f0f921\"]],\"type\":\"histogram2dcontour\"}],\"mesh3d\":[{\"colorbar\":{\"outlinewidth\":0,\"ticks\":\"\"},\"type\":\"mesh3d\"}],\"parcoords\":[{\"line\":{\"colorbar\":{\"outlinewidth\":0,\"ticks\":\"\"}},\"type\":\"parcoords\"}],\"pie\":[{\"automargin\":true,\"type\":\"pie\"}],\"scatter\":[{\"marker\":{\"colorbar\":{\"outlinewidth\":0,\"ticks\":\"\"}},\"type\":\"scatter\"}],\"scatter3d\":[{\"line\":{\"colorbar\":{\"outlinewidth\":0,\"ticks\":\"\"}},\"marker\":{\"colorbar\":{\"outlinewidth\":0,\"ticks\":\"\"}},\"type\":\"scatter3d\"}],\"scattercarpet\":[{\"marker\":{\"colorbar\":{\"outlinewidth\":0,\"ticks\":\"\"}},\"type\":\"scattercarpet\"}],\"scattergeo\":[{\"marker\":{\"colorbar\":{\"outlinewidth\":0,\"ticks\":\"\"}},\"type\":\"scattergeo\"}],\"scattergl\":[{\"marker\":{\"colorbar\":{\"outlinewidth\":0,\"ticks\":\"\"}},\"type\":\"scattergl\"}],\"scattermapbox\":[{\"marker\":{\"colorbar\":{\"outlinewidth\":0,\"ticks\":\"\"}},\"type\":\"scattermapbox\"}],\"scatterpolar\":[{\"marker\":{\"colorbar\":{\"outlinewidth\":0,\"ticks\":\"\"}},\"type\":\"scatterpolar\"}],\"scatterpolargl\":[{\"marker\":{\"colorbar\":{\"outlinewidth\":0,\"ticks\":\"\"}},\"type\":\"scatterpolargl\"}],\"scatterternary\":[{\"marker\":{\"colorbar\":{\"outlinewidth\":0,\"ticks\":\"\"}},\"type\":\"scatterternary\"}],\"surface\":[{\"colorbar\":{\"outlinewidth\":0,\"ticks\":\"\"},\"colorscale\":[[0.0,\"#0d0887\"],[0.1111111111111111,\"#46039f\"],[0.2222222222222222,\"#7201a8\"],[0.3333333333333333,\"#9c179e\"],[0.4444444444444444,\"#bd3786\"],[0.5555555555555556,\"#d8576b\"],[0.6666666666666666,\"#ed7953\"],[0.7777777777777778,\"#fb9f3a\"],[0.8888888888888888,\"#fdca26\"],[1.0,\"#f0f921\"]],\"type\":\"surface\"}],\"table\":[{\"cells\":{\"fill\":{\"color\":\"#EBF0F8\"},\"line\":{\"color\":\"white\"}},\"header\":{\"fill\":{\"color\":\"#C8D4E3\"},\"line\":{\"color\":\"white\"}},\"type\":\"table\"}]},\"layout\":{\"annotationdefaults\":{\"arrowcolor\":\"#2a3f5f\",\"arrowhead\":0,\"arrowwidth\":1},\"autotypenumbers\":\"strict\",\"coloraxis\":{\"colorbar\":{\"outlinewidth\":0,\"ticks\":\"\"}},\"colorscale\":{\"diverging\":[[0,\"#8e0152\"],[0.1,\"#c51b7d\"],[0.2,\"#de77ae\"],[0.3,\"#f1b6da\"],[0.4,\"#fde0ef\"],[0.5,\"#f7f7f7\"],[0.6,\"#e6f5d0\"],[0.7,\"#b8e186\"],[0.8,\"#7fbc41\"],[0.9,\"#4d9221\"],[1,\"#276419\"]],\"sequential\":[[0.0,\"#0d0887\"],[0.1111111111111111,\"#46039f\"],[0.2222222222222222,\"#7201a8\"],[0.3333333333333333,\"#9c179e\"],[0.4444444444444444,\"#bd3786\"],[0.5555555555555556,\"#d8576b\"],[0.6666666666666666,\"#ed7953\"],[0.7777777777777778,\"#fb9f3a\"],[0.8888888888888888,\"#fdca26\"],[1.0,\"#f0f921\"]],\"sequentialminus\":[[0.0,\"#0d0887\"],[0.1111111111111111,\"#46039f\"],[0.2222222222222222,\"#7201a8\"],[0.3333333333333333,\"#9c179e\"],[0.4444444444444444,\"#bd3786\"],[0.5555555555555556,\"#d8576b\"],[0.6666666666666666,\"#ed7953\"],[0.7777777777777778,\"#fb9f3a\"],[0.8888888888888888,\"#fdca26\"],[1.0,\"#f0f921\"]]},\"colorway\":[\"#636efa\",\"#EF553B\",\"#00cc96\",\"#ab63fa\",\"#FFA15A\",\"#19d3f3\",\"#FF6692\",\"#B6E880\",\"#FF97FF\",\"#FECB52\"],\"font\":{\"color\":\"#2a3f5f\"},\"geo\":{\"bgcolor\":\"white\",\"lakecolor\":\"white\",\"landcolor\":\"#E5ECF6\",\"showlakes\":true,\"showland\":true,\"subunitcolor\":\"white\"},\"hoverlabel\":{\"align\":\"left\"},\"hovermode\":\"closest\",\"mapbox\":{\"style\":\"light\"},\"paper_bgcolor\":\"white\",\"plot_bgcolor\":\"#E5ECF6\",\"polar\":{\"angularaxis\":{\"gridcolor\":\"white\",\"linecolor\":\"white\",\"ticks\":\"\"},\"bgcolor\":\"#E5ECF6\",\"radialaxis\":{\"gridcolor\":\"white\",\"linecolor\":\"white\",\"ticks\":\"\"}},\"scene\":{\"xaxis\":{\"backgroundcolor\":\"#E5ECF6\",\"gridcolor\":\"white\",\"gridwidth\":2,\"linecolor\":\"white\",\"showbackground\":true,\"ticks\":\"\",\"zerolinecolor\":\"white\"},\"yaxis\":{\"backgroundcolor\":\"#E5ECF6\",\"gridcolor\":\"white\",\"gridwidth\":2,\"linecolor\":\"white\",\"showbackground\":true,\"ticks\":\"\",\"zerolinecolor\":\"white\"},\"zaxis\":{\"backgroundcolor\":\"#E5ECF6\",\"gridcolor\":\"white\",\"gridwidth\":2,\"linecolor\":\"white\",\"showbackground\":true,\"ticks\":\"\",\"zerolinecolor\":\"white\"}},\"shapedefaults\":{\"line\":{\"color\":\"#2a3f5f\"}},\"ternary\":{\"aaxis\":{\"gridcolor\":\"white\",\"linecolor\":\"white\",\"ticks\":\"\"},\"baxis\":{\"gridcolor\":\"white\",\"linecolor\":\"white\",\"ticks\":\"\"},\"bgcolor\":\"#E5ECF6\",\"caxis\":{\"gridcolor\":\"white\",\"linecolor\":\"white\",\"ticks\":\"\"}},\"title\":{\"x\":0.05},\"xaxis\":{\"automargin\":true,\"gridcolor\":\"white\",\"linecolor\":\"white\",\"ticks\":\"\",\"title\":{\"standoff\":15},\"zerolinecolor\":\"white\",\"zerolinewidth\":2},\"yaxis\":{\"automargin\":true,\"gridcolor\":\"white\",\"linecolor\":\"white\",\"ticks\":\"\",\"title\":{\"standoff\":15},\"zerolinecolor\":\"white\",\"zerolinewidth\":2}}},\"scene\":{\"domain\":{\"x\":[0.0,1.0],\"y\":[0.0,1.0]},\"xaxis\":{\"title\":{\"text\":\"x\"}},\"yaxis\":{\"title\":{\"text\":\"y\"}},\"zaxis\":{\"title\":{\"text\":\"z\"}}},\"coloraxis\":{\"colorbar\":{\"title\":{\"text\":\"color\"}},\"colorscale\":[[0.0,\"#0d0887\"],[0.1111111111111111,\"#46039f\"],[0.2222222222222222,\"#7201a8\"],[0.3333333333333333,\"#9c179e\"],[0.4444444444444444,\"#bd3786\"],[0.5555555555555556,\"#d8576b\"],[0.6666666666666666,\"#ed7953\"],[0.7777777777777778,\"#fb9f3a\"],[0.8888888888888888,\"#fdca26\"],[1.0,\"#f0f921\"]]},\"legend\":{\"tracegroupgap\":0},\"title\":{\"text\":\"3D plot of the three PCA axis\"}},                        {\"responsive\": true}                    ).then(function(){\n",
              "                            \n",
              "var gd = document.getElementById('b8dcce3f-4b31-45c3-93af-ee0724e11064');\n",
              "var x = new MutationObserver(function (mutations, observer) {{\n",
              "        var display = window.getComputedStyle(gd).display;\n",
              "        if (!display || display === 'none') {{\n",
              "            console.log([gd, 'removed!']);\n",
              "            Plotly.purge(gd);\n",
              "            observer.disconnect();\n",
              "        }}\n",
              "}});\n",
              "\n",
              "// Listen for the removal of the full notebook cells\n",
              "var notebookContainer = gd.closest('#notebook-container');\n",
              "if (notebookContainer) {{\n",
              "    x.observe(notebookContainer, {childList: true});\n",
              "}}\n",
              "\n",
              "// Listen for the clearing of the current output cell\n",
              "var outputEl = gd.closest('.output');\n",
              "if (outputEl) {{\n",
              "    x.observe(outputEl, {childList: true});\n",
              "}}\n",
              "\n",
              "                        })                };                            </script>        </div>\n",
              "</body>\n",
              "</html>"
            ]
          },
          "metadata": {},
          "output_type": "display_data"
        }
      ],
      "source": [
        "kmeans = KMeans(n_clusters=4, random_state=42)\n",
        "kmeans.fit(x_normalized)\n",
        "y_kmeans = kmeans.predict(x_normalized)\n",
        "labels = kmeans.labels_\n",
        "\n",
        "fig = px.scatter(x=pca[:, 0], y=pca[:, 1], \n",
        "                 color = labels, \n",
        "                 title=\"2D plot of the two firt PCA axis\"\n",
        "                 )\n",
        "fig.show()\n",
        "\n",
        "fig = px.scatter_3d(x=pca[:, 0], y=pca[:, 1], z=pca[:, 2],\n",
        "                    color = labels,\n",
        "                    title=\"3D plot of the three PCA axis\"\n",
        "                    )\n",
        "fig.show()"
      ]
    },
    {
      "cell_type": "markdown",
      "metadata": {
        "id": "FQrPjjstXnSs"
      },
      "source": [
        "Les données ne semblent pas etre séparables. Voyons si les classes nous permettent d'identifier des patterns dans les annotations"
      ]
    },
    {
      "cell_type": "code",
      "execution_count": null,
      "metadata": {
        "colab": {
          "base_uri": "https://localhost:8080/",
          "height": 562
        },
        "id": "ZbFBk0fUPvZl",
        "outputId": "08b9d6ef-04e4-49ea-d6ac-55394dd24030"
      },
      "outputs": [
        {
          "data": {
            "text/html": [
              "<html>\n",
              "<head><meta charset=\"utf-8\" /></head>\n",
              "<body>\n",
              "    <div>            <script src=\"https://cdnjs.cloudflare.com/ajax/libs/mathjax/2.7.5/MathJax.js?config=TeX-AMS-MML_SVG\"></script><script type=\"text/javascript\">if (window.MathJax) {MathJax.Hub.Config({SVG: {font: \"STIX-Web\"}});}</script>                <script type=\"text/javascript\">window.PlotlyConfig = {MathJaxConfig: 'local'};</script>\n",
              "        <script src=\"https://cdn.plot.ly/plotly-2.8.3.min.js\"></script>                <div id=\"b3645147-61f7-4073-809e-7cadb83120dc\" class=\"plotly-graph-div\" style=\"height:525px; width:100%;\"></div>            <script type=\"text/javascript\">                                    window.PLOTLYENV=window.PLOTLYENV || {};                                    if (document.getElementById(\"b3645147-61f7-4073-809e-7cadb83120dc\")) {                    Plotly.newPlot(                        \"b3645147-61f7-4073-809e-7cadb83120dc\",                        [{\"hovertemplate\":\"AudienceEngagement_rms=%{x}<br>Persuasiveness_rms=%{y}<br>PerceivedSelf-Confidence_rms=%{z}<br>color=%{marker.color}<extra></extra>\",\"legendgroup\":\"\",\"marker\":{\"color\":[0,0,0,1,0,0,1,0,0,1,0,1,1,0,0,1,0,2,1,2,0,0,2,0,0,2,1,0,1,1,2,0,2,0,2,0,0,1,0,2,2,0,0,0,1,1,0,1,0,0,2,2,2,0,0,1,1,0,0,0,1,1,0,0,2,0,1,2,2,1,0,0,1,2,0,1,2,2,2,1,0,0,2,2,2,2,0,2,0,0,1,1,1,0,0,0,0,2,0,2,3,2,1,0,1,1,1,0,2,0,1,1,0,1,0,1,0,0,2,0,1,0,0,1,0,1,0,1,1,0,2,1,0,1,1,2,0,1,2,2,2,2,1,2,2,2,2,2,1,2,2,2,2,1,0,1,2,0,1,2,2,1,1,0,0,2,1,1,2,1,2,0,0,1,2,1,1,0,0,2,1,1,0,2,0,1,1,2,1,2,1,0,2,0,1,0,2,2,2,1,0,1,1,1,1,2,1,1,1,0,1,2,1,0,0,2,1,0,2,1,0,0,1,1,2,0,2,0,1,1,1,1,0,1,1,1,1,1,2,0,1,0,0,0,1],\"coloraxis\":\"coloraxis\",\"symbol\":\"circle\"},\"mode\":\"markers\",\"name\":\"\",\"scene\":\"scene\",\"showlegend\":false,\"x\":[3.872983346,3.937003937,3.201562119,3.201562119,3.640054945,4.242640687,4.0,4.0,4.69041576,4.415880433,4.242640687,4.153311931,4.092676386,3.45205253,4.924428901,4.69041576,4.291464397,3.958114029,3.464101615,4.444097209,4.0,4.358898944,3.968626967,3.796928583,3.989569735,4.527692569,4.358898944,3.774917218,4.153311931,4.69041576,3.45205253,4.769696007,4.546060566,3.730504881,4.69041576,3.872983346,3.605551275,4.444097209,3.378855822,4.5,4.69041576,4.69041576,4.769696007,4.444097209,3.391164992,3.488074923,4.415880433,4.69041576,4.358898944,4.031128874,4.582575695,3.674234614,3.593976442,4.358898944,4.358898944,4.242640687,3.617089069,4.358898944,3.674234614,4.627814459,4.609772229,4.123105626,3.696845502,3.92640633,4.5,4.769696007,4.358898944,4.242640687,4.082482905,4.69041576,3.796928583,4.377975179,3.559026084,3.640054945,4.082482905,4.415880433,4.34932945,4.627814459,4.627814459,3.265986324,4.69041576,4.609772229,4.769696007,3.708099244,4.769696007,4.092676386,5.0,4.69041576,4.34932945,3.0,3.523729085,4.527692569,4.010403139,4.415880433,4.5,4.242640687,3.872983346,3.640054945,3.559026084,4.173328009,4.031128874,4.082482905,3.5,4.082482905,4.358898944,3.640054945,4.415880433,4.153311931,2.872281323,3.617089069,4.769696007,3.696845502,3.265986324,4.153311931,4.330127019,3.989569735,3.391164992,4.272001873,3.354101966,3.559026084,3.92640633,3.378855822,3.391164992,4.444097209,3.535533906,4.082482905,4.358898944,4.358898944,3.227486122,4.609772229,4.031128874,3.92640633,4.153311931,4.924428901,4.5,4.153311931,3.640054945,4.609772229,4.5,4.527692569,4.377975179,4.0,3.149073938,3.862210075,4.082482905,4.74341649,4.291464397,4.609772229,4.153311931,3.605551275,4.69041576,4.358898944,3.214550254,4.242640687,3.968626967,3.265986324,4.358898944,4.847679857,4.291464397,4.242640687,3.109126351,3.937003937,3.109126351,4.434711565,3.807886553,2.986078811,4.377975179,4.031128874,4.242640687,3.523729085,4.082482905,3.5,3.559026084,2.723355773,4.330127019,4.5,4.924428901,3.719318934,3.872983346,4.358898944,3.937003937,3.488074923,4.582575695,4.183300133,3.840572874,4.272001873,3.378855822,4.609772229,3.968626967,4.358898944,4.527692569,3.523729085,4.123105626,4.358898944,4.153311931,4.627814459,2.958039892,4.0,4.330127019,3.696845502,4.769696007,3.201562119,4.769696007,4.444097209,4.527692569,4.092676386,3.31662479,4.242640687,3.640054945,3.378855822,3.640054945,4.0,3.5,4.444097209,3.840572874,5.0,3.378855822,4.242640687,4.153311931,4.020779361,4.272001873,3.92640633,3.149073938,4.358898944,3.354101966,4.031128874,4.092676386,3.5,4.69041576,3.862210075,3.796928583,4.173328009,4.444097209,3.708099244,4.242640687,3.559026084,4.242640687,4.69041576,4.082482905,3.5,3.872983346,4.153311931,4.69041576,3.617089069,4.092676386],\"y\":[4.092676386,4.153311931,3.872983346,4.062019202,3.570714214,4.444097209,4.272001873,4.272001873,4.5,3.905124838,4.242640687,4.609772229,4.69041576,3.696845502,4.272001873,4.69041576,4.291464397,4.173328009,4.153311931,4.444097209,3.937003937,4.153311931,3.968626967,3.559026084,3.829708431,4.769696007,4.153311931,3.535533906,4.153311931,4.444097209,3.696845502,4.769696007,4.082482905,3.559026084,4.0,3.872983346,4.272001873,4.444097209,3.958114029,4.69041576,4.69041576,4.69041576,5.0,4.444097209,3.640054945,3.662876829,4.358898944,4.444097209,4.358898944,3.872983346,5.0,4.272001873,3.523729085,4.153311931,4.153311931,4.444097209,3.915780041,4.153311931,4.387482194,4.173328009,4.092676386,4.330127019,3.696845502,4.203173404,4.242640687,4.769696007,4.415880433,3.464101615,4.291464397,4.69041576,3.796928583,3.894440482,3.378855822,3.5,4.291464397,4.415880433,3.92640633,4.434711565,4.627814459,3.829708431,4.69041576,4.358898944,5.0,4.609772229,5.0,4.358898944,4.092676386,4.69041576,4.082482905,3.0,3.593976442,5.0,3.175426481,4.358898944,4.69041576,4.092676386,3.872983346,3.640054945,4.082482905,4.627814459,3.872983346,4.34932945,3.674234614,4.082482905,3.774917218,3.807886553,4.609772229,4.153311931,3.535533906,3.851406669,4.092676386,3.862210075,3.45205253,4.153311931,3.807886553,3.829708431,4.153311931,4.527692569,3.354101966,3.796928583,3.796928583,3.378855822,4.153311931,4.924428901,3.774917218,3.696845502,4.358898944,3.872983346,3.227486122,4.609772229,4.242640687,4.082482905,4.358898944,4.272001873,4.444097209,4.153311931,4.242640687,4.847679857,4.5,4.527692569,4.627814459,4.0,2.62995564,4.082482905,3.696845502,3.872983346,4.082482905,4.153311931,4.358898944,3.605551275,4.69041576,4.358898944,3.476108936,3.807886553,4.924428901,3.696845502,4.609772229,4.847679857,4.434711565,4.5,3.109126351,3.640054945,3.45205253,3.696845502,4.183300133,3.45205253,4.377975179,3.640054945,4.69041576,4.291464397,4.291464397,4.031128874,2.581988897,2.581988897,4.769696007,4.5,4.924428901,3.719318934,4.153311931,4.358898944,4.153311931,4.020779361,4.330127019,4.69041576,3.535533906,4.062019202,3.796928583,4.358898944,3.968626967,4.242640687,3.535533906,3.188521078,4.123105626,4.358898944,3.605551275,4.627814459,1.658312395,4.609772229,4.527692569,3.92640633,5.0,4.062019202,4.092676386,4.69041576,4.769696007,4.444097209,3.31662479,4.69041576,4.609772229,3.378855822,3.741657387,3.774917218,3.741657387,4.444097209,3.840572874,4.769696007,3.559026084,4.5,3.640054945,4.173328009,4.358898944,4.082482905,4.203173404,4.153311931,4.272001873,4.444097209,4.444097209,4.153311931,4.69041576,3.696845502,3.304037934,4.434711565,4.444097209,3.0,4.69041576,3.696845502,4.444097209,4.69041576,3.796928583,2.5,3.872983346,4.358898944,4.924428901,3.851406669,4.092676386],\"z\":[4.358898944,4.358898944,3.872983346,3.464101615,3.872983346,4.69041576,4.0,4.0,4.69041576,4.358898944,4.242640687,4.358898944,4.69041576,3.696845502,4.69041576,4.69041576,4.082482905,4.434711565,4.358898944,4.69041576,4.358898944,4.358898944,4.242640687,3.559026084,3.696845502,5.0,4.358898944,4.0,4.358898944,4.69041576,3.696845502,5.0,4.082482905,3.559026084,4.69041576,3.872983346,4.0,4.69041576,3.559026084,4.69041576,4.69041576,4.69041576,5.0,4.69041576,4.358898944,4.434711565,4.358898944,4.69041576,4.358898944,3.872983346,5.0,5.0,3.696845502,4.358898944,4.358898944,4.69041576,3.366501646,4.358898944,4.242640687,4.434711565,4.358898944,4.242640687,3.696845502,4.082482905,4.69041576,5.0,4.358898944,4.242640687,4.082482905,4.69041576,4.082482905,4.434711565,4.082482905,3.872983346,4.082482905,4.358898944,4.082482905,4.434711565,4.434711565,3.696845502,4.69041576,4.358898944,5.0,4.358898944,5.0,4.69041576,5.0,4.69041576,4.082482905,3.464101615,4.082482905,5.0,3.785938897,4.358898944,4.69041576,4.69041576,4.358898944,4.358898944,4.082482905,4.434711565,3.872983346,4.082482905,3.31662479,4.082482905,4.69041576,3.872983346,4.358898944,4.358898944,4.0,3.785938897,5.0,4.082482905,3.696845502,4.358898944,5.0,3.696845502,4.358898944,4.0,3.31662479,4.082482905,4.082482905,3.559026084,3.464101615,4.69041576,4.0,4.082482905,4.358898944,4.358898944,3.559026084,4.358898944,4.69041576,4.082482905,4.358898944,4.69041576,4.69041576,4.358898944,3.872983346,4.358898944,4.69041576,5.0,4.434711565,4.358898944,2.380476143,4.082482905,3.109126351,3.872983346,4.082482905,4.358898944,4.358898944,4.0,4.69041576,4.358898944,2.708012802,3.872983346,4.69041576,3.696845502,4.358898944,4.358898944,4.434711565,4.69041576,3.109126351,4.358898944,3.109126351,4.434711565,4.69041576,3.696845502,4.434711565,3.872983346,4.69041576,4.082482905,4.082482905,3.872983346,3.559026084,2.943920289,5.0,4.69041576,4.69041576,3.785938897,4.358898944,4.358898944,4.358898944,4.434711565,4.242640687,4.69041576,4.0,4.0,4.082482905,4.358898944,4.69041576,4.69041576,4.0,3.696845502,4.242640687,4.358898944,4.358898944,4.434711565,1.414213562,4.358898944,5.0,3.696845502,5.0,3.464101615,5.0,4.69041576,5.0,4.69041576,3.872983346,4.69041576,4.358898944,3.559026084,3.31662479,4.0,3.31662479,4.69041576,4.123105626,5.0,3.109126351,4.69041576,4.358898944,4.434711565,4.358898944,4.082482905,3.696845502,4.358898944,4.0,4.69041576,4.69041576,4.358898944,4.69041576,4.082482905,3.109126351,4.434711565,4.69041576,3.464101615,4.69041576,4.082482905,4.69041576,4.69041576,4.082482905,3.741657387,3.872983346,4.358898944,4.69041576,3.366501646,4.358898944],\"type\":\"scatter3d\"}],                        {\"template\":{\"data\":{\"bar\":[{\"error_x\":{\"color\":\"#2a3f5f\"},\"error_y\":{\"color\":\"#2a3f5f\"},\"marker\":{\"line\":{\"color\":\"#E5ECF6\",\"width\":0.5},\"pattern\":{\"fillmode\":\"overlay\",\"size\":10,\"solidity\":0.2}},\"type\":\"bar\"}],\"barpolar\":[{\"marker\":{\"line\":{\"color\":\"#E5ECF6\",\"width\":0.5},\"pattern\":{\"fillmode\":\"overlay\",\"size\":10,\"solidity\":0.2}},\"type\":\"barpolar\"}],\"carpet\":[{\"aaxis\":{\"endlinecolor\":\"#2a3f5f\",\"gridcolor\":\"white\",\"linecolor\":\"white\",\"minorgridcolor\":\"white\",\"startlinecolor\":\"#2a3f5f\"},\"baxis\":{\"endlinecolor\":\"#2a3f5f\",\"gridcolor\":\"white\",\"linecolor\":\"white\",\"minorgridcolor\":\"white\",\"startlinecolor\":\"#2a3f5f\"},\"type\":\"carpet\"}],\"choropleth\":[{\"colorbar\":{\"outlinewidth\":0,\"ticks\":\"\"},\"type\":\"choropleth\"}],\"contour\":[{\"colorbar\":{\"outlinewidth\":0,\"ticks\":\"\"},\"colorscale\":[[0.0,\"#0d0887\"],[0.1111111111111111,\"#46039f\"],[0.2222222222222222,\"#7201a8\"],[0.3333333333333333,\"#9c179e\"],[0.4444444444444444,\"#bd3786\"],[0.5555555555555556,\"#d8576b\"],[0.6666666666666666,\"#ed7953\"],[0.7777777777777778,\"#fb9f3a\"],[0.8888888888888888,\"#fdca26\"],[1.0,\"#f0f921\"]],\"type\":\"contour\"}],\"contourcarpet\":[{\"colorbar\":{\"outlinewidth\":0,\"ticks\":\"\"},\"type\":\"contourcarpet\"}],\"heatmap\":[{\"colorbar\":{\"outlinewidth\":0,\"ticks\":\"\"},\"colorscale\":[[0.0,\"#0d0887\"],[0.1111111111111111,\"#46039f\"],[0.2222222222222222,\"#7201a8\"],[0.3333333333333333,\"#9c179e\"],[0.4444444444444444,\"#bd3786\"],[0.5555555555555556,\"#d8576b\"],[0.6666666666666666,\"#ed7953\"],[0.7777777777777778,\"#fb9f3a\"],[0.8888888888888888,\"#fdca26\"],[1.0,\"#f0f921\"]],\"type\":\"heatmap\"}],\"heatmapgl\":[{\"colorbar\":{\"outlinewidth\":0,\"ticks\":\"\"},\"colorscale\":[[0.0,\"#0d0887\"],[0.1111111111111111,\"#46039f\"],[0.2222222222222222,\"#7201a8\"],[0.3333333333333333,\"#9c179e\"],[0.4444444444444444,\"#bd3786\"],[0.5555555555555556,\"#d8576b\"],[0.6666666666666666,\"#ed7953\"],[0.7777777777777778,\"#fb9f3a\"],[0.8888888888888888,\"#fdca26\"],[1.0,\"#f0f921\"]],\"type\":\"heatmapgl\"}],\"histogram\":[{\"marker\":{\"pattern\":{\"fillmode\":\"overlay\",\"size\":10,\"solidity\":0.2}},\"type\":\"histogram\"}],\"histogram2d\":[{\"colorbar\":{\"outlinewidth\":0,\"ticks\":\"\"},\"colorscale\":[[0.0,\"#0d0887\"],[0.1111111111111111,\"#46039f\"],[0.2222222222222222,\"#7201a8\"],[0.3333333333333333,\"#9c179e\"],[0.4444444444444444,\"#bd3786\"],[0.5555555555555556,\"#d8576b\"],[0.6666666666666666,\"#ed7953\"],[0.7777777777777778,\"#fb9f3a\"],[0.8888888888888888,\"#fdca26\"],[1.0,\"#f0f921\"]],\"type\":\"histogram2d\"}],\"histogram2dcontour\":[{\"colorbar\":{\"outlinewidth\":0,\"ticks\":\"\"},\"colorscale\":[[0.0,\"#0d0887\"],[0.1111111111111111,\"#46039f\"],[0.2222222222222222,\"#7201a8\"],[0.3333333333333333,\"#9c179e\"],[0.4444444444444444,\"#bd3786\"],[0.5555555555555556,\"#d8576b\"],[0.6666666666666666,\"#ed7953\"],[0.7777777777777778,\"#fb9f3a\"],[0.8888888888888888,\"#fdca26\"],[1.0,\"#f0f921\"]],\"type\":\"histogram2dcontour\"}],\"mesh3d\":[{\"colorbar\":{\"outlinewidth\":0,\"ticks\":\"\"},\"type\":\"mesh3d\"}],\"parcoords\":[{\"line\":{\"colorbar\":{\"outlinewidth\":0,\"ticks\":\"\"}},\"type\":\"parcoords\"}],\"pie\":[{\"automargin\":true,\"type\":\"pie\"}],\"scatter\":[{\"marker\":{\"colorbar\":{\"outlinewidth\":0,\"ticks\":\"\"}},\"type\":\"scatter\"}],\"scatter3d\":[{\"line\":{\"colorbar\":{\"outlinewidth\":0,\"ticks\":\"\"}},\"marker\":{\"colorbar\":{\"outlinewidth\":0,\"ticks\":\"\"}},\"type\":\"scatter3d\"}],\"scattercarpet\":[{\"marker\":{\"colorbar\":{\"outlinewidth\":0,\"ticks\":\"\"}},\"type\":\"scattercarpet\"}],\"scattergeo\":[{\"marker\":{\"colorbar\":{\"outlinewidth\":0,\"ticks\":\"\"}},\"type\":\"scattergeo\"}],\"scattergl\":[{\"marker\":{\"colorbar\":{\"outlinewidth\":0,\"ticks\":\"\"}},\"type\":\"scattergl\"}],\"scattermapbox\":[{\"marker\":{\"colorbar\":{\"outlinewidth\":0,\"ticks\":\"\"}},\"type\":\"scattermapbox\"}],\"scatterpolar\":[{\"marker\":{\"colorbar\":{\"outlinewidth\":0,\"ticks\":\"\"}},\"type\":\"scatterpolar\"}],\"scatterpolargl\":[{\"marker\":{\"colorbar\":{\"outlinewidth\":0,\"ticks\":\"\"}},\"type\":\"scatterpolargl\"}],\"scatterternary\":[{\"marker\":{\"colorbar\":{\"outlinewidth\":0,\"ticks\":\"\"}},\"type\":\"scatterternary\"}],\"surface\":[{\"colorbar\":{\"outlinewidth\":0,\"ticks\":\"\"},\"colorscale\":[[0.0,\"#0d0887\"],[0.1111111111111111,\"#46039f\"],[0.2222222222222222,\"#7201a8\"],[0.3333333333333333,\"#9c179e\"],[0.4444444444444444,\"#bd3786\"],[0.5555555555555556,\"#d8576b\"],[0.6666666666666666,\"#ed7953\"],[0.7777777777777778,\"#fb9f3a\"],[0.8888888888888888,\"#fdca26\"],[1.0,\"#f0f921\"]],\"type\":\"surface\"}],\"table\":[{\"cells\":{\"fill\":{\"color\":\"#EBF0F8\"},\"line\":{\"color\":\"white\"}},\"header\":{\"fill\":{\"color\":\"#C8D4E3\"},\"line\":{\"color\":\"white\"}},\"type\":\"table\"}]},\"layout\":{\"annotationdefaults\":{\"arrowcolor\":\"#2a3f5f\",\"arrowhead\":0,\"arrowwidth\":1},\"autotypenumbers\":\"strict\",\"coloraxis\":{\"colorbar\":{\"outlinewidth\":0,\"ticks\":\"\"}},\"colorscale\":{\"diverging\":[[0,\"#8e0152\"],[0.1,\"#c51b7d\"],[0.2,\"#de77ae\"],[0.3,\"#f1b6da\"],[0.4,\"#fde0ef\"],[0.5,\"#f7f7f7\"],[0.6,\"#e6f5d0\"],[0.7,\"#b8e186\"],[0.8,\"#7fbc41\"],[0.9,\"#4d9221\"],[1,\"#276419\"]],\"sequential\":[[0.0,\"#0d0887\"],[0.1111111111111111,\"#46039f\"],[0.2222222222222222,\"#7201a8\"],[0.3333333333333333,\"#9c179e\"],[0.4444444444444444,\"#bd3786\"],[0.5555555555555556,\"#d8576b\"],[0.6666666666666666,\"#ed7953\"],[0.7777777777777778,\"#fb9f3a\"],[0.8888888888888888,\"#fdca26\"],[1.0,\"#f0f921\"]],\"sequentialminus\":[[0.0,\"#0d0887\"],[0.1111111111111111,\"#46039f\"],[0.2222222222222222,\"#7201a8\"],[0.3333333333333333,\"#9c179e\"],[0.4444444444444444,\"#bd3786\"],[0.5555555555555556,\"#d8576b\"],[0.6666666666666666,\"#ed7953\"],[0.7777777777777778,\"#fb9f3a\"],[0.8888888888888888,\"#fdca26\"],[1.0,\"#f0f921\"]]},\"colorway\":[\"#636efa\",\"#EF553B\",\"#00cc96\",\"#ab63fa\",\"#FFA15A\",\"#19d3f3\",\"#FF6692\",\"#B6E880\",\"#FF97FF\",\"#FECB52\"],\"font\":{\"color\":\"#2a3f5f\"},\"geo\":{\"bgcolor\":\"white\",\"lakecolor\":\"white\",\"landcolor\":\"#E5ECF6\",\"showlakes\":true,\"showland\":true,\"subunitcolor\":\"white\"},\"hoverlabel\":{\"align\":\"left\"},\"hovermode\":\"closest\",\"mapbox\":{\"style\":\"light\"},\"paper_bgcolor\":\"white\",\"plot_bgcolor\":\"#E5ECF6\",\"polar\":{\"angularaxis\":{\"gridcolor\":\"white\",\"linecolor\":\"white\",\"ticks\":\"\"},\"bgcolor\":\"#E5ECF6\",\"radialaxis\":{\"gridcolor\":\"white\",\"linecolor\":\"white\",\"ticks\":\"\"}},\"scene\":{\"xaxis\":{\"backgroundcolor\":\"#E5ECF6\",\"gridcolor\":\"white\",\"gridwidth\":2,\"linecolor\":\"white\",\"showbackground\":true,\"ticks\":\"\",\"zerolinecolor\":\"white\"},\"yaxis\":{\"backgroundcolor\":\"#E5ECF6\",\"gridcolor\":\"white\",\"gridwidth\":2,\"linecolor\":\"white\",\"showbackground\":true,\"ticks\":\"\",\"zerolinecolor\":\"white\"},\"zaxis\":{\"backgroundcolor\":\"#E5ECF6\",\"gridcolor\":\"white\",\"gridwidth\":2,\"linecolor\":\"white\",\"showbackground\":true,\"ticks\":\"\",\"zerolinecolor\":\"white\"}},\"shapedefaults\":{\"line\":{\"color\":\"#2a3f5f\"}},\"ternary\":{\"aaxis\":{\"gridcolor\":\"white\",\"linecolor\":\"white\",\"ticks\":\"\"},\"baxis\":{\"gridcolor\":\"white\",\"linecolor\":\"white\",\"ticks\":\"\"},\"bgcolor\":\"#E5ECF6\",\"caxis\":{\"gridcolor\":\"white\",\"linecolor\":\"white\",\"ticks\":\"\"}},\"title\":{\"x\":0.05},\"xaxis\":{\"automargin\":true,\"gridcolor\":\"white\",\"linecolor\":\"white\",\"ticks\":\"\",\"title\":{\"standoff\":15},\"zerolinecolor\":\"white\",\"zerolinewidth\":2},\"yaxis\":{\"automargin\":true,\"gridcolor\":\"white\",\"linecolor\":\"white\",\"ticks\":\"\",\"title\":{\"standoff\":15},\"zerolinecolor\":\"white\",\"zerolinewidth\":2}}},\"scene\":{\"domain\":{\"x\":[0.0,1.0],\"y\":[0.0,1.0]},\"xaxis\":{\"title\":{\"text\":\"AudienceEngagement_rms\"}},\"yaxis\":{\"title\":{\"text\":\"Persuasiveness_rms\"}},\"zaxis\":{\"title\":{\"text\":\"PerceivedSelf-Confidence_rms\"}}},\"coloraxis\":{\"colorbar\":{\"title\":{\"text\":\"color\"}},\"colorscale\":[[0.0,\"#0d0887\"],[0.1111111111111111,\"#46039f\"],[0.2222222222222222,\"#7201a8\"],[0.3333333333333333,\"#9c179e\"],[0.4444444444444444,\"#bd3786\"],[0.5555555555555556,\"#d8576b\"],[0.6666666666666666,\"#ed7953\"],[0.7777777777777778,\"#fb9f3a\"],[0.8888888888888888,\"#fdca26\"],[1.0,\"#f0f921\"]]},\"legend\":{\"tracegroupgap\":0},\"margin\":{\"t\":60}},                        {\"responsive\": true}                    ).then(function(){\n",
              "                            \n",
              "var gd = document.getElementById('b3645147-61f7-4073-809e-7cadb83120dc');\n",
              "var x = new MutationObserver(function (mutations, observer) {{\n",
              "        var display = window.getComputedStyle(gd).display;\n",
              "        if (!display || display === 'none') {{\n",
              "            console.log([gd, 'removed!']);\n",
              "            Plotly.purge(gd);\n",
              "            observer.disconnect();\n",
              "        }}\n",
              "}});\n",
              "\n",
              "// Listen for the removal of the full notebook cells\n",
              "var notebookContainer = gd.closest('#notebook-container');\n",
              "if (notebookContainer) {{\n",
              "    x.observe(notebookContainer, {childList: true});\n",
              "}}\n",
              "\n",
              "// Listen for the clearing of the current output cell\n",
              "var outputEl = gd.closest('.output');\n",
              "if (outputEl) {{\n",
              "    x.observe(outputEl, {childList: true});\n",
              "}}\n",
              "\n",
              "                        })                };                            </script>        </div>\n",
              "</body>\n",
              "</html>"
            ]
          },
          "metadata": {},
          "output_type": "display_data"
        }
      ],
      "source": [
        "#link bewtween the predicted classes and the annotation values\n",
        "\n",
        "fig = px.scatter_3d(data, x='AudienceEngagement_rms' ,\n",
        "                    y='Persuasiveness_rms', \n",
        "                    z='PerceivedSelf-Confidence_rms', \n",
        "                    color = kmeans.labels_\n",
        "                    )\n",
        "fig.show()"
      ]
    },
    {
      "cell_type": "markdown",
      "metadata": {
        "id": "6XKje8vhVYGv"
      },
      "source": [
        "Il semble y avoir une relation linéaire entre les trois variables. Nous testerons un regression sur ces données plus tard"
      ]
    },
    {
      "cell_type": "code",
      "execution_count": null,
      "metadata": {
        "colab": {
          "base_uri": "https://localhost:8080/",
          "height": 562
        },
        "id": "Yd7IqjmrSILQ",
        "outputId": "7daf5ce1-1c8b-42f7-a674-d41c7507d72b"
      },
      "outputs": [
        {
          "data": {
            "text/html": [
              "<html>\n",
              "<head><meta charset=\"utf-8\" /></head>\n",
              "<body>\n",
              "    <div>            <script src=\"https://cdnjs.cloudflare.com/ajax/libs/mathjax/2.7.5/MathJax.js?config=TeX-AMS-MML_SVG\"></script><script type=\"text/javascript\">if (window.MathJax) {MathJax.Hub.Config({SVG: {font: \"STIX-Web\"}});}</script>                <script type=\"text/javascript\">window.PlotlyConfig = {MathJaxConfig: 'local'};</script>\n",
              "        <script src=\"https://cdn.plot.ly/plotly-2.8.3.min.js\"></script>                <div id=\"4fb390bd-bcd9-4337-95c7-66cab61cc141\" class=\"plotly-graph-div\" style=\"height:525px; width:100%;\"></div>            <script type=\"text/javascript\">                                    window.PLOTLYENV=window.PLOTLYENV || {};                                    if (document.getElementById(\"4fb390bd-bcd9-4337-95c7-66cab61cc141\")) {                    Plotly.newPlot(                        \"4fb390bd-bcd9-4337-95c7-66cab61cc141\",                        [{\"alignmentgroup\":\"True\",\"boxpoints\":\"all\",\"hovertemplate\":\"x=%{x}<br>y=%{y}<extra></extra>\",\"legendgroup\":\"\",\"marker\":{\"color\":\"#636efa\"},\"name\":\"\",\"notched\":false,\"offsetgroup\":\"\",\"orientation\":\"v\",\"showlegend\":false,\"x\":[0,0,0,1,0,0,1,0,0,1,0,1,1,0,0,1,0,2,1,2,0,0,2,0,0,2,1,0,1,1,2,0,2,0,2,0,0,1,0,2,2,0,0,0,1,1,0,1,0,0,2,2,2,0,0,1,1,0,0,0,1,1,0,0,2,0,1,2,2,1,0,0,1,2,0,1,2,2,2,1,0,0,2,2,2,2,0,2,0,0,1,1,1,0,0,0,0,2,0,2,3,2,1,0,1,1,1,0,2,0,1,1,0,1,0,1,0,0,2,0,1,0,0,1,0,1,0,1,1,0,2,1,0,1,1,2,0,1,2,2,2,2,1,2,2,2,2,2,1,2,2,2,2,1,0,1,2,0,1,2,2,1,1,0,0,2,1,1,2,1,2,0,0,1,2,1,1,0,0,2,1,1,0,2,0,1,1,2,1,2,1,0,2,0,1,0,2,2,2,1,0,1,1,1,1,2,1,1,1,0,1,2,1,0,0,2,1,0,2,1,0,0,1,1,2,0,2,0,1,1,1,1,0,1,1,1,1,1,2,0,1,0,0,0,1],\"x0\":\" \",\"xaxis\":\"x\",\"y\":[71.67461196,76.8635154,72.84915923,68.59664715,64.71475875,79.21331959,62.72559286,70.37400088,80.55122594,67.38137725,71.95832127,77.89094941,72.26340706,61.35687954,81.01543063,77.54192414,69.32832514,74.63019943,66.16456756,77.72387021,73.30927636,75.43871685,74.13501197,62.29499712,75.51765798,78.25119807,69.39740629,70.5,74.87990385,78.24640567,66.80132234,81.59503661,67.50678978,59.88669858,78.76230063,63.94333429,72.93833012,78.53661566,52.61812109,73.38766926,77.68848048,86.06102486,82.23594105,71.03344283,68.19824045,66.18282758,76.06083092,78.58594022,73.18469785,66.66520832,83.85254916,65.89195702,60.3814265,70.51772827,69.74059076,78.01121714,63.33903483,72.8079666,64.80547816,66.25833281,73.74957627,73.70888685,60.96242012,65.38093504,72.58098925,86.06538212,80.0874522,68.19457456,70.34853706,83.25563044,67.3455022,82.27342625,69.68799514,55.31726674,59.94511378,80.00781212,76.64474324,75.87599533,80.96398376,56.29979278,79.26380006,68.73317976,79.86707707,74.22600622,79.69629853,77.44514187,67.54813099,76.70723564,69.00301926,53.5023364,55.89871793,86.35102779,66.12173117,80.54191455,75.1598297,73.70719097,67.12860791,58.50640991,66.96578728,78.16915419,75.47350528,70.25252071,65.82552696,78.0347145,76.84725109,56.77147171,82.01371836,67.35168892,53.68891878,55.14601829,78.5143299,59.07763254,45.90116193,69.65629907,83.85254916,59.09667221,67.90434449,76.08712112,57.76028047,64.27609716,71.94731869,57.30110528,53.03065151,82.45453293,66.94400645,70.89898918,83.84360441,76.60287201,49.22821007,77.44029959,68.19640753,69.13874939,80.65358021,66.11921052,75.87983922,69.23871749,68.01286643,80.40988745,80.54657038,75.627376,69.87071394,69.0651866,35.37536808,70.20268276,54.5771625,66.65583245,69.94759943,67.2569699,75.30604225,65.08648093,77.01947806,73.95437783,55.69859364,74.27146154,81.27422716,58.69980125,80.41921412,81.76643566,72.70602909,77.29488987,44.90731195,65.23610963,54.34074592,64.95511271,76.47058258,59.22766808,66.98071862,60.14149982,76.04439493,66.76575969,69.23631032,68.52554268,61.02799904,46.6761895,72.65328623,76.15608971,80.38034586,61.52303092,74.53354949,75.36079883,76.72190039,61.73262239,66.29291063,77.89576368,73.82919477,73.0,60.30892692,77.18808198,70.29046877,72.69628601,66.03029608,51.88850226,63.93746945,76.83098333,68.78408246,83.54739174,16.2711401,74.09284716,77.92143479,70.82137154,84.9426277,60.14149982,82.42875712,82.71940522,80.42853971,68.569308,65.55150647,78.49681522,79.00316449,57.71842571,64.2611858,72.07808266,54.22407215,72.74269723,67.57033373,84.64927643,58.43728832,73.87997022,60.10615609,70.61810438,76.88302804,68.53770252,57.94969082,66.39277069,62.63585235,76.73167534,83.82123836,70.19081136,84.92349498,64.69479629,56.76192973,68.13344749,78.26876772,53.06599665,75.98684097,65.18179705,80.56363944,80.72174428,71.01701674,62.23142293,69.30367956,71.26885715,84.07288505,65.28463321,68.68223933],\"y0\":\" \",\"yaxis\":\"y\",\"type\":\"box\"}],                        {\"template\":{\"data\":{\"bar\":[{\"error_x\":{\"color\":\"#2a3f5f\"},\"error_y\":{\"color\":\"#2a3f5f\"},\"marker\":{\"line\":{\"color\":\"#E5ECF6\",\"width\":0.5},\"pattern\":{\"fillmode\":\"overlay\",\"size\":10,\"solidity\":0.2}},\"type\":\"bar\"}],\"barpolar\":[{\"marker\":{\"line\":{\"color\":\"#E5ECF6\",\"width\":0.5},\"pattern\":{\"fillmode\":\"overlay\",\"size\":10,\"solidity\":0.2}},\"type\":\"barpolar\"}],\"carpet\":[{\"aaxis\":{\"endlinecolor\":\"#2a3f5f\",\"gridcolor\":\"white\",\"linecolor\":\"white\",\"minorgridcolor\":\"white\",\"startlinecolor\":\"#2a3f5f\"},\"baxis\":{\"endlinecolor\":\"#2a3f5f\",\"gridcolor\":\"white\",\"linecolor\":\"white\",\"minorgridcolor\":\"white\",\"startlinecolor\":\"#2a3f5f\"},\"type\":\"carpet\"}],\"choropleth\":[{\"colorbar\":{\"outlinewidth\":0,\"ticks\":\"\"},\"type\":\"choropleth\"}],\"contour\":[{\"colorbar\":{\"outlinewidth\":0,\"ticks\":\"\"},\"colorscale\":[[0.0,\"#0d0887\"],[0.1111111111111111,\"#46039f\"],[0.2222222222222222,\"#7201a8\"],[0.3333333333333333,\"#9c179e\"],[0.4444444444444444,\"#bd3786\"],[0.5555555555555556,\"#d8576b\"],[0.6666666666666666,\"#ed7953\"],[0.7777777777777778,\"#fb9f3a\"],[0.8888888888888888,\"#fdca26\"],[1.0,\"#f0f921\"]],\"type\":\"contour\"}],\"contourcarpet\":[{\"colorbar\":{\"outlinewidth\":0,\"ticks\":\"\"},\"type\":\"contourcarpet\"}],\"heatmap\":[{\"colorbar\":{\"outlinewidth\":0,\"ticks\":\"\"},\"colorscale\":[[0.0,\"#0d0887\"],[0.1111111111111111,\"#46039f\"],[0.2222222222222222,\"#7201a8\"],[0.3333333333333333,\"#9c179e\"],[0.4444444444444444,\"#bd3786\"],[0.5555555555555556,\"#d8576b\"],[0.6666666666666666,\"#ed7953\"],[0.7777777777777778,\"#fb9f3a\"],[0.8888888888888888,\"#fdca26\"],[1.0,\"#f0f921\"]],\"type\":\"heatmap\"}],\"heatmapgl\":[{\"colorbar\":{\"outlinewidth\":0,\"ticks\":\"\"},\"colorscale\":[[0.0,\"#0d0887\"],[0.1111111111111111,\"#46039f\"],[0.2222222222222222,\"#7201a8\"],[0.3333333333333333,\"#9c179e\"],[0.4444444444444444,\"#bd3786\"],[0.5555555555555556,\"#d8576b\"],[0.6666666666666666,\"#ed7953\"],[0.7777777777777778,\"#fb9f3a\"],[0.8888888888888888,\"#fdca26\"],[1.0,\"#f0f921\"]],\"type\":\"heatmapgl\"}],\"histogram\":[{\"marker\":{\"pattern\":{\"fillmode\":\"overlay\",\"size\":10,\"solidity\":0.2}},\"type\":\"histogram\"}],\"histogram2d\":[{\"colorbar\":{\"outlinewidth\":0,\"ticks\":\"\"},\"colorscale\":[[0.0,\"#0d0887\"],[0.1111111111111111,\"#46039f\"],[0.2222222222222222,\"#7201a8\"],[0.3333333333333333,\"#9c179e\"],[0.4444444444444444,\"#bd3786\"],[0.5555555555555556,\"#d8576b\"],[0.6666666666666666,\"#ed7953\"],[0.7777777777777778,\"#fb9f3a\"],[0.8888888888888888,\"#fdca26\"],[1.0,\"#f0f921\"]],\"type\":\"histogram2d\"}],\"histogram2dcontour\":[{\"colorbar\":{\"outlinewidth\":0,\"ticks\":\"\"},\"colorscale\":[[0.0,\"#0d0887\"],[0.1111111111111111,\"#46039f\"],[0.2222222222222222,\"#7201a8\"],[0.3333333333333333,\"#9c179e\"],[0.4444444444444444,\"#bd3786\"],[0.5555555555555556,\"#d8576b\"],[0.6666666666666666,\"#ed7953\"],[0.7777777777777778,\"#fb9f3a\"],[0.8888888888888888,\"#fdca26\"],[1.0,\"#f0f921\"]],\"type\":\"histogram2dcontour\"}],\"mesh3d\":[{\"colorbar\":{\"outlinewidth\":0,\"ticks\":\"\"},\"type\":\"mesh3d\"}],\"parcoords\":[{\"line\":{\"colorbar\":{\"outlinewidth\":0,\"ticks\":\"\"}},\"type\":\"parcoords\"}],\"pie\":[{\"automargin\":true,\"type\":\"pie\"}],\"scatter\":[{\"marker\":{\"colorbar\":{\"outlinewidth\":0,\"ticks\":\"\"}},\"type\":\"scatter\"}],\"scatter3d\":[{\"line\":{\"colorbar\":{\"outlinewidth\":0,\"ticks\":\"\"}},\"marker\":{\"colorbar\":{\"outlinewidth\":0,\"ticks\":\"\"}},\"type\":\"scatter3d\"}],\"scattercarpet\":[{\"marker\":{\"colorbar\":{\"outlinewidth\":0,\"ticks\":\"\"}},\"type\":\"scattercarpet\"}],\"scattergeo\":[{\"marker\":{\"colorbar\":{\"outlinewidth\":0,\"ticks\":\"\"}},\"type\":\"scattergeo\"}],\"scattergl\":[{\"marker\":{\"colorbar\":{\"outlinewidth\":0,\"ticks\":\"\"}},\"type\":\"scattergl\"}],\"scattermapbox\":[{\"marker\":{\"colorbar\":{\"outlinewidth\":0,\"ticks\":\"\"}},\"type\":\"scattermapbox\"}],\"scatterpolar\":[{\"marker\":{\"colorbar\":{\"outlinewidth\":0,\"ticks\":\"\"}},\"type\":\"scatterpolar\"}],\"scatterpolargl\":[{\"marker\":{\"colorbar\":{\"outlinewidth\":0,\"ticks\":\"\"}},\"type\":\"scatterpolargl\"}],\"scatterternary\":[{\"marker\":{\"colorbar\":{\"outlinewidth\":0,\"ticks\":\"\"}},\"type\":\"scatterternary\"}],\"surface\":[{\"colorbar\":{\"outlinewidth\":0,\"ticks\":\"\"},\"colorscale\":[[0.0,\"#0d0887\"],[0.1111111111111111,\"#46039f\"],[0.2222222222222222,\"#7201a8\"],[0.3333333333333333,\"#9c179e\"],[0.4444444444444444,\"#bd3786\"],[0.5555555555555556,\"#d8576b\"],[0.6666666666666666,\"#ed7953\"],[0.7777777777777778,\"#fb9f3a\"],[0.8888888888888888,\"#fdca26\"],[1.0,\"#f0f921\"]],\"type\":\"surface\"}],\"table\":[{\"cells\":{\"fill\":{\"color\":\"#EBF0F8\"},\"line\":{\"color\":\"white\"}},\"header\":{\"fill\":{\"color\":\"#C8D4E3\"},\"line\":{\"color\":\"white\"}},\"type\":\"table\"}]},\"layout\":{\"annotationdefaults\":{\"arrowcolor\":\"#2a3f5f\",\"arrowhead\":0,\"arrowwidth\":1},\"autotypenumbers\":\"strict\",\"coloraxis\":{\"colorbar\":{\"outlinewidth\":0,\"ticks\":\"\"}},\"colorscale\":{\"diverging\":[[0,\"#8e0152\"],[0.1,\"#c51b7d\"],[0.2,\"#de77ae\"],[0.3,\"#f1b6da\"],[0.4,\"#fde0ef\"],[0.5,\"#f7f7f7\"],[0.6,\"#e6f5d0\"],[0.7,\"#b8e186\"],[0.8,\"#7fbc41\"],[0.9,\"#4d9221\"],[1,\"#276419\"]],\"sequential\":[[0.0,\"#0d0887\"],[0.1111111111111111,\"#46039f\"],[0.2222222222222222,\"#7201a8\"],[0.3333333333333333,\"#9c179e\"],[0.4444444444444444,\"#bd3786\"],[0.5555555555555556,\"#d8576b\"],[0.6666666666666666,\"#ed7953\"],[0.7777777777777778,\"#fb9f3a\"],[0.8888888888888888,\"#fdca26\"],[1.0,\"#f0f921\"]],\"sequentialminus\":[[0.0,\"#0d0887\"],[0.1111111111111111,\"#46039f\"],[0.2222222222222222,\"#7201a8\"],[0.3333333333333333,\"#9c179e\"],[0.4444444444444444,\"#bd3786\"],[0.5555555555555556,\"#d8576b\"],[0.6666666666666666,\"#ed7953\"],[0.7777777777777778,\"#fb9f3a\"],[0.8888888888888888,\"#fdca26\"],[1.0,\"#f0f921\"]]},\"colorway\":[\"#636efa\",\"#EF553B\",\"#00cc96\",\"#ab63fa\",\"#FFA15A\",\"#19d3f3\",\"#FF6692\",\"#B6E880\",\"#FF97FF\",\"#FECB52\"],\"font\":{\"color\":\"#2a3f5f\"},\"geo\":{\"bgcolor\":\"white\",\"lakecolor\":\"white\",\"landcolor\":\"#E5ECF6\",\"showlakes\":true,\"showland\":true,\"subunitcolor\":\"white\"},\"hoverlabel\":{\"align\":\"left\"},\"hovermode\":\"closest\",\"mapbox\":{\"style\":\"light\"},\"paper_bgcolor\":\"white\",\"plot_bgcolor\":\"#E5ECF6\",\"polar\":{\"angularaxis\":{\"gridcolor\":\"white\",\"linecolor\":\"white\",\"ticks\":\"\"},\"bgcolor\":\"#E5ECF6\",\"radialaxis\":{\"gridcolor\":\"white\",\"linecolor\":\"white\",\"ticks\":\"\"}},\"scene\":{\"xaxis\":{\"backgroundcolor\":\"#E5ECF6\",\"gridcolor\":\"white\",\"gridwidth\":2,\"linecolor\":\"white\",\"showbackground\":true,\"ticks\":\"\",\"zerolinecolor\":\"white\"},\"yaxis\":{\"backgroundcolor\":\"#E5ECF6\",\"gridcolor\":\"white\",\"gridwidth\":2,\"linecolor\":\"white\",\"showbackground\":true,\"ticks\":\"\",\"zerolinecolor\":\"white\"},\"zaxis\":{\"backgroundcolor\":\"#E5ECF6\",\"gridcolor\":\"white\",\"gridwidth\":2,\"linecolor\":\"white\",\"showbackground\":true,\"ticks\":\"\",\"zerolinecolor\":\"white\"}},\"shapedefaults\":{\"line\":{\"color\":\"#2a3f5f\"}},\"ternary\":{\"aaxis\":{\"gridcolor\":\"white\",\"linecolor\":\"white\",\"ticks\":\"\"},\"baxis\":{\"gridcolor\":\"white\",\"linecolor\":\"white\",\"ticks\":\"\"},\"bgcolor\":\"#E5ECF6\",\"caxis\":{\"gridcolor\":\"white\",\"linecolor\":\"white\",\"ticks\":\"\"}},\"title\":{\"x\":0.05},\"xaxis\":{\"automargin\":true,\"gridcolor\":\"white\",\"linecolor\":\"white\",\"ticks\":\"\",\"title\":{\"standoff\":15},\"zerolinecolor\":\"white\",\"zerolinewidth\":2},\"yaxis\":{\"automargin\":true,\"gridcolor\":\"white\",\"linecolor\":\"white\",\"ticks\":\"\",\"title\":{\"standoff\":15},\"zerolinecolor\":\"white\",\"zerolinewidth\":2}}},\"xaxis\":{\"anchor\":\"y\",\"domain\":[0.0,1.0],\"title\":{\"text\":\"x\"}},\"yaxis\":{\"anchor\":\"x\",\"domain\":[0.0,1.0],\"title\":{\"text\":\"y\"}},\"legend\":{\"tracegroupgap\":0},\"margin\":{\"t\":60},\"boxmode\":\"group\"},                        {\"responsive\": true}                    ).then(function(){\n",
              "                            \n",
              "var gd = document.getElementById('4fb390bd-bcd9-4337-95c7-66cab61cc141');\n",
              "var x = new MutationObserver(function (mutations, observer) {{\n",
              "        var display = window.getComputedStyle(gd).display;\n",
              "        if (!display || display === 'none') {{\n",
              "            console.log([gd, 'removed!']);\n",
              "            Plotly.purge(gd);\n",
              "            observer.disconnect();\n",
              "        }}\n",
              "}});\n",
              "\n",
              "// Listen for the removal of the full notebook cells\n",
              "var notebookContainer = gd.closest('#notebook-container');\n",
              "if (notebookContainer) {{\n",
              "    x.observe(notebookContainer, {childList: true});\n",
              "}}\n",
              "\n",
              "// Listen for the clearing of the current output cell\n",
              "var outputEl = gd.closest('.output');\n",
              "if (outputEl) {{\n",
              "    x.observe(outputEl, {childList: true});\n",
              "}}\n",
              "\n",
              "                        })                };                            </script>        </div>\n",
              "</body>\n",
              "</html>"
            ]
          },
          "metadata": {},
          "output_type": "display_data"
        }
      ],
      "source": [
        "# relation des lables avec la variable explicative GlobalEvaluation_rms\n",
        "fig = px.box(x=kmeans.labels_, y =data.GlobalEvaluation_rms.values, points='all')\n",
        "fig.show()"
      ]
    },
    {
      "cell_type": "markdown",
      "metadata": {
        "id": "pSjNMgAwWJwX"
      },
      "source": [
        "- Les classes identifiées semblent regrouper les individus pas niveau de notes. Sur la classe 2 on remaque que ce sont les individus ayant une médianne de 72, contrairement aux deux premières classes ou la mediane tourne au tour de 69 -70.\n",
        "\n",
        "- Toutefois, compte tenu la faible variabilté dans les données d'annotation, ceci peut ne pas etre un pattern\n",
        "\n",
        "\n"
      ]
    },
    {
      "cell_type": "code",
      "execution_count": null,
      "metadata": {
        "colab": {
          "base_uri": "https://localhost:8080/",
          "height": 562
        },
        "id": "idJdIUlJUlRt",
        "outputId": "fd79d39f-fcb8-4372-fcaa-f1c2704b8344"
      },
      "outputs": [
        {
          "data": {
            "text/html": [
              "<html>\n",
              "<head><meta charset=\"utf-8\" /></head>\n",
              "<body>\n",
              "    <div>            <script src=\"https://cdnjs.cloudflare.com/ajax/libs/mathjax/2.7.5/MathJax.js?config=TeX-AMS-MML_SVG\"></script><script type=\"text/javascript\">if (window.MathJax) {MathJax.Hub.Config({SVG: {font: \"STIX-Web\"}});}</script>                <script type=\"text/javascript\">window.PlotlyConfig = {MathJaxConfig: 'local'};</script>\n",
              "        <script src=\"https://cdn.plot.ly/plotly-2.8.3.min.js\"></script>                <div id=\"39f375a3-1395-496f-b437-9446d2e1ffa2\" class=\"plotly-graph-div\" style=\"height:525px; width:100%;\"></div>            <script type=\"text/javascript\">                                    window.PLOTLYENV=window.PLOTLYENV || {};                                    if (document.getElementById(\"39f375a3-1395-496f-b437-9446d2e1ffa2\")) {                    Plotly.newPlot(                        \"39f375a3-1395-496f-b437-9446d2e1ffa2\",                        [{\"alignmentgroup\":\"True\",\"hovertemplate\":\"x=%{x}<br>y=%{y}<extra></extra>\",\"legendgroup\":\"\",\"marker\":{\"color\":\"#636efa\"},\"name\":\"\",\"notched\":false,\"offsetgroup\":\"\",\"orientation\":\"v\",\"showlegend\":false,\"x\":[0,0,0,1,0,0,1,0,0,1,0,1,1,0,0,1,0,2,1,2,0,0,2,0,0,2,1,0,1,1,2,0,2,0,2,0,0,1,0,2,2,0,0,0,1,1,0,1,0,0,2,2,2,0,0,1,1,0,0,0,1,1,0,0,2,0,1,2,2,1,0,0,1,2,0,1,2,2,2,1,0,0,2,2,2,2,0,2,0,0,1,1,1,0,0,0,0,2,0,2,3,2,1,0,1,1,1,0,2,0,1,1,0,1,0,1,0,0,2,0,1,0,0,1,0,1,0,1,1,0,2,1,0,1,1,2,0,1,2,2,2,2,1,2,2,2,2,2,1,2,2,2,2,1,0,1,2,0,1,2,2,1,1,0,0,2,1,1,2,1,2,0,0,1,2,1,1,0,0,2,1,1,0,2,0,1,1,2,1,2,1,0,2,0,1,0,2,2,2,1,0,1,1,1,1,2,1,1,1,0,1,2,1,0,0,2,1,0,2,1,0,0,1,1,2,0,2,0,1,1,1,1,0,1,1,1,1,1,2,0,1,0,0,0,1],\"x0\":\" \",\"xaxis\":\"x\",\"y\":[4.092676386,4.153311931,3.872983346,4.062019202,3.570714214,4.444097209,4.272001873,4.272001873,4.5,3.905124838,4.242640687,4.609772229,4.69041576,3.696845502,4.272001873,4.69041576,4.291464397,4.173328009,4.153311931,4.444097209,3.937003937,4.153311931,3.968626967,3.559026084,3.829708431,4.769696007,4.153311931,3.535533906,4.153311931,4.444097209,3.696845502,4.769696007,4.082482905,3.559026084,4.0,3.872983346,4.272001873,4.444097209,3.958114029,4.69041576,4.69041576,4.69041576,5.0,4.444097209,3.640054945,3.662876829,4.358898944,4.444097209,4.358898944,3.872983346,5.0,4.272001873,3.523729085,4.153311931,4.153311931,4.444097209,3.915780041,4.153311931,4.387482194,4.173328009,4.092676386,4.330127019,3.696845502,4.203173404,4.242640687,4.769696007,4.415880433,3.464101615,4.291464397,4.69041576,3.796928583,3.894440482,3.378855822,3.5,4.291464397,4.415880433,3.92640633,4.434711565,4.627814459,3.829708431,4.69041576,4.358898944,5.0,4.609772229,5.0,4.358898944,4.092676386,4.69041576,4.082482905,3.0,3.593976442,5.0,3.175426481,4.358898944,4.69041576,4.092676386,3.872983346,3.640054945,4.082482905,4.627814459,3.872983346,4.34932945,3.674234614,4.082482905,3.774917218,3.807886553,4.609772229,4.153311931,3.535533906,3.851406669,4.092676386,3.862210075,3.45205253,4.153311931,3.807886553,3.829708431,4.153311931,4.527692569,3.354101966,3.796928583,3.796928583,3.378855822,4.153311931,4.924428901,3.774917218,3.696845502,4.358898944,3.872983346,3.227486122,4.609772229,4.242640687,4.082482905,4.358898944,4.272001873,4.444097209,4.153311931,4.242640687,4.847679857,4.5,4.527692569,4.627814459,4.0,2.62995564,4.082482905,3.696845502,3.872983346,4.082482905,4.153311931,4.358898944,3.605551275,4.69041576,4.358898944,3.476108936,3.807886553,4.924428901,3.696845502,4.609772229,4.847679857,4.434711565,4.5,3.109126351,3.640054945,3.45205253,3.696845502,4.183300133,3.45205253,4.377975179,3.640054945,4.69041576,4.291464397,4.291464397,4.031128874,2.581988897,2.581988897,4.769696007,4.5,4.924428901,3.719318934,4.153311931,4.358898944,4.153311931,4.020779361,4.330127019,4.69041576,3.535533906,4.062019202,3.796928583,4.358898944,3.968626967,4.242640687,3.535533906,3.188521078,4.123105626,4.358898944,3.605551275,4.627814459,1.658312395,4.609772229,4.527692569,3.92640633,5.0,4.062019202,4.092676386,4.69041576,4.769696007,4.444097209,3.31662479,4.69041576,4.609772229,3.378855822,3.741657387,3.774917218,3.741657387,4.444097209,3.840572874,4.769696007,3.559026084,4.5,3.640054945,4.173328009,4.358898944,4.082482905,4.203173404,4.153311931,4.272001873,4.444097209,4.444097209,4.153311931,4.69041576,3.696845502,3.304037934,4.434711565,4.444097209,3.0,4.69041576,3.696845502,4.444097209,4.69041576,3.796928583,2.5,3.872983346,4.358898944,4.924428901,3.851406669,4.092676386],\"y0\":\" \",\"yaxis\":\"y\",\"type\":\"box\"}],                        {\"template\":{\"data\":{\"bar\":[{\"error_x\":{\"color\":\"#2a3f5f\"},\"error_y\":{\"color\":\"#2a3f5f\"},\"marker\":{\"line\":{\"color\":\"#E5ECF6\",\"width\":0.5},\"pattern\":{\"fillmode\":\"overlay\",\"size\":10,\"solidity\":0.2}},\"type\":\"bar\"}],\"barpolar\":[{\"marker\":{\"line\":{\"color\":\"#E5ECF6\",\"width\":0.5},\"pattern\":{\"fillmode\":\"overlay\",\"size\":10,\"solidity\":0.2}},\"type\":\"barpolar\"}],\"carpet\":[{\"aaxis\":{\"endlinecolor\":\"#2a3f5f\",\"gridcolor\":\"white\",\"linecolor\":\"white\",\"minorgridcolor\":\"white\",\"startlinecolor\":\"#2a3f5f\"},\"baxis\":{\"endlinecolor\":\"#2a3f5f\",\"gridcolor\":\"white\",\"linecolor\":\"white\",\"minorgridcolor\":\"white\",\"startlinecolor\":\"#2a3f5f\"},\"type\":\"carpet\"}],\"choropleth\":[{\"colorbar\":{\"outlinewidth\":0,\"ticks\":\"\"},\"type\":\"choropleth\"}],\"contour\":[{\"colorbar\":{\"outlinewidth\":0,\"ticks\":\"\"},\"colorscale\":[[0.0,\"#0d0887\"],[0.1111111111111111,\"#46039f\"],[0.2222222222222222,\"#7201a8\"],[0.3333333333333333,\"#9c179e\"],[0.4444444444444444,\"#bd3786\"],[0.5555555555555556,\"#d8576b\"],[0.6666666666666666,\"#ed7953\"],[0.7777777777777778,\"#fb9f3a\"],[0.8888888888888888,\"#fdca26\"],[1.0,\"#f0f921\"]],\"type\":\"contour\"}],\"contourcarpet\":[{\"colorbar\":{\"outlinewidth\":0,\"ticks\":\"\"},\"type\":\"contourcarpet\"}],\"heatmap\":[{\"colorbar\":{\"outlinewidth\":0,\"ticks\":\"\"},\"colorscale\":[[0.0,\"#0d0887\"],[0.1111111111111111,\"#46039f\"],[0.2222222222222222,\"#7201a8\"],[0.3333333333333333,\"#9c179e\"],[0.4444444444444444,\"#bd3786\"],[0.5555555555555556,\"#d8576b\"],[0.6666666666666666,\"#ed7953\"],[0.7777777777777778,\"#fb9f3a\"],[0.8888888888888888,\"#fdca26\"],[1.0,\"#f0f921\"]],\"type\":\"heatmap\"}],\"heatmapgl\":[{\"colorbar\":{\"outlinewidth\":0,\"ticks\":\"\"},\"colorscale\":[[0.0,\"#0d0887\"],[0.1111111111111111,\"#46039f\"],[0.2222222222222222,\"#7201a8\"],[0.3333333333333333,\"#9c179e\"],[0.4444444444444444,\"#bd3786\"],[0.5555555555555556,\"#d8576b\"],[0.6666666666666666,\"#ed7953\"],[0.7777777777777778,\"#fb9f3a\"],[0.8888888888888888,\"#fdca26\"],[1.0,\"#f0f921\"]],\"type\":\"heatmapgl\"}],\"histogram\":[{\"marker\":{\"pattern\":{\"fillmode\":\"overlay\",\"size\":10,\"solidity\":0.2}},\"type\":\"histogram\"}],\"histogram2d\":[{\"colorbar\":{\"outlinewidth\":0,\"ticks\":\"\"},\"colorscale\":[[0.0,\"#0d0887\"],[0.1111111111111111,\"#46039f\"],[0.2222222222222222,\"#7201a8\"],[0.3333333333333333,\"#9c179e\"],[0.4444444444444444,\"#bd3786\"],[0.5555555555555556,\"#d8576b\"],[0.6666666666666666,\"#ed7953\"],[0.7777777777777778,\"#fb9f3a\"],[0.8888888888888888,\"#fdca26\"],[1.0,\"#f0f921\"]],\"type\":\"histogram2d\"}],\"histogram2dcontour\":[{\"colorbar\":{\"outlinewidth\":0,\"ticks\":\"\"},\"colorscale\":[[0.0,\"#0d0887\"],[0.1111111111111111,\"#46039f\"],[0.2222222222222222,\"#7201a8\"],[0.3333333333333333,\"#9c179e\"],[0.4444444444444444,\"#bd3786\"],[0.5555555555555556,\"#d8576b\"],[0.6666666666666666,\"#ed7953\"],[0.7777777777777778,\"#fb9f3a\"],[0.8888888888888888,\"#fdca26\"],[1.0,\"#f0f921\"]],\"type\":\"histogram2dcontour\"}],\"mesh3d\":[{\"colorbar\":{\"outlinewidth\":0,\"ticks\":\"\"},\"type\":\"mesh3d\"}],\"parcoords\":[{\"line\":{\"colorbar\":{\"outlinewidth\":0,\"ticks\":\"\"}},\"type\":\"parcoords\"}],\"pie\":[{\"automargin\":true,\"type\":\"pie\"}],\"scatter\":[{\"marker\":{\"colorbar\":{\"outlinewidth\":0,\"ticks\":\"\"}},\"type\":\"scatter\"}],\"scatter3d\":[{\"line\":{\"colorbar\":{\"outlinewidth\":0,\"ticks\":\"\"}},\"marker\":{\"colorbar\":{\"outlinewidth\":0,\"ticks\":\"\"}},\"type\":\"scatter3d\"}],\"scattercarpet\":[{\"marker\":{\"colorbar\":{\"outlinewidth\":0,\"ticks\":\"\"}},\"type\":\"scattercarpet\"}],\"scattergeo\":[{\"marker\":{\"colorbar\":{\"outlinewidth\":0,\"ticks\":\"\"}},\"type\":\"scattergeo\"}],\"scattergl\":[{\"marker\":{\"colorbar\":{\"outlinewidth\":0,\"ticks\":\"\"}},\"type\":\"scattergl\"}],\"scattermapbox\":[{\"marker\":{\"colorbar\":{\"outlinewidth\":0,\"ticks\":\"\"}},\"type\":\"scattermapbox\"}],\"scatterpolar\":[{\"marker\":{\"colorbar\":{\"outlinewidth\":0,\"ticks\":\"\"}},\"type\":\"scatterpolar\"}],\"scatterpolargl\":[{\"marker\":{\"colorbar\":{\"outlinewidth\":0,\"ticks\":\"\"}},\"type\":\"scatterpolargl\"}],\"scatterternary\":[{\"marker\":{\"colorbar\":{\"outlinewidth\":0,\"ticks\":\"\"}},\"type\":\"scatterternary\"}],\"surface\":[{\"colorbar\":{\"outlinewidth\":0,\"ticks\":\"\"},\"colorscale\":[[0.0,\"#0d0887\"],[0.1111111111111111,\"#46039f\"],[0.2222222222222222,\"#7201a8\"],[0.3333333333333333,\"#9c179e\"],[0.4444444444444444,\"#bd3786\"],[0.5555555555555556,\"#d8576b\"],[0.6666666666666666,\"#ed7953\"],[0.7777777777777778,\"#fb9f3a\"],[0.8888888888888888,\"#fdca26\"],[1.0,\"#f0f921\"]],\"type\":\"surface\"}],\"table\":[{\"cells\":{\"fill\":{\"color\":\"#EBF0F8\"},\"line\":{\"color\":\"white\"}},\"header\":{\"fill\":{\"color\":\"#C8D4E3\"},\"line\":{\"color\":\"white\"}},\"type\":\"table\"}]},\"layout\":{\"annotationdefaults\":{\"arrowcolor\":\"#2a3f5f\",\"arrowhead\":0,\"arrowwidth\":1},\"autotypenumbers\":\"strict\",\"coloraxis\":{\"colorbar\":{\"outlinewidth\":0,\"ticks\":\"\"}},\"colorscale\":{\"diverging\":[[0,\"#8e0152\"],[0.1,\"#c51b7d\"],[0.2,\"#de77ae\"],[0.3,\"#f1b6da\"],[0.4,\"#fde0ef\"],[0.5,\"#f7f7f7\"],[0.6,\"#e6f5d0\"],[0.7,\"#b8e186\"],[0.8,\"#7fbc41\"],[0.9,\"#4d9221\"],[1,\"#276419\"]],\"sequential\":[[0.0,\"#0d0887\"],[0.1111111111111111,\"#46039f\"],[0.2222222222222222,\"#7201a8\"],[0.3333333333333333,\"#9c179e\"],[0.4444444444444444,\"#bd3786\"],[0.5555555555555556,\"#d8576b\"],[0.6666666666666666,\"#ed7953\"],[0.7777777777777778,\"#fb9f3a\"],[0.8888888888888888,\"#fdca26\"],[1.0,\"#f0f921\"]],\"sequentialminus\":[[0.0,\"#0d0887\"],[0.1111111111111111,\"#46039f\"],[0.2222222222222222,\"#7201a8\"],[0.3333333333333333,\"#9c179e\"],[0.4444444444444444,\"#bd3786\"],[0.5555555555555556,\"#d8576b\"],[0.6666666666666666,\"#ed7953\"],[0.7777777777777778,\"#fb9f3a\"],[0.8888888888888888,\"#fdca26\"],[1.0,\"#f0f921\"]]},\"colorway\":[\"#636efa\",\"#EF553B\",\"#00cc96\",\"#ab63fa\",\"#FFA15A\",\"#19d3f3\",\"#FF6692\",\"#B6E880\",\"#FF97FF\",\"#FECB52\"],\"font\":{\"color\":\"#2a3f5f\"},\"geo\":{\"bgcolor\":\"white\",\"lakecolor\":\"white\",\"landcolor\":\"#E5ECF6\",\"showlakes\":true,\"showland\":true,\"subunitcolor\":\"white\"},\"hoverlabel\":{\"align\":\"left\"},\"hovermode\":\"closest\",\"mapbox\":{\"style\":\"light\"},\"paper_bgcolor\":\"white\",\"plot_bgcolor\":\"#E5ECF6\",\"polar\":{\"angularaxis\":{\"gridcolor\":\"white\",\"linecolor\":\"white\",\"ticks\":\"\"},\"bgcolor\":\"#E5ECF6\",\"radialaxis\":{\"gridcolor\":\"white\",\"linecolor\":\"white\",\"ticks\":\"\"}},\"scene\":{\"xaxis\":{\"backgroundcolor\":\"#E5ECF6\",\"gridcolor\":\"white\",\"gridwidth\":2,\"linecolor\":\"white\",\"showbackground\":true,\"ticks\":\"\",\"zerolinecolor\":\"white\"},\"yaxis\":{\"backgroundcolor\":\"#E5ECF6\",\"gridcolor\":\"white\",\"gridwidth\":2,\"linecolor\":\"white\",\"showbackground\":true,\"ticks\":\"\",\"zerolinecolor\":\"white\"},\"zaxis\":{\"backgroundcolor\":\"#E5ECF6\",\"gridcolor\":\"white\",\"gridwidth\":2,\"linecolor\":\"white\",\"showbackground\":true,\"ticks\":\"\",\"zerolinecolor\":\"white\"}},\"shapedefaults\":{\"line\":{\"color\":\"#2a3f5f\"}},\"ternary\":{\"aaxis\":{\"gridcolor\":\"white\",\"linecolor\":\"white\",\"ticks\":\"\"},\"baxis\":{\"gridcolor\":\"white\",\"linecolor\":\"white\",\"ticks\":\"\"},\"bgcolor\":\"#E5ECF6\",\"caxis\":{\"gridcolor\":\"white\",\"linecolor\":\"white\",\"ticks\":\"\"}},\"title\":{\"x\":0.05},\"xaxis\":{\"automargin\":true,\"gridcolor\":\"white\",\"linecolor\":\"white\",\"ticks\":\"\",\"title\":{\"standoff\":15},\"zerolinecolor\":\"white\",\"zerolinewidth\":2},\"yaxis\":{\"automargin\":true,\"gridcolor\":\"white\",\"linecolor\":\"white\",\"ticks\":\"\",\"title\":{\"standoff\":15},\"zerolinecolor\":\"white\",\"zerolinewidth\":2}}},\"xaxis\":{\"anchor\":\"y\",\"domain\":[0.0,1.0],\"title\":{\"text\":\"x\"}},\"yaxis\":{\"anchor\":\"x\",\"domain\":[0.0,1.0],\"title\":{\"text\":\"y\"}},\"legend\":{\"tracegroupgap\":0},\"margin\":{\"t\":60},\"boxmode\":\"group\"},                        {\"responsive\": true}                    ).then(function(){\n",
              "                            \n",
              "var gd = document.getElementById('39f375a3-1395-496f-b437-9446d2e1ffa2');\n",
              "var x = new MutationObserver(function (mutations, observer) {{\n",
              "        var display = window.getComputedStyle(gd).display;\n",
              "        if (!display || display === 'none') {{\n",
              "            console.log([gd, 'removed!']);\n",
              "            Plotly.purge(gd);\n",
              "            observer.disconnect();\n",
              "        }}\n",
              "}});\n",
              "\n",
              "// Listen for the removal of the full notebook cells\n",
              "var notebookContainer = gd.closest('#notebook-container');\n",
              "if (notebookContainer) {{\n",
              "    x.observe(notebookContainer, {childList: true});\n",
              "}}\n",
              "\n",
              "// Listen for the clearing of the current output cell\n",
              "var outputEl = gd.closest('.output');\n",
              "if (outputEl) {{\n",
              "    x.observe(outputEl, {childList: true});\n",
              "}}\n",
              "\n",
              "                        })                };                            </script>        </div>\n",
              "</body>\n",
              "</html>"
            ]
          },
          "metadata": {},
          "output_type": "display_data"
        }
      ],
      "source": [
        "# relation des lables avec la variable explicative Persuasiveness_rms\n",
        "fig = px.box(x=kmeans.labels_, y =data.Persuasiveness_rms.values)\n",
        "fig.show()"
      ]
    },
    {
      "cell_type": "code",
      "execution_count": null,
      "metadata": {
        "colab": {
          "base_uri": "https://localhost:8080/",
          "height": 562
        },
        "id": "iNDulYKhUq7q",
        "outputId": "48fcea28-1da0-4c95-c1e1-1c27d2b48a1a"
      },
      "outputs": [
        {
          "data": {
            "text/html": [
              "<html>\n",
              "<head><meta charset=\"utf-8\" /></head>\n",
              "<body>\n",
              "    <div>            <script src=\"https://cdnjs.cloudflare.com/ajax/libs/mathjax/2.7.5/MathJax.js?config=TeX-AMS-MML_SVG\"></script><script type=\"text/javascript\">if (window.MathJax) {MathJax.Hub.Config({SVG: {font: \"STIX-Web\"}});}</script>                <script type=\"text/javascript\">window.PlotlyConfig = {MathJaxConfig: 'local'};</script>\n",
              "        <script src=\"https://cdn.plot.ly/plotly-2.8.3.min.js\"></script>                <div id=\"351047cf-03d0-40e4-ba58-d033cc77df30\" class=\"plotly-graph-div\" style=\"height:525px; width:100%;\"></div>            <script type=\"text/javascript\">                                    window.PLOTLYENV=window.PLOTLYENV || {};                                    if (document.getElementById(\"351047cf-03d0-40e4-ba58-d033cc77df30\")) {                    Plotly.newPlot(                        \"351047cf-03d0-40e4-ba58-d033cc77df30\",                        [{\"alignmentgroup\":\"True\",\"hovertemplate\":\"x=%{x}<br>y=%{y}<extra></extra>\",\"legendgroup\":\"\",\"marker\":{\"color\":\"#636efa\"},\"name\":\"\",\"notched\":false,\"offsetgroup\":\"\",\"orientation\":\"v\",\"showlegend\":false,\"x\":[0,0,0,1,0,0,1,0,0,1,0,1,1,0,0,1,0,2,1,2,0,0,2,0,0,2,1,0,1,1,2,0,2,0,2,0,0,1,0,2,2,0,0,0,1,1,0,1,0,0,2,2,2,0,0,1,1,0,0,0,1,1,0,0,2,0,1,2,2,1,0,0,1,2,0,1,2,2,2,1,0,0,2,2,2,2,0,2,0,0,1,1,1,0,0,0,0,2,0,2,3,2,1,0,1,1,1,0,2,0,1,1,0,1,0,1,0,0,2,0,1,0,0,1,0,1,0,1,1,0,2,1,0,1,1,2,0,1,2,2,2,2,1,2,2,2,2,2,1,2,2,2,2,1,0,1,2,0,1,2,2,1,1,0,0,2,1,1,2,1,2,0,0,1,2,1,1,0,0,2,1,1,0,2,0,1,1,2,1,2,1,0,2,0,1,0,2,2,2,1,0,1,1,1,1,2,1,1,1,0,1,2,1,0,0,2,1,0,2,1,0,0,1,1,2,0,2,0,1,1,1,1,0,1,1,1,1,1,2,0,1,0,0,0,1],\"x0\":\" \",\"xaxis\":\"x\",\"y\":[3.872983346,3.937003937,3.201562119,3.201562119,3.640054945,4.242640687,4.0,4.0,4.69041576,4.415880433,4.242640687,4.153311931,4.092676386,3.45205253,4.924428901,4.69041576,4.291464397,3.958114029,3.464101615,4.444097209,4.0,4.358898944,3.968626967,3.796928583,3.989569735,4.527692569,4.358898944,3.774917218,4.153311931,4.69041576,3.45205253,4.769696007,4.546060566,3.730504881,4.69041576,3.872983346,3.605551275,4.444097209,3.378855822,4.5,4.69041576,4.69041576,4.769696007,4.444097209,3.391164992,3.488074923,4.415880433,4.69041576,4.358898944,4.031128874,4.582575695,3.674234614,3.593976442,4.358898944,4.358898944,4.242640687,3.617089069,4.358898944,3.674234614,4.627814459,4.609772229,4.123105626,3.696845502,3.92640633,4.5,4.769696007,4.358898944,4.242640687,4.082482905,4.69041576,3.796928583,4.377975179,3.559026084,3.640054945,4.082482905,4.415880433,4.34932945,4.627814459,4.627814459,3.265986324,4.69041576,4.609772229,4.769696007,3.708099244,4.769696007,4.092676386,5.0,4.69041576,4.34932945,3.0,3.523729085,4.527692569,4.010403139,4.415880433,4.5,4.242640687,3.872983346,3.640054945,3.559026084,4.173328009,4.031128874,4.082482905,3.5,4.082482905,4.358898944,3.640054945,4.415880433,4.153311931,2.872281323,3.617089069,4.769696007,3.696845502,3.265986324,4.153311931,4.330127019,3.989569735,3.391164992,4.272001873,3.354101966,3.559026084,3.92640633,3.378855822,3.391164992,4.444097209,3.535533906,4.082482905,4.358898944,4.358898944,3.227486122,4.609772229,4.031128874,3.92640633,4.153311931,4.924428901,4.5,4.153311931,3.640054945,4.609772229,4.5,4.527692569,4.377975179,4.0,3.149073938,3.862210075,4.082482905,4.74341649,4.291464397,4.609772229,4.153311931,3.605551275,4.69041576,4.358898944,3.214550254,4.242640687,3.968626967,3.265986324,4.358898944,4.847679857,4.291464397,4.242640687,3.109126351,3.937003937,3.109126351,4.434711565,3.807886553,2.986078811,4.377975179,4.031128874,4.242640687,3.523729085,4.082482905,3.5,3.559026084,2.723355773,4.330127019,4.5,4.924428901,3.719318934,3.872983346,4.358898944,3.937003937,3.488074923,4.582575695,4.183300133,3.840572874,4.272001873,3.378855822,4.609772229,3.968626967,4.358898944,4.527692569,3.523729085,4.123105626,4.358898944,4.153311931,4.627814459,2.958039892,4.0,4.330127019,3.696845502,4.769696007,3.201562119,4.769696007,4.444097209,4.527692569,4.092676386,3.31662479,4.242640687,3.640054945,3.378855822,3.640054945,4.0,3.5,4.444097209,3.840572874,5.0,3.378855822,4.242640687,4.153311931,4.020779361,4.272001873,3.92640633,3.149073938,4.358898944,3.354101966,4.031128874,4.092676386,3.5,4.69041576,3.862210075,3.796928583,4.173328009,4.444097209,3.708099244,4.242640687,3.559026084,4.242640687,4.69041576,4.082482905,3.5,3.872983346,4.153311931,4.69041576,3.617089069,4.092676386],\"y0\":\" \",\"yaxis\":\"y\",\"type\":\"box\"}],                        {\"template\":{\"data\":{\"bar\":[{\"error_x\":{\"color\":\"#2a3f5f\"},\"error_y\":{\"color\":\"#2a3f5f\"},\"marker\":{\"line\":{\"color\":\"#E5ECF6\",\"width\":0.5},\"pattern\":{\"fillmode\":\"overlay\",\"size\":10,\"solidity\":0.2}},\"type\":\"bar\"}],\"barpolar\":[{\"marker\":{\"line\":{\"color\":\"#E5ECF6\",\"width\":0.5},\"pattern\":{\"fillmode\":\"overlay\",\"size\":10,\"solidity\":0.2}},\"type\":\"barpolar\"}],\"carpet\":[{\"aaxis\":{\"endlinecolor\":\"#2a3f5f\",\"gridcolor\":\"white\",\"linecolor\":\"white\",\"minorgridcolor\":\"white\",\"startlinecolor\":\"#2a3f5f\"},\"baxis\":{\"endlinecolor\":\"#2a3f5f\",\"gridcolor\":\"white\",\"linecolor\":\"white\",\"minorgridcolor\":\"white\",\"startlinecolor\":\"#2a3f5f\"},\"type\":\"carpet\"}],\"choropleth\":[{\"colorbar\":{\"outlinewidth\":0,\"ticks\":\"\"},\"type\":\"choropleth\"}],\"contour\":[{\"colorbar\":{\"outlinewidth\":0,\"ticks\":\"\"},\"colorscale\":[[0.0,\"#0d0887\"],[0.1111111111111111,\"#46039f\"],[0.2222222222222222,\"#7201a8\"],[0.3333333333333333,\"#9c179e\"],[0.4444444444444444,\"#bd3786\"],[0.5555555555555556,\"#d8576b\"],[0.6666666666666666,\"#ed7953\"],[0.7777777777777778,\"#fb9f3a\"],[0.8888888888888888,\"#fdca26\"],[1.0,\"#f0f921\"]],\"type\":\"contour\"}],\"contourcarpet\":[{\"colorbar\":{\"outlinewidth\":0,\"ticks\":\"\"},\"type\":\"contourcarpet\"}],\"heatmap\":[{\"colorbar\":{\"outlinewidth\":0,\"ticks\":\"\"},\"colorscale\":[[0.0,\"#0d0887\"],[0.1111111111111111,\"#46039f\"],[0.2222222222222222,\"#7201a8\"],[0.3333333333333333,\"#9c179e\"],[0.4444444444444444,\"#bd3786\"],[0.5555555555555556,\"#d8576b\"],[0.6666666666666666,\"#ed7953\"],[0.7777777777777778,\"#fb9f3a\"],[0.8888888888888888,\"#fdca26\"],[1.0,\"#f0f921\"]],\"type\":\"heatmap\"}],\"heatmapgl\":[{\"colorbar\":{\"outlinewidth\":0,\"ticks\":\"\"},\"colorscale\":[[0.0,\"#0d0887\"],[0.1111111111111111,\"#46039f\"],[0.2222222222222222,\"#7201a8\"],[0.3333333333333333,\"#9c179e\"],[0.4444444444444444,\"#bd3786\"],[0.5555555555555556,\"#d8576b\"],[0.6666666666666666,\"#ed7953\"],[0.7777777777777778,\"#fb9f3a\"],[0.8888888888888888,\"#fdca26\"],[1.0,\"#f0f921\"]],\"type\":\"heatmapgl\"}],\"histogram\":[{\"marker\":{\"pattern\":{\"fillmode\":\"overlay\",\"size\":10,\"solidity\":0.2}},\"type\":\"histogram\"}],\"histogram2d\":[{\"colorbar\":{\"outlinewidth\":0,\"ticks\":\"\"},\"colorscale\":[[0.0,\"#0d0887\"],[0.1111111111111111,\"#46039f\"],[0.2222222222222222,\"#7201a8\"],[0.3333333333333333,\"#9c179e\"],[0.4444444444444444,\"#bd3786\"],[0.5555555555555556,\"#d8576b\"],[0.6666666666666666,\"#ed7953\"],[0.7777777777777778,\"#fb9f3a\"],[0.8888888888888888,\"#fdca26\"],[1.0,\"#f0f921\"]],\"type\":\"histogram2d\"}],\"histogram2dcontour\":[{\"colorbar\":{\"outlinewidth\":0,\"ticks\":\"\"},\"colorscale\":[[0.0,\"#0d0887\"],[0.1111111111111111,\"#46039f\"],[0.2222222222222222,\"#7201a8\"],[0.3333333333333333,\"#9c179e\"],[0.4444444444444444,\"#bd3786\"],[0.5555555555555556,\"#d8576b\"],[0.6666666666666666,\"#ed7953\"],[0.7777777777777778,\"#fb9f3a\"],[0.8888888888888888,\"#fdca26\"],[1.0,\"#f0f921\"]],\"type\":\"histogram2dcontour\"}],\"mesh3d\":[{\"colorbar\":{\"outlinewidth\":0,\"ticks\":\"\"},\"type\":\"mesh3d\"}],\"parcoords\":[{\"line\":{\"colorbar\":{\"outlinewidth\":0,\"ticks\":\"\"}},\"type\":\"parcoords\"}],\"pie\":[{\"automargin\":true,\"type\":\"pie\"}],\"scatter\":[{\"marker\":{\"colorbar\":{\"outlinewidth\":0,\"ticks\":\"\"}},\"type\":\"scatter\"}],\"scatter3d\":[{\"line\":{\"colorbar\":{\"outlinewidth\":0,\"ticks\":\"\"}},\"marker\":{\"colorbar\":{\"outlinewidth\":0,\"ticks\":\"\"}},\"type\":\"scatter3d\"}],\"scattercarpet\":[{\"marker\":{\"colorbar\":{\"outlinewidth\":0,\"ticks\":\"\"}},\"type\":\"scattercarpet\"}],\"scattergeo\":[{\"marker\":{\"colorbar\":{\"outlinewidth\":0,\"ticks\":\"\"}},\"type\":\"scattergeo\"}],\"scattergl\":[{\"marker\":{\"colorbar\":{\"outlinewidth\":0,\"ticks\":\"\"}},\"type\":\"scattergl\"}],\"scattermapbox\":[{\"marker\":{\"colorbar\":{\"outlinewidth\":0,\"ticks\":\"\"}},\"type\":\"scattermapbox\"}],\"scatterpolar\":[{\"marker\":{\"colorbar\":{\"outlinewidth\":0,\"ticks\":\"\"}},\"type\":\"scatterpolar\"}],\"scatterpolargl\":[{\"marker\":{\"colorbar\":{\"outlinewidth\":0,\"ticks\":\"\"}},\"type\":\"scatterpolargl\"}],\"scatterternary\":[{\"marker\":{\"colorbar\":{\"outlinewidth\":0,\"ticks\":\"\"}},\"type\":\"scatterternary\"}],\"surface\":[{\"colorbar\":{\"outlinewidth\":0,\"ticks\":\"\"},\"colorscale\":[[0.0,\"#0d0887\"],[0.1111111111111111,\"#46039f\"],[0.2222222222222222,\"#7201a8\"],[0.3333333333333333,\"#9c179e\"],[0.4444444444444444,\"#bd3786\"],[0.5555555555555556,\"#d8576b\"],[0.6666666666666666,\"#ed7953\"],[0.7777777777777778,\"#fb9f3a\"],[0.8888888888888888,\"#fdca26\"],[1.0,\"#f0f921\"]],\"type\":\"surface\"}],\"table\":[{\"cells\":{\"fill\":{\"color\":\"#EBF0F8\"},\"line\":{\"color\":\"white\"}},\"header\":{\"fill\":{\"color\":\"#C8D4E3\"},\"line\":{\"color\":\"white\"}},\"type\":\"table\"}]},\"layout\":{\"annotationdefaults\":{\"arrowcolor\":\"#2a3f5f\",\"arrowhead\":0,\"arrowwidth\":1},\"autotypenumbers\":\"strict\",\"coloraxis\":{\"colorbar\":{\"outlinewidth\":0,\"ticks\":\"\"}},\"colorscale\":{\"diverging\":[[0,\"#8e0152\"],[0.1,\"#c51b7d\"],[0.2,\"#de77ae\"],[0.3,\"#f1b6da\"],[0.4,\"#fde0ef\"],[0.5,\"#f7f7f7\"],[0.6,\"#e6f5d0\"],[0.7,\"#b8e186\"],[0.8,\"#7fbc41\"],[0.9,\"#4d9221\"],[1,\"#276419\"]],\"sequential\":[[0.0,\"#0d0887\"],[0.1111111111111111,\"#46039f\"],[0.2222222222222222,\"#7201a8\"],[0.3333333333333333,\"#9c179e\"],[0.4444444444444444,\"#bd3786\"],[0.5555555555555556,\"#d8576b\"],[0.6666666666666666,\"#ed7953\"],[0.7777777777777778,\"#fb9f3a\"],[0.8888888888888888,\"#fdca26\"],[1.0,\"#f0f921\"]],\"sequentialminus\":[[0.0,\"#0d0887\"],[0.1111111111111111,\"#46039f\"],[0.2222222222222222,\"#7201a8\"],[0.3333333333333333,\"#9c179e\"],[0.4444444444444444,\"#bd3786\"],[0.5555555555555556,\"#d8576b\"],[0.6666666666666666,\"#ed7953\"],[0.7777777777777778,\"#fb9f3a\"],[0.8888888888888888,\"#fdca26\"],[1.0,\"#f0f921\"]]},\"colorway\":[\"#636efa\",\"#EF553B\",\"#00cc96\",\"#ab63fa\",\"#FFA15A\",\"#19d3f3\",\"#FF6692\",\"#B6E880\",\"#FF97FF\",\"#FECB52\"],\"font\":{\"color\":\"#2a3f5f\"},\"geo\":{\"bgcolor\":\"white\",\"lakecolor\":\"white\",\"landcolor\":\"#E5ECF6\",\"showlakes\":true,\"showland\":true,\"subunitcolor\":\"white\"},\"hoverlabel\":{\"align\":\"left\"},\"hovermode\":\"closest\",\"mapbox\":{\"style\":\"light\"},\"paper_bgcolor\":\"white\",\"plot_bgcolor\":\"#E5ECF6\",\"polar\":{\"angularaxis\":{\"gridcolor\":\"white\",\"linecolor\":\"white\",\"ticks\":\"\"},\"bgcolor\":\"#E5ECF6\",\"radialaxis\":{\"gridcolor\":\"white\",\"linecolor\":\"white\",\"ticks\":\"\"}},\"scene\":{\"xaxis\":{\"backgroundcolor\":\"#E5ECF6\",\"gridcolor\":\"white\",\"gridwidth\":2,\"linecolor\":\"white\",\"showbackground\":true,\"ticks\":\"\",\"zerolinecolor\":\"white\"},\"yaxis\":{\"backgroundcolor\":\"#E5ECF6\",\"gridcolor\":\"white\",\"gridwidth\":2,\"linecolor\":\"white\",\"showbackground\":true,\"ticks\":\"\",\"zerolinecolor\":\"white\"},\"zaxis\":{\"backgroundcolor\":\"#E5ECF6\",\"gridcolor\":\"white\",\"gridwidth\":2,\"linecolor\":\"white\",\"showbackground\":true,\"ticks\":\"\",\"zerolinecolor\":\"white\"}},\"shapedefaults\":{\"line\":{\"color\":\"#2a3f5f\"}},\"ternary\":{\"aaxis\":{\"gridcolor\":\"white\",\"linecolor\":\"white\",\"ticks\":\"\"},\"baxis\":{\"gridcolor\":\"white\",\"linecolor\":\"white\",\"ticks\":\"\"},\"bgcolor\":\"#E5ECF6\",\"caxis\":{\"gridcolor\":\"white\",\"linecolor\":\"white\",\"ticks\":\"\"}},\"title\":{\"x\":0.05},\"xaxis\":{\"automargin\":true,\"gridcolor\":\"white\",\"linecolor\":\"white\",\"ticks\":\"\",\"title\":{\"standoff\":15},\"zerolinecolor\":\"white\",\"zerolinewidth\":2},\"yaxis\":{\"automargin\":true,\"gridcolor\":\"white\",\"linecolor\":\"white\",\"ticks\":\"\",\"title\":{\"standoff\":15},\"zerolinecolor\":\"white\",\"zerolinewidth\":2}}},\"xaxis\":{\"anchor\":\"y\",\"domain\":[0.0,1.0],\"title\":{\"text\":\"x\"}},\"yaxis\":{\"anchor\":\"x\",\"domain\":[0.0,1.0],\"title\":{\"text\":\"y\"}},\"legend\":{\"tracegroupgap\":0},\"margin\":{\"t\":60},\"boxmode\":\"group\"},                        {\"responsive\": true}                    ).then(function(){\n",
              "                            \n",
              "var gd = document.getElementById('351047cf-03d0-40e4-ba58-d033cc77df30');\n",
              "var x = new MutationObserver(function (mutations, observer) {{\n",
              "        var display = window.getComputedStyle(gd).display;\n",
              "        if (!display || display === 'none') {{\n",
              "            console.log([gd, 'removed!']);\n",
              "            Plotly.purge(gd);\n",
              "            observer.disconnect();\n",
              "        }}\n",
              "}});\n",
              "\n",
              "// Listen for the removal of the full notebook cells\n",
              "var notebookContainer = gd.closest('#notebook-container');\n",
              "if (notebookContainer) {{\n",
              "    x.observe(notebookContainer, {childList: true});\n",
              "}}\n",
              "\n",
              "// Listen for the clearing of the current output cell\n",
              "var outputEl = gd.closest('.output');\n",
              "if (outputEl) {{\n",
              "    x.observe(outputEl, {childList: true});\n",
              "}}\n",
              "\n",
              "                        })                };                            </script>        </div>\n",
              "</body>\n",
              "</html>"
            ]
          },
          "metadata": {},
          "output_type": "display_data"
        }
      ],
      "source": [
        "# relation des lables avec la variable explicative AudienceEngagement_rms\n",
        "fig = px.box(x=kmeans.labels_, y =data.AudienceEngagement_rms.values)\n",
        "fig.show()"
      ]
    },
    {
      "cell_type": "code",
      "execution_count": null,
      "metadata": {
        "colab": {
          "base_uri": "https://localhost:8080/",
          "height": 562
        },
        "id": "P4aBkTjFUzn8",
        "outputId": "43b50e05-e473-4f62-b589-9887d1bbcc08"
      },
      "outputs": [
        {
          "data": {
            "text/html": [
              "<html>\n",
              "<head><meta charset=\"utf-8\" /></head>\n",
              "<body>\n",
              "    <div>            <script src=\"https://cdnjs.cloudflare.com/ajax/libs/mathjax/2.7.5/MathJax.js?config=TeX-AMS-MML_SVG\"></script><script type=\"text/javascript\">if (window.MathJax) {MathJax.Hub.Config({SVG: {font: \"STIX-Web\"}});}</script>                <script type=\"text/javascript\">window.PlotlyConfig = {MathJaxConfig: 'local'};</script>\n",
              "        <script src=\"https://cdn.plot.ly/plotly-2.8.3.min.js\"></script>                <div id=\"f2eadf4b-11de-4bdf-be64-8e001c8e1708\" class=\"plotly-graph-div\" style=\"height:525px; width:100%;\"></div>            <script type=\"text/javascript\">                                    window.PLOTLYENV=window.PLOTLYENV || {};                                    if (document.getElementById(\"f2eadf4b-11de-4bdf-be64-8e001c8e1708\")) {                    Plotly.newPlot(                        \"f2eadf4b-11de-4bdf-be64-8e001c8e1708\",                        [{\"alignmentgroup\":\"True\",\"hovertemplate\":\"x=%{x}<br>y=%{y}<extra></extra>\",\"legendgroup\":\"\",\"marker\":{\"color\":\"#636efa\"},\"name\":\"\",\"notched\":false,\"offsetgroup\":\"\",\"orientation\":\"v\",\"showlegend\":false,\"x\":[0,0,0,1,0,0,1,0,0,1,0,1,1,0,0,1,0,2,1,2,0,0,2,0,0,2,1,0,1,1,2,0,2,0,2,0,0,1,0,2,2,0,0,0,1,1,0,1,0,0,2,2,2,0,0,1,1,0,0,0,1,1,0,0,2,0,1,2,2,1,0,0,1,2,0,1,2,2,2,1,0,0,2,2,2,2,0,2,0,0,1,1,1,0,0,0,0,2,0,2,3,2,1,0,1,1,1,0,2,0,1,1,0,1,0,1,0,0,2,0,1,0,0,1,0,1,0,1,1,0,2,1,0,1,1,2,0,1,2,2,2,2,1,2,2,2,2,2,1,2,2,2,2,1,0,1,2,0,1,2,2,1,1,0,0,2,1,1,2,1,2,0,0,1,2,1,1,0,0,2,1,1,0,2,0,1,1,2,1,2,1,0,2,0,1,0,2,2,2,1,0,1,1,1,1,2,1,1,1,0,1,2,1,0,0,2,1,0,2,1,0,0,1,1,2,0,2,0,1,1,1,1,0,1,1,1,1,1,2,0,1,0,0,0,1],\"x0\":\" \",\"xaxis\":\"x\",\"y\":[4.358898944,4.358898944,3.872983346,3.464101615,3.872983346,4.69041576,4.0,4.0,4.69041576,4.358898944,4.242640687,4.358898944,4.69041576,3.696845502,4.69041576,4.69041576,4.082482905,4.434711565,4.358898944,4.69041576,4.358898944,4.358898944,4.242640687,3.559026084,3.696845502,5.0,4.358898944,4.0,4.358898944,4.69041576,3.696845502,5.0,4.082482905,3.559026084,4.69041576,3.872983346,4.0,4.69041576,3.559026084,4.69041576,4.69041576,4.69041576,5.0,4.69041576,4.358898944,4.434711565,4.358898944,4.69041576,4.358898944,3.872983346,5.0,5.0,3.696845502,4.358898944,4.358898944,4.69041576,3.366501646,4.358898944,4.242640687,4.434711565,4.358898944,4.242640687,3.696845502,4.082482905,4.69041576,5.0,4.358898944,4.242640687,4.082482905,4.69041576,4.082482905,4.434711565,4.082482905,3.872983346,4.082482905,4.358898944,4.082482905,4.434711565,4.434711565,3.696845502,4.69041576,4.358898944,5.0,4.358898944,5.0,4.69041576,5.0,4.69041576,4.082482905,3.464101615,4.082482905,5.0,3.785938897,4.358898944,4.69041576,4.69041576,4.358898944,4.358898944,4.082482905,4.434711565,3.872983346,4.082482905,3.31662479,4.082482905,4.69041576,3.872983346,4.358898944,4.358898944,4.0,3.785938897,5.0,4.082482905,3.696845502,4.358898944,5.0,3.696845502,4.358898944,4.0,3.31662479,4.082482905,4.082482905,3.559026084,3.464101615,4.69041576,4.0,4.082482905,4.358898944,4.358898944,3.559026084,4.358898944,4.69041576,4.082482905,4.358898944,4.69041576,4.69041576,4.358898944,3.872983346,4.358898944,4.69041576,5.0,4.434711565,4.358898944,2.380476143,4.082482905,3.109126351,3.872983346,4.082482905,4.358898944,4.358898944,4.0,4.69041576,4.358898944,2.708012802,3.872983346,4.69041576,3.696845502,4.358898944,4.358898944,4.434711565,4.69041576,3.109126351,4.358898944,3.109126351,4.434711565,4.69041576,3.696845502,4.434711565,3.872983346,4.69041576,4.082482905,4.082482905,3.872983346,3.559026084,2.943920289,5.0,4.69041576,4.69041576,3.785938897,4.358898944,4.358898944,4.358898944,4.434711565,4.242640687,4.69041576,4.0,4.0,4.082482905,4.358898944,4.69041576,4.69041576,4.0,3.696845502,4.242640687,4.358898944,4.358898944,4.434711565,1.414213562,4.358898944,5.0,3.696845502,5.0,3.464101615,5.0,4.69041576,5.0,4.69041576,3.872983346,4.69041576,4.358898944,3.559026084,3.31662479,4.0,3.31662479,4.69041576,4.123105626,5.0,3.109126351,4.69041576,4.358898944,4.434711565,4.358898944,4.082482905,3.696845502,4.358898944,4.0,4.69041576,4.69041576,4.358898944,4.69041576,4.082482905,3.109126351,4.434711565,4.69041576,3.464101615,4.69041576,4.082482905,4.69041576,4.69041576,4.082482905,3.741657387,3.872983346,4.358898944,4.69041576,3.366501646,4.358898944],\"y0\":\" \",\"yaxis\":\"y\",\"type\":\"box\"}],                        {\"template\":{\"data\":{\"bar\":[{\"error_x\":{\"color\":\"#2a3f5f\"},\"error_y\":{\"color\":\"#2a3f5f\"},\"marker\":{\"line\":{\"color\":\"#E5ECF6\",\"width\":0.5},\"pattern\":{\"fillmode\":\"overlay\",\"size\":10,\"solidity\":0.2}},\"type\":\"bar\"}],\"barpolar\":[{\"marker\":{\"line\":{\"color\":\"#E5ECF6\",\"width\":0.5},\"pattern\":{\"fillmode\":\"overlay\",\"size\":10,\"solidity\":0.2}},\"type\":\"barpolar\"}],\"carpet\":[{\"aaxis\":{\"endlinecolor\":\"#2a3f5f\",\"gridcolor\":\"white\",\"linecolor\":\"white\",\"minorgridcolor\":\"white\",\"startlinecolor\":\"#2a3f5f\"},\"baxis\":{\"endlinecolor\":\"#2a3f5f\",\"gridcolor\":\"white\",\"linecolor\":\"white\",\"minorgridcolor\":\"white\",\"startlinecolor\":\"#2a3f5f\"},\"type\":\"carpet\"}],\"choropleth\":[{\"colorbar\":{\"outlinewidth\":0,\"ticks\":\"\"},\"type\":\"choropleth\"}],\"contour\":[{\"colorbar\":{\"outlinewidth\":0,\"ticks\":\"\"},\"colorscale\":[[0.0,\"#0d0887\"],[0.1111111111111111,\"#46039f\"],[0.2222222222222222,\"#7201a8\"],[0.3333333333333333,\"#9c179e\"],[0.4444444444444444,\"#bd3786\"],[0.5555555555555556,\"#d8576b\"],[0.6666666666666666,\"#ed7953\"],[0.7777777777777778,\"#fb9f3a\"],[0.8888888888888888,\"#fdca26\"],[1.0,\"#f0f921\"]],\"type\":\"contour\"}],\"contourcarpet\":[{\"colorbar\":{\"outlinewidth\":0,\"ticks\":\"\"},\"type\":\"contourcarpet\"}],\"heatmap\":[{\"colorbar\":{\"outlinewidth\":0,\"ticks\":\"\"},\"colorscale\":[[0.0,\"#0d0887\"],[0.1111111111111111,\"#46039f\"],[0.2222222222222222,\"#7201a8\"],[0.3333333333333333,\"#9c179e\"],[0.4444444444444444,\"#bd3786\"],[0.5555555555555556,\"#d8576b\"],[0.6666666666666666,\"#ed7953\"],[0.7777777777777778,\"#fb9f3a\"],[0.8888888888888888,\"#fdca26\"],[1.0,\"#f0f921\"]],\"type\":\"heatmap\"}],\"heatmapgl\":[{\"colorbar\":{\"outlinewidth\":0,\"ticks\":\"\"},\"colorscale\":[[0.0,\"#0d0887\"],[0.1111111111111111,\"#46039f\"],[0.2222222222222222,\"#7201a8\"],[0.3333333333333333,\"#9c179e\"],[0.4444444444444444,\"#bd3786\"],[0.5555555555555556,\"#d8576b\"],[0.6666666666666666,\"#ed7953\"],[0.7777777777777778,\"#fb9f3a\"],[0.8888888888888888,\"#fdca26\"],[1.0,\"#f0f921\"]],\"type\":\"heatmapgl\"}],\"histogram\":[{\"marker\":{\"pattern\":{\"fillmode\":\"overlay\",\"size\":10,\"solidity\":0.2}},\"type\":\"histogram\"}],\"histogram2d\":[{\"colorbar\":{\"outlinewidth\":0,\"ticks\":\"\"},\"colorscale\":[[0.0,\"#0d0887\"],[0.1111111111111111,\"#46039f\"],[0.2222222222222222,\"#7201a8\"],[0.3333333333333333,\"#9c179e\"],[0.4444444444444444,\"#bd3786\"],[0.5555555555555556,\"#d8576b\"],[0.6666666666666666,\"#ed7953\"],[0.7777777777777778,\"#fb9f3a\"],[0.8888888888888888,\"#fdca26\"],[1.0,\"#f0f921\"]],\"type\":\"histogram2d\"}],\"histogram2dcontour\":[{\"colorbar\":{\"outlinewidth\":0,\"ticks\":\"\"},\"colorscale\":[[0.0,\"#0d0887\"],[0.1111111111111111,\"#46039f\"],[0.2222222222222222,\"#7201a8\"],[0.3333333333333333,\"#9c179e\"],[0.4444444444444444,\"#bd3786\"],[0.5555555555555556,\"#d8576b\"],[0.6666666666666666,\"#ed7953\"],[0.7777777777777778,\"#fb9f3a\"],[0.8888888888888888,\"#fdca26\"],[1.0,\"#f0f921\"]],\"type\":\"histogram2dcontour\"}],\"mesh3d\":[{\"colorbar\":{\"outlinewidth\":0,\"ticks\":\"\"},\"type\":\"mesh3d\"}],\"parcoords\":[{\"line\":{\"colorbar\":{\"outlinewidth\":0,\"ticks\":\"\"}},\"type\":\"parcoords\"}],\"pie\":[{\"automargin\":true,\"type\":\"pie\"}],\"scatter\":[{\"marker\":{\"colorbar\":{\"outlinewidth\":0,\"ticks\":\"\"}},\"type\":\"scatter\"}],\"scatter3d\":[{\"line\":{\"colorbar\":{\"outlinewidth\":0,\"ticks\":\"\"}},\"marker\":{\"colorbar\":{\"outlinewidth\":0,\"ticks\":\"\"}},\"type\":\"scatter3d\"}],\"scattercarpet\":[{\"marker\":{\"colorbar\":{\"outlinewidth\":0,\"ticks\":\"\"}},\"type\":\"scattercarpet\"}],\"scattergeo\":[{\"marker\":{\"colorbar\":{\"outlinewidth\":0,\"ticks\":\"\"}},\"type\":\"scattergeo\"}],\"scattergl\":[{\"marker\":{\"colorbar\":{\"outlinewidth\":0,\"ticks\":\"\"}},\"type\":\"scattergl\"}],\"scattermapbox\":[{\"marker\":{\"colorbar\":{\"outlinewidth\":0,\"ticks\":\"\"}},\"type\":\"scattermapbox\"}],\"scatterpolar\":[{\"marker\":{\"colorbar\":{\"outlinewidth\":0,\"ticks\":\"\"}},\"type\":\"scatterpolar\"}],\"scatterpolargl\":[{\"marker\":{\"colorbar\":{\"outlinewidth\":0,\"ticks\":\"\"}},\"type\":\"scatterpolargl\"}],\"scatterternary\":[{\"marker\":{\"colorbar\":{\"outlinewidth\":0,\"ticks\":\"\"}},\"type\":\"scatterternary\"}],\"surface\":[{\"colorbar\":{\"outlinewidth\":0,\"ticks\":\"\"},\"colorscale\":[[0.0,\"#0d0887\"],[0.1111111111111111,\"#46039f\"],[0.2222222222222222,\"#7201a8\"],[0.3333333333333333,\"#9c179e\"],[0.4444444444444444,\"#bd3786\"],[0.5555555555555556,\"#d8576b\"],[0.6666666666666666,\"#ed7953\"],[0.7777777777777778,\"#fb9f3a\"],[0.8888888888888888,\"#fdca26\"],[1.0,\"#f0f921\"]],\"type\":\"surface\"}],\"table\":[{\"cells\":{\"fill\":{\"color\":\"#EBF0F8\"},\"line\":{\"color\":\"white\"}},\"header\":{\"fill\":{\"color\":\"#C8D4E3\"},\"line\":{\"color\":\"white\"}},\"type\":\"table\"}]},\"layout\":{\"annotationdefaults\":{\"arrowcolor\":\"#2a3f5f\",\"arrowhead\":0,\"arrowwidth\":1},\"autotypenumbers\":\"strict\",\"coloraxis\":{\"colorbar\":{\"outlinewidth\":0,\"ticks\":\"\"}},\"colorscale\":{\"diverging\":[[0,\"#8e0152\"],[0.1,\"#c51b7d\"],[0.2,\"#de77ae\"],[0.3,\"#f1b6da\"],[0.4,\"#fde0ef\"],[0.5,\"#f7f7f7\"],[0.6,\"#e6f5d0\"],[0.7,\"#b8e186\"],[0.8,\"#7fbc41\"],[0.9,\"#4d9221\"],[1,\"#276419\"]],\"sequential\":[[0.0,\"#0d0887\"],[0.1111111111111111,\"#46039f\"],[0.2222222222222222,\"#7201a8\"],[0.3333333333333333,\"#9c179e\"],[0.4444444444444444,\"#bd3786\"],[0.5555555555555556,\"#d8576b\"],[0.6666666666666666,\"#ed7953\"],[0.7777777777777778,\"#fb9f3a\"],[0.8888888888888888,\"#fdca26\"],[1.0,\"#f0f921\"]],\"sequentialminus\":[[0.0,\"#0d0887\"],[0.1111111111111111,\"#46039f\"],[0.2222222222222222,\"#7201a8\"],[0.3333333333333333,\"#9c179e\"],[0.4444444444444444,\"#bd3786\"],[0.5555555555555556,\"#d8576b\"],[0.6666666666666666,\"#ed7953\"],[0.7777777777777778,\"#fb9f3a\"],[0.8888888888888888,\"#fdca26\"],[1.0,\"#f0f921\"]]},\"colorway\":[\"#636efa\",\"#EF553B\",\"#00cc96\",\"#ab63fa\",\"#FFA15A\",\"#19d3f3\",\"#FF6692\",\"#B6E880\",\"#FF97FF\",\"#FECB52\"],\"font\":{\"color\":\"#2a3f5f\"},\"geo\":{\"bgcolor\":\"white\",\"lakecolor\":\"white\",\"landcolor\":\"#E5ECF6\",\"showlakes\":true,\"showland\":true,\"subunitcolor\":\"white\"},\"hoverlabel\":{\"align\":\"left\"},\"hovermode\":\"closest\",\"mapbox\":{\"style\":\"light\"},\"paper_bgcolor\":\"white\",\"plot_bgcolor\":\"#E5ECF6\",\"polar\":{\"angularaxis\":{\"gridcolor\":\"white\",\"linecolor\":\"white\",\"ticks\":\"\"},\"bgcolor\":\"#E5ECF6\",\"radialaxis\":{\"gridcolor\":\"white\",\"linecolor\":\"white\",\"ticks\":\"\"}},\"scene\":{\"xaxis\":{\"backgroundcolor\":\"#E5ECF6\",\"gridcolor\":\"white\",\"gridwidth\":2,\"linecolor\":\"white\",\"showbackground\":true,\"ticks\":\"\",\"zerolinecolor\":\"white\"},\"yaxis\":{\"backgroundcolor\":\"#E5ECF6\",\"gridcolor\":\"white\",\"gridwidth\":2,\"linecolor\":\"white\",\"showbackground\":true,\"ticks\":\"\",\"zerolinecolor\":\"white\"},\"zaxis\":{\"backgroundcolor\":\"#E5ECF6\",\"gridcolor\":\"white\",\"gridwidth\":2,\"linecolor\":\"white\",\"showbackground\":true,\"ticks\":\"\",\"zerolinecolor\":\"white\"}},\"shapedefaults\":{\"line\":{\"color\":\"#2a3f5f\"}},\"ternary\":{\"aaxis\":{\"gridcolor\":\"white\",\"linecolor\":\"white\",\"ticks\":\"\"},\"baxis\":{\"gridcolor\":\"white\",\"linecolor\":\"white\",\"ticks\":\"\"},\"bgcolor\":\"#E5ECF6\",\"caxis\":{\"gridcolor\":\"white\",\"linecolor\":\"white\",\"ticks\":\"\"}},\"title\":{\"x\":0.05},\"xaxis\":{\"automargin\":true,\"gridcolor\":\"white\",\"linecolor\":\"white\",\"ticks\":\"\",\"title\":{\"standoff\":15},\"zerolinecolor\":\"white\",\"zerolinewidth\":2},\"yaxis\":{\"automargin\":true,\"gridcolor\":\"white\",\"linecolor\":\"white\",\"ticks\":\"\",\"title\":{\"standoff\":15},\"zerolinecolor\":\"white\",\"zerolinewidth\":2}}},\"xaxis\":{\"anchor\":\"y\",\"domain\":[0.0,1.0],\"title\":{\"text\":\"x\"}},\"yaxis\":{\"anchor\":\"x\",\"domain\":[0.0,1.0],\"title\":{\"text\":\"y\"}},\"legend\":{\"tracegroupgap\":0},\"margin\":{\"t\":60},\"boxmode\":\"group\"},                        {\"responsive\": true}                    ).then(function(){\n",
              "                            \n",
              "var gd = document.getElementById('f2eadf4b-11de-4bdf-be64-8e001c8e1708');\n",
              "var x = new MutationObserver(function (mutations, observer) {{\n",
              "        var display = window.getComputedStyle(gd).display;\n",
              "        if (!display || display === 'none') {{\n",
              "            console.log([gd, 'removed!']);\n",
              "            Plotly.purge(gd);\n",
              "            observer.disconnect();\n",
              "        }}\n",
              "}});\n",
              "\n",
              "// Listen for the removal of the full notebook cells\n",
              "var notebookContainer = gd.closest('#notebook-container');\n",
              "if (notebookContainer) {{\n",
              "    x.observe(notebookContainer, {childList: true});\n",
              "}}\n",
              "\n",
              "// Listen for the clearing of the current output cell\n",
              "var outputEl = gd.closest('.output');\n",
              "if (outputEl) {{\n",
              "    x.observe(outputEl, {childList: true});\n",
              "}}\n",
              "\n",
              "                        })                };                            </script>        </div>\n",
              "</body>\n",
              "</html>"
            ]
          },
          "metadata": {},
          "output_type": "display_data"
        }
      ],
      "source": [
        "# relation des lables avec la variable explicative Persuasiveness_rms\n",
        "fig = px.box(x=kmeans.labels_, y =data['PerceivedSelf-Confidence_rms'].values)\n",
        "fig.show()"
      ]
    },
    {
      "cell_type": "markdown",
      "metadata": {
        "id": "7evCcTnPQp5a"
      },
      "source": [
        "On note également que les labels générés pas le kmeans ne permettent pas non plus de séparer les annotations en classes.  \n",
        "\n",
        "On remarque que en dehors l'outlier identifié, ne semble pas dégager de pattern de classes"
      ]
    },
    {
      "cell_type": "code",
      "execution_count": null,
      "metadata": {
        "id": "Xuo2cvpoO53z"
      },
      "outputs": [],
      "source": []
    },
    {
      "cell_type": "code",
      "execution_count": null,
      "metadata": {
        "colab": {
          "base_uri": "https://localhost:8080/",
          "height": 562
        },
        "id": "Iu6GiL9z2RMt",
        "outputId": "f967a6f9-486c-411a-be10-83973f537979"
      },
      "outputs": [
        {
          "data": {
            "text/html": [
              "<html>\n",
              "<head><meta charset=\"utf-8\" /></head>\n",
              "<body>\n",
              "    <div>            <script src=\"https://cdnjs.cloudflare.com/ajax/libs/mathjax/2.7.5/MathJax.js?config=TeX-AMS-MML_SVG\"></script><script type=\"text/javascript\">if (window.MathJax) {MathJax.Hub.Config({SVG: {font: \"STIX-Web\"}});}</script>                <script type=\"text/javascript\">window.PlotlyConfig = {MathJaxConfig: 'local'};</script>\n",
              "        <script src=\"https://cdn.plot.ly/plotly-2.8.3.min.js\"></script>                <div id=\"6baf4d13-be54-4858-ad3f-f91971f67b72\" class=\"plotly-graph-div\" style=\"height:525px; width:100%;\"></div>            <script type=\"text/javascript\">                                    window.PLOTLYENV=window.PLOTLYENV || {};                                    if (document.getElementById(\"6baf4d13-be54-4858-ad3f-f91971f67b72\")) {                    Plotly.newPlot(                        \"6baf4d13-be54-4858-ad3f-f91971f67b72\",                        [{\"hovertemplate\":\"x=%{x}<br>y=%{y}<br>color=%{marker.color}<extra></extra>\",\"legendgroup\":\"\",\"marker\":{\"color\":[-1,-1,-1,-1,-1,-1,-1,-1,-1,-1,-1,-1,-1,-1,-1,-1,-1,-1,-1,-1,-1,-1,-1,-1,-1,-1,-1,-1,-1,-1,-1,-1,-1,-1,-1,-1,-1,-1,-1,-1,-1,-1,-1,-1,-1,-1,-1,-1,-1,-1,-1,-1,-1,-1,-1,-1,-1,-1,-1,-1,-1,-1,-1,-1,-1,-1,-1,-1,-1,-1,-1,-1,-1,-1,-1,-1,-1,-1,-1,-1,-1,-1,-1,-1,-1,-1,-1,-1,-1,-1,-1,-1,-1,-1,-1,-1,-1,-1,-1,-1,-1,-1,-1,-1,-1,-1,-1,-1,-1,-1,-1,-1,-1,-1,-1,-1,-1,-1,-1,-1,-1,-1,-1,-1,-1,-1,-1,-1,-1,-1,-1,-1,-1,-1,-1,-1,-1,-1,-1,-1,-1,-1,-1,-1,-1,-1,-1,-1,-1,-1,-1,-1,-1,-1,-1,-1,-1,-1,-1,-1,-1,-1,-1,-1,-1,-1,-1,-1,-1,-1,-1,-1,-1,-1,-1,-1,-1,-1,-1,-1,-1,-1,-1,-1,-1,-1,-1,-1,-1,-1,-1,-1,-1,-1,-1,-1,-1,-1,-1,-1,-1,-1,-1,-1,-1,-1,-1,-1,-1,-1,-1,-1,-1,-1,-1,-1,-1,-1,-1,-1,-1,-1,-1,-1,-1,-1,-1,-1,-1,-1,-1,-1,-1,-1,-1,-1,-1,-1,-1,-1,-1,-1,-1,-1,-1],\"coloraxis\":\"coloraxis\",\"symbol\":\"circle\"},\"mode\":\"markers\",\"name\":\"\",\"orientation\":\"v\",\"showlegend\":false,\"x\":[-2.377886935742807,-1.9889304854153322,-1.4669971185796054,0.6466442856436067,-1.9580643776917408,-2.241296265985523,0.6631437444145072,-1.4837645435845435,-1.4741653875130438,-1.7198006972385789,-2.659372416199547,3.352147384035584,0.9718356854982926,-2.2776082318569015,-2.5643858854258252,1.2612093961552306,-2.7365009043204287,-1.352485874677043,3.0512924496385736,1.3769286659371114,-1.9684301609658406,-2.022547824592837,1.8753896298092445,-0.5875455879030741,0.24118306161039646,-0.019094172829853068,-0.3123727381109412,-1.9379965200251892,-0.1635003204054037,1.7728351639460003,1.7023521810589657,-2.7394744754833824,-1.1221895143019889,-0.2980954172592645,0.06503536553606945,-1.9569551895016568,-1.5210034493819076,-1.0582782872843295,-2.3927125870042754,-0.29565405131890415,-0.4951923805586627,-2.702072848884881,-2.1800672791861846,-6.428336825400767,-1.1809312971892811,1.4225740560621603,-0.37550465862083254,0.2623920871110189,-3.066151088288789,-1.1174151625507525,0.39975841560751524,0.5971113588259002,-0.19367123021622168,-2.378568226875186,-2.9550969793820547,-1.2224901221118287,-1.147760594082484,-3.900057947575712,-4.637514694496341,-1.0842682638289427,0.09184347790818886,-1.4704144978672549,-0.9060001442032417,-2.751380710923521,1.1281568525890917,-1.796576538569623,2.9637005559571725,1.3691203743640308,-0.10160598800477,1.0373583742535348,-1.6353847585970775,-0.873883610414307,2.832315659251711,1.4590213925517481,-2.689568454906173,0.5562008865348652,-0.858213143691013,-2.054500681419959,0.042111080147015985,1.657346961859986,-3.541419273362024,-2.2317082465167926,0.48437103754082483,0.7045593931272793,2.0857349184452576,1.6160209471329003,-0.1331426820359981,8.349744427707215,-3.0520122321357808,-2.8128782137014694,0.7462125988256189,-1.2195237290225724,0.10230873706904038,-0.7990109676592927,-2.120000568186325,-1.383237866751421,-3.652336890449534,0.17809278857958216,-3.027197259265913,-1.161189575342509,36.02523470721867,0.5059392070112552,0.09227298511959867,-2.483850623419907,-0.8900795666571635,-0.39371853069747575,1.8104376727057994,-1.5715168981258565,0.8982426303630853,-0.5894838087638884,0.9166231591732714,1.6450017952510236,-2.6084435096943244,1.245581994392103,-1.572118636625345,0.23097018782384113,-1.0295795677744422,-1.404041650734327,-3.6033529185894557,-1.4320369924760872,2.6496401924197444,-3.8226999017838885,-2.407615899823018,0.2556629025220477,-0.7561173945336092,-1.288967357003857,-3.1592696349289486,1.2364705314842719,-0.5290797740309194,-1.6411082092019509,1.3416592959483236,2.0008510843191862,-0.5683933974972494,-0.2719233739994636,0.06344444444533859,0.6686104145630597,-5.6960119986047335,2.0107454976250545,0.6379138430068513,1.6450499869207016,3.3254172294803217,-0.1907741446881391,2.853385491842031,2.50046053533264,10.119299399456741,4.952111326785238,2.5274629723852002,8.408671019141151,0.46660960200441276,2.361494004171769,1.7236733854525925,2.2016518778991987,-0.03246445525425334,1.092544158474293,-2.628029572083067,-0.7752800221859368,0.08598930644198419,-2.251685875649964,-1.7258246704726936,2.655532489054636,2.1354560917956342,-0.4739254664588017,0.617055828380626,-1.5402655165593813,-1.7514865727304116,2.2698700637882916,1.6144304124770783,1.567882520698853,0.10267611991298167,-0.14192022710442098,1.0223783969503972,-1.7684589684138468,-3.2589970936327313,2.508075620301519,-0.35546632102213555,0.36930100779194036,-1.2631329639481201,-0.8579835399010987,-0.8925592176843197,0.6151276916935342,1.1686724379376472,1.5170641562728937,-2.0859543426624136,2.220548736071884,-2.599792911959092,-0.23863298318723813,4.353773204196045,4.152104347398832,0.1978130549503998,2.4252751770225953,0.9574432585761995,-0.8962580264473001,0.9858495281314019,-1.2238599784162745,-0.6001166455651881,-1.1296012372044912,0.6054474466834476,0.04703689599796145,2.263368190200449,2.604158144320134,-2.6406284523334245,2.2187431854874053,2.5853734537568682,1.518448049156422,-0.6968764874623711,0.4667109024627225,-0.8379276372418033,-1.046205394460207,0.2223197749492022,-0.6672989267562315,0.9614511070851848,0.07003015059069202,-0.32475521918769057,-1.0214602281096195,-0.6591774467740699,1.7277152439656474,0.8265396667773581,-0.5503276518854922,1.7249128593941823,6.380869408877135,-3.857615635981012,0.8760956052247992,0.4227291469432818,3.057622409021559,-0.009817040163406017,-1.4710575116891063,3.826843509930937,-1.7609787819985974,0.6757712595183343,0.7824007057083394,-0.8555834525192255,-1.934878856302333,-0.750810928108389,0.46669613519558006,-0.8905856404671717,-0.23846920057703022,1.945501109622974,0.24691986257907378,-0.7583477279984209,-1.5374134937302448,-0.15530089487919563,-2.5352871093655485,-0.7293258321280887,-2.5625546113463726,-0.617250990231592],\"xaxis\":\"x\",\"y\":[1.1635275970037895,-3.3246448465389133,-1.0057687186274178,-1.4024240684991993,0.3477261105114674,-3.0661550166299123,-0.3806521749865111,0.8783882861024498,-0.8364007842176762,-3.469329773724232,-4.042840515836938,-4.714726470469528,-1.353356282452634,-0.501603658447973,1.5312813931503755,-0.3199933026942703,3.9727114219919644,3.787411916637415,-7.935458118427082,2.620312718914941,-0.021811698871292768,2.1421550857713703,0.5693809728845824,1.0187448910234596,-0.07339340464322806,3.0032061364884344,-0.6332147474676786,-0.4810344742203229,-1.9801045557563581,-1.9305747452057997,0.3722011904957542,2.4740755643606196,-0.6261982997240138,-0.3232605864831933,2.267770302201763,-0.9505836886099754,-1.574514481827736,-2.3804317361090512,-1.3230702596598274,2.485143185662311,4.221054795734283,-1.6987246794792212,0.41711747310754116,1.4409628715547715,-4.444075852048209,-1.9234026167735865,-0.26049494542683266,-1.98519659077787,-1.109106751968817,-0.8879647932005986,3.2079146849327946,0.7848294964357633,2.1226961409191545,-0.7213540330057086,-2.344125515696011,-2.111204520042666,-3.591719651597679,1.6859198228289975,-3.7418829748732514,0.181911515957123,-1.5337880597123703,-3.0550151582166882,1.3130573497025302,-1.9111055228597011,2.5260109456607163,-0.06258240474322026,-2.2011258762488493,1.5007743015280084,2.2298627463573037,-0.17496651101951774,1.4678530599085917,-0.21097349002418433,-3.8039582060056802,4.503254822564072,-0.11547136298127988,-0.1527070324687047,2.113792389938249,6.379023649454639,2.232460695922559,-0.9258120010516308,1.370250678364311,0.7527616614491941,2.9390487149855318,0.19943845354516157,1.794462349986053,3.6488978434650683,0.42170302959129946,6.345680799941388,-1.5268589695355617,-1.128688997525766,-0.7348697149746115,-3.7070496267947775,-1.1558784460451668,1.3456295795719526,-0.41533596887451085,0.5866515440821555,-1.5584701423218479,0.6852747705952817,5.468263707999636,6.839057687345455,-3.5305532754734443,2.0751768675230178,-4.082493661156032,-0.3329422625332225,-3.9453715594882017,-4.503135674924691,0.5224612035844199,1.2527603611378664,2.543365736496336,0.5812283786647087,-0.23483716854786063,-3.0388469204050086,-0.839557630477393,-0.9145461470252425,-2.580107372328583,-1.4258203699870988,2.6869206308548423,-0.21023999469807905,5.232888868037115,-0.24008038405198942,-0.895921308323271,2.2195406107852342,5.157351098881799,-0.7105681742596469,0.6485053067875868,-1.4921559867086587,2.607818450057726,0.35527052235756623,-2.461464174221729,0.5466269630797469,3.361593540209678,-1.2576198312810312,1.0463926175119858,-3.0540507809980375,-1.2315111627609254,2.735176242449906,-3.5891922761314,-6.786225871017942,2.2401822816958354,0.8287885372437702,0.888867658335952,1.2252114611947118,-1.3588129293974396,1.7736964952871985,7.5503426010430195,5.480054706833814,6.25556645019289,5.179338899408755,-6.029232676006895,-1.0865680873093164,1.9379806532818882,1.2366319965694543,1.168212419678891,-0.7878568934331172,0.0026241965573754735,-0.5939481764880309,2.27822657798601,-1.6567857376281312,-5.275879927896797,-0.12164776675552616,4.155426538049465,-5.512156924778136,-1.7057138341898108,3.5943810097010465,0.6745340007512647,1.3837550319549072,-0.7808651063225278,-0.843697911692156,9.489683665954233,-6.197409883677006,1.957788725662073,2.3778323896350315,3.025178097186071,-1.654832040615743,2.7171072869252106,-1.9516874186115334,-4.652878562289605,-0.20337876557231652,-0.15058561270982518,1.7207099954631122,0.6793780188363336,-2.2369830840897253,2.11154570776478,1.8991985569083634,1.7688620429691444,-3.99351361858312,-1.3945486558041358,1.2820557008588713,0.17823401841175918,2.95596663608572,-3.154316629641753,0.33522484408225867,1.6342497994699012,1.1738728243213004,-1.4286229037976645,0.771100570011713,4.014966781076932,0.4191387248313149,1.5294760996425443,-1.2090957796356963,-0.12301667190394651,-3.4361146152684987,-7.822983603516437,-3.8182161975625086,-1.8496282349046187,2.762233195013418,-3.6918801613967425,-2.133527230040106,-1.3043778916742397,0.6303162895112875,-0.9673351477300934,3.4438426240632856,-1.4787722383760253,0.48837188618486477,-0.24964634752905485,1.9275480531473224,-3.526947460178408,0.9651697878774893,5.826218647571592,-4.145057083315818,2.024111894835879,1.3332290690539952,0.6405616293689823,-0.6094940395804915,7.239123380211607,3.66083772609013,-0.16625821521183115,-1.7540190983721626,0.4495944509544043,-2.192787716122925,-2.9384178865003205,-4.896642972934715,1.2376457334888769,-3.7228566178141858,-2.0416602315642236,-2.5409125946559503,-0.8204349398823252,-1.7149315739695121,1.0307076417760364,0.4497313657550577,-2.1343235520430137,1.7822028302698052,0.635816893538767,-2.242729627298484,-1.848697166128094],\"yaxis\":\"y\",\"type\":\"scatter\"}],                        {\"template\":{\"data\":{\"bar\":[{\"error_x\":{\"color\":\"#2a3f5f\"},\"error_y\":{\"color\":\"#2a3f5f\"},\"marker\":{\"line\":{\"color\":\"#E5ECF6\",\"width\":0.5},\"pattern\":{\"fillmode\":\"overlay\",\"size\":10,\"solidity\":0.2}},\"type\":\"bar\"}],\"barpolar\":[{\"marker\":{\"line\":{\"color\":\"#E5ECF6\",\"width\":0.5},\"pattern\":{\"fillmode\":\"overlay\",\"size\":10,\"solidity\":0.2}},\"type\":\"barpolar\"}],\"carpet\":[{\"aaxis\":{\"endlinecolor\":\"#2a3f5f\",\"gridcolor\":\"white\",\"linecolor\":\"white\",\"minorgridcolor\":\"white\",\"startlinecolor\":\"#2a3f5f\"},\"baxis\":{\"endlinecolor\":\"#2a3f5f\",\"gridcolor\":\"white\",\"linecolor\":\"white\",\"minorgridcolor\":\"white\",\"startlinecolor\":\"#2a3f5f\"},\"type\":\"carpet\"}],\"choropleth\":[{\"colorbar\":{\"outlinewidth\":0,\"ticks\":\"\"},\"type\":\"choropleth\"}],\"contour\":[{\"colorbar\":{\"outlinewidth\":0,\"ticks\":\"\"},\"colorscale\":[[0.0,\"#0d0887\"],[0.1111111111111111,\"#46039f\"],[0.2222222222222222,\"#7201a8\"],[0.3333333333333333,\"#9c179e\"],[0.4444444444444444,\"#bd3786\"],[0.5555555555555556,\"#d8576b\"],[0.6666666666666666,\"#ed7953\"],[0.7777777777777778,\"#fb9f3a\"],[0.8888888888888888,\"#fdca26\"],[1.0,\"#f0f921\"]],\"type\":\"contour\"}],\"contourcarpet\":[{\"colorbar\":{\"outlinewidth\":0,\"ticks\":\"\"},\"type\":\"contourcarpet\"}],\"heatmap\":[{\"colorbar\":{\"outlinewidth\":0,\"ticks\":\"\"},\"colorscale\":[[0.0,\"#0d0887\"],[0.1111111111111111,\"#46039f\"],[0.2222222222222222,\"#7201a8\"],[0.3333333333333333,\"#9c179e\"],[0.4444444444444444,\"#bd3786\"],[0.5555555555555556,\"#d8576b\"],[0.6666666666666666,\"#ed7953\"],[0.7777777777777778,\"#fb9f3a\"],[0.8888888888888888,\"#fdca26\"],[1.0,\"#f0f921\"]],\"type\":\"heatmap\"}],\"heatmapgl\":[{\"colorbar\":{\"outlinewidth\":0,\"ticks\":\"\"},\"colorscale\":[[0.0,\"#0d0887\"],[0.1111111111111111,\"#46039f\"],[0.2222222222222222,\"#7201a8\"],[0.3333333333333333,\"#9c179e\"],[0.4444444444444444,\"#bd3786\"],[0.5555555555555556,\"#d8576b\"],[0.6666666666666666,\"#ed7953\"],[0.7777777777777778,\"#fb9f3a\"],[0.8888888888888888,\"#fdca26\"],[1.0,\"#f0f921\"]],\"type\":\"heatmapgl\"}],\"histogram\":[{\"marker\":{\"pattern\":{\"fillmode\":\"overlay\",\"size\":10,\"solidity\":0.2}},\"type\":\"histogram\"}],\"histogram2d\":[{\"colorbar\":{\"outlinewidth\":0,\"ticks\":\"\"},\"colorscale\":[[0.0,\"#0d0887\"],[0.1111111111111111,\"#46039f\"],[0.2222222222222222,\"#7201a8\"],[0.3333333333333333,\"#9c179e\"],[0.4444444444444444,\"#bd3786\"],[0.5555555555555556,\"#d8576b\"],[0.6666666666666666,\"#ed7953\"],[0.7777777777777778,\"#fb9f3a\"],[0.8888888888888888,\"#fdca26\"],[1.0,\"#f0f921\"]],\"type\":\"histogram2d\"}],\"histogram2dcontour\":[{\"colorbar\":{\"outlinewidth\":0,\"ticks\":\"\"},\"colorscale\":[[0.0,\"#0d0887\"],[0.1111111111111111,\"#46039f\"],[0.2222222222222222,\"#7201a8\"],[0.3333333333333333,\"#9c179e\"],[0.4444444444444444,\"#bd3786\"],[0.5555555555555556,\"#d8576b\"],[0.6666666666666666,\"#ed7953\"],[0.7777777777777778,\"#fb9f3a\"],[0.8888888888888888,\"#fdca26\"],[1.0,\"#f0f921\"]],\"type\":\"histogram2dcontour\"}],\"mesh3d\":[{\"colorbar\":{\"outlinewidth\":0,\"ticks\":\"\"},\"type\":\"mesh3d\"}],\"parcoords\":[{\"line\":{\"colorbar\":{\"outlinewidth\":0,\"ticks\":\"\"}},\"type\":\"parcoords\"}],\"pie\":[{\"automargin\":true,\"type\":\"pie\"}],\"scatter\":[{\"marker\":{\"colorbar\":{\"outlinewidth\":0,\"ticks\":\"\"}},\"type\":\"scatter\"}],\"scatter3d\":[{\"line\":{\"colorbar\":{\"outlinewidth\":0,\"ticks\":\"\"}},\"marker\":{\"colorbar\":{\"outlinewidth\":0,\"ticks\":\"\"}},\"type\":\"scatter3d\"}],\"scattercarpet\":[{\"marker\":{\"colorbar\":{\"outlinewidth\":0,\"ticks\":\"\"}},\"type\":\"scattercarpet\"}],\"scattergeo\":[{\"marker\":{\"colorbar\":{\"outlinewidth\":0,\"ticks\":\"\"}},\"type\":\"scattergeo\"}],\"scattergl\":[{\"marker\":{\"colorbar\":{\"outlinewidth\":0,\"ticks\":\"\"}},\"type\":\"scattergl\"}],\"scattermapbox\":[{\"marker\":{\"colorbar\":{\"outlinewidth\":0,\"ticks\":\"\"}},\"type\":\"scattermapbox\"}],\"scatterpolar\":[{\"marker\":{\"colorbar\":{\"outlinewidth\":0,\"ticks\":\"\"}},\"type\":\"scatterpolar\"}],\"scatterpolargl\":[{\"marker\":{\"colorbar\":{\"outlinewidth\":0,\"ticks\":\"\"}},\"type\":\"scatterpolargl\"}],\"scatterternary\":[{\"marker\":{\"colorbar\":{\"outlinewidth\":0,\"ticks\":\"\"}},\"type\":\"scatterternary\"}],\"surface\":[{\"colorbar\":{\"outlinewidth\":0,\"ticks\":\"\"},\"colorscale\":[[0.0,\"#0d0887\"],[0.1111111111111111,\"#46039f\"],[0.2222222222222222,\"#7201a8\"],[0.3333333333333333,\"#9c179e\"],[0.4444444444444444,\"#bd3786\"],[0.5555555555555556,\"#d8576b\"],[0.6666666666666666,\"#ed7953\"],[0.7777777777777778,\"#fb9f3a\"],[0.8888888888888888,\"#fdca26\"],[1.0,\"#f0f921\"]],\"type\":\"surface\"}],\"table\":[{\"cells\":{\"fill\":{\"color\":\"#EBF0F8\"},\"line\":{\"color\":\"white\"}},\"header\":{\"fill\":{\"color\":\"#C8D4E3\"},\"line\":{\"color\":\"white\"}},\"type\":\"table\"}]},\"layout\":{\"annotationdefaults\":{\"arrowcolor\":\"#2a3f5f\",\"arrowhead\":0,\"arrowwidth\":1},\"autotypenumbers\":\"strict\",\"coloraxis\":{\"colorbar\":{\"outlinewidth\":0,\"ticks\":\"\"}},\"colorscale\":{\"diverging\":[[0,\"#8e0152\"],[0.1,\"#c51b7d\"],[0.2,\"#de77ae\"],[0.3,\"#f1b6da\"],[0.4,\"#fde0ef\"],[0.5,\"#f7f7f7\"],[0.6,\"#e6f5d0\"],[0.7,\"#b8e186\"],[0.8,\"#7fbc41\"],[0.9,\"#4d9221\"],[1,\"#276419\"]],\"sequential\":[[0.0,\"#0d0887\"],[0.1111111111111111,\"#46039f\"],[0.2222222222222222,\"#7201a8\"],[0.3333333333333333,\"#9c179e\"],[0.4444444444444444,\"#bd3786\"],[0.5555555555555556,\"#d8576b\"],[0.6666666666666666,\"#ed7953\"],[0.7777777777777778,\"#fb9f3a\"],[0.8888888888888888,\"#fdca26\"],[1.0,\"#f0f921\"]],\"sequentialminus\":[[0.0,\"#0d0887\"],[0.1111111111111111,\"#46039f\"],[0.2222222222222222,\"#7201a8\"],[0.3333333333333333,\"#9c179e\"],[0.4444444444444444,\"#bd3786\"],[0.5555555555555556,\"#d8576b\"],[0.6666666666666666,\"#ed7953\"],[0.7777777777777778,\"#fb9f3a\"],[0.8888888888888888,\"#fdca26\"],[1.0,\"#f0f921\"]]},\"colorway\":[\"#636efa\",\"#EF553B\",\"#00cc96\",\"#ab63fa\",\"#FFA15A\",\"#19d3f3\",\"#FF6692\",\"#B6E880\",\"#FF97FF\",\"#FECB52\"],\"font\":{\"color\":\"#2a3f5f\"},\"geo\":{\"bgcolor\":\"white\",\"lakecolor\":\"white\",\"landcolor\":\"#E5ECF6\",\"showlakes\":true,\"showland\":true,\"subunitcolor\":\"white\"},\"hoverlabel\":{\"align\":\"left\"},\"hovermode\":\"closest\",\"mapbox\":{\"style\":\"light\"},\"paper_bgcolor\":\"white\",\"plot_bgcolor\":\"#E5ECF6\",\"polar\":{\"angularaxis\":{\"gridcolor\":\"white\",\"linecolor\":\"white\",\"ticks\":\"\"},\"bgcolor\":\"#E5ECF6\",\"radialaxis\":{\"gridcolor\":\"white\",\"linecolor\":\"white\",\"ticks\":\"\"}},\"scene\":{\"xaxis\":{\"backgroundcolor\":\"#E5ECF6\",\"gridcolor\":\"white\",\"gridwidth\":2,\"linecolor\":\"white\",\"showbackground\":true,\"ticks\":\"\",\"zerolinecolor\":\"white\"},\"yaxis\":{\"backgroundcolor\":\"#E5ECF6\",\"gridcolor\":\"white\",\"gridwidth\":2,\"linecolor\":\"white\",\"showbackground\":true,\"ticks\":\"\",\"zerolinecolor\":\"white\"},\"zaxis\":{\"backgroundcolor\":\"#E5ECF6\",\"gridcolor\":\"white\",\"gridwidth\":2,\"linecolor\":\"white\",\"showbackground\":true,\"ticks\":\"\",\"zerolinecolor\":\"white\"}},\"shapedefaults\":{\"line\":{\"color\":\"#2a3f5f\"}},\"ternary\":{\"aaxis\":{\"gridcolor\":\"white\",\"linecolor\":\"white\",\"ticks\":\"\"},\"baxis\":{\"gridcolor\":\"white\",\"linecolor\":\"white\",\"ticks\":\"\"},\"bgcolor\":\"#E5ECF6\",\"caxis\":{\"gridcolor\":\"white\",\"linecolor\":\"white\",\"ticks\":\"\"}},\"title\":{\"x\":0.05},\"xaxis\":{\"automargin\":true,\"gridcolor\":\"white\",\"linecolor\":\"white\",\"ticks\":\"\",\"title\":{\"standoff\":15},\"zerolinecolor\":\"white\",\"zerolinewidth\":2},\"yaxis\":{\"automargin\":true,\"gridcolor\":\"white\",\"linecolor\":\"white\",\"ticks\":\"\",\"title\":{\"standoff\":15},\"zerolinecolor\":\"white\",\"zerolinewidth\":2}}},\"xaxis\":{\"anchor\":\"y\",\"domain\":[0.0,1.0],\"title\":{\"text\":\"x\"}},\"yaxis\":{\"anchor\":\"x\",\"domain\":[0.0,1.0],\"title\":{\"text\":\"y\"}},\"coloraxis\":{\"colorbar\":{\"title\":{\"text\":\"color\"}},\"colorscale\":[[0.0,\"#0d0887\"],[0.1111111111111111,\"#46039f\"],[0.2222222222222222,\"#7201a8\"],[0.3333333333333333,\"#9c179e\"],[0.4444444444444444,\"#bd3786\"],[0.5555555555555556,\"#d8576b\"],[0.6666666666666666,\"#ed7953\"],[0.7777777777777778,\"#fb9f3a\"],[0.8888888888888888,\"#fdca26\"],[1.0,\"#f0f921\"]]},\"legend\":{\"tracegroupgap\":0},\"margin\":{\"t\":60}},                        {\"responsive\": true}                    ).then(function(){\n",
              "                            \n",
              "var gd = document.getElementById('6baf4d13-be54-4858-ad3f-f91971f67b72');\n",
              "var x = new MutationObserver(function (mutations, observer) {{\n",
              "        var display = window.getComputedStyle(gd).display;\n",
              "        if (!display || display === 'none') {{\n",
              "            console.log([gd, 'removed!']);\n",
              "            Plotly.purge(gd);\n",
              "            observer.disconnect();\n",
              "        }}\n",
              "}});\n",
              "\n",
              "// Listen for the removal of the full notebook cells\n",
              "var notebookContainer = gd.closest('#notebook-container');\n",
              "if (notebookContainer) {{\n",
              "    x.observe(notebookContainer, {childList: true});\n",
              "}}\n",
              "\n",
              "// Listen for the clearing of the current output cell\n",
              "var outputEl = gd.closest('.output');\n",
              "if (outputEl) {{\n",
              "    x.observe(outputEl, {childList: true});\n",
              "}}\n",
              "\n",
              "                        })                };                            </script>        </div>\n",
              "</body>\n",
              "</html>"
            ]
          },
          "metadata": {},
          "output_type": "display_data"
        }
      ],
      "source": [
        "dbscan = DBSCAN(eps=2, min_samples=20)\n",
        "labels = dbscan.fit_predict(x_normalized)\n",
        "\n",
        "# Plot the clusters\n",
        "\n",
        "fig = px.scatter(pca, x=pca[:,0], y=pca[:,1], color=labels)\n",
        "fig.show()"
      ]
    },
    {
      "cell_type": "markdown",
      "metadata": {
        "id": "Tsrz1rf8brfF"
      },
      "source": [
        "Le DBSCAN n'arrive à identifier aucun cluster apparent"
      ]
    },
    {
      "cell_type": "code",
      "execution_count": null,
      "metadata": {
        "id": "6SC7OqjT2RAB"
      },
      "outputs": [],
      "source": []
    },
    {
      "cell_type": "code",
      "execution_count": null,
      "metadata": {
        "id": "4zj6wCmq2Q83"
      },
      "outputs": [],
      "source": []
    },
    {
      "cell_type": "markdown",
      "metadata": {
        "id": "LHJLVZzo19Ss"
      },
      "source": [
        "## Regression"
      ]
    },
    {
      "cell_type": "code",
      "execution_count": null,
      "metadata": {
        "id": "8PrjMOZVol5I"
      },
      "outputs": [],
      "source": [
        "x_ = data[['Persuasiveness_rms','PerceivedSelf-Confidence_rms', 'AudienceEngagement_rms']]\n",
        "y_ = data['GlobalEvaluation_rms']"
      ]
    },
    {
      "cell_type": "code",
      "execution_count": null,
      "metadata": {
        "id": "BIO7mulaXcTa"
      },
      "outputs": [],
      "source": []
    },
    {
      "cell_type": "code",
      "execution_count": null,
      "metadata": {
        "colab": {
          "base_uri": "https://localhost:8080/",
          "height": 562
        },
        "id": "YrBPQQc_yWwl",
        "outputId": "0e2bd889-a137-4f66-90d0-b8fdfb08cb7c"
      },
      "outputs": [
        {
          "data": {
            "text/html": [
              "<html>\n",
              "<head><meta charset=\"utf-8\" /></head>\n",
              "<body>\n",
              "    <div>            <script src=\"https://cdnjs.cloudflare.com/ajax/libs/mathjax/2.7.5/MathJax.js?config=TeX-AMS-MML_SVG\"></script><script type=\"text/javascript\">if (window.MathJax) {MathJax.Hub.Config({SVG: {font: \"STIX-Web\"}});}</script>                <script type=\"text/javascript\">window.PlotlyConfig = {MathJaxConfig: 'local'};</script>\n",
              "        <script src=\"https://cdn.plot.ly/plotly-2.8.3.min.js\"></script>                <div id=\"ffbd2801-bbd7-40bd-985a-2d515095a52c\" class=\"plotly-graph-div\" style=\"height:525px; width:100%;\"></div>            <script type=\"text/javascript\">                                    window.PLOTLYENV=window.PLOTLYENV || {};                                    if (document.getElementById(\"ffbd2801-bbd7-40bd-985a-2d515095a52c\")) {                    Plotly.newPlot(                        \"ffbd2801-bbd7-40bd-985a-2d515095a52c\",                        [{\"hovertemplate\":\"x=%{x}<br>y=%{y}<extra></extra>\",\"legendgroup\":\"\",\"marker\":{\"color\":\"#636efa\",\"symbol\":\"circle\"},\"mode\":\"markers\",\"name\":\"\",\"orientation\":\"v\",\"showlegend\":false,\"x\":[4.092676386,4.153311931,3.872983346,4.062019202,3.570714214,4.444097209,4.272001873,4.272001873,4.5,3.905124838,4.242640687,4.609772229,4.69041576,3.696845502,4.272001873,4.69041576,4.291464397,4.173328009,4.153311931,4.444097209,3.937003937,4.153311931,3.968626967,3.559026084,3.829708431,4.769696007,4.153311931,3.535533906,4.153311931,4.444097209,3.696845502,4.769696007,4.082482905,3.559026084,4.0,3.872983346,4.272001873,4.444097209,3.958114029,4.69041576,4.69041576,4.69041576,5.0,4.444097209,3.640054945,3.662876829,4.358898944,4.444097209,4.358898944,3.872983346,5.0,4.272001873,3.523729085,4.153311931,4.153311931,4.444097209,3.915780041,4.153311931,4.387482194,4.173328009,4.092676386,4.330127019,3.696845502,4.203173404,4.242640687,4.769696007,4.415880433,3.464101615,4.291464397,4.69041576,3.796928583,3.894440482,3.378855822,3.5,4.291464397,4.415880433,3.92640633,4.434711565,4.627814459,3.829708431,4.69041576,4.358898944,5.0,4.609772229,5.0,4.358898944,4.092676386,4.69041576,4.082482905,3.0,3.593976442,5.0,3.175426481,4.358898944,4.69041576,4.092676386,3.872983346,3.640054945,4.082482905,4.627814459,3.872983346,4.34932945,3.674234614,4.082482905,3.774917218,3.807886553,4.609772229,4.153311931,3.535533906,3.851406669,4.092676386,3.862210075,3.45205253,4.153311931,3.807886553,3.829708431,4.153311931,4.527692569,3.354101966,3.796928583,3.796928583,3.378855822,4.153311931,4.924428901,3.774917218,3.696845502,4.358898944,3.872983346,3.227486122,4.609772229,4.242640687,4.082482905,4.358898944,4.272001873,4.444097209,4.153311931,4.242640687,4.847679857,4.5,4.527692569,4.627814459,4.0,2.62995564,4.082482905,3.696845502,3.872983346,4.082482905,4.153311931,4.358898944,3.605551275,4.69041576,4.358898944,3.476108936,3.807886553,4.924428901,3.696845502,4.609772229,4.847679857,4.434711565,4.5,3.109126351,3.640054945,3.45205253,3.696845502,4.183300133,3.45205253,4.377975179,3.640054945,4.69041576,4.291464397,4.291464397,4.031128874,2.581988897,2.581988897,4.769696007,4.5,4.924428901,3.719318934,4.153311931,4.358898944,4.153311931,4.020779361,4.330127019,4.69041576,3.535533906,4.062019202,3.796928583,4.358898944,3.968626967,4.242640687,3.535533906,3.188521078,4.123105626,4.358898944,3.605551275,4.627814459,1.658312395,4.609772229,4.527692569,3.92640633,5.0,4.062019202,4.092676386,4.69041576,4.769696007,4.444097209,3.31662479,4.69041576,4.609772229,3.378855822,3.741657387,3.774917218,3.741657387,4.444097209,3.840572874,4.769696007,3.559026084,4.5,3.640054945,4.173328009,4.358898944,4.082482905,4.203173404,4.153311931,4.272001873,4.444097209,4.444097209,4.153311931,4.69041576,3.696845502,3.304037934,4.434711565,4.444097209,3.0,4.69041576,3.696845502,4.444097209,4.69041576,3.796928583,2.5,3.872983346,4.358898944,4.924428901,3.851406669,4.092676386],\"xaxis\":\"x\",\"y\":[71.67461196,76.8635154,72.84915923,68.59664715,64.71475875,79.21331959,62.72559286,70.37400088,80.55122594,67.38137725,71.95832127,77.89094941,72.26340706,61.35687954,81.01543063,77.54192414,69.32832514,74.63019943,66.16456756,77.72387021,73.30927636,75.43871685,74.13501197,62.29499712,75.51765798,78.25119807,69.39740629,70.5,74.87990385,78.24640567,66.80132234,81.59503661,67.50678978,59.88669858,78.76230063,63.94333429,72.93833012,78.53661566,52.61812109,73.38766926,77.68848048,86.06102486,82.23594105,71.03344283,68.19824045,66.18282758,76.06083092,78.58594022,73.18469785,66.66520832,83.85254916,65.89195702,60.3814265,70.51772827,69.74059076,78.01121714,63.33903483,72.8079666,64.80547816,66.25833281,73.74957627,73.70888685,60.96242012,65.38093504,72.58098925,86.06538212,80.0874522,68.19457456,70.34853706,83.25563044,67.3455022,82.27342625,69.68799514,55.31726674,59.94511378,80.00781212,76.64474324,75.87599533,80.96398376,56.29979278,79.26380006,68.73317976,79.86707707,74.22600622,79.69629853,77.44514187,67.54813099,76.70723564,69.00301926,53.5023364,55.89871793,86.35102779,66.12173117,80.54191455,75.1598297,73.70719097,67.12860791,58.50640991,66.96578728,78.16915419,75.47350528,70.25252071,65.82552696,78.0347145,76.84725109,56.77147171,82.01371836,67.35168892,53.68891878,55.14601829,78.5143299,59.07763254,45.90116193,69.65629907,83.85254916,59.09667221,67.90434449,76.08712112,57.76028047,64.27609716,71.94731869,57.30110528,53.03065151,82.45453293,66.94400645,70.89898918,83.84360441,76.60287201,49.22821007,77.44029959,68.19640753,69.13874939,80.65358021,66.11921052,75.87983922,69.23871749,68.01286643,80.40988745,80.54657038,75.627376,69.87071394,69.0651866,35.37536808,70.20268276,54.5771625,66.65583245,69.94759943,67.2569699,75.30604225,65.08648093,77.01947806,73.95437783,55.69859364,74.27146154,81.27422716,58.69980125,80.41921412,81.76643566,72.70602909,77.29488987,44.90731195,65.23610963,54.34074592,64.95511271,76.47058258,59.22766808,66.98071862,60.14149982,76.04439493,66.76575969,69.23631032,68.52554268,61.02799904,46.6761895,72.65328623,76.15608971,80.38034586,61.52303092,74.53354949,75.36079883,76.72190039,61.73262239,66.29291063,77.89576368,73.82919477,73.0,60.30892692,77.18808198,70.29046877,72.69628601,66.03029608,51.88850226,63.93746945,76.83098333,68.78408246,83.54739174,16.2711401,74.09284716,77.92143479,70.82137154,84.9426277,60.14149982,82.42875712,82.71940522,80.42853971,68.569308,65.55150647,78.49681522,79.00316449,57.71842571,64.2611858,72.07808266,54.22407215,72.74269723,67.57033373,84.64927643,58.43728832,73.87997022,60.10615609,70.61810438,76.88302804,68.53770252,57.94969082,66.39277069,62.63585235,76.73167534,83.82123836,70.19081136,84.92349498,64.69479629,56.76192973,68.13344749,78.26876772,53.06599665,75.98684097,65.18179705,80.56363944,80.72174428,71.01701674,62.23142293,69.30367956,71.26885715,84.07288505,65.28463321,68.68223933],\"yaxis\":\"y\",\"type\":\"scatter\"}],                        {\"template\":{\"data\":{\"bar\":[{\"error_x\":{\"color\":\"#2a3f5f\"},\"error_y\":{\"color\":\"#2a3f5f\"},\"marker\":{\"line\":{\"color\":\"#E5ECF6\",\"width\":0.5},\"pattern\":{\"fillmode\":\"overlay\",\"size\":10,\"solidity\":0.2}},\"type\":\"bar\"}],\"barpolar\":[{\"marker\":{\"line\":{\"color\":\"#E5ECF6\",\"width\":0.5},\"pattern\":{\"fillmode\":\"overlay\",\"size\":10,\"solidity\":0.2}},\"type\":\"barpolar\"}],\"carpet\":[{\"aaxis\":{\"endlinecolor\":\"#2a3f5f\",\"gridcolor\":\"white\",\"linecolor\":\"white\",\"minorgridcolor\":\"white\",\"startlinecolor\":\"#2a3f5f\"},\"baxis\":{\"endlinecolor\":\"#2a3f5f\",\"gridcolor\":\"white\",\"linecolor\":\"white\",\"minorgridcolor\":\"white\",\"startlinecolor\":\"#2a3f5f\"},\"type\":\"carpet\"}],\"choropleth\":[{\"colorbar\":{\"outlinewidth\":0,\"ticks\":\"\"},\"type\":\"choropleth\"}],\"contour\":[{\"colorbar\":{\"outlinewidth\":0,\"ticks\":\"\"},\"colorscale\":[[0.0,\"#0d0887\"],[0.1111111111111111,\"#46039f\"],[0.2222222222222222,\"#7201a8\"],[0.3333333333333333,\"#9c179e\"],[0.4444444444444444,\"#bd3786\"],[0.5555555555555556,\"#d8576b\"],[0.6666666666666666,\"#ed7953\"],[0.7777777777777778,\"#fb9f3a\"],[0.8888888888888888,\"#fdca26\"],[1.0,\"#f0f921\"]],\"type\":\"contour\"}],\"contourcarpet\":[{\"colorbar\":{\"outlinewidth\":0,\"ticks\":\"\"},\"type\":\"contourcarpet\"}],\"heatmap\":[{\"colorbar\":{\"outlinewidth\":0,\"ticks\":\"\"},\"colorscale\":[[0.0,\"#0d0887\"],[0.1111111111111111,\"#46039f\"],[0.2222222222222222,\"#7201a8\"],[0.3333333333333333,\"#9c179e\"],[0.4444444444444444,\"#bd3786\"],[0.5555555555555556,\"#d8576b\"],[0.6666666666666666,\"#ed7953\"],[0.7777777777777778,\"#fb9f3a\"],[0.8888888888888888,\"#fdca26\"],[1.0,\"#f0f921\"]],\"type\":\"heatmap\"}],\"heatmapgl\":[{\"colorbar\":{\"outlinewidth\":0,\"ticks\":\"\"},\"colorscale\":[[0.0,\"#0d0887\"],[0.1111111111111111,\"#46039f\"],[0.2222222222222222,\"#7201a8\"],[0.3333333333333333,\"#9c179e\"],[0.4444444444444444,\"#bd3786\"],[0.5555555555555556,\"#d8576b\"],[0.6666666666666666,\"#ed7953\"],[0.7777777777777778,\"#fb9f3a\"],[0.8888888888888888,\"#fdca26\"],[1.0,\"#f0f921\"]],\"type\":\"heatmapgl\"}],\"histogram\":[{\"marker\":{\"pattern\":{\"fillmode\":\"overlay\",\"size\":10,\"solidity\":0.2}},\"type\":\"histogram\"}],\"histogram2d\":[{\"colorbar\":{\"outlinewidth\":0,\"ticks\":\"\"},\"colorscale\":[[0.0,\"#0d0887\"],[0.1111111111111111,\"#46039f\"],[0.2222222222222222,\"#7201a8\"],[0.3333333333333333,\"#9c179e\"],[0.4444444444444444,\"#bd3786\"],[0.5555555555555556,\"#d8576b\"],[0.6666666666666666,\"#ed7953\"],[0.7777777777777778,\"#fb9f3a\"],[0.8888888888888888,\"#fdca26\"],[1.0,\"#f0f921\"]],\"type\":\"histogram2d\"}],\"histogram2dcontour\":[{\"colorbar\":{\"outlinewidth\":0,\"ticks\":\"\"},\"colorscale\":[[0.0,\"#0d0887\"],[0.1111111111111111,\"#46039f\"],[0.2222222222222222,\"#7201a8\"],[0.3333333333333333,\"#9c179e\"],[0.4444444444444444,\"#bd3786\"],[0.5555555555555556,\"#d8576b\"],[0.6666666666666666,\"#ed7953\"],[0.7777777777777778,\"#fb9f3a\"],[0.8888888888888888,\"#fdca26\"],[1.0,\"#f0f921\"]],\"type\":\"histogram2dcontour\"}],\"mesh3d\":[{\"colorbar\":{\"outlinewidth\":0,\"ticks\":\"\"},\"type\":\"mesh3d\"}],\"parcoords\":[{\"line\":{\"colorbar\":{\"outlinewidth\":0,\"ticks\":\"\"}},\"type\":\"parcoords\"}],\"pie\":[{\"automargin\":true,\"type\":\"pie\"}],\"scatter\":[{\"marker\":{\"colorbar\":{\"outlinewidth\":0,\"ticks\":\"\"}},\"type\":\"scatter\"}],\"scatter3d\":[{\"line\":{\"colorbar\":{\"outlinewidth\":0,\"ticks\":\"\"}},\"marker\":{\"colorbar\":{\"outlinewidth\":0,\"ticks\":\"\"}},\"type\":\"scatter3d\"}],\"scattercarpet\":[{\"marker\":{\"colorbar\":{\"outlinewidth\":0,\"ticks\":\"\"}},\"type\":\"scattercarpet\"}],\"scattergeo\":[{\"marker\":{\"colorbar\":{\"outlinewidth\":0,\"ticks\":\"\"}},\"type\":\"scattergeo\"}],\"scattergl\":[{\"marker\":{\"colorbar\":{\"outlinewidth\":0,\"ticks\":\"\"}},\"type\":\"scattergl\"}],\"scattermapbox\":[{\"marker\":{\"colorbar\":{\"outlinewidth\":0,\"ticks\":\"\"}},\"type\":\"scattermapbox\"}],\"scatterpolar\":[{\"marker\":{\"colorbar\":{\"outlinewidth\":0,\"ticks\":\"\"}},\"type\":\"scatterpolar\"}],\"scatterpolargl\":[{\"marker\":{\"colorbar\":{\"outlinewidth\":0,\"ticks\":\"\"}},\"type\":\"scatterpolargl\"}],\"scatterternary\":[{\"marker\":{\"colorbar\":{\"outlinewidth\":0,\"ticks\":\"\"}},\"type\":\"scatterternary\"}],\"surface\":[{\"colorbar\":{\"outlinewidth\":0,\"ticks\":\"\"},\"colorscale\":[[0.0,\"#0d0887\"],[0.1111111111111111,\"#46039f\"],[0.2222222222222222,\"#7201a8\"],[0.3333333333333333,\"#9c179e\"],[0.4444444444444444,\"#bd3786\"],[0.5555555555555556,\"#d8576b\"],[0.6666666666666666,\"#ed7953\"],[0.7777777777777778,\"#fb9f3a\"],[0.8888888888888888,\"#fdca26\"],[1.0,\"#f0f921\"]],\"type\":\"surface\"}],\"table\":[{\"cells\":{\"fill\":{\"color\":\"#EBF0F8\"},\"line\":{\"color\":\"white\"}},\"header\":{\"fill\":{\"color\":\"#C8D4E3\"},\"line\":{\"color\":\"white\"}},\"type\":\"table\"}]},\"layout\":{\"annotationdefaults\":{\"arrowcolor\":\"#2a3f5f\",\"arrowhead\":0,\"arrowwidth\":1},\"autotypenumbers\":\"strict\",\"coloraxis\":{\"colorbar\":{\"outlinewidth\":0,\"ticks\":\"\"}},\"colorscale\":{\"diverging\":[[0,\"#8e0152\"],[0.1,\"#c51b7d\"],[0.2,\"#de77ae\"],[0.3,\"#f1b6da\"],[0.4,\"#fde0ef\"],[0.5,\"#f7f7f7\"],[0.6,\"#e6f5d0\"],[0.7,\"#b8e186\"],[0.8,\"#7fbc41\"],[0.9,\"#4d9221\"],[1,\"#276419\"]],\"sequential\":[[0.0,\"#0d0887\"],[0.1111111111111111,\"#46039f\"],[0.2222222222222222,\"#7201a8\"],[0.3333333333333333,\"#9c179e\"],[0.4444444444444444,\"#bd3786\"],[0.5555555555555556,\"#d8576b\"],[0.6666666666666666,\"#ed7953\"],[0.7777777777777778,\"#fb9f3a\"],[0.8888888888888888,\"#fdca26\"],[1.0,\"#f0f921\"]],\"sequentialminus\":[[0.0,\"#0d0887\"],[0.1111111111111111,\"#46039f\"],[0.2222222222222222,\"#7201a8\"],[0.3333333333333333,\"#9c179e\"],[0.4444444444444444,\"#bd3786\"],[0.5555555555555556,\"#d8576b\"],[0.6666666666666666,\"#ed7953\"],[0.7777777777777778,\"#fb9f3a\"],[0.8888888888888888,\"#fdca26\"],[1.0,\"#f0f921\"]]},\"colorway\":[\"#636efa\",\"#EF553B\",\"#00cc96\",\"#ab63fa\",\"#FFA15A\",\"#19d3f3\",\"#FF6692\",\"#B6E880\",\"#FF97FF\",\"#FECB52\"],\"font\":{\"color\":\"#2a3f5f\"},\"geo\":{\"bgcolor\":\"white\",\"lakecolor\":\"white\",\"landcolor\":\"#E5ECF6\",\"showlakes\":true,\"showland\":true,\"subunitcolor\":\"white\"},\"hoverlabel\":{\"align\":\"left\"},\"hovermode\":\"closest\",\"mapbox\":{\"style\":\"light\"},\"paper_bgcolor\":\"white\",\"plot_bgcolor\":\"#E5ECF6\",\"polar\":{\"angularaxis\":{\"gridcolor\":\"white\",\"linecolor\":\"white\",\"ticks\":\"\"},\"bgcolor\":\"#E5ECF6\",\"radialaxis\":{\"gridcolor\":\"white\",\"linecolor\":\"white\",\"ticks\":\"\"}},\"scene\":{\"xaxis\":{\"backgroundcolor\":\"#E5ECF6\",\"gridcolor\":\"white\",\"gridwidth\":2,\"linecolor\":\"white\",\"showbackground\":true,\"ticks\":\"\",\"zerolinecolor\":\"white\"},\"yaxis\":{\"backgroundcolor\":\"#E5ECF6\",\"gridcolor\":\"white\",\"gridwidth\":2,\"linecolor\":\"white\",\"showbackground\":true,\"ticks\":\"\",\"zerolinecolor\":\"white\"},\"zaxis\":{\"backgroundcolor\":\"#E5ECF6\",\"gridcolor\":\"white\",\"gridwidth\":2,\"linecolor\":\"white\",\"showbackground\":true,\"ticks\":\"\",\"zerolinecolor\":\"white\"}},\"shapedefaults\":{\"line\":{\"color\":\"#2a3f5f\"}},\"ternary\":{\"aaxis\":{\"gridcolor\":\"white\",\"linecolor\":\"white\",\"ticks\":\"\"},\"baxis\":{\"gridcolor\":\"white\",\"linecolor\":\"white\",\"ticks\":\"\"},\"bgcolor\":\"#E5ECF6\",\"caxis\":{\"gridcolor\":\"white\",\"linecolor\":\"white\",\"ticks\":\"\"}},\"title\":{\"x\":0.05},\"xaxis\":{\"automargin\":true,\"gridcolor\":\"white\",\"linecolor\":\"white\",\"ticks\":\"\",\"title\":{\"standoff\":15},\"zerolinecolor\":\"white\",\"zerolinewidth\":2},\"yaxis\":{\"automargin\":true,\"gridcolor\":\"white\",\"linecolor\":\"white\",\"ticks\":\"\",\"title\":{\"standoff\":15},\"zerolinecolor\":\"white\",\"zerolinewidth\":2}}},\"xaxis\":{\"anchor\":\"y\",\"domain\":[0.0,1.0],\"title\":{\"text\":\"x\"}},\"yaxis\":{\"anchor\":\"x\",\"domain\":[0.0,1.0],\"title\":{\"text\":\"y\"}},\"legend\":{\"tracegroupgap\":0},\"margin\":{\"t\":60}},                        {\"responsive\": true}                    ).then(function(){\n",
              "                            \n",
              "var gd = document.getElementById('ffbd2801-bbd7-40bd-985a-2d515095a52c');\n",
              "var x = new MutationObserver(function (mutations, observer) {{\n",
              "        var display = window.getComputedStyle(gd).display;\n",
              "        if (!display || display === 'none') {{\n",
              "            console.log([gd, 'removed!']);\n",
              "            Plotly.purge(gd);\n",
              "            observer.disconnect();\n",
              "        }}\n",
              "}});\n",
              "\n",
              "// Listen for the removal of the full notebook cells\n",
              "var notebookContainer = gd.closest('#notebook-container');\n",
              "if (notebookContainer) {{\n",
              "    x.observe(notebookContainer, {childList: true});\n",
              "}}\n",
              "\n",
              "// Listen for the clearing of the current output cell\n",
              "var outputEl = gd.closest('.output');\n",
              "if (outputEl) {{\n",
              "    x.observe(outputEl, {childList: true});\n",
              "}}\n",
              "\n",
              "                        })                };                            </script>        </div>\n",
              "</body>\n",
              "</html>"
            ]
          },
          "metadata": {},
          "output_type": "display_data"
        }
      ],
      "source": [
        "fig = px.scatter(x= x_['Persuasiveness_rms'],\n",
        "                 y=y_)\n",
        "fig.show()"
      ]
    },
    {
      "cell_type": "code",
      "execution_count": null,
      "metadata": {
        "colab": {
          "base_uri": "https://localhost:8080/",
          "height": 562
        },
        "id": "LLDSN6T-yWtL",
        "outputId": "f1b1286a-a5cd-4c81-dad1-21c2bb30fba9"
      },
      "outputs": [
        {
          "data": {
            "text/html": [
              "<html>\n",
              "<head><meta charset=\"utf-8\" /></head>\n",
              "<body>\n",
              "    <div>            <script src=\"https://cdnjs.cloudflare.com/ajax/libs/mathjax/2.7.5/MathJax.js?config=TeX-AMS-MML_SVG\"></script><script type=\"text/javascript\">if (window.MathJax) {MathJax.Hub.Config({SVG: {font: \"STIX-Web\"}});}</script>                <script type=\"text/javascript\">window.PlotlyConfig = {MathJaxConfig: 'local'};</script>\n",
              "        <script src=\"https://cdn.plot.ly/plotly-2.8.3.min.js\"></script>                <div id=\"1f22bf8c-43b1-44a8-a1aa-b7192a9210d3\" class=\"plotly-graph-div\" style=\"height:525px; width:100%;\"></div>            <script type=\"text/javascript\">                                    window.PLOTLYENV=window.PLOTLYENV || {};                                    if (document.getElementById(\"1f22bf8c-43b1-44a8-a1aa-b7192a9210d3\")) {                    Plotly.newPlot(                        \"1f22bf8c-43b1-44a8-a1aa-b7192a9210d3\",                        [{\"hovertemplate\":\"x=%{x}<br>y=%{y}<extra></extra>\",\"legendgroup\":\"\",\"marker\":{\"color\":\"#636efa\",\"symbol\":\"circle\"},\"mode\":\"markers\",\"name\":\"\",\"orientation\":\"v\",\"showlegend\":false,\"x\":[4.358898944,4.358898944,3.872983346,3.464101615,3.872983346,4.69041576,4.0,4.0,4.69041576,4.358898944,4.242640687,4.358898944,4.69041576,3.696845502,4.69041576,4.69041576,4.082482905,4.434711565,4.358898944,4.69041576,4.358898944,4.358898944,4.242640687,3.559026084,3.696845502,5.0,4.358898944,4.0,4.358898944,4.69041576,3.696845502,5.0,4.082482905,3.559026084,4.69041576,3.872983346,4.0,4.69041576,3.559026084,4.69041576,4.69041576,4.69041576,5.0,4.69041576,4.358898944,4.434711565,4.358898944,4.69041576,4.358898944,3.872983346,5.0,5.0,3.696845502,4.358898944,4.358898944,4.69041576,3.366501646,4.358898944,4.242640687,4.434711565,4.358898944,4.242640687,3.696845502,4.082482905,4.69041576,5.0,4.358898944,4.242640687,4.082482905,4.69041576,4.082482905,4.434711565,4.082482905,3.872983346,4.082482905,4.358898944,4.082482905,4.434711565,4.434711565,3.696845502,4.69041576,4.358898944,5.0,4.358898944,5.0,4.69041576,5.0,4.69041576,4.082482905,3.464101615,4.082482905,5.0,3.785938897,4.358898944,4.69041576,4.69041576,4.358898944,4.358898944,4.082482905,4.434711565,3.872983346,4.082482905,3.31662479,4.082482905,4.69041576,3.872983346,4.358898944,4.358898944,4.0,3.785938897,5.0,4.082482905,3.696845502,4.358898944,5.0,3.696845502,4.358898944,4.0,3.31662479,4.082482905,4.082482905,3.559026084,3.464101615,4.69041576,4.0,4.082482905,4.358898944,4.358898944,3.559026084,4.358898944,4.69041576,4.082482905,4.358898944,4.69041576,4.69041576,4.358898944,3.872983346,4.358898944,4.69041576,5.0,4.434711565,4.358898944,2.380476143,4.082482905,3.109126351,3.872983346,4.082482905,4.358898944,4.358898944,4.0,4.69041576,4.358898944,2.708012802,3.872983346,4.69041576,3.696845502,4.358898944,4.358898944,4.434711565,4.69041576,3.109126351,4.358898944,3.109126351,4.434711565,4.69041576,3.696845502,4.434711565,3.872983346,4.69041576,4.082482905,4.082482905,3.872983346,3.559026084,2.943920289,5.0,4.69041576,4.69041576,3.785938897,4.358898944,4.358898944,4.358898944,4.434711565,4.242640687,4.69041576,4.0,4.0,4.082482905,4.358898944,4.69041576,4.69041576,4.0,3.696845502,4.242640687,4.358898944,4.358898944,4.434711565,1.414213562,4.358898944,5.0,3.696845502,5.0,3.464101615,5.0,4.69041576,5.0,4.69041576,3.872983346,4.69041576,4.358898944,3.559026084,3.31662479,4.0,3.31662479,4.69041576,4.123105626,5.0,3.109126351,4.69041576,4.358898944,4.434711565,4.358898944,4.082482905,3.696845502,4.358898944,4.0,4.69041576,4.69041576,4.358898944,4.69041576,4.082482905,3.109126351,4.434711565,4.69041576,3.464101615,4.69041576,4.082482905,4.69041576,4.69041576,4.082482905,3.741657387,3.872983346,4.358898944,4.69041576,3.366501646,4.358898944],\"xaxis\":\"x\",\"y\":[71.67461196,76.8635154,72.84915923,68.59664715,64.71475875,79.21331959,62.72559286,70.37400088,80.55122594,67.38137725,71.95832127,77.89094941,72.26340706,61.35687954,81.01543063,77.54192414,69.32832514,74.63019943,66.16456756,77.72387021,73.30927636,75.43871685,74.13501197,62.29499712,75.51765798,78.25119807,69.39740629,70.5,74.87990385,78.24640567,66.80132234,81.59503661,67.50678978,59.88669858,78.76230063,63.94333429,72.93833012,78.53661566,52.61812109,73.38766926,77.68848048,86.06102486,82.23594105,71.03344283,68.19824045,66.18282758,76.06083092,78.58594022,73.18469785,66.66520832,83.85254916,65.89195702,60.3814265,70.51772827,69.74059076,78.01121714,63.33903483,72.8079666,64.80547816,66.25833281,73.74957627,73.70888685,60.96242012,65.38093504,72.58098925,86.06538212,80.0874522,68.19457456,70.34853706,83.25563044,67.3455022,82.27342625,69.68799514,55.31726674,59.94511378,80.00781212,76.64474324,75.87599533,80.96398376,56.29979278,79.26380006,68.73317976,79.86707707,74.22600622,79.69629853,77.44514187,67.54813099,76.70723564,69.00301926,53.5023364,55.89871793,86.35102779,66.12173117,80.54191455,75.1598297,73.70719097,67.12860791,58.50640991,66.96578728,78.16915419,75.47350528,70.25252071,65.82552696,78.0347145,76.84725109,56.77147171,82.01371836,67.35168892,53.68891878,55.14601829,78.5143299,59.07763254,45.90116193,69.65629907,83.85254916,59.09667221,67.90434449,76.08712112,57.76028047,64.27609716,71.94731869,57.30110528,53.03065151,82.45453293,66.94400645,70.89898918,83.84360441,76.60287201,49.22821007,77.44029959,68.19640753,69.13874939,80.65358021,66.11921052,75.87983922,69.23871749,68.01286643,80.40988745,80.54657038,75.627376,69.87071394,69.0651866,35.37536808,70.20268276,54.5771625,66.65583245,69.94759943,67.2569699,75.30604225,65.08648093,77.01947806,73.95437783,55.69859364,74.27146154,81.27422716,58.69980125,80.41921412,81.76643566,72.70602909,77.29488987,44.90731195,65.23610963,54.34074592,64.95511271,76.47058258,59.22766808,66.98071862,60.14149982,76.04439493,66.76575969,69.23631032,68.52554268,61.02799904,46.6761895,72.65328623,76.15608971,80.38034586,61.52303092,74.53354949,75.36079883,76.72190039,61.73262239,66.29291063,77.89576368,73.82919477,73.0,60.30892692,77.18808198,70.29046877,72.69628601,66.03029608,51.88850226,63.93746945,76.83098333,68.78408246,83.54739174,16.2711401,74.09284716,77.92143479,70.82137154,84.9426277,60.14149982,82.42875712,82.71940522,80.42853971,68.569308,65.55150647,78.49681522,79.00316449,57.71842571,64.2611858,72.07808266,54.22407215,72.74269723,67.57033373,84.64927643,58.43728832,73.87997022,60.10615609,70.61810438,76.88302804,68.53770252,57.94969082,66.39277069,62.63585235,76.73167534,83.82123836,70.19081136,84.92349498,64.69479629,56.76192973,68.13344749,78.26876772,53.06599665,75.98684097,65.18179705,80.56363944,80.72174428,71.01701674,62.23142293,69.30367956,71.26885715,84.07288505,65.28463321,68.68223933],\"yaxis\":\"y\",\"type\":\"scatter\"}],                        {\"template\":{\"data\":{\"bar\":[{\"error_x\":{\"color\":\"#2a3f5f\"},\"error_y\":{\"color\":\"#2a3f5f\"},\"marker\":{\"line\":{\"color\":\"#E5ECF6\",\"width\":0.5},\"pattern\":{\"fillmode\":\"overlay\",\"size\":10,\"solidity\":0.2}},\"type\":\"bar\"}],\"barpolar\":[{\"marker\":{\"line\":{\"color\":\"#E5ECF6\",\"width\":0.5},\"pattern\":{\"fillmode\":\"overlay\",\"size\":10,\"solidity\":0.2}},\"type\":\"barpolar\"}],\"carpet\":[{\"aaxis\":{\"endlinecolor\":\"#2a3f5f\",\"gridcolor\":\"white\",\"linecolor\":\"white\",\"minorgridcolor\":\"white\",\"startlinecolor\":\"#2a3f5f\"},\"baxis\":{\"endlinecolor\":\"#2a3f5f\",\"gridcolor\":\"white\",\"linecolor\":\"white\",\"minorgridcolor\":\"white\",\"startlinecolor\":\"#2a3f5f\"},\"type\":\"carpet\"}],\"choropleth\":[{\"colorbar\":{\"outlinewidth\":0,\"ticks\":\"\"},\"type\":\"choropleth\"}],\"contour\":[{\"colorbar\":{\"outlinewidth\":0,\"ticks\":\"\"},\"colorscale\":[[0.0,\"#0d0887\"],[0.1111111111111111,\"#46039f\"],[0.2222222222222222,\"#7201a8\"],[0.3333333333333333,\"#9c179e\"],[0.4444444444444444,\"#bd3786\"],[0.5555555555555556,\"#d8576b\"],[0.6666666666666666,\"#ed7953\"],[0.7777777777777778,\"#fb9f3a\"],[0.8888888888888888,\"#fdca26\"],[1.0,\"#f0f921\"]],\"type\":\"contour\"}],\"contourcarpet\":[{\"colorbar\":{\"outlinewidth\":0,\"ticks\":\"\"},\"type\":\"contourcarpet\"}],\"heatmap\":[{\"colorbar\":{\"outlinewidth\":0,\"ticks\":\"\"},\"colorscale\":[[0.0,\"#0d0887\"],[0.1111111111111111,\"#46039f\"],[0.2222222222222222,\"#7201a8\"],[0.3333333333333333,\"#9c179e\"],[0.4444444444444444,\"#bd3786\"],[0.5555555555555556,\"#d8576b\"],[0.6666666666666666,\"#ed7953\"],[0.7777777777777778,\"#fb9f3a\"],[0.8888888888888888,\"#fdca26\"],[1.0,\"#f0f921\"]],\"type\":\"heatmap\"}],\"heatmapgl\":[{\"colorbar\":{\"outlinewidth\":0,\"ticks\":\"\"},\"colorscale\":[[0.0,\"#0d0887\"],[0.1111111111111111,\"#46039f\"],[0.2222222222222222,\"#7201a8\"],[0.3333333333333333,\"#9c179e\"],[0.4444444444444444,\"#bd3786\"],[0.5555555555555556,\"#d8576b\"],[0.6666666666666666,\"#ed7953\"],[0.7777777777777778,\"#fb9f3a\"],[0.8888888888888888,\"#fdca26\"],[1.0,\"#f0f921\"]],\"type\":\"heatmapgl\"}],\"histogram\":[{\"marker\":{\"pattern\":{\"fillmode\":\"overlay\",\"size\":10,\"solidity\":0.2}},\"type\":\"histogram\"}],\"histogram2d\":[{\"colorbar\":{\"outlinewidth\":0,\"ticks\":\"\"},\"colorscale\":[[0.0,\"#0d0887\"],[0.1111111111111111,\"#46039f\"],[0.2222222222222222,\"#7201a8\"],[0.3333333333333333,\"#9c179e\"],[0.4444444444444444,\"#bd3786\"],[0.5555555555555556,\"#d8576b\"],[0.6666666666666666,\"#ed7953\"],[0.7777777777777778,\"#fb9f3a\"],[0.8888888888888888,\"#fdca26\"],[1.0,\"#f0f921\"]],\"type\":\"histogram2d\"}],\"histogram2dcontour\":[{\"colorbar\":{\"outlinewidth\":0,\"ticks\":\"\"},\"colorscale\":[[0.0,\"#0d0887\"],[0.1111111111111111,\"#46039f\"],[0.2222222222222222,\"#7201a8\"],[0.3333333333333333,\"#9c179e\"],[0.4444444444444444,\"#bd3786\"],[0.5555555555555556,\"#d8576b\"],[0.6666666666666666,\"#ed7953\"],[0.7777777777777778,\"#fb9f3a\"],[0.8888888888888888,\"#fdca26\"],[1.0,\"#f0f921\"]],\"type\":\"histogram2dcontour\"}],\"mesh3d\":[{\"colorbar\":{\"outlinewidth\":0,\"ticks\":\"\"},\"type\":\"mesh3d\"}],\"parcoords\":[{\"line\":{\"colorbar\":{\"outlinewidth\":0,\"ticks\":\"\"}},\"type\":\"parcoords\"}],\"pie\":[{\"automargin\":true,\"type\":\"pie\"}],\"scatter\":[{\"marker\":{\"colorbar\":{\"outlinewidth\":0,\"ticks\":\"\"}},\"type\":\"scatter\"}],\"scatter3d\":[{\"line\":{\"colorbar\":{\"outlinewidth\":0,\"ticks\":\"\"}},\"marker\":{\"colorbar\":{\"outlinewidth\":0,\"ticks\":\"\"}},\"type\":\"scatter3d\"}],\"scattercarpet\":[{\"marker\":{\"colorbar\":{\"outlinewidth\":0,\"ticks\":\"\"}},\"type\":\"scattercarpet\"}],\"scattergeo\":[{\"marker\":{\"colorbar\":{\"outlinewidth\":0,\"ticks\":\"\"}},\"type\":\"scattergeo\"}],\"scattergl\":[{\"marker\":{\"colorbar\":{\"outlinewidth\":0,\"ticks\":\"\"}},\"type\":\"scattergl\"}],\"scattermapbox\":[{\"marker\":{\"colorbar\":{\"outlinewidth\":0,\"ticks\":\"\"}},\"type\":\"scattermapbox\"}],\"scatterpolar\":[{\"marker\":{\"colorbar\":{\"outlinewidth\":0,\"ticks\":\"\"}},\"type\":\"scatterpolar\"}],\"scatterpolargl\":[{\"marker\":{\"colorbar\":{\"outlinewidth\":0,\"ticks\":\"\"}},\"type\":\"scatterpolargl\"}],\"scatterternary\":[{\"marker\":{\"colorbar\":{\"outlinewidth\":0,\"ticks\":\"\"}},\"type\":\"scatterternary\"}],\"surface\":[{\"colorbar\":{\"outlinewidth\":0,\"ticks\":\"\"},\"colorscale\":[[0.0,\"#0d0887\"],[0.1111111111111111,\"#46039f\"],[0.2222222222222222,\"#7201a8\"],[0.3333333333333333,\"#9c179e\"],[0.4444444444444444,\"#bd3786\"],[0.5555555555555556,\"#d8576b\"],[0.6666666666666666,\"#ed7953\"],[0.7777777777777778,\"#fb9f3a\"],[0.8888888888888888,\"#fdca26\"],[1.0,\"#f0f921\"]],\"type\":\"surface\"}],\"table\":[{\"cells\":{\"fill\":{\"color\":\"#EBF0F8\"},\"line\":{\"color\":\"white\"}},\"header\":{\"fill\":{\"color\":\"#C8D4E3\"},\"line\":{\"color\":\"white\"}},\"type\":\"table\"}]},\"layout\":{\"annotationdefaults\":{\"arrowcolor\":\"#2a3f5f\",\"arrowhead\":0,\"arrowwidth\":1},\"autotypenumbers\":\"strict\",\"coloraxis\":{\"colorbar\":{\"outlinewidth\":0,\"ticks\":\"\"}},\"colorscale\":{\"diverging\":[[0,\"#8e0152\"],[0.1,\"#c51b7d\"],[0.2,\"#de77ae\"],[0.3,\"#f1b6da\"],[0.4,\"#fde0ef\"],[0.5,\"#f7f7f7\"],[0.6,\"#e6f5d0\"],[0.7,\"#b8e186\"],[0.8,\"#7fbc41\"],[0.9,\"#4d9221\"],[1,\"#276419\"]],\"sequential\":[[0.0,\"#0d0887\"],[0.1111111111111111,\"#46039f\"],[0.2222222222222222,\"#7201a8\"],[0.3333333333333333,\"#9c179e\"],[0.4444444444444444,\"#bd3786\"],[0.5555555555555556,\"#d8576b\"],[0.6666666666666666,\"#ed7953\"],[0.7777777777777778,\"#fb9f3a\"],[0.8888888888888888,\"#fdca26\"],[1.0,\"#f0f921\"]],\"sequentialminus\":[[0.0,\"#0d0887\"],[0.1111111111111111,\"#46039f\"],[0.2222222222222222,\"#7201a8\"],[0.3333333333333333,\"#9c179e\"],[0.4444444444444444,\"#bd3786\"],[0.5555555555555556,\"#d8576b\"],[0.6666666666666666,\"#ed7953\"],[0.7777777777777778,\"#fb9f3a\"],[0.8888888888888888,\"#fdca26\"],[1.0,\"#f0f921\"]]},\"colorway\":[\"#636efa\",\"#EF553B\",\"#00cc96\",\"#ab63fa\",\"#FFA15A\",\"#19d3f3\",\"#FF6692\",\"#B6E880\",\"#FF97FF\",\"#FECB52\"],\"font\":{\"color\":\"#2a3f5f\"},\"geo\":{\"bgcolor\":\"white\",\"lakecolor\":\"white\",\"landcolor\":\"#E5ECF6\",\"showlakes\":true,\"showland\":true,\"subunitcolor\":\"white\"},\"hoverlabel\":{\"align\":\"left\"},\"hovermode\":\"closest\",\"mapbox\":{\"style\":\"light\"},\"paper_bgcolor\":\"white\",\"plot_bgcolor\":\"#E5ECF6\",\"polar\":{\"angularaxis\":{\"gridcolor\":\"white\",\"linecolor\":\"white\",\"ticks\":\"\"},\"bgcolor\":\"#E5ECF6\",\"radialaxis\":{\"gridcolor\":\"white\",\"linecolor\":\"white\",\"ticks\":\"\"}},\"scene\":{\"xaxis\":{\"backgroundcolor\":\"#E5ECF6\",\"gridcolor\":\"white\",\"gridwidth\":2,\"linecolor\":\"white\",\"showbackground\":true,\"ticks\":\"\",\"zerolinecolor\":\"white\"},\"yaxis\":{\"backgroundcolor\":\"#E5ECF6\",\"gridcolor\":\"white\",\"gridwidth\":2,\"linecolor\":\"white\",\"showbackground\":true,\"ticks\":\"\",\"zerolinecolor\":\"white\"},\"zaxis\":{\"backgroundcolor\":\"#E5ECF6\",\"gridcolor\":\"white\",\"gridwidth\":2,\"linecolor\":\"white\",\"showbackground\":true,\"ticks\":\"\",\"zerolinecolor\":\"white\"}},\"shapedefaults\":{\"line\":{\"color\":\"#2a3f5f\"}},\"ternary\":{\"aaxis\":{\"gridcolor\":\"white\",\"linecolor\":\"white\",\"ticks\":\"\"},\"baxis\":{\"gridcolor\":\"white\",\"linecolor\":\"white\",\"ticks\":\"\"},\"bgcolor\":\"#E5ECF6\",\"caxis\":{\"gridcolor\":\"white\",\"linecolor\":\"white\",\"ticks\":\"\"}},\"title\":{\"x\":0.05},\"xaxis\":{\"automargin\":true,\"gridcolor\":\"white\",\"linecolor\":\"white\",\"ticks\":\"\",\"title\":{\"standoff\":15},\"zerolinecolor\":\"white\",\"zerolinewidth\":2},\"yaxis\":{\"automargin\":true,\"gridcolor\":\"white\",\"linecolor\":\"white\",\"ticks\":\"\",\"title\":{\"standoff\":15},\"zerolinecolor\":\"white\",\"zerolinewidth\":2}}},\"xaxis\":{\"anchor\":\"y\",\"domain\":[0.0,1.0],\"title\":{\"text\":\"x\"}},\"yaxis\":{\"anchor\":\"x\",\"domain\":[0.0,1.0],\"title\":{\"text\":\"y\"}},\"legend\":{\"tracegroupgap\":0},\"margin\":{\"t\":60}},                        {\"responsive\": true}                    ).then(function(){\n",
              "                            \n",
              "var gd = document.getElementById('1f22bf8c-43b1-44a8-a1aa-b7192a9210d3');\n",
              "var x = new MutationObserver(function (mutations, observer) {{\n",
              "        var display = window.getComputedStyle(gd).display;\n",
              "        if (!display || display === 'none') {{\n",
              "            console.log([gd, 'removed!']);\n",
              "            Plotly.purge(gd);\n",
              "            observer.disconnect();\n",
              "        }}\n",
              "}});\n",
              "\n",
              "// Listen for the removal of the full notebook cells\n",
              "var notebookContainer = gd.closest('#notebook-container');\n",
              "if (notebookContainer) {{\n",
              "    x.observe(notebookContainer, {childList: true});\n",
              "}}\n",
              "\n",
              "// Listen for the clearing of the current output cell\n",
              "var outputEl = gd.closest('.output');\n",
              "if (outputEl) {{\n",
              "    x.observe(outputEl, {childList: true});\n",
              "}}\n",
              "\n",
              "                        })                };                            </script>        </div>\n",
              "</body>\n",
              "</html>"
            ]
          },
          "metadata": {},
          "output_type": "display_data"
        }
      ],
      "source": [
        "fig = px.scatter(x= x_['PerceivedSelf-Confidence_rms'],\n",
        "                 y=y_)\n",
        "fig.show()"
      ]
    },
    {
      "cell_type": "code",
      "execution_count": null,
      "metadata": {
        "colab": {
          "base_uri": "https://localhost:8080/",
          "height": 562
        },
        "id": "a5BUnS7OyWqO",
        "outputId": "da7154b4-0b4f-4b3e-f57e-13d9ce2b8758"
      },
      "outputs": [
        {
          "data": {
            "text/html": [
              "<html>\n",
              "<head><meta charset=\"utf-8\" /></head>\n",
              "<body>\n",
              "    <div>            <script src=\"https://cdnjs.cloudflare.com/ajax/libs/mathjax/2.7.5/MathJax.js?config=TeX-AMS-MML_SVG\"></script><script type=\"text/javascript\">if (window.MathJax) {MathJax.Hub.Config({SVG: {font: \"STIX-Web\"}});}</script>                <script type=\"text/javascript\">window.PlotlyConfig = {MathJaxConfig: 'local'};</script>\n",
              "        <script src=\"https://cdn.plot.ly/plotly-2.8.3.min.js\"></script>                <div id=\"2dee8d3d-847e-43db-b63d-3407f53667e0\" class=\"plotly-graph-div\" style=\"height:525px; width:100%;\"></div>            <script type=\"text/javascript\">                                    window.PLOTLYENV=window.PLOTLYENV || {};                                    if (document.getElementById(\"2dee8d3d-847e-43db-b63d-3407f53667e0\")) {                    Plotly.newPlot(                        \"2dee8d3d-847e-43db-b63d-3407f53667e0\",                        [{\"hovertemplate\":\"x=%{x}<br>y=%{y}<extra></extra>\",\"legendgroup\":\"\",\"marker\":{\"color\":\"#636efa\",\"symbol\":\"circle\"},\"mode\":\"markers\",\"name\":\"\",\"orientation\":\"v\",\"showlegend\":false,\"x\":[3.872983346,3.937003937,3.201562119,3.201562119,3.640054945,4.242640687,4.0,4.0,4.69041576,4.415880433,4.242640687,4.153311931,4.092676386,3.45205253,4.924428901,4.69041576,4.291464397,3.958114029,3.464101615,4.444097209,4.0,4.358898944,3.968626967,3.796928583,3.989569735,4.527692569,4.358898944,3.774917218,4.153311931,4.69041576,3.45205253,4.769696007,4.546060566,3.730504881,4.69041576,3.872983346,3.605551275,4.444097209,3.378855822,4.5,4.69041576,4.69041576,4.769696007,4.444097209,3.391164992,3.488074923,4.415880433,4.69041576,4.358898944,4.031128874,4.582575695,3.674234614,3.593976442,4.358898944,4.358898944,4.242640687,3.617089069,4.358898944,3.674234614,4.627814459,4.609772229,4.123105626,3.696845502,3.92640633,4.5,4.769696007,4.358898944,4.242640687,4.082482905,4.69041576,3.796928583,4.377975179,3.559026084,3.640054945,4.082482905,4.415880433,4.34932945,4.627814459,4.627814459,3.265986324,4.69041576,4.609772229,4.769696007,3.708099244,4.769696007,4.092676386,5.0,4.69041576,4.34932945,3.0,3.523729085,4.527692569,4.010403139,4.415880433,4.5,4.242640687,3.872983346,3.640054945,3.559026084,4.173328009,4.031128874,4.082482905,3.5,4.082482905,4.358898944,3.640054945,4.415880433,4.153311931,2.872281323,3.617089069,4.769696007,3.696845502,3.265986324,4.153311931,4.330127019,3.989569735,3.391164992,4.272001873,3.354101966,3.559026084,3.92640633,3.378855822,3.391164992,4.444097209,3.535533906,4.082482905,4.358898944,4.358898944,3.227486122,4.609772229,4.031128874,3.92640633,4.153311931,4.924428901,4.5,4.153311931,3.640054945,4.609772229,4.5,4.527692569,4.377975179,4.0,3.149073938,3.862210075,4.082482905,4.74341649,4.291464397,4.609772229,4.153311931,3.605551275,4.69041576,4.358898944,3.214550254,4.242640687,3.968626967,3.265986324,4.358898944,4.847679857,4.291464397,4.242640687,3.109126351,3.937003937,3.109126351,4.434711565,3.807886553,2.986078811,4.377975179,4.031128874,4.242640687,3.523729085,4.082482905,3.5,3.559026084,2.723355773,4.330127019,4.5,4.924428901,3.719318934,3.872983346,4.358898944,3.937003937,3.488074923,4.582575695,4.183300133,3.840572874,4.272001873,3.378855822,4.609772229,3.968626967,4.358898944,4.527692569,3.523729085,4.123105626,4.358898944,4.153311931,4.627814459,2.958039892,4.0,4.330127019,3.696845502,4.769696007,3.201562119,4.769696007,4.444097209,4.527692569,4.092676386,3.31662479,4.242640687,3.640054945,3.378855822,3.640054945,4.0,3.5,4.444097209,3.840572874,5.0,3.378855822,4.242640687,4.153311931,4.020779361,4.272001873,3.92640633,3.149073938,4.358898944,3.354101966,4.031128874,4.092676386,3.5,4.69041576,3.862210075,3.796928583,4.173328009,4.444097209,3.708099244,4.242640687,3.559026084,4.242640687,4.69041576,4.082482905,3.5,3.872983346,4.153311931,4.69041576,3.617089069,4.092676386],\"xaxis\":\"x\",\"y\":[71.67461196,76.8635154,72.84915923,68.59664715,64.71475875,79.21331959,62.72559286,70.37400088,80.55122594,67.38137725,71.95832127,77.89094941,72.26340706,61.35687954,81.01543063,77.54192414,69.32832514,74.63019943,66.16456756,77.72387021,73.30927636,75.43871685,74.13501197,62.29499712,75.51765798,78.25119807,69.39740629,70.5,74.87990385,78.24640567,66.80132234,81.59503661,67.50678978,59.88669858,78.76230063,63.94333429,72.93833012,78.53661566,52.61812109,73.38766926,77.68848048,86.06102486,82.23594105,71.03344283,68.19824045,66.18282758,76.06083092,78.58594022,73.18469785,66.66520832,83.85254916,65.89195702,60.3814265,70.51772827,69.74059076,78.01121714,63.33903483,72.8079666,64.80547816,66.25833281,73.74957627,73.70888685,60.96242012,65.38093504,72.58098925,86.06538212,80.0874522,68.19457456,70.34853706,83.25563044,67.3455022,82.27342625,69.68799514,55.31726674,59.94511378,80.00781212,76.64474324,75.87599533,80.96398376,56.29979278,79.26380006,68.73317976,79.86707707,74.22600622,79.69629853,77.44514187,67.54813099,76.70723564,69.00301926,53.5023364,55.89871793,86.35102779,66.12173117,80.54191455,75.1598297,73.70719097,67.12860791,58.50640991,66.96578728,78.16915419,75.47350528,70.25252071,65.82552696,78.0347145,76.84725109,56.77147171,82.01371836,67.35168892,53.68891878,55.14601829,78.5143299,59.07763254,45.90116193,69.65629907,83.85254916,59.09667221,67.90434449,76.08712112,57.76028047,64.27609716,71.94731869,57.30110528,53.03065151,82.45453293,66.94400645,70.89898918,83.84360441,76.60287201,49.22821007,77.44029959,68.19640753,69.13874939,80.65358021,66.11921052,75.87983922,69.23871749,68.01286643,80.40988745,80.54657038,75.627376,69.87071394,69.0651866,35.37536808,70.20268276,54.5771625,66.65583245,69.94759943,67.2569699,75.30604225,65.08648093,77.01947806,73.95437783,55.69859364,74.27146154,81.27422716,58.69980125,80.41921412,81.76643566,72.70602909,77.29488987,44.90731195,65.23610963,54.34074592,64.95511271,76.47058258,59.22766808,66.98071862,60.14149982,76.04439493,66.76575969,69.23631032,68.52554268,61.02799904,46.6761895,72.65328623,76.15608971,80.38034586,61.52303092,74.53354949,75.36079883,76.72190039,61.73262239,66.29291063,77.89576368,73.82919477,73.0,60.30892692,77.18808198,70.29046877,72.69628601,66.03029608,51.88850226,63.93746945,76.83098333,68.78408246,83.54739174,16.2711401,74.09284716,77.92143479,70.82137154,84.9426277,60.14149982,82.42875712,82.71940522,80.42853971,68.569308,65.55150647,78.49681522,79.00316449,57.71842571,64.2611858,72.07808266,54.22407215,72.74269723,67.57033373,84.64927643,58.43728832,73.87997022,60.10615609,70.61810438,76.88302804,68.53770252,57.94969082,66.39277069,62.63585235,76.73167534,83.82123836,70.19081136,84.92349498,64.69479629,56.76192973,68.13344749,78.26876772,53.06599665,75.98684097,65.18179705,80.56363944,80.72174428,71.01701674,62.23142293,69.30367956,71.26885715,84.07288505,65.28463321,68.68223933],\"yaxis\":\"y\",\"type\":\"scatter\"}],                        {\"template\":{\"data\":{\"bar\":[{\"error_x\":{\"color\":\"#2a3f5f\"},\"error_y\":{\"color\":\"#2a3f5f\"},\"marker\":{\"line\":{\"color\":\"#E5ECF6\",\"width\":0.5},\"pattern\":{\"fillmode\":\"overlay\",\"size\":10,\"solidity\":0.2}},\"type\":\"bar\"}],\"barpolar\":[{\"marker\":{\"line\":{\"color\":\"#E5ECF6\",\"width\":0.5},\"pattern\":{\"fillmode\":\"overlay\",\"size\":10,\"solidity\":0.2}},\"type\":\"barpolar\"}],\"carpet\":[{\"aaxis\":{\"endlinecolor\":\"#2a3f5f\",\"gridcolor\":\"white\",\"linecolor\":\"white\",\"minorgridcolor\":\"white\",\"startlinecolor\":\"#2a3f5f\"},\"baxis\":{\"endlinecolor\":\"#2a3f5f\",\"gridcolor\":\"white\",\"linecolor\":\"white\",\"minorgridcolor\":\"white\",\"startlinecolor\":\"#2a3f5f\"},\"type\":\"carpet\"}],\"choropleth\":[{\"colorbar\":{\"outlinewidth\":0,\"ticks\":\"\"},\"type\":\"choropleth\"}],\"contour\":[{\"colorbar\":{\"outlinewidth\":0,\"ticks\":\"\"},\"colorscale\":[[0.0,\"#0d0887\"],[0.1111111111111111,\"#46039f\"],[0.2222222222222222,\"#7201a8\"],[0.3333333333333333,\"#9c179e\"],[0.4444444444444444,\"#bd3786\"],[0.5555555555555556,\"#d8576b\"],[0.6666666666666666,\"#ed7953\"],[0.7777777777777778,\"#fb9f3a\"],[0.8888888888888888,\"#fdca26\"],[1.0,\"#f0f921\"]],\"type\":\"contour\"}],\"contourcarpet\":[{\"colorbar\":{\"outlinewidth\":0,\"ticks\":\"\"},\"type\":\"contourcarpet\"}],\"heatmap\":[{\"colorbar\":{\"outlinewidth\":0,\"ticks\":\"\"},\"colorscale\":[[0.0,\"#0d0887\"],[0.1111111111111111,\"#46039f\"],[0.2222222222222222,\"#7201a8\"],[0.3333333333333333,\"#9c179e\"],[0.4444444444444444,\"#bd3786\"],[0.5555555555555556,\"#d8576b\"],[0.6666666666666666,\"#ed7953\"],[0.7777777777777778,\"#fb9f3a\"],[0.8888888888888888,\"#fdca26\"],[1.0,\"#f0f921\"]],\"type\":\"heatmap\"}],\"heatmapgl\":[{\"colorbar\":{\"outlinewidth\":0,\"ticks\":\"\"},\"colorscale\":[[0.0,\"#0d0887\"],[0.1111111111111111,\"#46039f\"],[0.2222222222222222,\"#7201a8\"],[0.3333333333333333,\"#9c179e\"],[0.4444444444444444,\"#bd3786\"],[0.5555555555555556,\"#d8576b\"],[0.6666666666666666,\"#ed7953\"],[0.7777777777777778,\"#fb9f3a\"],[0.8888888888888888,\"#fdca26\"],[1.0,\"#f0f921\"]],\"type\":\"heatmapgl\"}],\"histogram\":[{\"marker\":{\"pattern\":{\"fillmode\":\"overlay\",\"size\":10,\"solidity\":0.2}},\"type\":\"histogram\"}],\"histogram2d\":[{\"colorbar\":{\"outlinewidth\":0,\"ticks\":\"\"},\"colorscale\":[[0.0,\"#0d0887\"],[0.1111111111111111,\"#46039f\"],[0.2222222222222222,\"#7201a8\"],[0.3333333333333333,\"#9c179e\"],[0.4444444444444444,\"#bd3786\"],[0.5555555555555556,\"#d8576b\"],[0.6666666666666666,\"#ed7953\"],[0.7777777777777778,\"#fb9f3a\"],[0.8888888888888888,\"#fdca26\"],[1.0,\"#f0f921\"]],\"type\":\"histogram2d\"}],\"histogram2dcontour\":[{\"colorbar\":{\"outlinewidth\":0,\"ticks\":\"\"},\"colorscale\":[[0.0,\"#0d0887\"],[0.1111111111111111,\"#46039f\"],[0.2222222222222222,\"#7201a8\"],[0.3333333333333333,\"#9c179e\"],[0.4444444444444444,\"#bd3786\"],[0.5555555555555556,\"#d8576b\"],[0.6666666666666666,\"#ed7953\"],[0.7777777777777778,\"#fb9f3a\"],[0.8888888888888888,\"#fdca26\"],[1.0,\"#f0f921\"]],\"type\":\"histogram2dcontour\"}],\"mesh3d\":[{\"colorbar\":{\"outlinewidth\":0,\"ticks\":\"\"},\"type\":\"mesh3d\"}],\"parcoords\":[{\"line\":{\"colorbar\":{\"outlinewidth\":0,\"ticks\":\"\"}},\"type\":\"parcoords\"}],\"pie\":[{\"automargin\":true,\"type\":\"pie\"}],\"scatter\":[{\"marker\":{\"colorbar\":{\"outlinewidth\":0,\"ticks\":\"\"}},\"type\":\"scatter\"}],\"scatter3d\":[{\"line\":{\"colorbar\":{\"outlinewidth\":0,\"ticks\":\"\"}},\"marker\":{\"colorbar\":{\"outlinewidth\":0,\"ticks\":\"\"}},\"type\":\"scatter3d\"}],\"scattercarpet\":[{\"marker\":{\"colorbar\":{\"outlinewidth\":0,\"ticks\":\"\"}},\"type\":\"scattercarpet\"}],\"scattergeo\":[{\"marker\":{\"colorbar\":{\"outlinewidth\":0,\"ticks\":\"\"}},\"type\":\"scattergeo\"}],\"scattergl\":[{\"marker\":{\"colorbar\":{\"outlinewidth\":0,\"ticks\":\"\"}},\"type\":\"scattergl\"}],\"scattermapbox\":[{\"marker\":{\"colorbar\":{\"outlinewidth\":0,\"ticks\":\"\"}},\"type\":\"scattermapbox\"}],\"scatterpolar\":[{\"marker\":{\"colorbar\":{\"outlinewidth\":0,\"ticks\":\"\"}},\"type\":\"scatterpolar\"}],\"scatterpolargl\":[{\"marker\":{\"colorbar\":{\"outlinewidth\":0,\"ticks\":\"\"}},\"type\":\"scatterpolargl\"}],\"scatterternary\":[{\"marker\":{\"colorbar\":{\"outlinewidth\":0,\"ticks\":\"\"}},\"type\":\"scatterternary\"}],\"surface\":[{\"colorbar\":{\"outlinewidth\":0,\"ticks\":\"\"},\"colorscale\":[[0.0,\"#0d0887\"],[0.1111111111111111,\"#46039f\"],[0.2222222222222222,\"#7201a8\"],[0.3333333333333333,\"#9c179e\"],[0.4444444444444444,\"#bd3786\"],[0.5555555555555556,\"#d8576b\"],[0.6666666666666666,\"#ed7953\"],[0.7777777777777778,\"#fb9f3a\"],[0.8888888888888888,\"#fdca26\"],[1.0,\"#f0f921\"]],\"type\":\"surface\"}],\"table\":[{\"cells\":{\"fill\":{\"color\":\"#EBF0F8\"},\"line\":{\"color\":\"white\"}},\"header\":{\"fill\":{\"color\":\"#C8D4E3\"},\"line\":{\"color\":\"white\"}},\"type\":\"table\"}]},\"layout\":{\"annotationdefaults\":{\"arrowcolor\":\"#2a3f5f\",\"arrowhead\":0,\"arrowwidth\":1},\"autotypenumbers\":\"strict\",\"coloraxis\":{\"colorbar\":{\"outlinewidth\":0,\"ticks\":\"\"}},\"colorscale\":{\"diverging\":[[0,\"#8e0152\"],[0.1,\"#c51b7d\"],[0.2,\"#de77ae\"],[0.3,\"#f1b6da\"],[0.4,\"#fde0ef\"],[0.5,\"#f7f7f7\"],[0.6,\"#e6f5d0\"],[0.7,\"#b8e186\"],[0.8,\"#7fbc41\"],[0.9,\"#4d9221\"],[1,\"#276419\"]],\"sequential\":[[0.0,\"#0d0887\"],[0.1111111111111111,\"#46039f\"],[0.2222222222222222,\"#7201a8\"],[0.3333333333333333,\"#9c179e\"],[0.4444444444444444,\"#bd3786\"],[0.5555555555555556,\"#d8576b\"],[0.6666666666666666,\"#ed7953\"],[0.7777777777777778,\"#fb9f3a\"],[0.8888888888888888,\"#fdca26\"],[1.0,\"#f0f921\"]],\"sequentialminus\":[[0.0,\"#0d0887\"],[0.1111111111111111,\"#46039f\"],[0.2222222222222222,\"#7201a8\"],[0.3333333333333333,\"#9c179e\"],[0.4444444444444444,\"#bd3786\"],[0.5555555555555556,\"#d8576b\"],[0.6666666666666666,\"#ed7953\"],[0.7777777777777778,\"#fb9f3a\"],[0.8888888888888888,\"#fdca26\"],[1.0,\"#f0f921\"]]},\"colorway\":[\"#636efa\",\"#EF553B\",\"#00cc96\",\"#ab63fa\",\"#FFA15A\",\"#19d3f3\",\"#FF6692\",\"#B6E880\",\"#FF97FF\",\"#FECB52\"],\"font\":{\"color\":\"#2a3f5f\"},\"geo\":{\"bgcolor\":\"white\",\"lakecolor\":\"white\",\"landcolor\":\"#E5ECF6\",\"showlakes\":true,\"showland\":true,\"subunitcolor\":\"white\"},\"hoverlabel\":{\"align\":\"left\"},\"hovermode\":\"closest\",\"mapbox\":{\"style\":\"light\"},\"paper_bgcolor\":\"white\",\"plot_bgcolor\":\"#E5ECF6\",\"polar\":{\"angularaxis\":{\"gridcolor\":\"white\",\"linecolor\":\"white\",\"ticks\":\"\"},\"bgcolor\":\"#E5ECF6\",\"radialaxis\":{\"gridcolor\":\"white\",\"linecolor\":\"white\",\"ticks\":\"\"}},\"scene\":{\"xaxis\":{\"backgroundcolor\":\"#E5ECF6\",\"gridcolor\":\"white\",\"gridwidth\":2,\"linecolor\":\"white\",\"showbackground\":true,\"ticks\":\"\",\"zerolinecolor\":\"white\"},\"yaxis\":{\"backgroundcolor\":\"#E5ECF6\",\"gridcolor\":\"white\",\"gridwidth\":2,\"linecolor\":\"white\",\"showbackground\":true,\"ticks\":\"\",\"zerolinecolor\":\"white\"},\"zaxis\":{\"backgroundcolor\":\"#E5ECF6\",\"gridcolor\":\"white\",\"gridwidth\":2,\"linecolor\":\"white\",\"showbackground\":true,\"ticks\":\"\",\"zerolinecolor\":\"white\"}},\"shapedefaults\":{\"line\":{\"color\":\"#2a3f5f\"}},\"ternary\":{\"aaxis\":{\"gridcolor\":\"white\",\"linecolor\":\"white\",\"ticks\":\"\"},\"baxis\":{\"gridcolor\":\"white\",\"linecolor\":\"white\",\"ticks\":\"\"},\"bgcolor\":\"#E5ECF6\",\"caxis\":{\"gridcolor\":\"white\",\"linecolor\":\"white\",\"ticks\":\"\"}},\"title\":{\"x\":0.05},\"xaxis\":{\"automargin\":true,\"gridcolor\":\"white\",\"linecolor\":\"white\",\"ticks\":\"\",\"title\":{\"standoff\":15},\"zerolinecolor\":\"white\",\"zerolinewidth\":2},\"yaxis\":{\"automargin\":true,\"gridcolor\":\"white\",\"linecolor\":\"white\",\"ticks\":\"\",\"title\":{\"standoff\":15},\"zerolinecolor\":\"white\",\"zerolinewidth\":2}}},\"xaxis\":{\"anchor\":\"y\",\"domain\":[0.0,1.0],\"title\":{\"text\":\"x\"}},\"yaxis\":{\"anchor\":\"x\",\"domain\":[0.0,1.0],\"title\":{\"text\":\"y\"}},\"legend\":{\"tracegroupgap\":0},\"margin\":{\"t\":60}},                        {\"responsive\": true}                    ).then(function(){\n",
              "                            \n",
              "var gd = document.getElementById('2dee8d3d-847e-43db-b63d-3407f53667e0');\n",
              "var x = new MutationObserver(function (mutations, observer) {{\n",
              "        var display = window.getComputedStyle(gd).display;\n",
              "        if (!display || display === 'none') {{\n",
              "            console.log([gd, 'removed!']);\n",
              "            Plotly.purge(gd);\n",
              "            observer.disconnect();\n",
              "        }}\n",
              "}});\n",
              "\n",
              "// Listen for the removal of the full notebook cells\n",
              "var notebookContainer = gd.closest('#notebook-container');\n",
              "if (notebookContainer) {{\n",
              "    x.observe(notebookContainer, {childList: true});\n",
              "}}\n",
              "\n",
              "// Listen for the clearing of the current output cell\n",
              "var outputEl = gd.closest('.output');\n",
              "if (outputEl) {{\n",
              "    x.observe(outputEl, {childList: true});\n",
              "}}\n",
              "\n",
              "                        })                };                            </script>        </div>\n",
              "</body>\n",
              "</html>"
            ]
          },
          "metadata": {},
          "output_type": "display_data"
        }
      ],
      "source": [
        "fig = px.scatter(x= x_['AudienceEngagement_rms'],\n",
        "                 y=y_)\n",
        "fig.show()"
      ]
    },
    {
      "cell_type": "code",
      "execution_count": null,
      "metadata": {
        "id": "JZpmqR7JyWl4"
      },
      "outputs": [],
      "source": [
        "from sklearn.linear_model import LinearRegression\n",
        "from sklearn.ensemble import RandomForestRegressor\n",
        "from sklearn.model_selection import train_test_split\n",
        "from sklearn.metrics import mean_squared_error, mean_absolute_error"
      ]
    },
    {
      "cell_type": "code",
      "execution_count": null,
      "metadata": {
        "id": "F3_OfRRdgbxE"
      },
      "outputs": [],
      "source": [
        "x_train, x_test, y_train, y_test = train_test_split(x_, y_,\n",
        "                                                    random_state=32, test_size=0.1,\n",
        "                                                    shuffle=True\n",
        "                                                    )"
      ]
    },
    {
      "cell_type": "code",
      "execution_count": null,
      "metadata": {
        "colab": {
          "base_uri": "https://localhost:8080/"
        },
        "id": "blOWwwafgtuS",
        "outputId": "d1a586f9-2409-459a-d07f-c016e2a5e292"
      },
      "outputs": [
        {
          "name": "stdout",
          "output_type": "stream",
          "text": [
            "MAE : 3.6744177823627564\n",
            "MSE : 24.11913821620094\n",
            "Score R²:  0.5646153167463865\n"
          ]
        }
      ],
      "source": [
        "reg = RandomForestRegressor(n_estimators = 300,\n",
        "                            max_depth = 2,\n",
        "                            random_state = 32\n",
        "                            ).fit(x_train, y_train)\n",
        "pred = reg.predict(x_test)\n",
        "\n",
        "print('MAE :', mean_absolute_error(y_test,pred))\n",
        "print('MSE :', mean_squared_error(y_test,pred))\n",
        "print('Score R²: ', reg.score(x_test,y_test))"
      ]
    },
    {
      "cell_type": "markdown",
      "metadata": {
        "id": "23kleC5TS49W"
      },
      "source": [
        "Il y a de toute évidence une raltion linéraire entre les annotations. Avec un peu plus de données ont pourra eventuellement améliorer cette prédiction."
      ]
    },
    {
      "cell_type": "markdown",
      "metadata": {
        "id": "XiHgWiWCTLLx"
      },
      "source": [
        "### Regression features et annotations"
      ]
    },
    {
      "cell_type": "code",
      "execution_count": null,
      "metadata": {
        "colab": {
          "base_uri": "https://localhost:8080/",
          "height": 488
        },
        "id": "rgjl3h9ITsiQ",
        "outputId": "5b8edbe1-d210-4ef6-b0ac-840f503687c4"
      },
      "outputs": [
        {
          "data": {
            "text/html": [
              "\n",
              "  <div id=\"df-05fc6ed9-1752-4155-9a8b-a39e96ee1c76\">\n",
              "    <div class=\"colab-df-container\">\n",
              "      <div>\n",
              "<style scoped>\n",
              "    .dataframe tbody tr th:only-of-type {\n",
              "        vertical-align: middle;\n",
              "    }\n",
              "\n",
              "    .dataframe tbody tr th {\n",
              "        vertical-align: top;\n",
              "    }\n",
              "\n",
              "    .dataframe thead th {\n",
              "        text-align: right;\n",
              "    }\n",
              "</style>\n",
              "<table border=\"1\" class=\"dataframe\">\n",
              "  <thead>\n",
              "    <tr style=\"text-align: right;\">\n",
              "      <th></th>\n",
              "      <th>amplitude</th>\n",
              "      <th>energy</th>\n",
              "      <th>entropy</th>\n",
              "      <th>iqr</th>\n",
              "      <th>mad</th>\n",
              "      <th>min</th>\n",
              "      <th>kurtosis</th>\n",
              "      <th>skewness</th>\n",
              "      <th>slope</th>\n",
              "      <th>sma</th>\n",
              "      <th>...</th>\n",
              "      <th>nowcast_mom</th>\n",
              "      <th>nowcast_ma</th>\n",
              "      <th>nowcast_lag</th>\n",
              "      <th>nowcast_macd</th>\n",
              "      <th>nowcast_macdsign</th>\n",
              "      <th>nowcast_macddiff</th>\n",
              "      <th>seasonal_period</th>\n",
              "      <th>trend_mag</th>\n",
              "      <th>seasonality_mag</th>\n",
              "      <th>residual_std</th>\n",
              "    </tr>\n",
              "  </thead>\n",
              "  <tbody>\n",
              "    <tr>\n",
              "      <th>0</th>\n",
              "      <td>940.100003</td>\n",
              "      <td>32.573503</td>\n",
              "      <td>7.366322</td>\n",
              "      <td>0.502424</td>\n",
              "      <td>0.238387</td>\n",
              "      <td>5.184130</td>\n",
              "      <td>-0.361586</td>\n",
              "      <td>0.483521</td>\n",
              "      <td>0.000575</td>\n",
              "      <td>5.707320</td>\n",
              "      <td>...</td>\n",
              "      <td>-0.018323</td>\n",
              "      <td>5.699712</td>\n",
              "      <td>5.707719</td>\n",
              "      <td>-0.000553</td>\n",
              "      <td>0.003471</td>\n",
              "      <td>0.000223</td>\n",
              "      <td>7</td>\n",
              "      <td>-0.002379</td>\n",
              "      <td>0.0</td>\n",
              "      <td>0.041088</td>\n",
              "    </tr>\n",
              "    <tr>\n",
              "      <th>1</th>\n",
              "      <td>941.429999</td>\n",
              "      <td>32.210184</td>\n",
              "      <td>7.375039</td>\n",
              "      <td>0.287504</td>\n",
              "      <td>0.144784</td>\n",
              "      <td>5.084001</td>\n",
              "      <td>-0.604238</td>\n",
              "      <td>-0.069218</td>\n",
              "      <td>0.001886</td>\n",
              "      <td>5.675402</td>\n",
              "      <td>...</td>\n",
              "      <td>0.011379</td>\n",
              "      <td>5.678547</td>\n",
              "      <td>5.673989</td>\n",
              "      <td>0.006513</td>\n",
              "      <td>0.007061</td>\n",
              "      <td>-0.002096</td>\n",
              "      <td>7</td>\n",
              "      <td>0.005161</td>\n",
              "      <td>0.0</td>\n",
              "      <td>0.032458</td>\n",
              "    </tr>\n",
              "    <tr>\n",
              "      <th>2</th>\n",
              "      <td>928.290003</td>\n",
              "      <td>31.766120</td>\n",
              "      <td>7.366322</td>\n",
              "      <td>0.510942</td>\n",
              "      <td>0.242082</td>\n",
              "      <td>5.016294</td>\n",
              "      <td>-0.613468</td>\n",
              "      <td>0.079030</td>\n",
              "      <td>0.001454</td>\n",
              "      <td>5.636144</td>\n",
              "      <td>...</td>\n",
              "      <td>0.010025</td>\n",
              "      <td>5.619769</td>\n",
              "      <td>5.613412</td>\n",
              "      <td>0.004533</td>\n",
              "      <td>0.002431</td>\n",
              "      <td>0.003111</td>\n",
              "      <td>7</td>\n",
              "      <td>0.000417</td>\n",
              "      <td>0.0</td>\n",
              "      <td>0.054882</td>\n",
              "    </tr>\n",
              "    <tr>\n",
              "      <th>3</th>\n",
              "      <td>811.499997</td>\n",
              "      <td>27.155327</td>\n",
              "      <td>7.285402</td>\n",
              "      <td>0.422083</td>\n",
              "      <td>0.211722</td>\n",
              "      <td>4.252874</td>\n",
              "      <td>-0.240822</td>\n",
              "      <td>-0.473311</td>\n",
              "      <td>0.002113</td>\n",
              "      <td>5.211077</td>\n",
              "      <td>...</td>\n",
              "      <td>0.023152</td>\n",
              "      <td>5.215149</td>\n",
              "      <td>5.202434</td>\n",
              "      <td>0.014904</td>\n",
              "      <td>0.013838</td>\n",
              "      <td>-0.002105</td>\n",
              "      <td>7</td>\n",
              "      <td>0.007992</td>\n",
              "      <td>0.0</td>\n",
              "      <td>0.045445</td>\n",
              "    </tr>\n",
              "    <tr>\n",
              "      <th>4</th>\n",
              "      <td>905.499996</td>\n",
              "      <td>30.937824</td>\n",
              "      <td>7.348728</td>\n",
              "      <td>0.364482</td>\n",
              "      <td>0.177480</td>\n",
              "      <td>4.960355</td>\n",
              "      <td>-0.428566</td>\n",
              "      <td>-0.448368</td>\n",
              "      <td>0.002673</td>\n",
              "      <td>5.562178</td>\n",
              "      <td>...</td>\n",
              "      <td>0.005958</td>\n",
              "      <td>5.555152</td>\n",
              "      <td>5.549480</td>\n",
              "      <td>0.007841</td>\n",
              "      <td>0.007650</td>\n",
              "      <td>0.000809</td>\n",
              "      <td>7</td>\n",
              "      <td>0.001050</td>\n",
              "      <td>0.0</td>\n",
              "      <td>0.030575</td>\n",
              "    </tr>\n",
              "    <tr>\n",
              "      <th>...</th>\n",
              "      <td>...</td>\n",
              "      <td>...</td>\n",
              "      <td>...</td>\n",
              "      <td>...</td>\n",
              "      <td>...</td>\n",
              "      <td>...</td>\n",
              "      <td>...</td>\n",
              "      <td>...</td>\n",
              "      <td>...</td>\n",
              "      <td>...</td>\n",
              "      <td>...</td>\n",
              "      <td>...</td>\n",
              "      <td>...</td>\n",
              "      <td>...</td>\n",
              "      <td>...</td>\n",
              "      <td>...</td>\n",
              "      <td>...</td>\n",
              "      <td>...</td>\n",
              "      <td>...</td>\n",
              "      <td>...</td>\n",
              "      <td>...</td>\n",
              "    </tr>\n",
              "    <tr>\n",
              "      <th>240</th>\n",
              "      <td>890.320005</td>\n",
              "      <td>29.212858</td>\n",
              "      <td>7.366322</td>\n",
              "      <td>0.409172</td>\n",
              "      <td>0.209530</td>\n",
              "      <td>4.721621</td>\n",
              "      <td>0.291817</td>\n",
              "      <td>0.394299</td>\n",
              "      <td>0.003235</td>\n",
              "      <td>5.404892</td>\n",
              "      <td>...</td>\n",
              "      <td>0.014674</td>\n",
              "      <td>5.404090</td>\n",
              "      <td>5.398956</td>\n",
              "      <td>0.014758</td>\n",
              "      <td>0.016590</td>\n",
              "      <td>-0.002589</td>\n",
              "      <td>7</td>\n",
              "      <td>0.007272</td>\n",
              "      <td>0.0</td>\n",
              "      <td>0.050628</td>\n",
              "    </tr>\n",
              "    <tr>\n",
              "      <th>241</th>\n",
              "      <td>934.529996</td>\n",
              "      <td>32.993155</td>\n",
              "      <td>7.348728</td>\n",
              "      <td>0.606620</td>\n",
              "      <td>0.233835</td>\n",
              "      <td>5.001704</td>\n",
              "      <td>-1.026855</td>\n",
              "      <td>-0.524690</td>\n",
              "      <td>0.000027</td>\n",
              "      <td>5.743967</td>\n",
              "      <td>...</td>\n",
              "      <td>0.000133</td>\n",
              "      <td>5.725906</td>\n",
              "      <td>5.723400</td>\n",
              "      <td>-0.001826</td>\n",
              "      <td>-0.002779</td>\n",
              "      <td>0.005511</td>\n",
              "      <td>7</td>\n",
              "      <td>-0.002832</td>\n",
              "      <td>0.0</td>\n",
              "      <td>0.035053</td>\n",
              "    </tr>\n",
              "    <tr>\n",
              "      <th>242</th>\n",
              "      <td>894.509999</td>\n",
              "      <td>30.655321</td>\n",
              "      <td>7.339850</td>\n",
              "      <td>0.555699</td>\n",
              "      <td>0.258314</td>\n",
              "      <td>4.620336</td>\n",
              "      <td>-0.459079</td>\n",
              "      <td>-0.260283</td>\n",
              "      <td>0.002107</td>\n",
              "      <td>5.536725</td>\n",
              "      <td>...</td>\n",
              "      <td>-0.016421</td>\n",
              "      <td>5.516373</td>\n",
              "      <td>5.520159</td>\n",
              "      <td>0.005368</td>\n",
              "      <td>0.008342</td>\n",
              "      <td>0.004880</td>\n",
              "      <td>7</td>\n",
              "      <td>-0.005944</td>\n",
              "      <td>0.0</td>\n",
              "      <td>0.051392</td>\n",
              "    </tr>\n",
              "    <tr>\n",
              "      <th>243</th>\n",
              "      <td>978.679997</td>\n",
              "      <td>34.850377</td>\n",
              "      <td>7.375039</td>\n",
              "      <td>0.479304</td>\n",
              "      <td>0.244684</td>\n",
              "      <td>5.365293</td>\n",
              "      <td>-0.117998</td>\n",
              "      <td>0.311495</td>\n",
              "      <td>0.001838</td>\n",
              "      <td>5.903421</td>\n",
              "      <td>...</td>\n",
              "      <td>0.030395</td>\n",
              "      <td>5.888194</td>\n",
              "      <td>5.872327</td>\n",
              "      <td>0.002429</td>\n",
              "      <td>0.000454</td>\n",
              "      <td>0.002895</td>\n",
              "      <td>7</td>\n",
              "      <td>0.002805</td>\n",
              "      <td>0.0</td>\n",
              "      <td>0.042902</td>\n",
              "    </tr>\n",
              "    <tr>\n",
              "      <th>244</th>\n",
              "      <td>862.720002</td>\n",
              "      <td>29.159590</td>\n",
              "      <td>7.321928</td>\n",
              "      <td>0.299311</td>\n",
              "      <td>0.144230</td>\n",
              "      <td>4.685367</td>\n",
              "      <td>-0.168649</td>\n",
              "      <td>-0.587013</td>\n",
              "      <td>-0.000098</td>\n",
              "      <td>5.399962</td>\n",
              "      <td>...</td>\n",
              "      <td>0.011373</td>\n",
              "      <td>5.395750</td>\n",
              "      <td>5.389388</td>\n",
              "      <td>-0.002353</td>\n",
              "      <td>-0.004382</td>\n",
              "      <td>-0.001831</td>\n",
              "      <td>7</td>\n",
              "      <td>0.003185</td>\n",
              "      <td>0.0</td>\n",
              "      <td>0.039869</td>\n",
              "    </tr>\n",
              "  </tbody>\n",
              "</table>\n",
              "<p>245 rows × 61 columns</p>\n",
              "</div>\n",
              "      <button class=\"colab-df-convert\" onclick=\"convertToInteractive('df-05fc6ed9-1752-4155-9a8b-a39e96ee1c76')\"\n",
              "              title=\"Convert this dataframe to an interactive table.\"\n",
              "              style=\"display:none;\">\n",
              "        \n",
              "  <svg xmlns=\"http://www.w3.org/2000/svg\" height=\"24px\"viewBox=\"0 0 24 24\"\n",
              "       width=\"24px\">\n",
              "    <path d=\"M0 0h24v24H0V0z\" fill=\"none\"/>\n",
              "    <path d=\"M18.56 5.44l.94 2.06.94-2.06 2.06-.94-2.06-.94-.94-2.06-.94 2.06-2.06.94zm-11 1L8.5 8.5l.94-2.06 2.06-.94-2.06-.94L8.5 2.5l-.94 2.06-2.06.94zm10 10l.94 2.06.94-2.06 2.06-.94-2.06-.94-.94-2.06-.94 2.06-2.06.94z\"/><path d=\"M17.41 7.96l-1.37-1.37c-.4-.4-.92-.59-1.43-.59-.52 0-1.04.2-1.43.59L10.3 9.45l-7.72 7.72c-.78.78-.78 2.05 0 2.83L4 21.41c.39.39.9.59 1.41.59.51 0 1.02-.2 1.41-.59l7.78-7.78 2.81-2.81c.8-.78.8-2.07 0-2.86zM5.41 20L4 18.59l7.72-7.72 1.47 1.35L5.41 20z\"/>\n",
              "  </svg>\n",
              "      </button>\n",
              "      \n",
              "  <style>\n",
              "    .colab-df-container {\n",
              "      display:flex;\n",
              "      flex-wrap:wrap;\n",
              "      gap: 12px;\n",
              "    }\n",
              "\n",
              "    .colab-df-convert {\n",
              "      background-color: #E8F0FE;\n",
              "      border: none;\n",
              "      border-radius: 50%;\n",
              "      cursor: pointer;\n",
              "      display: none;\n",
              "      fill: #1967D2;\n",
              "      height: 32px;\n",
              "      padding: 0 0 0 0;\n",
              "      width: 32px;\n",
              "    }\n",
              "\n",
              "    .colab-df-convert:hover {\n",
              "      background-color: #E2EBFA;\n",
              "      box-shadow: 0px 1px 2px rgba(60, 64, 67, 0.3), 0px 1px 3px 1px rgba(60, 64, 67, 0.15);\n",
              "      fill: #174EA6;\n",
              "    }\n",
              "\n",
              "    [theme=dark] .colab-df-convert {\n",
              "      background-color: #3B4455;\n",
              "      fill: #D2E3FC;\n",
              "    }\n",
              "\n",
              "    [theme=dark] .colab-df-convert:hover {\n",
              "      background-color: #434B5C;\n",
              "      box-shadow: 0px 1px 3px 1px rgba(0, 0, 0, 0.15);\n",
              "      filter: drop-shadow(0px 1px 2px rgba(0, 0, 0, 0.3));\n",
              "      fill: #FFFFFF;\n",
              "    }\n",
              "  </style>\n",
              "\n",
              "      <script>\n",
              "        const buttonEl =\n",
              "          document.querySelector('#df-05fc6ed9-1752-4155-9a8b-a39e96ee1c76 button.colab-df-convert');\n",
              "        buttonEl.style.display =\n",
              "          google.colab.kernel.accessAllowed ? 'block' : 'none';\n",
              "\n",
              "        async function convertToInteractive(key) {\n",
              "          const element = document.querySelector('#df-05fc6ed9-1752-4155-9a8b-a39e96ee1c76');\n",
              "          const dataTable =\n",
              "            await google.colab.kernel.invokeFunction('convertToInteractive',\n",
              "                                                     [key], {});\n",
              "          if (!dataTable) return;\n",
              "\n",
              "          const docLinkHtml = 'Like what you see? Visit the ' +\n",
              "            '<a target=\"_blank\" href=https://colab.research.google.com/notebooks/data_table.ipynb>data table notebook</a>'\n",
              "            + ' to learn more about interactive tables.';\n",
              "          element.innerHTML = '';\n",
              "          dataTable['output_type'] = 'display_data';\n",
              "          await google.colab.output.renderOutput(dataTable, element);\n",
              "          const docLink = document.createElement('div');\n",
              "          docLink.innerHTML = docLinkHtml;\n",
              "          element.appendChild(docLink);\n",
              "        }\n",
              "      </script>\n",
              "    </div>\n",
              "  </div>\n",
              "  "
            ],
            "text/plain": [
              "      amplitude     energy   entropy       iqr       mad       min  kurtosis  \\\n",
              "0    940.100003  32.573503  7.366322  0.502424  0.238387  5.184130 -0.361586   \n",
              "1    941.429999  32.210184  7.375039  0.287504  0.144784  5.084001 -0.604238   \n",
              "2    928.290003  31.766120  7.366322  0.510942  0.242082  5.016294 -0.613468   \n",
              "3    811.499997  27.155327  7.285402  0.422083  0.211722  4.252874 -0.240822   \n",
              "4    905.499996  30.937824  7.348728  0.364482  0.177480  4.960355 -0.428566   \n",
              "..          ...        ...       ...       ...       ...       ...       ...   \n",
              "240  890.320005  29.212858  7.366322  0.409172  0.209530  4.721621  0.291817   \n",
              "241  934.529996  32.993155  7.348728  0.606620  0.233835  5.001704 -1.026855   \n",
              "242  894.509999  30.655321  7.339850  0.555699  0.258314  4.620336 -0.459079   \n",
              "243  978.679997  34.850377  7.375039  0.479304  0.244684  5.365293 -0.117998   \n",
              "244  862.720002  29.159590  7.321928  0.299311  0.144230  4.685367 -0.168649   \n",
              "\n",
              "     skewness     slope       sma  ...  nowcast_mom  nowcast_ma  nowcast_lag  \\\n",
              "0    0.483521  0.000575  5.707320  ...    -0.018323    5.699712     5.707719   \n",
              "1   -0.069218  0.001886  5.675402  ...     0.011379    5.678547     5.673989   \n",
              "2    0.079030  0.001454  5.636144  ...     0.010025    5.619769     5.613412   \n",
              "3   -0.473311  0.002113  5.211077  ...     0.023152    5.215149     5.202434   \n",
              "4   -0.448368  0.002673  5.562178  ...     0.005958    5.555152     5.549480   \n",
              "..        ...       ...       ...  ...          ...         ...          ...   \n",
              "240  0.394299  0.003235  5.404892  ...     0.014674    5.404090     5.398956   \n",
              "241 -0.524690  0.000027  5.743967  ...     0.000133    5.725906     5.723400   \n",
              "242 -0.260283  0.002107  5.536725  ...    -0.016421    5.516373     5.520159   \n",
              "243  0.311495  0.001838  5.903421  ...     0.030395    5.888194     5.872327   \n",
              "244 -0.587013 -0.000098  5.399962  ...     0.011373    5.395750     5.389388   \n",
              "\n",
              "     nowcast_macd  nowcast_macdsign  nowcast_macddiff  seasonal_period  \\\n",
              "0       -0.000553          0.003471          0.000223                7   \n",
              "1        0.006513          0.007061         -0.002096                7   \n",
              "2        0.004533          0.002431          0.003111                7   \n",
              "3        0.014904          0.013838         -0.002105                7   \n",
              "4        0.007841          0.007650          0.000809                7   \n",
              "..            ...               ...               ...              ...   \n",
              "240      0.014758          0.016590         -0.002589                7   \n",
              "241     -0.001826         -0.002779          0.005511                7   \n",
              "242      0.005368          0.008342          0.004880                7   \n",
              "243      0.002429          0.000454          0.002895                7   \n",
              "244     -0.002353         -0.004382         -0.001831                7   \n",
              "\n",
              "     trend_mag  seasonality_mag  residual_std  \n",
              "0    -0.002379              0.0      0.041088  \n",
              "1     0.005161              0.0      0.032458  \n",
              "2     0.000417              0.0      0.054882  \n",
              "3     0.007992              0.0      0.045445  \n",
              "4     0.001050              0.0      0.030575  \n",
              "..         ...              ...           ...  \n",
              "240   0.007272              0.0      0.050628  \n",
              "241  -0.002832              0.0      0.035053  \n",
              "242  -0.005944              0.0      0.051392  \n",
              "243   0.002805              0.0      0.042902  \n",
              "244   0.003185              0.0      0.039869  \n",
              "\n",
              "[245 rows x 61 columns]"
            ]
          },
          "execution_count": 50,
          "metadata": {},
          "output_type": "execute_result"
        }
      ],
      "source": [
        "# Rapel x = ensemble des features extraits des éries temporelles\n",
        "x"
      ]
    },
    {
      "cell_type": "code",
      "execution_count": null,
      "metadata": {
        "id": "3wdjpDN_T2j4"
      },
      "outputs": [],
      "source": [
        "y = data[['Persuasiveness_rms','PerceivedSelf-Confidence_rms', \n",
        "          'AudienceEngagement_rms', 'GlobalEvaluation_rms']\n",
        "         ]"
      ]
    },
    {
      "cell_type": "code",
      "execution_count": null,
      "metadata": {
        "id": "oIWDBiR9ZlWm"
      },
      "outputs": [],
      "source": [
        "def regress_on_annotation(x, annotation_col, estimator, norm=True):\n",
        "  if norm:\n",
        "    x = StandardScaler().fit_transform(x)\n",
        "\n",
        "  x_train, x_test, y_train, y_test = train_test_split(x, y[annotation_col],\n",
        "                                                    random_state=32, test_size=0.1,\n",
        "                                                    shuffle=True)\n",
        "  \n",
        "  reg = estimator.fit(x_train, y_train)\n",
        "  pred = estimator.predict(x_test)\n",
        "\n",
        "  print('MAE :', mean_absolute_error(y_test,pred))\n",
        "  print('MSE :', mean_squared_error(y_test,pred))\n",
        "  print('Score R² : ', reg.score(x_test,y_test))\n",
        "\n"
      ]
    },
    {
      "cell_type": "code",
      "execution_count": null,
      "metadata": {
        "id": "PL3yny1Xd_ox"
      },
      "outputs": [],
      "source": [
        "estimator = RandomForestRegressor(n_estimators = 100,\n",
        "                            max_depth = 2,\n",
        "                            random_state = 32\n",
        "                            )"
      ]
    },
    {
      "cell_type": "code",
      "execution_count": null,
      "metadata": {
        "colab": {
          "base_uri": "https://localhost:8080/"
        },
        "id": "KS7rmeGOyWYm",
        "outputId": "c7c4b1bc-b3e1-4abc-ce00-1ec7346b1b11"
      },
      "outputs": [
        {
          "name": "stdout",
          "output_type": "stream",
          "text": [
            "MAE : 0.40968201823863515\n",
            "MSE : 0.29176501980606206\n",
            "Score R² :  -0.20827918504905618\n"
          ]
        }
      ],
      "source": [
        "regress_on_annotation(x, 'Persuasiveness_rms', estimator, True)"
      ]
    },
    {
      "cell_type": "code",
      "execution_count": null,
      "metadata": {
        "colab": {
          "base_uri": "https://localhost:8080/"
        },
        "id": "Ku9R84-JaTXs",
        "outputId": "1550cbaf-9710-4745-fac6-fcd8da2c8059"
      },
      "outputs": [
        {
          "name": "stdout",
          "output_type": "stream",
          "text": [
            "MAE : 0.39533482688090016\n",
            "MSE : 0.24094984499559147\n",
            "Score R² :  -0.21076149987002046\n"
          ]
        }
      ],
      "source": [
        "regress_on_annotation(x, 'PerceivedSelf-Confidence_rms', estimator)"
      ]
    },
    {
      "cell_type": "code",
      "execution_count": null,
      "metadata": {
        "colab": {
          "base_uri": "https://localhost:8080/"
        },
        "id": "SIXRVDk7aW1w",
        "outputId": "10c0b942-fd6b-4b8a-8a88-53e29fb0fad1"
      },
      "outputs": [
        {
          "name": "stdout",
          "output_type": "stream",
          "text": [
            "MAE : 0.3424357939175902\n",
            "MSE : 0.18336795329517444\n",
            "Score R² :  -0.24111160638416962\n"
          ]
        }
      ],
      "source": [
        "regress_on_annotation(x, 'AudienceEngagement_rms', estimator)"
      ]
    },
    {
      "cell_type": "code",
      "execution_count": null,
      "metadata": {
        "colab": {
          "base_uri": "https://localhost:8080/"
        },
        "id": "vCPfUQhjacl5",
        "outputId": "b0b39cd0-5321-4c6a-bfb7-0aa95cdbc7d6"
      },
      "outputs": [
        {
          "name": "stdout",
          "output_type": "stream",
          "text": [
            "MAE : 6.659025065110044\n",
            "MSE : 69.71133025663899\n",
            "Score R² :  -0.25838847022269373\n"
          ]
        }
      ],
      "source": [
        "regress_on_annotation(x, 'GlobalEvaluation_rms', estimator)"
      ]
    },
    {
      "cell_type": "markdown",
      "metadata": {
        "id": "uwCUlL9edDBv"
      },
      "source": [
        "Le R2 negatif veux dire que les features ne suffisent pas pour expliquer la variable y.   Plus de données pourraient potentiellement améliorer le R² dans le cadre de la regression.  \n",
        "\n",
        "Toutefois, on peut considerer les autres métriques."
      ]
    },
    {
      "cell_type": "markdown",
      "metadata": {
        "id": "fHSH1d8teMtk"
      },
      "source": [
        "Si on considère le problème comme une régression, on peut explorer la piste d'une regression par étape (une sorte de MultiOutputRegressor) qui prédit chauqe variable individuellemnt.  \n",
        "On poura ensuite utiliser les prédictions pour prédire le score global (ou bien le prédire directement aussi)"
      ]
    },
    {
      "cell_type": "code",
      "execution_count": null,
      "metadata": {
        "id": "QrQSuTAvUhcc"
      },
      "outputs": [],
      "source": []
    },
    {
      "cell_type": "code",
      "source": [],
      "metadata": {
        "id": "7LUAaDljX_-y"
      },
      "execution_count": null,
      "outputs": []
    },
    {
      "cell_type": "code",
      "source": [],
      "metadata": {
        "id": "MaKlAnyEX_7w"
      },
      "execution_count": null,
      "outputs": []
    },
    {
      "cell_type": "code",
      "source": [],
      "metadata": {
        "id": "o2YQ91nhX_5E"
      },
      "execution_count": null,
      "outputs": []
    },
    {
      "cell_type": "code",
      "source": [],
      "metadata": {
        "id": "YBxG41jrVqfv"
      },
      "execution_count": null,
      "outputs": []
    }
  ],
  "metadata": {
    "colab": {
      "collapsed_sections": [
        "vBilm0LRPPmE"
      ],
      "provenance": [],
      "authorship_tag": "ABX9TyNo6znEGo83Y5sqQHQU4GMC",
      "include_colab_link": true
    },
    "kernelspec": {
      "display_name": "Python 3",
      "name": "python3"
    },
    "language_info": {
      "name": "python"
    }
  },
  "nbformat": 4,
  "nbformat_minor": 0
}